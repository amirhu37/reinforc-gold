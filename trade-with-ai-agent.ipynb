{
 "cells": [
  {
   "cell_type": "markdown",
   "metadata": {},
   "source": [
    "# import dependencies"
   ]
  },
  {
   "cell_type": "code",
   "execution_count": null,
   "metadata": {
    "execution": {
     "iopub.execute_input": "2025-07-31T01:00:42.415141Z",
     "iopub.status.busy": "2025-07-31T01:00:42.414845Z",
     "iopub.status.idle": "2025-07-31T01:00:42.420735Z",
     "shell.execute_reply": "2025-07-31T01:00:42.419973Z",
     "shell.execute_reply.started": "2025-07-31T01:00:42.415119Z"
    },
    "executionInfo": {
     "elapsed": 7952,
     "status": "ok",
     "timestamp": 1684278986482,
     "user": {
      "displayName": "A H Sh",
      "userId": "16181755643368908406"
     },
     "user_tz": -210
    },
    "id": "HY6mx2bIR6Vp",
    "trusted": true
   },
   "outputs": [],
   "source": [
    "# Last Of All\n",
    "# Generals\n",
    "from sklearn.model_selection import train_test_split\n",
    "from IPython.display  import clear_output \n",
    "from typing import Any, Literal\n",
    "from numpy import floating\n",
    "import numpy as np\n",
    "import pandas as pd\n",
    "from pandas.core.frame import DataFrame\n",
    "from pandas.core.series import Series\n",
    "import matplotlib.pyplot as plt\n",
    "import seaborn as sns\n",
    "import warnings\n",
    "warnings.simplefilter('ignore')\n",
    "warnings.filterwarnings('ignore')\n",
    "warnings.filterwarnings(\"ignore\", category=DeprecationWarning) \n",
    "\n",
    "\n",
    "# Gym (Environmet)\n",
    "import gymnasium as gym\n",
    "from gymnasium import spaces\n",
    "\n",
    "\n",
    "# Modeling (PyTorch)\n",
    "import torch.nn.functional as F\n",
    "import torch\n",
    "Tensor = torch.Tensor\n",
    "import torch.nn as nn\n",
    "from torch.optim import Adam, RMSprop\n",
    "from torch.distributions import Categorical\n"
   ]
  },
  {
   "cell_type": "code",
   "execution_count": 116,
   "metadata": {
    "execution": {
     "iopub.execute_input": "2025-07-31T01:00:42.422813Z",
     "iopub.status.busy": "2025-07-31T01:00:42.422247Z",
     "iopub.status.idle": "2025-07-31T01:00:42.451654Z",
     "shell.execute_reply": "2025-07-31T01:00:42.451010Z",
     "shell.execute_reply.started": "2025-07-31T01:00:42.422764Z"
    },
    "trusted": true
   },
   "outputs": [
    {
     "name": "stdout",
     "output_type": "stream",
     "text": [
      "`backtrader` import Succesfully\n"
     ]
    }
   ],
   "source": [
    "try: \n",
    "\timport backtrader as bt\n",
    "\t# import\n",
    "\tprint('`backtrader` import Succesfully')\n",
    "except ModuleNotFoundError:\n",
    "\tpass\n",
    "\t%pip install backtrader \n",
    "\tclear_output ()\n",
    "\timport backtrader as bt\n",
    "\tprint('Module`backtrader` NotFound Error. So installed')\n"
   ]
  },
  {
   "cell_type": "code",
   "execution_count": 117,
   "metadata": {},
   "outputs": [
    {
     "name": "stdout",
     "output_type": "stream",
     "text": [
      "`openpyxl` import Succesfully\n"
     ]
    }
   ],
   "source": [
    "try: \n",
    "\timport openpyxl\n",
    "\tprint('`openpyxl` import Succesfully')\n",
    "except ModuleNotFoundError:\n",
    "\tpass\n",
    "\t%pip install openpyxl \n",
    "\tclear_output ()\n",
    "\timport openpyxl\n",
    "\tprint('Module `openpyxl` NotFound Error. So installed')"
   ]
  },
  {
   "cell_type": "code",
   "execution_count": 118,
   "metadata": {
    "execution": {
     "iopub.execute_input": "2025-07-31T01:00:42.453215Z",
     "iopub.status.busy": "2025-07-31T01:00:42.452881Z",
     "iopub.status.idle": "2025-07-31T01:00:42.473331Z",
     "shell.execute_reply": "2025-07-31T01:00:42.472829Z",
     "shell.execute_reply.started": "2025-07-31T01:00:42.453191Z"
    },
    "trusted": true
   },
   "outputs": [],
   "source": [
    "# %matplotlib inline"
   ]
  },
  {
   "cell_type": "code",
   "execution_count": 119,
   "metadata": {
    "execution": {
     "iopub.execute_input": "2025-07-31T01:00:42.474123Z",
     "iopub.status.busy": "2025-07-31T01:00:42.473925Z",
     "iopub.status.idle": "2025-07-31T01:00:42.494479Z",
     "shell.execute_reply": "2025-07-31T01:00:42.493802Z",
     "shell.execute_reply.started": "2025-07-31T01:00:42.474109Z"
    },
    "trusted": true
   },
   "outputs": [
    {
     "data": {
      "text/plain": [
       "device(type='cpu')"
      ]
     },
     "execution_count": 119,
     "metadata": {},
     "output_type": "execute_result"
    }
   ],
   "source": [
    "device = torch.device('cuda' if torch.cuda.is_available() else 'cpu')\n",
    "\n",
    "device"
   ]
  },
  {
   "cell_type": "markdown",
   "metadata": {},
   "source": [
    "# data Import"
   ]
  },
  {
   "cell_type": "code",
   "execution_count": null,
   "metadata": {
    "execution": {
     "iopub.execute_input": "2025-07-31T01:00:42.496390Z",
     "iopub.status.busy": "2025-07-31T01:00:42.496110Z",
     "iopub.status.idle": "2025-07-31T01:00:42.511572Z",
     "shell.execute_reply": "2025-07-31T01:00:42.510812Z",
     "shell.execute_reply.started": "2025-07-31T01:00:42.496369Z"
    },
    "trusted": true
   },
   "outputs": [],
   "source": [
    "kaggle = True\n",
    "\n",
    "if kaggle:\n",
    "\tpath_m5_xau : str = r\"/kaggle/input/price-values/price-values/XAUUSDM5.csv\"\n",
    "\tpath_m15_xau: str = r\"/kaggle/input/price-values/price-values/XAUUSDM15.csv\"\n",
    "\tpath_daily_xau: str = r\"/kaggle/input/price-values/price-values/XAUUSDDaily.csv\"\n",
    "\n",
    "\tpath_m5_eur: str = r\"/kaggle/input/price-values/price-values/EURUSDM5.csv\"\n",
    "\tpath_m15_eur: str = r\"/kaggle/input/price-values/price-values/EURUSDM15.csv\"\n",
    "\tpath_daily_eur: str = r\"/kaggle/input/price-values/price-values/EURUSDDaily.csv\"\n",
    "\n",
    "else:\n",
    "\tpath_m5_xau : str = r\"price-values/XAUUSDM5.csv\"\n",
    "\tpath_m15_xau: str = r\"price-values/XAUUSDM15.csv\"\n",
    "\tpath_daily_xau: str = r\"price-values/XAUUSDDaily.csv\"\n",
    "\n",
    "\tpath_m5_eur: str = r\"price-values/EURUSDM5.csv\"\n",
    "\tpath_m15_eur: str = r\"price-values/EURUSDM15.csv\"\n",
    "\tpath_daily_eur: str = r\"price-values/EURUSDDaily.csv\"\n"
   ]
  },
  {
   "cell_type": "code",
   "execution_count": 121,
   "metadata": {
    "execution": {
     "iopub.execute_input": "2025-07-31T01:00:42.512791Z",
     "iopub.status.busy": "2025-07-31T01:00:42.512518Z",
     "iopub.status.idle": "2025-07-31T01:00:42.529082Z",
     "shell.execute_reply": "2025-07-31T01:00:42.528530Z",
     "shell.execute_reply.started": "2025-07-31T01:00:42.512753Z"
    },
    "trusted": true
   },
   "outputs": [],
   "source": [
    "Round = 4\n",
    "rsi_len = 14\n",
    "movAvgLen = 5\n",
    "ma_1 = 10\n",
    "ma_2 = 20\n",
    "\n",
    "\n",
    "window_size = 5\n"
   ]
  },
  {
   "cell_type": "markdown",
   "metadata": {},
   "source": [
    "## small DataFrame"
   ]
  },
  {
   "cell_type": "code",
   "execution_count": 122,
   "metadata": {
    "colab": {
     "base_uri": "https://localhost:8080/"
    },
    "execution": {
     "iopub.execute_input": "2025-07-31T01:00:42.529907Z",
     "iopub.status.busy": "2025-07-31T01:00:42.529706Z",
     "iopub.status.idle": "2025-07-31T01:00:42.596049Z",
     "shell.execute_reply": "2025-07-31T01:00:42.595337Z",
     "shell.execute_reply.started": "2025-07-31T01:00:42.529892Z"
    },
    "executionInfo": {
     "elapsed": 29,
     "status": "ok",
     "timestamp": 1684278986483,
     "user": {
      "displayName": "A H Sh",
      "userId": "16181755643368908406"
     },
     "user_tz": -210
    },
    "id": "ittlDRFmgXHU",
    "outputId": "860a67e2-52c9-4888-eed0-6450cdd91835",
    "trusted": true
   },
   "outputs": [
    {
     "name": "stdout",
     "output_type": "stream",
     "text": [
      "(100000, 5)\n"
     ]
    },
    {
     "data": {
      "text/html": [
       "<div>\n",
       "<style scoped>\n",
       "    .dataframe tbody tr th:only-of-type {\n",
       "        vertical-align: middle;\n",
       "    }\n",
       "\n",
       "    .dataframe tbody tr th {\n",
       "        vertical-align: top;\n",
       "    }\n",
       "\n",
       "    .dataframe thead th {\n",
       "        text-align: right;\n",
       "    }\n",
       "</style>\n",
       "<table border=\"1\" class=\"dataframe\">\n",
       "  <thead>\n",
       "    <tr style=\"text-align: right;\">\n",
       "      <th></th>\n",
       "      <th>Open</th>\n",
       "      <th>High</th>\n",
       "      <th>Low</th>\n",
       "      <th>Close</th>\n",
       "      <th>Volume</th>\n",
       "    </tr>\n",
       "    <tr>\n",
       "      <th>Date</th>\n",
       "      <th></th>\n",
       "      <th></th>\n",
       "      <th></th>\n",
       "      <th></th>\n",
       "      <th></th>\n",
       "    </tr>\n",
       "  </thead>\n",
       "  <tbody>\n",
       "    <tr>\n",
       "      <th>2024-03-22 05:15:00</th>\n",
       "      <td>1.08368</td>\n",
       "      <td>1.08381</td>\n",
       "      <td>1.08368</td>\n",
       "      <td>1.08376</td>\n",
       "      <td>86</td>\n",
       "    </tr>\n",
       "    <tr>\n",
       "      <th>2024-03-22 05:20:00</th>\n",
       "      <td>1.08376</td>\n",
       "      <td>1.08394</td>\n",
       "      <td>1.08376</td>\n",
       "      <td>1.08379</td>\n",
       "      <td>79</td>\n",
       "    </tr>\n",
       "    <tr>\n",
       "      <th>2024-03-22 05:25:00</th>\n",
       "      <td>1.08379</td>\n",
       "      <td>1.08392</td>\n",
       "      <td>1.08376</td>\n",
       "      <td>1.08380</td>\n",
       "      <td>132</td>\n",
       "    </tr>\n",
       "    <tr>\n",
       "      <th>2024-03-22 05:30:00</th>\n",
       "      <td>1.08380</td>\n",
       "      <td>1.08384</td>\n",
       "      <td>1.08358</td>\n",
       "      <td>1.08363</td>\n",
       "      <td>151</td>\n",
       "    </tr>\n",
       "    <tr>\n",
       "      <th>2024-03-22 05:35:00</th>\n",
       "      <td>1.08363</td>\n",
       "      <td>1.08396</td>\n",
       "      <td>1.08363</td>\n",
       "      <td>1.08393</td>\n",
       "      <td>122</td>\n",
       "    </tr>\n",
       "  </tbody>\n",
       "</table>\n",
       "</div>"
      ],
      "text/plain": [
       "                        Open     High      Low    Close  Volume\n",
       "Date                                                           \n",
       "2024-03-22 05:15:00  1.08368  1.08381  1.08368  1.08376      86\n",
       "2024-03-22 05:20:00  1.08376  1.08394  1.08376  1.08379      79\n",
       "2024-03-22 05:25:00  1.08379  1.08392  1.08376  1.08380     132\n",
       "2024-03-22 05:30:00  1.08380  1.08384  1.08358  1.08363     151\n",
       "2024-03-22 05:35:00  1.08363  1.08396  1.08363  1.08393     122"
      ]
     },
     "execution_count": 122,
     "metadata": {},
     "output_type": "execute_result"
    }
   ],
   "source": [
    "df_small = pd.read_csv(path_m5_eur , \n",
    "\t\t\t\t   encoding = 'utf-16', \n",
    "\t\t\t\t   names =  ['Date', 'Open', 'High', 'Low', 'Close', 'Volume', '0'] )\n",
    "\n",
    "df_small['Date'] = pd.to_datetime(df_small['Date'])\n",
    "df_small.set_index('Date', drop=True, inplace = True)\n",
    "df_small.drop('0', axis=1,  inplace = True)\n",
    "\n",
    "print(df_small.shape)\n",
    "df_small.head()"
   ]
  },
  {
   "cell_type": "markdown",
   "metadata": {},
   "source": [
    "## Big DataFrame"
   ]
  },
  {
   "cell_type": "code",
   "execution_count": 123,
   "metadata": {
    "execution": {
     "iopub.execute_input": "2025-07-31T01:00:42.597886Z",
     "iopub.status.busy": "2025-07-31T01:00:42.597677Z",
     "iopub.status.idle": "2025-07-31T01:00:42.621259Z",
     "shell.execute_reply": "2025-07-31T01:00:42.620547Z",
     "shell.execute_reply.started": "2025-07-31T01:00:42.597870Z"
    },
    "trusted": true
   },
   "outputs": [
    {
     "name": "stdout",
     "output_type": "stream",
     "text": [
      "(1131, 5)\n"
     ]
    },
    {
     "data": {
      "text/html": [
       "<div>\n",
       "<style scoped>\n",
       "    .dataframe tbody tr th:only-of-type {\n",
       "        vertical-align: middle;\n",
       "    }\n",
       "\n",
       "    .dataframe tbody tr th {\n",
       "        vertical-align: top;\n",
       "    }\n",
       "\n",
       "    .dataframe thead th {\n",
       "        text-align: right;\n",
       "    }\n",
       "</style>\n",
       "<table border=\"1\" class=\"dataframe\">\n",
       "  <thead>\n",
       "    <tr style=\"text-align: right;\">\n",
       "      <th></th>\n",
       "      <th>Open D</th>\n",
       "      <th>High D</th>\n",
       "      <th>Low D</th>\n",
       "      <th>Close D</th>\n",
       "      <th>Volume D</th>\n",
       "    </tr>\n",
       "    <tr>\n",
       "      <th>Date</th>\n",
       "      <th></th>\n",
       "      <th></th>\n",
       "      <th></th>\n",
       "      <th></th>\n",
       "      <th></th>\n",
       "    </tr>\n",
       "  </thead>\n",
       "  <tbody>\n",
       "    <tr>\n",
       "      <th>2021-03-29</th>\n",
       "      <td>1.17886</td>\n",
       "      <td>1.17937</td>\n",
       "      <td>1.17608</td>\n",
       "      <td>1.17642</td>\n",
       "      <td>59703</td>\n",
       "    </tr>\n",
       "    <tr>\n",
       "      <th>2021-03-30</th>\n",
       "      <td>1.17640</td>\n",
       "      <td>1.17736</td>\n",
       "      <td>1.17114</td>\n",
       "      <td>1.17169</td>\n",
       "      <td>56334</td>\n",
       "    </tr>\n",
       "    <tr>\n",
       "      <th>2021-03-31</th>\n",
       "      <td>1.17170</td>\n",
       "      <td>1.17598</td>\n",
       "      <td>1.17041</td>\n",
       "      <td>1.17298</td>\n",
       "      <td>60218</td>\n",
       "    </tr>\n",
       "    <tr>\n",
       "      <th>2021-04-01</th>\n",
       "      <td>1.17298</td>\n",
       "      <td>1.17799</td>\n",
       "      <td>1.17124</td>\n",
       "      <td>1.17759</td>\n",
       "      <td>54081</td>\n",
       "    </tr>\n",
       "    <tr>\n",
       "      <th>2021-04-02</th>\n",
       "      <td>1.17760</td>\n",
       "      <td>1.17864</td>\n",
       "      <td>1.17488</td>\n",
       "      <td>1.17608</td>\n",
       "      <td>25975</td>\n",
       "    </tr>\n",
       "  </tbody>\n",
       "</table>\n",
       "</div>"
      ],
      "text/plain": [
       "             Open D   High D    Low D  Close D  Volume D\n",
       "Date                                                    \n",
       "2021-03-29  1.17886  1.17937  1.17608  1.17642     59703\n",
       "2021-03-30  1.17640  1.17736  1.17114  1.17169     56334\n",
       "2021-03-31  1.17170  1.17598  1.17041  1.17298     60218\n",
       "2021-04-01  1.17298  1.17799  1.17124  1.17759     54081\n",
       "2021-04-02  1.17760  1.17864  1.17488  1.17608     25975"
      ]
     },
     "execution_count": 123,
     "metadata": {},
     "output_type": "execute_result"
    }
   ],
   "source": [
    "df_big = pd.read_csv(path_daily_eur , \n",
    "\t\t\t\t   encoding = 'utf-16', \n",
    "\t\t\t\t   names =  ['Date', 'Open D', 'High D', 'Low D', 'Close D', 'Volume D', '0'] )\n",
    "\n",
    "df_big['Date'] = pd.to_datetime(df_big['Date'])\n",
    "df_big.set_index('Date', drop=True, inplace = True)\n",
    "df_big.drop('0', axis=1,  inplace = True)\n",
    "\n",
    "print(df_big.shape)\n",
    "df_big.head()"
   ]
  },
  {
   "cell_type": "markdown",
   "metadata": {},
   "source": [
    "## Total DataFrame"
   ]
  },
  {
   "cell_type": "code",
   "execution_count": 124,
   "metadata": {
    "execution": {
     "iopub.execute_input": "2025-07-31T01:00:42.622431Z",
     "iopub.status.busy": "2025-07-31T01:00:42.622094Z",
     "iopub.status.idle": "2025-07-31T01:00:42.669303Z",
     "shell.execute_reply": "2025-07-31T01:00:42.668779Z",
     "shell.execute_reply.started": "2025-07-31T01:00:42.622405Z"
    },
    "trusted": true
   },
   "outputs": [
    {
     "name": "stdout",
     "output_type": "stream",
     "text": [
      "(100781, 10)\n"
     ]
    },
    {
     "data": {
      "text/html": [
       "<div>\n",
       "<style scoped>\n",
       "    .dataframe tbody tr th:only-of-type {\n",
       "        vertical-align: middle;\n",
       "    }\n",
       "\n",
       "    .dataframe tbody tr th {\n",
       "        vertical-align: top;\n",
       "    }\n",
       "\n",
       "    .dataframe thead th {\n",
       "        text-align: right;\n",
       "    }\n",
       "</style>\n",
       "<table border=\"1\" class=\"dataframe\">\n",
       "  <thead>\n",
       "    <tr style=\"text-align: right;\">\n",
       "      <th></th>\n",
       "      <th>Open</th>\n",
       "      <th>High</th>\n",
       "      <th>Low</th>\n",
       "      <th>Close</th>\n",
       "      <th>Volume</th>\n",
       "      <th>Open D</th>\n",
       "      <th>High D</th>\n",
       "      <th>Low D</th>\n",
       "      <th>Close D</th>\n",
       "      <th>Volume D</th>\n",
       "    </tr>\n",
       "    <tr>\n",
       "      <th>Date</th>\n",
       "      <th></th>\n",
       "      <th></th>\n",
       "      <th></th>\n",
       "      <th></th>\n",
       "      <th></th>\n",
       "      <th></th>\n",
       "      <th></th>\n",
       "      <th></th>\n",
       "      <th></th>\n",
       "      <th></th>\n",
       "    </tr>\n",
       "  </thead>\n",
       "  <tbody>\n",
       "    <tr>\n",
       "      <th>2025-07-28 01:50:00</th>\n",
       "      <td>1.17529</td>\n",
       "      <td>1.17547</td>\n",
       "      <td>1.17528</td>\n",
       "      <td>1.17547</td>\n",
       "      <td>63.0</td>\n",
       "      <td>0.00000</td>\n",
       "      <td>0.00000</td>\n",
       "      <td>0.00000</td>\n",
       "      <td>0.00000</td>\n",
       "      <td>0.0</td>\n",
       "    </tr>\n",
       "    <tr>\n",
       "      <th>2025-07-28 01:55:00</th>\n",
       "      <td>1.17547</td>\n",
       "      <td>1.17569</td>\n",
       "      <td>1.17541</td>\n",
       "      <td>1.17545</td>\n",
       "      <td>96.0</td>\n",
       "      <td>0.00000</td>\n",
       "      <td>0.00000</td>\n",
       "      <td>0.00000</td>\n",
       "      <td>0.00000</td>\n",
       "      <td>0.0</td>\n",
       "    </tr>\n",
       "    <tr>\n",
       "      <th>2025-07-28 02:00:00</th>\n",
       "      <td>1.17546</td>\n",
       "      <td>1.17575</td>\n",
       "      <td>1.17540</td>\n",
       "      <td>1.17565</td>\n",
       "      <td>98.0</td>\n",
       "      <td>0.00000</td>\n",
       "      <td>0.00000</td>\n",
       "      <td>0.00000</td>\n",
       "      <td>0.00000</td>\n",
       "      <td>0.0</td>\n",
       "    </tr>\n",
       "    <tr>\n",
       "      <th>2025-07-29 00:00:00</th>\n",
       "      <td>0.00000</td>\n",
       "      <td>0.00000</td>\n",
       "      <td>0.00000</td>\n",
       "      <td>0.00000</td>\n",
       "      <td>0.0</td>\n",
       "      <td>1.15854</td>\n",
       "      <td>1.15987</td>\n",
       "      <td>1.15185</td>\n",
       "      <td>1.15442</td>\n",
       "      <td>56173.0</td>\n",
       "    </tr>\n",
       "    <tr>\n",
       "      <th>2025-07-30 00:00:00</th>\n",
       "      <td>0.00000</td>\n",
       "      <td>0.00000</td>\n",
       "      <td>0.00000</td>\n",
       "      <td>0.00000</td>\n",
       "      <td>0.0</td>\n",
       "      <td>1.15421</td>\n",
       "      <td>1.15497</td>\n",
       "      <td>1.15420</td>\n",
       "      <td>1.15487</td>\n",
       "      <td>809.0</td>\n",
       "    </tr>\n",
       "  </tbody>\n",
       "</table>\n",
       "</div>"
      ],
      "text/plain": [
       "                        Open     High      Low    Close  Volume   Open D  \\\n",
       "Date                                                                       \n",
       "2025-07-28 01:50:00  1.17529  1.17547  1.17528  1.17547    63.0  0.00000   \n",
       "2025-07-28 01:55:00  1.17547  1.17569  1.17541  1.17545    96.0  0.00000   \n",
       "2025-07-28 02:00:00  1.17546  1.17575  1.17540  1.17565    98.0  0.00000   \n",
       "2025-07-29 00:00:00  0.00000  0.00000  0.00000  0.00000     0.0  1.15854   \n",
       "2025-07-30 00:00:00  0.00000  0.00000  0.00000  0.00000     0.0  1.15421   \n",
       "\n",
       "                      High D    Low D  Close D  Volume D  \n",
       "Date                                                      \n",
       "2025-07-28 01:50:00  0.00000  0.00000  0.00000       0.0  \n",
       "2025-07-28 01:55:00  0.00000  0.00000  0.00000       0.0  \n",
       "2025-07-28 02:00:00  0.00000  0.00000  0.00000       0.0  \n",
       "2025-07-29 00:00:00  1.15987  1.15185  1.15442   56173.0  \n",
       "2025-07-30 00:00:00  1.15497  1.15420  1.15487     809.0  "
      ]
     },
     "execution_count": 124,
     "metadata": {},
     "output_type": "execute_result"
    }
   ],
   "source": [
    "df_total = pd.concat([df_small, df_big], axis=1)\n",
    "df_total.fillna(0, inplace = True)\n",
    "print(df_total.shape)\n",
    "df_total.tail()"
   ]
  },
  {
   "cell_type": "markdown",
   "metadata": {},
   "source": [
    "# Needed Functions"
   ]
  },
  {
   "cell_type": "code",
   "execution_count": 125,
   "metadata": {
    "colab": {
     "base_uri": "https://localhost:8080/"
    },
    "execution": {
     "iopub.execute_input": "2025-07-31T01:00:42.670237Z",
     "iopub.status.busy": "2025-07-31T01:00:42.670009Z",
     "iopub.status.idle": "2025-07-31T01:00:42.678055Z",
     "shell.execute_reply": "2025-07-31T01:00:42.677322Z",
     "shell.execute_reply.started": "2025-07-31T01:00:42.670211Z"
    },
    "executionInfo": {
     "elapsed": 27,
     "status": "ok",
     "timestamp": 1684278986483,
     "user": {
      "displayName": "A H Sh",
      "userId": "16181755643368908406"
     },
     "user_tz": -210
    },
    "id": "ejyqd7VtrBxy",
    "outputId": "b9ede333-0d6e-40bd-e455-aaee7cc2a3db",
    "trusted": true
   },
   "outputs": [],
   "source": [
    "\n",
    "def calculate_RSI(data: Series , time_window : int = 14) -> Series:\n",
    "\t\tdelta: Series[type[float]] = data.diff() # type: ignore\n",
    "\n",
    "\t\tup, down = delta.copy(), delta.copy()\n",
    "\t\tup[up < 0] = 0 # type: ignore\n",
    "\t\tdown[down > 0] = 0 # type: ignore\n",
    "\n",
    "\t\troll_up: Series[float] = up.rolling(time_window).mean()\n",
    "\t\troll_down: Series[float] = down.abs().rolling(time_window).mean()\n",
    "\n",
    "\t\tRS: Series[float] = roll_up / roll_down\n",
    "\t\tRSI: Series[float] = 100.0 - (100.0 / (1.0 + RS))\n",
    "\n",
    "\t\treturn RSI.round(Round)\n",
    "\n",
    "\n",
    "\n",
    "def macd(data, fast, slow):\n",
    "\tif isinstance(data, np.ndarray):\n",
    "\t\tma1 =  np.convolve(data, np.ones(fast)/fast, mode='valid')\n",
    "\t\tma2 =  np.convolve(data, np.ones(slow)/slow, mode='valid')\n",
    "\t\treturn ma2 - ma1\n",
    "\tif isinstance(data, pd.Series):\n",
    "\t\tma1 =  data.rolling(fast, min_periods=1).mean()\n",
    "\t\tma2 =  data.rolling(slow, min_periods=1).mean()\n",
    "\t\treturn ma2 - ma1\n",
    "\n",
    "\n",
    "\n",
    "def clc_mean(series : Series , window: int) :\n",
    "\t\trolling_mean = series.rolling(window=window).mean().round(Round)\n",
    "\t\treturn  rolling_mean\n",
    "\n",
    "def moving_avg_std(series : Series , window : int)  -> Series:\n",
    "\t\"\"\"Calculate the moving average and standard deviation of a pandas series, and then divide the two\"\"\"\n",
    "\trolling_mean = series.rolling(window=window).mean().round(Round)\n",
    "\trolling_std = series.rolling(window=window).std().round(Round)\n",
    "\treturn rolling_mean - rolling_std\n",
    "\n"
   ]
  },
  {
   "cell_type": "code",
   "execution_count": 126,
   "metadata": {
    "execution": {
     "iopub.execute_input": "2025-07-31T01:00:42.679584Z",
     "iopub.status.busy": "2025-07-31T01:00:42.678836Z",
     "iopub.status.idle": "2025-07-31T01:00:42.696218Z",
     "shell.execute_reply": "2025-07-31T01:00:42.695488Z",
     "shell.execute_reply.started": "2025-07-31T01:00:42.679560Z"
    },
    "executionInfo": {
     "elapsed": 25,
     "status": "ok",
     "timestamp": 1684278986483,
     "user": {
      "displayName": "A H Sh",
      "userId": "16181755643368908406"
     },
     "user_tz": -210
    },
    "id": "3xhWTHEyrBxy",
    "trusted": true
   },
   "outputs": [],
   "source": [
    "def creat_data(df: pd.DataFrame):\n",
    "\tdf['MovAvg'] = df['Close'].rolling(movAvgLen).mean()\n",
    "\n",
    "\tdf['diff']  =  (df['Close'] - df['MovAvg']).round(Round) \n",
    "\tdf['cadle-type']  = (df['Close'] - df['Open']).round(Round)\n",
    "\tdf['change']  =  df['Open'] - df['MovAvg'] \n",
    "\tdf['macd'] = macd(df['Close'], movAvgLen, movAvgLen*2 )\n",
    "\tdf['percent']  =  (df['Close'] - df['Open']) / df['Close']  * 100\n",
    "\n",
    "\tdf['rsi']  = calculate_RSI( df['Open'] , rsi_len ) / 100\n",
    "\n",
    "\tdf['Pivot'] = (df['High'] + df['Low'] + df['Close']) / 3\n",
    "\t# First support and resistance\n",
    "\tdf['R1'] = (2 * df['Pivot']) - df['Low']\n",
    "\tdf['S1'] = (2 * df['Pivot']) - df['High']\n",
    "\n",
    "\ttry:\n",
    "\t\tdf['MovAvg D'] = df['Close D'].rolling(movAvgLen).mean()\n",
    "\t\tdf['Pivot D'] = (df['High D'] + df['Low D'] + df['Close D']) / 3\n",
    "\t\tdf['rsi D']  = calculate_RSI( df['Open D'] , rsi_len ) / 100\n",
    "\t\tdf['R1 D'] = (2 * df['Pivot D']) - df['Low D']\n",
    "\t\tdf['S1 D'] = (2 * df['Pivot D']) - df['High D']\n",
    "\n",
    "\texcept KeyError as e:\n",
    "\t\tpass\n",
    "\n",
    "\tdf = df.dropna(axis=0)\n",
    "\n",
    "\treturn df"
   ]
  },
  {
   "cell_type": "code",
   "execution_count": 127,
   "metadata": {},
   "outputs": [
    {
     "data": {
      "text/plain": [
       "Index(['Open', 'High', 'Low', 'Close', 'Volume', 'Open D', 'High D', 'Low D',\n",
       "       'Close D', 'Volume D'],\n",
       "      dtype='object')"
      ]
     },
     "execution_count": 127,
     "metadata": {},
     "output_type": "execute_result"
    }
   ],
   "source": [
    "df_total.columns"
   ]
  },
  {
   "cell_type": "markdown",
   "metadata": {},
   "source": [
    "# create Data"
   ]
  },
  {
   "cell_type": "code",
   "execution_count": 128,
   "metadata": {
    "execution": {
     "iopub.execute_input": "2025-07-31T01:00:42.697305Z",
     "iopub.status.busy": "2025-07-31T01:00:42.697032Z",
     "iopub.status.idle": "2025-07-31T01:00:42.745344Z",
     "shell.execute_reply": "2025-07-31T01:00:42.744761Z",
     "shell.execute_reply.started": "2025-07-31T01:00:42.697282Z"
    },
    "executionInfo": {
     "elapsed": 26,
     "status": "ok",
     "timestamp": 1684278986484,
     "user": {
      "displayName": "A H Sh",
      "userId": "16181755643368908406"
     },
     "user_tz": -210
    },
    "id": "VN0JOp9crBxz",
    "trusted": true
   },
   "outputs": [
    {
     "data": {
      "text/html": [
       "<div>\n",
       "<style scoped>\n",
       "    .dataframe tbody tr th:only-of-type {\n",
       "        vertical-align: middle;\n",
       "    }\n",
       "\n",
       "    .dataframe tbody tr th {\n",
       "        vertical-align: top;\n",
       "    }\n",
       "\n",
       "    .dataframe thead th {\n",
       "        text-align: right;\n",
       "    }\n",
       "</style>\n",
       "<table border=\"1\" class=\"dataframe\">\n",
       "  <thead>\n",
       "    <tr style=\"text-align: right;\">\n",
       "      <th></th>\n",
       "      <th>Open</th>\n",
       "      <th>High</th>\n",
       "      <th>Low</th>\n",
       "      <th>Close</th>\n",
       "      <th>Volume</th>\n",
       "      <th>Open D</th>\n",
       "      <th>High D</th>\n",
       "      <th>Low D</th>\n",
       "      <th>Close D</th>\n",
       "      <th>Volume D</th>\n",
       "      <th>...</th>\n",
       "      <th>percent</th>\n",
       "      <th>rsi</th>\n",
       "      <th>Pivot</th>\n",
       "      <th>R1</th>\n",
       "      <th>S1</th>\n",
       "      <th>MovAvg D</th>\n",
       "      <th>Pivot D</th>\n",
       "      <th>rsi D</th>\n",
       "      <th>R1 D</th>\n",
       "      <th>S1 D</th>\n",
       "    </tr>\n",
       "    <tr>\n",
       "      <th>Date</th>\n",
       "      <th></th>\n",
       "      <th></th>\n",
       "      <th></th>\n",
       "      <th></th>\n",
       "      <th></th>\n",
       "      <th></th>\n",
       "      <th></th>\n",
       "      <th></th>\n",
       "      <th></th>\n",
       "      <th></th>\n",
       "      <th></th>\n",
       "      <th></th>\n",
       "      <th></th>\n",
       "      <th></th>\n",
       "      <th></th>\n",
       "      <th></th>\n",
       "      <th></th>\n",
       "      <th></th>\n",
       "      <th></th>\n",
       "      <th></th>\n",
       "      <th></th>\n",
       "    </tr>\n",
       "  </thead>\n",
       "  <tbody>\n",
       "    <tr>\n",
       "      <th>2024-03-22 05:15:00</th>\n",
       "      <td>1.08368</td>\n",
       "      <td>1.08381</td>\n",
       "      <td>1.08368</td>\n",
       "      <td>1.08376</td>\n",
       "      <td>86.0</td>\n",
       "      <td>0.0</td>\n",
       "      <td>0.0</td>\n",
       "      <td>0.0</td>\n",
       "      <td>0.0</td>\n",
       "      <td>0.0</td>\n",
       "      <td>...</td>\n",
       "      <td>0.007382</td>\n",
       "      <td>1.000000</td>\n",
       "      <td>1.083750</td>\n",
       "      <td>1.083820</td>\n",
       "      <td>1.083690</td>\n",
       "      <td>0.869016</td>\n",
       "      <td>0.0</td>\n",
       "      <td>0.015532</td>\n",
       "      <td>0.0</td>\n",
       "      <td>0.0</td>\n",
       "    </tr>\n",
       "    <tr>\n",
       "      <th>2024-03-22 05:20:00</th>\n",
       "      <td>1.08376</td>\n",
       "      <td>1.08394</td>\n",
       "      <td>1.08376</td>\n",
       "      <td>1.08379</td>\n",
       "      <td>79.0</td>\n",
       "      <td>0.0</td>\n",
       "      <td>0.0</td>\n",
       "      <td>0.0</td>\n",
       "      <td>0.0</td>\n",
       "      <td>0.0</td>\n",
       "      <td>...</td>\n",
       "      <td>0.002768</td>\n",
       "      <td>1.000000</td>\n",
       "      <td>1.083830</td>\n",
       "      <td>1.083900</td>\n",
       "      <td>1.083720</td>\n",
       "      <td>0.651726</td>\n",
       "      <td>0.0</td>\n",
       "      <td>0.015426</td>\n",
       "      <td>0.0</td>\n",
       "      <td>0.0</td>\n",
       "    </tr>\n",
       "    <tr>\n",
       "      <th>2024-03-22 05:25:00</th>\n",
       "      <td>1.08379</td>\n",
       "      <td>1.08392</td>\n",
       "      <td>1.08376</td>\n",
       "      <td>1.08380</td>\n",
       "      <td>132.0</td>\n",
       "      <td>0.0</td>\n",
       "      <td>0.0</td>\n",
       "      <td>0.0</td>\n",
       "      <td>0.0</td>\n",
       "      <td>0.0</td>\n",
       "      <td>...</td>\n",
       "      <td>0.000923</td>\n",
       "      <td>1.000000</td>\n",
       "      <td>1.083827</td>\n",
       "      <td>1.083893</td>\n",
       "      <td>1.083733</td>\n",
       "      <td>0.433316</td>\n",
       "      <td>0.0</td>\n",
       "      <td>0.011765</td>\n",
       "      <td>0.0</td>\n",
       "      <td>0.0</td>\n",
       "    </tr>\n",
       "    <tr>\n",
       "      <th>2024-03-22 05:30:00</th>\n",
       "      <td>1.08380</td>\n",
       "      <td>1.08384</td>\n",
       "      <td>1.08358</td>\n",
       "      <td>1.08363</td>\n",
       "      <td>151.0</td>\n",
       "      <td>0.0</td>\n",
       "      <td>0.0</td>\n",
       "      <td>0.0</td>\n",
       "      <td>0.0</td>\n",
       "      <td>0.0</td>\n",
       "      <td>...</td>\n",
       "      <td>-0.015688</td>\n",
       "      <td>1.000000</td>\n",
       "      <td>1.083683</td>\n",
       "      <td>1.083787</td>\n",
       "      <td>1.083527</td>\n",
       "      <td>0.216124</td>\n",
       "      <td>0.0</td>\n",
       "      <td>0.007344</td>\n",
       "      <td>0.0</td>\n",
       "      <td>0.0</td>\n",
       "    </tr>\n",
       "    <tr>\n",
       "      <th>2024-03-22 05:35:00</th>\n",
       "      <td>1.08363</td>\n",
       "      <td>1.08396</td>\n",
       "      <td>1.08363</td>\n",
       "      <td>1.08393</td>\n",
       "      <td>122.0</td>\n",
       "      <td>0.0</td>\n",
       "      <td>0.0</td>\n",
       "      <td>0.0</td>\n",
       "      <td>0.0</td>\n",
       "      <td>0.0</td>\n",
       "      <td>...</td>\n",
       "      <td>0.027677</td>\n",
       "      <td>0.999843</td>\n",
       "      <td>1.083840</td>\n",
       "      <td>1.084050</td>\n",
       "      <td>1.083720</td>\n",
       "      <td>0.000000</td>\n",
       "      <td>0.0</td>\n",
       "      <td>0.007350</td>\n",
       "      <td>0.0</td>\n",
       "      <td>0.0</td>\n",
       "    </tr>\n",
       "    <tr>\n",
       "      <th>2024-03-22 05:40:00</th>\n",
       "      <td>1.08394</td>\n",
       "      <td>1.08396</td>\n",
       "      <td>1.08385</td>\n",
       "      <td>1.08390</td>\n",
       "      <td>77.0</td>\n",
       "      <td>0.0</td>\n",
       "      <td>0.0</td>\n",
       "      <td>0.0</td>\n",
       "      <td>0.0</td>\n",
       "      <td>0.0</td>\n",
       "      <td>...</td>\n",
       "      <td>-0.003690</td>\n",
       "      <td>0.999843</td>\n",
       "      <td>1.083903</td>\n",
       "      <td>1.083957</td>\n",
       "      <td>1.083847</td>\n",
       "      <td>0.000000</td>\n",
       "      <td>0.0</td>\n",
       "      <td>0.007359</td>\n",
       "      <td>0.0</td>\n",
       "      <td>0.0</td>\n",
       "    </tr>\n",
       "    <tr>\n",
       "      <th>2024-03-22 05:45:00</th>\n",
       "      <td>1.08390</td>\n",
       "      <td>1.08402</td>\n",
       "      <td>1.08387</td>\n",
       "      <td>1.08395</td>\n",
       "      <td>102.0</td>\n",
       "      <td>0.0</td>\n",
       "      <td>0.0</td>\n",
       "      <td>0.0</td>\n",
       "      <td>0.0</td>\n",
       "      <td>0.0</td>\n",
       "      <td>...</td>\n",
       "      <td>0.004613</td>\n",
       "      <td>0.999806</td>\n",
       "      <td>1.083947</td>\n",
       "      <td>1.084023</td>\n",
       "      <td>1.083873</td>\n",
       "      <td>0.000000</td>\n",
       "      <td>0.0</td>\n",
       "      <td>0.007252</td>\n",
       "      <td>0.0</td>\n",
       "      <td>0.0</td>\n",
       "    </tr>\n",
       "    <tr>\n",
       "      <th>2024-03-22 05:50:00</th>\n",
       "      <td>1.08395</td>\n",
       "      <td>1.08397</td>\n",
       "      <td>1.08378</td>\n",
       "      <td>1.08378</td>\n",
       "      <td>81.0</td>\n",
       "      <td>0.0</td>\n",
       "      <td>0.0</td>\n",
       "      <td>0.0</td>\n",
       "      <td>0.0</td>\n",
       "      <td>0.0</td>\n",
       "      <td>...</td>\n",
       "      <td>-0.015686</td>\n",
       "      <td>0.999806</td>\n",
       "      <td>1.083843</td>\n",
       "      <td>1.083907</td>\n",
       "      <td>1.083717</td>\n",
       "      <td>0.000000</td>\n",
       "      <td>0.0</td>\n",
       "      <td>0.005332</td>\n",
       "      <td>0.0</td>\n",
       "      <td>0.0</td>\n",
       "    </tr>\n",
       "    <tr>\n",
       "      <th>2024-03-22 05:55:00</th>\n",
       "      <td>1.08378</td>\n",
       "      <td>1.08387</td>\n",
       "      <td>1.08376</td>\n",
       "      <td>1.08380</td>\n",
       "      <td>120.0</td>\n",
       "      <td>0.0</td>\n",
       "      <td>0.0</td>\n",
       "      <td>0.0</td>\n",
       "      <td>0.0</td>\n",
       "      <td>0.0</td>\n",
       "      <td>...</td>\n",
       "      <td>0.001845</td>\n",
       "      <td>0.999650</td>\n",
       "      <td>1.083810</td>\n",
       "      <td>1.083860</td>\n",
       "      <td>1.083750</td>\n",
       "      <td>0.000000</td>\n",
       "      <td>0.0</td>\n",
       "      <td>0.005362</td>\n",
       "      <td>0.0</td>\n",
       "      <td>0.0</td>\n",
       "    </tr>\n",
       "    <tr>\n",
       "      <th>2024-03-22 06:00:00</th>\n",
       "      <td>1.08380</td>\n",
       "      <td>1.08380</td>\n",
       "      <td>1.08364</td>\n",
       "      <td>1.08364</td>\n",
       "      <td>78.0</td>\n",
       "      <td>0.0</td>\n",
       "      <td>0.0</td>\n",
       "      <td>0.0</td>\n",
       "      <td>0.0</td>\n",
       "      <td>0.0</td>\n",
       "      <td>...</td>\n",
       "      <td>-0.014765</td>\n",
       "      <td>0.999650</td>\n",
       "      <td>1.083693</td>\n",
       "      <td>1.083747</td>\n",
       "      <td>1.083587</td>\n",
       "      <td>0.000000</td>\n",
       "      <td>0.0</td>\n",
       "      <td>0.005037</td>\n",
       "      <td>0.0</td>\n",
       "      <td>0.0</td>\n",
       "    </tr>\n",
       "  </tbody>\n",
       "</table>\n",
       "<p>10 rows × 25 columns</p>\n",
       "</div>"
      ],
      "text/plain": [
       "                        Open     High      Low    Close  Volume  Open D  \\\n",
       "Date                                                                      \n",
       "2024-03-22 05:15:00  1.08368  1.08381  1.08368  1.08376    86.0     0.0   \n",
       "2024-03-22 05:20:00  1.08376  1.08394  1.08376  1.08379    79.0     0.0   \n",
       "2024-03-22 05:25:00  1.08379  1.08392  1.08376  1.08380   132.0     0.0   \n",
       "2024-03-22 05:30:00  1.08380  1.08384  1.08358  1.08363   151.0     0.0   \n",
       "2024-03-22 05:35:00  1.08363  1.08396  1.08363  1.08393   122.0     0.0   \n",
       "2024-03-22 05:40:00  1.08394  1.08396  1.08385  1.08390    77.0     0.0   \n",
       "2024-03-22 05:45:00  1.08390  1.08402  1.08387  1.08395   102.0     0.0   \n",
       "2024-03-22 05:50:00  1.08395  1.08397  1.08378  1.08378    81.0     0.0   \n",
       "2024-03-22 05:55:00  1.08378  1.08387  1.08376  1.08380   120.0     0.0   \n",
       "2024-03-22 06:00:00  1.08380  1.08380  1.08364  1.08364    78.0     0.0   \n",
       "\n",
       "                     High D  Low D  Close D  Volume D  ...   percent  \\\n",
       "Date                                                   ...             \n",
       "2024-03-22 05:15:00     0.0    0.0      0.0       0.0  ...  0.007382   \n",
       "2024-03-22 05:20:00     0.0    0.0      0.0       0.0  ...  0.002768   \n",
       "2024-03-22 05:25:00     0.0    0.0      0.0       0.0  ...  0.000923   \n",
       "2024-03-22 05:30:00     0.0    0.0      0.0       0.0  ... -0.015688   \n",
       "2024-03-22 05:35:00     0.0    0.0      0.0       0.0  ...  0.027677   \n",
       "2024-03-22 05:40:00     0.0    0.0      0.0       0.0  ... -0.003690   \n",
       "2024-03-22 05:45:00     0.0    0.0      0.0       0.0  ...  0.004613   \n",
       "2024-03-22 05:50:00     0.0    0.0      0.0       0.0  ... -0.015686   \n",
       "2024-03-22 05:55:00     0.0    0.0      0.0       0.0  ...  0.001845   \n",
       "2024-03-22 06:00:00     0.0    0.0      0.0       0.0  ... -0.014765   \n",
       "\n",
       "                          rsi     Pivot        R1        S1  MovAvg D  \\\n",
       "Date                                                                    \n",
       "2024-03-22 05:15:00  1.000000  1.083750  1.083820  1.083690  0.869016   \n",
       "2024-03-22 05:20:00  1.000000  1.083830  1.083900  1.083720  0.651726   \n",
       "2024-03-22 05:25:00  1.000000  1.083827  1.083893  1.083733  0.433316   \n",
       "2024-03-22 05:30:00  1.000000  1.083683  1.083787  1.083527  0.216124   \n",
       "2024-03-22 05:35:00  0.999843  1.083840  1.084050  1.083720  0.000000   \n",
       "2024-03-22 05:40:00  0.999843  1.083903  1.083957  1.083847  0.000000   \n",
       "2024-03-22 05:45:00  0.999806  1.083947  1.084023  1.083873  0.000000   \n",
       "2024-03-22 05:50:00  0.999806  1.083843  1.083907  1.083717  0.000000   \n",
       "2024-03-22 05:55:00  0.999650  1.083810  1.083860  1.083750  0.000000   \n",
       "2024-03-22 06:00:00  0.999650  1.083693  1.083747  1.083587  0.000000   \n",
       "\n",
       "                     Pivot D     rsi D  R1 D  S1 D  \n",
       "Date                                                \n",
       "2024-03-22 05:15:00      0.0  0.015532   0.0   0.0  \n",
       "2024-03-22 05:20:00      0.0  0.015426   0.0   0.0  \n",
       "2024-03-22 05:25:00      0.0  0.011765   0.0   0.0  \n",
       "2024-03-22 05:30:00      0.0  0.007344   0.0   0.0  \n",
       "2024-03-22 05:35:00      0.0  0.007350   0.0   0.0  \n",
       "2024-03-22 05:40:00      0.0  0.007359   0.0   0.0  \n",
       "2024-03-22 05:45:00      0.0  0.007252   0.0   0.0  \n",
       "2024-03-22 05:50:00      0.0  0.005332   0.0   0.0  \n",
       "2024-03-22 05:55:00      0.0  0.005362   0.0   0.0  \n",
       "2024-03-22 06:00:00      0.0  0.005037   0.0   0.0  \n",
       "\n",
       "[10 rows x 25 columns]"
      ]
     },
     "execution_count": 128,
     "metadata": {},
     "output_type": "execute_result"
    }
   ],
   "source": [
    "df_total = df_total[\n",
    "\t['Open', 'High', 'Low', 'Close', 'Volume', \n",
    "\t 'Open D', 'High D', 'Low D', 'Close D', 'Volume D']\n",
    "\t \t\t\t\t\t\t\t]\n",
    "df = creat_data(df_total)\n",
    "df['Volume'] = df['Volume'].astype(np.float64)\n",
    "df.head(10)"
   ]
  },
  {
   "cell_type": "markdown",
   "metadata": {},
   "source": [
    "## Choosing Features"
   ]
  },
  {
   "cell_type": "code",
   "execution_count": 129,
   "metadata": {
    "execution": {
     "iopub.execute_input": "2025-07-31T01:00:43.456963Z",
     "iopub.status.busy": "2025-07-31T01:00:43.456725Z",
     "iopub.status.idle": "2025-07-31T01:00:43.476264Z",
     "shell.execute_reply": "2025-07-31T01:00:43.475642Z",
     "shell.execute_reply.started": "2025-07-31T01:00:43.456945Z"
    },
    "trusted": true
   },
   "outputs": [
    {
     "data": {
      "text/html": [
       "<div>\n",
       "<style scoped>\n",
       "    .dataframe tbody tr th:only-of-type {\n",
       "        vertical-align: middle;\n",
       "    }\n",
       "\n",
       "    .dataframe tbody tr th {\n",
       "        vertical-align: top;\n",
       "    }\n",
       "\n",
       "    .dataframe thead th {\n",
       "        text-align: right;\n",
       "    }\n",
       "</style>\n",
       "<table border=\"1\" class=\"dataframe\">\n",
       "  <thead>\n",
       "    <tr style=\"text-align: right;\">\n",
       "      <th></th>\n",
       "      <th>MovAvg D</th>\n",
       "      <th>percent</th>\n",
       "    </tr>\n",
       "    <tr>\n",
       "      <th>Date</th>\n",
       "      <th></th>\n",
       "      <th></th>\n",
       "    </tr>\n",
       "  </thead>\n",
       "  <tbody>\n",
       "    <tr>\n",
       "      <th>2024-03-22 05:15:00</th>\n",
       "      <td>0.869016</td>\n",
       "      <td>0.007382</td>\n",
       "    </tr>\n",
       "    <tr>\n",
       "      <th>2024-03-22 05:20:00</th>\n",
       "      <td>0.651726</td>\n",
       "      <td>0.002768</td>\n",
       "    </tr>\n",
       "    <tr>\n",
       "      <th>2024-03-22 05:25:00</th>\n",
       "      <td>0.433316</td>\n",
       "      <td>0.000923</td>\n",
       "    </tr>\n",
       "    <tr>\n",
       "      <th>2024-03-22 05:30:00</th>\n",
       "      <td>0.216124</td>\n",
       "      <td>-0.015688</td>\n",
       "    </tr>\n",
       "    <tr>\n",
       "      <th>2024-03-22 05:35:00</th>\n",
       "      <td>0.000000</td>\n",
       "      <td>0.027677</td>\n",
       "    </tr>\n",
       "  </tbody>\n",
       "</table>\n",
       "</div>"
      ],
      "text/plain": [
       "                     MovAvg D   percent\n",
       "Date                                   \n",
       "2024-03-22 05:15:00  0.869016  0.007382\n",
       "2024-03-22 05:20:00  0.651726  0.002768\n",
       "2024-03-22 05:25:00  0.433316  0.000923\n",
       "2024-03-22 05:30:00  0.216124 -0.015688\n",
       "2024-03-22 05:35:00  0.000000  0.027677"
      ]
     },
     "execution_count": 129,
     "metadata": {},
     "output_type": "execute_result"
    }
   ],
   "source": [
    "from sklearn.feature_selection import VarianceThreshold\n",
    "\n",
    "selector = VarianceThreshold(threshold=.5)\n",
    "selector.fit(df)\n",
    "df_selected = df[df.columns[~selector.get_support(indices=True)]]\n",
    "df_selected.head()"
   ]
  },
  {
   "cell_type": "code",
   "execution_count": 130,
   "metadata": {},
   "outputs": [
    {
     "data": {
      "text/plain": [
       "Index(['MovAvg D', 'percent'], dtype='object')"
      ]
     },
     "execution_count": 130,
     "metadata": {},
     "output_type": "execute_result"
    }
   ],
   "source": [
    "df_selected.columns"
   ]
  },
  {
   "cell_type": "markdown",
   "metadata": {},
   "source": [
    "## Final Features"
   ]
  },
  {
   "cell_type": "code",
   "execution_count": 131,
   "metadata": {
    "execution": {
     "iopub.execute_input": "2025-07-31T01:00:44.260615Z",
     "iopub.status.busy": "2025-07-31T01:00:44.260358Z",
     "iopub.status.idle": "2025-07-31T01:00:44.274487Z",
     "shell.execute_reply": "2025-07-31T01:00:44.273803Z",
     "shell.execute_reply.started": "2025-07-31T01:00:44.260591Z"
    },
    "trusted": true
   },
   "outputs": [
    {
     "data": {
      "text/html": [
       "<div>\n",
       "<style scoped>\n",
       "    .dataframe tbody tr th:only-of-type {\n",
       "        vertical-align: middle;\n",
       "    }\n",
       "\n",
       "    .dataframe tbody tr th {\n",
       "        vertical-align: top;\n",
       "    }\n",
       "\n",
       "    .dataframe thead th {\n",
       "        text-align: right;\n",
       "    }\n",
       "</style>\n",
       "<table border=\"1\" class=\"dataframe\">\n",
       "  <thead>\n",
       "    <tr style=\"text-align: right;\">\n",
       "      <th></th>\n",
       "      <th>Open</th>\n",
       "      <th>High</th>\n",
       "      <th>Low</th>\n",
       "      <th>Close</th>\n",
       "      <th>Volume</th>\n",
       "      <th>Pivot D</th>\n",
       "    </tr>\n",
       "    <tr>\n",
       "      <th>Date</th>\n",
       "      <th></th>\n",
       "      <th></th>\n",
       "      <th></th>\n",
       "      <th></th>\n",
       "      <th></th>\n",
       "      <th></th>\n",
       "    </tr>\n",
       "  </thead>\n",
       "  <tbody>\n",
       "    <tr>\n",
       "      <th>2024-03-22 05:15:00</th>\n",
       "      <td>1.08368</td>\n",
       "      <td>1.08381</td>\n",
       "      <td>1.08368</td>\n",
       "      <td>1.08376</td>\n",
       "      <td>86.0</td>\n",
       "      <td>0.0</td>\n",
       "    </tr>\n",
       "    <tr>\n",
       "      <th>2024-03-22 05:20:00</th>\n",
       "      <td>1.08376</td>\n",
       "      <td>1.08394</td>\n",
       "      <td>1.08376</td>\n",
       "      <td>1.08379</td>\n",
       "      <td>79.0</td>\n",
       "      <td>0.0</td>\n",
       "    </tr>\n",
       "    <tr>\n",
       "      <th>2024-03-22 05:25:00</th>\n",
       "      <td>1.08379</td>\n",
       "      <td>1.08392</td>\n",
       "      <td>1.08376</td>\n",
       "      <td>1.08380</td>\n",
       "      <td>132.0</td>\n",
       "      <td>0.0</td>\n",
       "    </tr>\n",
       "    <tr>\n",
       "      <th>2024-03-22 05:30:00</th>\n",
       "      <td>1.08380</td>\n",
       "      <td>1.08384</td>\n",
       "      <td>1.08358</td>\n",
       "      <td>1.08363</td>\n",
       "      <td>151.0</td>\n",
       "      <td>0.0</td>\n",
       "    </tr>\n",
       "    <tr>\n",
       "      <th>2024-03-22 05:35:00</th>\n",
       "      <td>1.08363</td>\n",
       "      <td>1.08396</td>\n",
       "      <td>1.08363</td>\n",
       "      <td>1.08393</td>\n",
       "      <td>122.0</td>\n",
       "      <td>0.0</td>\n",
       "    </tr>\n",
       "    <tr>\n",
       "      <th>2024-03-22 05:40:00</th>\n",
       "      <td>1.08394</td>\n",
       "      <td>1.08396</td>\n",
       "      <td>1.08385</td>\n",
       "      <td>1.08390</td>\n",
       "      <td>77.0</td>\n",
       "      <td>0.0</td>\n",
       "    </tr>\n",
       "    <tr>\n",
       "      <th>2024-03-22 05:45:00</th>\n",
       "      <td>1.08390</td>\n",
       "      <td>1.08402</td>\n",
       "      <td>1.08387</td>\n",
       "      <td>1.08395</td>\n",
       "      <td>102.0</td>\n",
       "      <td>0.0</td>\n",
       "    </tr>\n",
       "    <tr>\n",
       "      <th>2024-03-22 05:50:00</th>\n",
       "      <td>1.08395</td>\n",
       "      <td>1.08397</td>\n",
       "      <td>1.08378</td>\n",
       "      <td>1.08378</td>\n",
       "      <td>81.0</td>\n",
       "      <td>0.0</td>\n",
       "    </tr>\n",
       "    <tr>\n",
       "      <th>2024-03-22 05:55:00</th>\n",
       "      <td>1.08378</td>\n",
       "      <td>1.08387</td>\n",
       "      <td>1.08376</td>\n",
       "      <td>1.08380</td>\n",
       "      <td>120.0</td>\n",
       "      <td>0.0</td>\n",
       "    </tr>\n",
       "    <tr>\n",
       "      <th>2024-03-22 06:00:00</th>\n",
       "      <td>1.08380</td>\n",
       "      <td>1.08380</td>\n",
       "      <td>1.08364</td>\n",
       "      <td>1.08364</td>\n",
       "      <td>78.0</td>\n",
       "      <td>0.0</td>\n",
       "    </tr>\n",
       "  </tbody>\n",
       "</table>\n",
       "</div>"
      ],
      "text/plain": [
       "                        Open     High      Low    Close  Volume  Pivot D\n",
       "Date                                                                    \n",
       "2024-03-22 05:15:00  1.08368  1.08381  1.08368  1.08376    86.0      0.0\n",
       "2024-03-22 05:20:00  1.08376  1.08394  1.08376  1.08379    79.0      0.0\n",
       "2024-03-22 05:25:00  1.08379  1.08392  1.08376  1.08380   132.0      0.0\n",
       "2024-03-22 05:30:00  1.08380  1.08384  1.08358  1.08363   151.0      0.0\n",
       "2024-03-22 05:35:00  1.08363  1.08396  1.08363  1.08393   122.0      0.0\n",
       "2024-03-22 05:40:00  1.08394  1.08396  1.08385  1.08390    77.0      0.0\n",
       "2024-03-22 05:45:00  1.08390  1.08402  1.08387  1.08395   102.0      0.0\n",
       "2024-03-22 05:50:00  1.08395  1.08397  1.08378  1.08378    81.0      0.0\n",
       "2024-03-22 05:55:00  1.08378  1.08387  1.08376  1.08380   120.0      0.0\n",
       "2024-03-22 06:00:00  1.08380  1.08380  1.08364  1.08364    78.0      0.0"
      ]
     },
     "execution_count": 131,
     "metadata": {},
     "output_type": "execute_result"
    }
   ],
   "source": [
    "data = df[\n",
    "\t\t\t\t[\t'Open', 'High', 'Low' , 'Close', 'Volume',\n",
    "\t\t\t\t\t# 'macd',\n",
    "\t\t\t\t\t'Pivot D', \n",
    "\t\t\t\t\t#   \"R1 D\", 'S1 D', \n",
    "\t\t\t\t\t# 'MovAvg D'\n",
    "\t\t\t\t]\n",
    "\t\t\t\t\t]\n",
    "data.head(10)"
   ]
  },
  {
   "cell_type": "markdown",
   "metadata": {},
   "source": [
    "# Create Envirnment"
   ]
  },
  {
   "cell_type": "code",
   "execution_count": 132,
   "metadata": {
    "execution": {
     "iopub.execute_input": "2025-07-31T01:00:44.275488Z",
     "iopub.status.busy": "2025-07-31T01:00:44.275291Z",
     "iopub.status.idle": "2025-07-31T01:00:44.290052Z",
     "shell.execute_reply": "2025-07-31T01:00:44.289408Z",
     "shell.execute_reply.started": "2025-07-31T01:00:44.275466Z"
    },
    "trusted": true
   },
   "outputs": [],
   "source": [
    "\n",
    "class MarketEnv(gym.Env):\n",
    "\tmetadata = {\"render_modes\": [\"human\"], \"render_fps\": 4}\n",
    "\n",
    "\tdef __init__(self, \n",
    "\t\t\t\t df: pd.DataFrame, \n",
    "\t\t\t\t win_size: int, \n",
    "\t\t\t\t sharpe_weight : float = .4,\n",
    "\t\t\t\t shapre_compression : int = 5,\n",
    "\t\t\t\t size : float = 0.01 ,\n",
    "\t\t\t\t threshold = 0.001,\n",
    "\t\t\t\t commission : float = 1e-2,\n",
    "\t\t\t\t portfolio : float = 100,\n",
    "\t\t\t\t risk_free_rate : float = 1e-2):\n",
    "\t\tsuper().__init__()\n",
    "\t\tself.df = df.reset_index(drop=True).astype(np.float32)\n",
    "\t\tself.win_size = win_size\n",
    "\t\tself.num_features = df.shape[1]\n",
    "\t\tself.current_step = self.win_size\n",
    "\t\tself.max_steps = len(df) - win_size - 1\n",
    "\t\tself.step_count : int = 0\n",
    "\t\tself.current_position : int = 0\n",
    "\t\tself.reward : float = 0.\n",
    "\t\tself.risk_free_rate: float = risk_free_rate\n",
    "\t\tself.trade_record: list[list[ float]] = list()\n",
    "\t\tself.pnl : float = 0.\n",
    "\t\tself.sharpe_reward : float = 0.\n",
    "\t\tself.portfolio_Start = portfolio\n",
    "\t\tself.portfolio = portfolio\n",
    "\t\tself.size = size\n",
    "\t\tself.commission = commission\n",
    "\t\tself.sharpe_weight = sharpe_weight\n",
    "\t\tself.shapre_compression = shapre_compression\n",
    "\t\tself.threshold = threshold \n",
    "\t\tself.action_space = spaces.Discrete(3, start=-1) # Box(low=-1.0, high=1.0, shape=(1,), dtype=np.float32)\n",
    "\t\tself.observation_space = spaces.Box(\n",
    "\t\t\tlow=-np.inf,\n",
    "\t\t\thigh=np.inf,\n",
    "\t\t\tshape=(win_size, self.num_features),\n",
    "\t\t\tdtype=np.float32\n",
    "\t\t)\n",
    "\t\tself.state : np.ndarray\n",
    "\n",
    "\tdef reset(self, *, seed=None, options=None):\n",
    "\t\tsuper().reset(seed=seed)\n",
    "\t\tself.current_step = self.win_size\n",
    "\t\tself.step_count = 0\n",
    "\t\tself.current_position = 0\n",
    "\t\tself.state = self._get_observation()\n",
    "\t\tself.trade_record.clear()\n",
    "\t\tself.pnl : float = 0.\n",
    "\t\tself.sharpe_reward : float = 0.\n",
    "\t\tself.portfolio = self.portfolio_Start\n",
    "\t\treturn self.state, {}\n",
    "\n",
    "\n",
    "\tdef _get_observation(self):\n",
    "\t\twindow = self.df.iloc[max(0, self.current_step - self.win_size): self.current_step].to_numpy()\n",
    "\t\twindow_tensor = torch.tensor(window, dtype=torch.float32)\n",
    "\n",
    "\t\t# اگر ردیف‌ها کمتر از win_size بودن، باید zero-padding کنیم\n",
    "\t\tif window_tensor.shape[0] < self.win_size:\n",
    "\t\t\tpad_rows = self.win_size - window_tensor.shape[0]\n",
    "\t\t\t# pad last dim with 0s: (left, right, top, bottom)\n",
    "\t\t\tpadding = (0, 0, pad_rows, 0)  # پد در بالا\n",
    "\t\t\twindow_tensor = F.pad(window_tensor, padding, \"constant\", 0)\n",
    "\n",
    "\t\treturn window_tensor.numpy()\n",
    "\n",
    "\n",
    "\tdef _calc_pnl(self, prices: float , action : int ) -> float:\n",
    "\t\t\n",
    "\t\ttransaction_cost = self.commission\n",
    "\t\t# transaction_cost = (prices  *  self.size ) * self.commission\n",
    "\t\t\n",
    "\n",
    "\t\treturn (prices * action *  self.size ) - transaction_cost\n",
    "\n",
    "\tdef _calc_shapre(self):\n",
    "\t\tif len(self.trade_record) < 2:\n",
    "\t\t\treturn 0.0  # جلوگیری از تقسیم بر صفر\n",
    "\t\t# print(\"trade_record\\n\", self.trade_record[-self.shapre_compression:])\n",
    "\t\texcess_returns: np.ndarray = np.array(np.array(self.trade_record)[-self.shapre_compression:, 1]) - self.risk_free_rate\n",
    "\t\tmean_excess_return: floating[Any] = np.mean(excess_returns)\n",
    "\t\tstd_excess_return: floating[Any] = np.std(excess_returns)\n",
    "\t\t\n",
    "\t\tif std_excess_return == 0:\n",
    "\t\t\treturn 0.0\n",
    "\t\t\n",
    "\t\tsharpe: floating[Any] = mean_excess_return / std_excess_return\n",
    "\t\treturn sharpe * np.sum(excess_returns)  \n",
    "\n",
    "\tdef _calc_rew(self,changes) :\n",
    "\t\tif changes >= self.threshold:\n",
    "\t\t\treturn 1\n",
    "\t\telse:\n",
    "\t\t\treturn 0\n",
    "\t\t\n",
    "\t\t...\n",
    "\tdef step(self, action : int,):\n",
    "\n",
    "\t\t# action += 1\n",
    "\t\tmatch action:\n",
    "\t\t\tcase  0:\n",
    "\t\t\t\treal_action = 1  # Buy\n",
    "\t\t\tcase 1:\n",
    "\t\t\t\treal_action = -1 # Sell\n",
    "\t\t\tcase 2:\n",
    "\t\t\t\treal_action = 0  # Hold\n",
    "\n",
    " \n",
    "\t\tself.current_step += 1\n",
    "\t\tself.step_count += 1\n",
    "\t\tself.current_position = action # type: ignore\n",
    "\t\tterminated: bool = False\n",
    "\t\ttruncated: bool = self.step_count >= self.max_steps\n",
    "\t\t# print(f'state 0\\n {self.state}')\n",
    "\t\tself.state = self._get_observation()\n",
    "\t\t# print(f'state 1\\n {self.state}')\n",
    "\n",
    "\t\t# State:\n",
    "\t\t# O: 0 | H: 1 | L: 2 | C: 3 | V: 4 |         \n",
    "\t\tchnages = self.state[:,0][0] - self.state[:,0][-1]\n",
    "\t\t# print(f\"chnages\\n {chnages}\")\n",
    "\t\tself.pnl = self._calc_pnl(chnages , real_action )\n",
    "\t\tchange_rew = 1 #self._calc_rew(self.pnl)\n",
    "\t\tself.trade_record.append([ action ,self.pnl])\n",
    "\t\t\n",
    "\t\tself.sharpe_reward = self._calc_shapre()\n",
    "\n",
    "\t\tself.reward = ((\n",
    "\t\t\t(1 - self.sharpe_weight) * self.pnl) +\\\n",
    "\t\t\t\t (self.sharpe_weight * self.sharpe_reward)\n",
    "\t\t\t\t ) * change_rew\n",
    "\t\t\n",
    "\t\tself.portfolio += self.pnl if not self.reward == 0 else 0\n",
    "\n",
    "\t\tinfo = {}\n",
    "\t\treturn self.state, self.reward , terminated, truncated, info\n",
    "\n",
    "\tdef render(self, mode=\"human\"):\n",
    "\t\tprint(f\"Step: {self.step_count}, Reward: {self.reward:.4f}\")\n"
   ]
  },
  {
   "cell_type": "markdown",
   "metadata": {},
   "source": [
    "# Make Model"
   ]
  },
  {
   "cell_type": "code",
   "execution_count": null,
   "metadata": {
    "execution": {
     "iopub.execute_input": "2025-07-31T01:00:44.291068Z",
     "iopub.status.busy": "2025-07-31T01:00:44.290847Z",
     "iopub.status.idle": "2025-07-31T01:00:44.314674Z",
     "shell.execute_reply": "2025-07-31T01:00:44.313922Z",
     "shell.execute_reply.started": "2025-07-31T01:00:44.291053Z"
    },
    "trusted": true
   },
   "outputs": [],
   "source": [
    "\n",
    "class PolicyNetwork(nn.Module):\n",
    "\tdef __init__(self, win_size , n_feature):\n",
    "\t\tsuper().__init__()\n",
    "\n",
    "\t\tself.norm_all = nn.LayerNorm(n_feature)\n",
    "\t\t\n",
    "\t\tself.i_know = nn.LSTM(input_size=n_feature, \n",
    "\t\t\t\t\t\thidden_size=n_feature,\n",
    "\t\t\t\t\t\t  num_layers= 128,\n",
    "\t\t\t\t\t\t  batch_first=True,\n",
    "\t\t\t\t\t\t  bidirectional= False\n",
    "\t\t\t\t\t\t  )\n",
    "\t\t\n",
    "\n",
    "\t\t\n",
    "\t\tself.i_see = nn.Sequential(\n",
    "\t\t\tnn.Conv1d(in_channels=win_size, out_channels=win_size, kernel_size=7, padding='same'),\n",
    "\t\t\tnn.BatchNorm1d(win_size),\n",
    "\t\t\tnn.LeakyReLU(),\n",
    "\t\t\tnn.Conv1d(in_channels=win_size, out_channels=win_size, kernel_size=5, padding='same'),\n",
    "\t\t\tnn.BatchNorm1d(win_size),\n",
    "\t\t\tnn.LeakyReLU(),\n",
    "\t\t\tnn.Conv1d(in_channels=win_size, out_channels=win_size, kernel_size=3, padding='same'),\n",
    "\t\t\tnn.BatchNorm1d(win_size),\n",
    "\t\t\tnn.LeakyReLU()\n",
    "\t\t\t)\n",
    "\n",
    "\t\tself.i_decide = nn.Sequential(\n",
    "\t\t\tnn.Flatten(),\n",
    "\t\t\tnn.Linear(win_size * n_feature *2, 1024), \n",
    "\t\t\tnn.Dropout(.5),\n",
    "\t\t\tnn.LeakyReLU(),\n",
    "\t\t\tnn.Linear(1024, 512), \n",
    "\t\t\tnn.LeakyReLU(),\n",
    "\t\t\tnn.Linear(512, 128), \n",
    "\t\t\t# -------------------------------------\n",
    "\t\t\tnn.Linear(128, 812), # fc1\n",
    "\t\t\tnn.Dropout(.5),\n",
    "\t\t\tnn.LeakyReLU(),\n",
    "\t\t\tnn.Linear(812, 128), # fc2\n",
    "\t\t\tnn.LeakyReLU(),\n",
    "\t\t\tnn.Linear(128, 3), # out\n",
    "\t\n",
    "\t\t)\n",
    "\n",
    "\n",
    "\tdef forward(self, X: Tensor) -> Tensor:\n",
    "\t\t# print(X.shape)\n",
    "\t\tx : Tensor = self.norm_all(X).unsqueeze(0)\n",
    "\n",
    "\t\tiknow : Tensor\n",
    "\t\tiknow ,_ = self.i_know(x)\n",
    "\n",
    "\t\tisee : Tensor = self.i_see(x)\n",
    "\t\t# print(isee.shape, iknow.shape)\n",
    "\t\t# whathpend =  F.sigmoid(isee + iknow)\n",
    "\t\twhathpend =  torch.cat([iknow, isee], dim=1) #isee + iknow.tanh()\n",
    "\t\t# print(torch.cat([iknow, isee], dim=1).shape)\n",
    "\t\t# print(torch.cat([iknow, isee], dim=1).flatten().shape)\n",
    "\t\tout = self.i_decide(whathpend)\n",
    "\n",
    "\t\treturn out\n",
    "\n",
    "\n",
    "\n",
    "\n",
    "# تبدیل observation به بردار 1D برای ورودی شبکه\n",
    "def preprocess_obs(obs : np.ndarray | Tensor) -> torch.Tensor:\n",
    "\treturn torch.tensor(obs, dtype=torch.float32)\n"
   ]
  },
  {
   "cell_type": "code",
   "execution_count": 134,
   "metadata": {
    "execution": {
     "iopub.execute_input": "2025-07-31T01:00:44.315513Z",
     "iopub.status.busy": "2025-07-31T01:00:44.315352Z",
     "iopub.status.idle": "2025-07-31T01:00:44.356723Z",
     "shell.execute_reply": "2025-07-31T01:00:44.356217Z",
     "shell.execute_reply.started": "2025-07-31T01:00:44.315500Z"
    },
    "trusted": true
   },
   "outputs": [
    {
     "data": {
      "text/html": [
       "<div>\n",
       "<style scoped>\n",
       "    .dataframe tbody tr th:only-of-type {\n",
       "        vertical-align: middle;\n",
       "    }\n",
       "\n",
       "    .dataframe tbody tr th {\n",
       "        vertical-align: top;\n",
       "    }\n",
       "\n",
       "    .dataframe thead th {\n",
       "        text-align: right;\n",
       "    }\n",
       "</style>\n",
       "<table border=\"1\" class=\"dataframe\">\n",
       "  <thead>\n",
       "    <tr style=\"text-align: right;\">\n",
       "      <th></th>\n",
       "      <th>Open</th>\n",
       "      <th>High</th>\n",
       "      <th>Low</th>\n",
       "      <th>Close</th>\n",
       "      <th>Volume</th>\n",
       "      <th>Pivot D</th>\n",
       "    </tr>\n",
       "  </thead>\n",
       "  <tbody>\n",
       "    <tr>\n",
       "      <th>count</th>\n",
       "      <td>5250.000000</td>\n",
       "      <td>5250.000000</td>\n",
       "      <td>5250.000000</td>\n",
       "      <td>5250.000000</td>\n",
       "      <td>5250.000000</td>\n",
       "      <td>5250.000000</td>\n",
       "    </tr>\n",
       "    <tr>\n",
       "      <th>mean</th>\n",
       "      <td>1.090434</td>\n",
       "      <td>1.090576</td>\n",
       "      <td>1.090292</td>\n",
       "      <td>1.090455</td>\n",
       "      <td>50.022095</td>\n",
       "      <td>0.072708</td>\n",
       "    </tr>\n",
       "    <tr>\n",
       "      <th>std</th>\n",
       "      <td>0.037342</td>\n",
       "      <td>0.037351</td>\n",
       "      <td>0.037328</td>\n",
       "      <td>0.037344</td>\n",
       "      <td>63.865445</td>\n",
       "      <td>0.272247</td>\n",
       "    </tr>\n",
       "    <tr>\n",
       "      <th>min</th>\n",
       "      <td>1.023100</td>\n",
       "      <td>1.024040</td>\n",
       "      <td>1.022480</td>\n",
       "      <td>1.023340</td>\n",
       "      <td>4.000000</td>\n",
       "      <td>0.000000</td>\n",
       "    </tr>\n",
       "    <tr>\n",
       "      <th>25%</th>\n",
       "      <td>1.066958</td>\n",
       "      <td>1.067080</td>\n",
       "      <td>1.066877</td>\n",
       "      <td>1.066950</td>\n",
       "      <td>20.000000</td>\n",
       "      <td>0.000000</td>\n",
       "    </tr>\n",
       "    <tr>\n",
       "      <th>50%</th>\n",
       "      <td>1.084610</td>\n",
       "      <td>1.084780</td>\n",
       "      <td>1.084500</td>\n",
       "      <td>1.084620</td>\n",
       "      <td>34.000000</td>\n",
       "      <td>0.000000</td>\n",
       "    </tr>\n",
       "    <tr>\n",
       "      <th>75%</th>\n",
       "      <td>1.113068</td>\n",
       "      <td>1.113125</td>\n",
       "      <td>1.112907</td>\n",
       "      <td>1.113063</td>\n",
       "      <td>56.000000</td>\n",
       "      <td>0.000000</td>\n",
       "    </tr>\n",
       "    <tr>\n",
       "      <th>max</th>\n",
       "      <td>1.180470</td>\n",
       "      <td>1.180560</td>\n",
       "      <td>1.180440</td>\n",
       "      <td>1.180520</td>\n",
       "      <td>2410.000000</td>\n",
       "      <td>1.179843</td>\n",
       "    </tr>\n",
       "  </tbody>\n",
       "</table>\n",
       "</div>"
      ],
      "text/plain": [
       "              Open         High          Low        Close       Volume  \\\n",
       "count  5250.000000  5250.000000  5250.000000  5250.000000  5250.000000   \n",
       "mean      1.090434     1.090576     1.090292     1.090455    50.022095   \n",
       "std       0.037342     0.037351     0.037328     0.037344    63.865445   \n",
       "min       1.023100     1.024040     1.022480     1.023340     4.000000   \n",
       "25%       1.066958     1.067080     1.066877     1.066950    20.000000   \n",
       "50%       1.084610     1.084780     1.084500     1.084620    34.000000   \n",
       "75%       1.113068     1.113125     1.112907     1.113063    56.000000   \n",
       "max       1.180470     1.180560     1.180440     1.180520  2410.000000   \n",
       "\n",
       "           Pivot D  \n",
       "count  5250.000000  \n",
       "mean      0.072708  \n",
       "std       0.272247  \n",
       "min       0.000000  \n",
       "25%       0.000000  \n",
       "50%       0.000000  \n",
       "75%       0.000000  \n",
       "max       1.179843  "
      ]
     },
     "execution_count": 134,
     "metadata": {},
     "output_type": "execute_result"
    }
   ],
   "source": [
    "assert not data.isnull().any().any(), \"NaN exists in dataframe!\"\n",
    "\n",
    "data.describe()"
   ]
  },
  {
   "cell_type": "markdown",
   "metadata": {},
   "source": [
    "# Create Agent"
   ]
  },
  {
   "cell_type": "code",
   "execution_count": 135,
   "metadata": {
    "execution": {
     "iopub.execute_input": "2025-07-31T01:00:44.357552Z",
     "iopub.status.busy": "2025-07-31T01:00:44.357361Z",
     "iopub.status.idle": "2025-07-31T01:00:44.364908Z",
     "shell.execute_reply": "2025-07-31T01:00:44.364190Z",
     "shell.execute_reply.started": "2025-07-31T01:00:44.357537Z"
    },
    "trusted": true
   },
   "outputs": [],
   "source": [
    "\n",
    "class SimpleRLAgent:\n",
    "\tdef __init__(self, win_size, num_features ,action_dim):\n",
    "\t\tself.policy = PolicyNetwork (win_size=win_size, n_feature=num_features )\n",
    "\t\tself.policy.to(device)\n",
    "\t\tself.optimizer = RMSprop(self.policy.parameters(), lr=0.01)\n",
    "\t\tself.buffer = []  # Stores (log_prob, reward) pairs\n",
    "\t\n",
    "\tdef select_action(self, state):\n",
    "\t\tstate = torch.FloatTensor(state).to(device)#.unsqueeze(0)\n",
    "\t\tlogits = self.policy(state)\n",
    "\t\tprobs: Tensor = F.softmax(logits, dim=-1)  # Convert logits to probabilities\n",
    "\t\t\n",
    "\t\tm = Categorical(probs)\n",
    "\t\taction = m.sample().squeeze(0)\n",
    "\n",
    "\t\tlog_prob: Tensor = m.log_prob(action) \n",
    "\t\t\n",
    "\t\treturn action, log_prob\n",
    "\t\n",
    "\tdef update(self):\n",
    "\t\tif not self.buffer:\n",
    "\t\t\treturn\n",
    "\t\t\n",
    "\t\t# Extract stored (log_prob, reward) pairs\n",
    "\t\tlog_probs, rewards = zip(*self.buffer)\n",
    "\t\tlog_probs = torch.stack(log_probs).to(device)\n",
    "\t\trewards = torch.FloatTensor(rewards).to(device)\n",
    "\t\t\n",
    "\t\t# Normalize rewards (reduces variance)\n",
    "\t\trewards = (rewards - rewards.mean()) / (rewards.std() + 1e-8)\n",
    "\t\t\n",
    "\t\t# Policy gradient loss: -log_prob * reward (maximize reward)\n",
    "\t\tloss = (-log_probs * rewards).mean()\n",
    "\t\t\n",
    "\t\tself.optimizer.zero_grad()\n",
    "\t\tloss.backward()\n",
    "\t\tself.optimizer.step()\n",
    "\t\t\n",
    "\t\tself.buffer = []  # Clear buffer after update\n",
    "\t\treturn loss.item()"
   ]
  },
  {
   "cell_type": "code",
   "execution_count": 136,
   "metadata": {
    "execution": {
     "iopub.execute_input": "2025-07-31T01:00:44.366237Z",
     "iopub.status.busy": "2025-07-31T01:00:44.365969Z",
     "iopub.status.idle": "2025-07-31T01:00:44.386479Z",
     "shell.execute_reply": "2025-07-31T01:00:44.385806Z",
     "shell.execute_reply.started": "2025-07-31T01:00:44.366205Z"
    },
    "trusted": true
   },
   "outputs": [
    {
     "data": {
      "text/plain": [
       "<torch.autograd.anomaly_mode.set_detect_anomaly at 0x21a3b6687c0>"
      ]
     },
     "execution_count": 136,
     "metadata": {},
     "output_type": "execute_result"
    }
   ],
   "source": [
    "torch.autograd.set_detect_anomaly(True)\n"
   ]
  },
  {
   "cell_type": "code",
   "execution_count": 137,
   "metadata": {},
   "outputs": [
    {
     "data": {
      "text/plain": [
       "(5250, 6)"
      ]
     },
     "execution_count": 137,
     "metadata": {},
     "output_type": "execute_result"
    }
   ],
   "source": [
    "data.shape"
   ]
  },
  {
   "cell_type": "markdown",
   "metadata": {},
   "source": [
    "# Trainig Procces"
   ]
  },
  {
   "cell_type": "code",
   "execution_count": 138,
   "metadata": {
    "execution": {
     "iopub.execute_input": "2025-07-31T01:00:44.387481Z",
     "iopub.status.busy": "2025-07-31T01:00:44.387207Z",
     "iopub.status.idle": "2025-07-31T03:14:03.761011Z",
     "shell.execute_reply": "2025-07-31T03:14:03.760169Z",
     "shell.execute_reply.started": "2025-07-31T01:00:44.387464Z"
    },
    "trusted": true
   },
   "outputs": [
    {
     "name": "stdout",
     "output_type": "stream",
     "text": [
      "Episode 1 | Reward 11365541911.5877 | Gain -6900.0127\n",
      "Episode 2 | Reward 14202519275.9903 | Gain -6899.9927\n",
      "Episode 3 | Reward 12283058652.7485 | Gain -6899.9971\n",
      "Episode 4 | Reward 12273053448.6164 | Gain -6899.9927\n",
      "Episode 5 | Reward 12421127789.7917 | Gain -6899.9980\n",
      "Episode 6 | Reward 12232558479.9508 | Gain -6899.9990\n",
      "Episode 7 | Reward 13181216822.4136 | Gain -6899.9937\n",
      "Episode 8 | Reward 13734400036.5503 | Gain -6899.9912\n",
      "Episode 9 | Reward 12717235059.6659 | Gain -6899.9956\n",
      "Episode 10 | Reward 13269828378.0553 | Gain -6900.0015\n"
     ]
    }
   ],
   "source": [
    "\n",
    "\n",
    "env = MarketEnv(df=data, \n",
    "\t\t\t\twin_size=window_size,\n",
    "\t\t\t\trisk_free_rate = 1e-1 ,\n",
    "\t\t\t\tsharpe_weight = .5 ,\n",
    "\t\t\t\tshapre_compression= 5,\n",
    "\t\t\t\tsize= .1, # bigger, better for EUR\n",
    "\t\t\t\tcommission = 7,\n",
    "\t\t\t\tthreshold = 0.001\n",
    "\n",
    "\t\t\t   )\n",
    "obs, _ = env.reset()\n",
    "\n",
    "\n",
    "\n",
    "agent = SimpleRLAgent(win_size=window_size, \n",
    "\t\t\t\t\t  num_features=env.num_features, \n",
    "\t\t\t\t\t  action_dim=3)  # 3 discrete actions\n",
    "\n",
    "\n",
    "num_episodes = 10\n",
    "max_steps = 1_000\n",
    "reward_to_episodes = list()\n",
    "gain_over_episode = list()\n",
    "\n",
    "for episode in range(num_episodes):\n",
    "\tstate ,_= env.reset()\n",
    "\tdone : bool = False\n",
    "\tepisode_reward = 0.\n",
    "\t\n",
    "\t# while not done:\n",
    "\tfor step in range(max_steps):\n",
    "\t\taction, log_prob = agent.select_action(state)\n",
    "\t\tnext_state, reward, terminated, truncated, _ = env.step(action.detach().cpu()) # type: ignore\n",
    "\t\tagent.buffer.append((log_prob, reward))\n",
    "\t\t\n",
    "\t\tstate = next_state\n",
    "\t\tepisode_reward += reward\n",
    "\t\tdone: bool = terminated or truncated\n",
    "\n",
    "\t\t# if done:\n",
    "\tagent.update()  # Update policy at the end of the episode\n",
    "\tgain_over_episode.append(env.portfolio)\n",
    "\tprint(f\"Episode {episode+1} | Reward {episode_reward:.4f} | Gain {env.portfolio:.4f}\")\n",
    "\treward_to_episodes.append(episode_reward)\n",
    "\n",
    "\n",
    "\n"
   ]
  },
  {
   "cell_type": "code",
   "execution_count": 139,
   "metadata": {
    "execution": {
     "iopub.execute_input": "2025-07-31T03:14:03.766014Z",
     "iopub.status.busy": "2025-07-31T03:14:03.765670Z",
     "iopub.status.idle": "2025-07-31T03:14:03.777566Z",
     "shell.execute_reply": "2025-07-31T03:14:03.776974Z",
     "shell.execute_reply.started": "2025-07-31T03:14:03.765995Z"
    },
    "trusted": true
   },
   "outputs": [
    {
     "data": {
      "text/plain": [
       "tensor(905567.)"
      ]
     },
     "execution_count": 139,
     "metadata": {},
     "output_type": "execute_result"
    }
   ],
   "source": [
    "params = torch.tensor(0.0)\n",
    "\n",
    "for name, param in agent.policy.named_parameters():\n",
    "\tparams += param.size().numel()\n",
    "\t# print(name, param.size(),)\n",
    "\n",
    "params"
   ]
  },
  {
   "cell_type": "markdown",
   "metadata": {},
   "source": [
    "# Evaluate"
   ]
  },
  {
   "cell_type": "code",
   "execution_count": 140,
   "metadata": {
    "execution": {
     "iopub.execute_input": "2025-07-31T03:14:03.778717Z",
     "iopub.status.busy": "2025-07-31T03:14:03.778454Z",
     "iopub.status.idle": "2025-07-31T03:14:03.824028Z",
     "shell.execute_reply": "2025-07-31T03:14:03.823430Z",
     "shell.execute_reply.started": "2025-07-31T03:14:03.778693Z"
    },
    "trusted": true
   },
   "outputs": [
    {
     "name": "stdout",
     "output_type": "stream",
     "text": [
      "\n",
      "portfolio   -6900.0015\n",
      "max gain    2.0000\n",
      "min gain    -7.0013\n",
      "mean gain   -3.0185\n",
      "std gain   4.0228\n",
      "median gain -3.4994\n",
      "\n"
     ]
    }
   ],
   "source": [
    "final_portfolio = env.portfolio\n",
    "max_drawup = np.max(env.trade_record)\n",
    "max_drawdown = np.min(env.trade_record)\n",
    "mean_record = np.mean(env.trade_record)\n",
    "std_record = np.std(env.trade_record) \n",
    "median_record = np.median(env.trade_record)\n",
    "\n",
    "\n",
    "\n",
    "print(f\"\"\"\n",
    "portfolio   {final_portfolio : .4f}\n",
    "max gain    {max_drawup  :.4f}\n",
    "min gain    {max_drawdown  :.4f}\n",
    "mean gain   {mean_record  :.4f}\n",
    "std gain   {std_record :.4f}\n",
    "median gain {median_record  :.4f}\n",
    "\"\"\")"
   ]
  },
  {
   "cell_type": "markdown",
   "metadata": {},
   "source": [
    "## Reward"
   ]
  },
  {
   "cell_type": "code",
   "execution_count": 141,
   "metadata": {
    "execution": {
     "iopub.execute_input": "2025-07-31T03:14:03.824995Z",
     "iopub.status.busy": "2025-07-31T03:14:03.824714Z",
     "iopub.status.idle": "2025-07-31T03:14:04.024255Z",
     "shell.execute_reply": "2025-07-31T03:14:04.023460Z",
     "shell.execute_reply.started": "2025-07-31T03:14:03.824978Z"
    },
    "trusted": true
   },
   "outputs": [
    {
     "data": {
      "application/javascript": "/* Put everything inside the global mpl namespace */\n/* global mpl */\nwindow.mpl = {};\n\nmpl.get_websocket_type = function () {\n    if (typeof WebSocket !== 'undefined') {\n        return WebSocket;\n    } else if (typeof MozWebSocket !== 'undefined') {\n        return MozWebSocket;\n    } else {\n        alert(\n            'Your browser does not have WebSocket support. ' +\n                'Please try Chrome, Safari or Firefox ≥ 6. ' +\n                'Firefox 4 and 5 are also supported but you ' +\n                'have to enable WebSockets in about:config.'\n        );\n    }\n};\n\nmpl.figure = function (figure_id, websocket, ondownload, parent_element) {\n    this.id = figure_id;\n\n    this.ws = websocket;\n\n    this.supports_binary = this.ws.binaryType !== undefined;\n\n    if (!this.supports_binary) {\n        var warnings = document.getElementById('mpl-warnings');\n        if (warnings) {\n            warnings.style.display = 'block';\n            warnings.textContent =\n                'This browser does not support binary websocket messages. ' +\n                'Performance may be slow.';\n        }\n    }\n\n    this.imageObj = new Image();\n\n    this.context = undefined;\n    this.message = undefined;\n    this.canvas = undefined;\n    this.rubberband_canvas = undefined;\n    this.rubberband_context = undefined;\n    this.format_dropdown = undefined;\n\n    this.image_mode = 'full';\n\n    this.root = document.createElement('div');\n    this.root.setAttribute('style', 'display: inline-block');\n    this._root_extra_style(this.root);\n\n    parent_element.appendChild(this.root);\n\n    this._init_header(this);\n    this._init_canvas(this);\n    this._init_toolbar(this);\n\n    var fig = this;\n\n    this.waiting = false;\n\n    this.ws.onopen = function () {\n        fig.send_message('supports_binary', { value: fig.supports_binary });\n        fig.send_message('send_image_mode', {});\n        if (fig.ratio !== 1) {\n            fig.send_message('set_device_pixel_ratio', {\n                device_pixel_ratio: fig.ratio,\n            });\n        }\n        fig.send_message('refresh', {});\n    };\n\n    this.imageObj.onload = function () {\n        if (fig.image_mode === 'full') {\n            // Full images could contain transparency (where diff images\n            // almost always do), so we need to clear the canvas so that\n            // there is no ghosting.\n            fig.context.clearRect(0, 0, fig.canvas.width, fig.canvas.height);\n        }\n        fig.context.drawImage(fig.imageObj, 0, 0);\n    };\n\n    this.imageObj.onunload = function () {\n        fig.ws.close();\n    };\n\n    this.ws.onmessage = this._make_on_message_function(this);\n\n    this.ondownload = ondownload;\n};\n\nmpl.figure.prototype._init_header = function () {\n    var titlebar = document.createElement('div');\n    titlebar.classList =\n        'ui-dialog-titlebar ui-widget-header ui-corner-all ui-helper-clearfix';\n    var titletext = document.createElement('div');\n    titletext.classList = 'ui-dialog-title';\n    titletext.setAttribute(\n        'style',\n        'width: 100%; text-align: center; padding: 3px;'\n    );\n    titlebar.appendChild(titletext);\n    this.root.appendChild(titlebar);\n    this.header = titletext;\n};\n\nmpl.figure.prototype._canvas_extra_style = function (_canvas_div) {};\n\nmpl.figure.prototype._root_extra_style = function (_canvas_div) {};\n\nmpl.figure.prototype._init_canvas = function () {\n    var fig = this;\n\n    var canvas_div = (this.canvas_div = document.createElement('div'));\n    canvas_div.setAttribute('tabindex', '0');\n    canvas_div.setAttribute(\n        'style',\n        'border: 1px solid #ddd;' +\n            'box-sizing: content-box;' +\n            'clear: both;' +\n            'min-height: 1px;' +\n            'min-width: 1px;' +\n            'outline: 0;' +\n            'overflow: hidden;' +\n            'position: relative;' +\n            'resize: both;' +\n            'z-index: 2;'\n    );\n\n    function on_keyboard_event_closure(name) {\n        return function (event) {\n            return fig.key_event(event, name);\n        };\n    }\n\n    canvas_div.addEventListener(\n        'keydown',\n        on_keyboard_event_closure('key_press')\n    );\n    canvas_div.addEventListener(\n        'keyup',\n        on_keyboard_event_closure('key_release')\n    );\n\n    this._canvas_extra_style(canvas_div);\n    this.root.appendChild(canvas_div);\n\n    var canvas = (this.canvas = document.createElement('canvas'));\n    canvas.classList.add('mpl-canvas');\n    canvas.setAttribute(\n        'style',\n        'box-sizing: content-box;' +\n            'pointer-events: none;' +\n            'position: relative;' +\n            'z-index: 0;'\n    );\n\n    this.context = canvas.getContext('2d');\n\n    var backingStore =\n        this.context.backingStorePixelRatio ||\n        this.context.webkitBackingStorePixelRatio ||\n        this.context.mozBackingStorePixelRatio ||\n        this.context.msBackingStorePixelRatio ||\n        this.context.oBackingStorePixelRatio ||\n        this.context.backingStorePixelRatio ||\n        1;\n\n    this.ratio = (window.devicePixelRatio || 1) / backingStore;\n\n    var rubberband_canvas = (this.rubberband_canvas = document.createElement(\n        'canvas'\n    ));\n    rubberband_canvas.setAttribute(\n        'style',\n        'box-sizing: content-box;' +\n            'left: 0;' +\n            'pointer-events: none;' +\n            'position: absolute;' +\n            'top: 0;' +\n            'z-index: 1;'\n    );\n\n    // Apply a ponyfill if ResizeObserver is not implemented by browser.\n    if (this.ResizeObserver === undefined) {\n        if (window.ResizeObserver !== undefined) {\n            this.ResizeObserver = window.ResizeObserver;\n        } else {\n            var obs = _JSXTOOLS_RESIZE_OBSERVER({});\n            this.ResizeObserver = obs.ResizeObserver;\n        }\n    }\n\n    this.resizeObserverInstance = new this.ResizeObserver(function (entries) {\n        // There's no need to resize if the WebSocket is not connected:\n        // - If it is still connecting, then we will get an initial resize from\n        //   Python once it connects.\n        // - If it has disconnected, then resizing will clear the canvas and\n        //   never get anything back to refill it, so better to not resize and\n        //   keep something visible.\n        if (fig.ws.readyState != 1) {\n            return;\n        }\n        var nentries = entries.length;\n        for (var i = 0; i < nentries; i++) {\n            var entry = entries[i];\n            var width, height;\n            if (entry.contentBoxSize) {\n                if (entry.contentBoxSize instanceof Array) {\n                    // Chrome 84 implements new version of spec.\n                    width = entry.contentBoxSize[0].inlineSize;\n                    height = entry.contentBoxSize[0].blockSize;\n                } else {\n                    // Firefox implements old version of spec.\n                    width = entry.contentBoxSize.inlineSize;\n                    height = entry.contentBoxSize.blockSize;\n                }\n            } else {\n                // Chrome <84 implements even older version of spec.\n                width = entry.contentRect.width;\n                height = entry.contentRect.height;\n            }\n\n            // Keep the size of the canvas and rubber band canvas in sync with\n            // the canvas container.\n            if (entry.devicePixelContentBoxSize) {\n                // Chrome 84 implements new version of spec.\n                canvas.setAttribute(\n                    'width',\n                    entry.devicePixelContentBoxSize[0].inlineSize\n                );\n                canvas.setAttribute(\n                    'height',\n                    entry.devicePixelContentBoxSize[0].blockSize\n                );\n            } else {\n                canvas.setAttribute('width', width * fig.ratio);\n                canvas.setAttribute('height', height * fig.ratio);\n            }\n            /* This rescales the canvas back to display pixels, so that it\n             * appears correct on HiDPI screens. */\n            canvas.style.width = width + 'px';\n            canvas.style.height = height + 'px';\n\n            rubberband_canvas.setAttribute('width', width);\n            rubberband_canvas.setAttribute('height', height);\n\n            // And update the size in Python. We ignore the initial 0/0 size\n            // that occurs as the element is placed into the DOM, which should\n            // otherwise not happen due to the minimum size styling.\n            if (width != 0 && height != 0) {\n                fig.request_resize(width, height);\n            }\n        }\n    });\n    this.resizeObserverInstance.observe(canvas_div);\n\n    function on_mouse_event_closure(name) {\n        /* User Agent sniffing is bad, but WebKit is busted:\n         * https://bugs.webkit.org/show_bug.cgi?id=144526\n         * https://bugs.webkit.org/show_bug.cgi?id=181818\n         * The worst that happens here is that they get an extra browser\n         * selection when dragging, if this check fails to catch them.\n         */\n        var UA = navigator.userAgent;\n        var isWebKit = /AppleWebKit/.test(UA) && !/Chrome/.test(UA);\n        if(isWebKit) {\n            return function (event) {\n                /* This prevents the web browser from automatically changing to\n                 * the text insertion cursor when the button is pressed. We\n                 * want to control all of the cursor setting manually through\n                 * the 'cursor' event from matplotlib */\n                event.preventDefault()\n                return fig.mouse_event(event, name);\n            };\n        } else {\n            return function (event) {\n                return fig.mouse_event(event, name);\n            };\n        }\n    }\n\n    canvas_div.addEventListener(\n        'mousedown',\n        on_mouse_event_closure('button_press')\n    );\n    canvas_div.addEventListener(\n        'mouseup',\n        on_mouse_event_closure('button_release')\n    );\n    canvas_div.addEventListener(\n        'dblclick',\n        on_mouse_event_closure('dblclick')\n    );\n    // Throttle sequential mouse events to 1 every 20ms.\n    canvas_div.addEventListener(\n        'mousemove',\n        on_mouse_event_closure('motion_notify')\n    );\n\n    canvas_div.addEventListener(\n        'mouseenter',\n        on_mouse_event_closure('figure_enter')\n    );\n    canvas_div.addEventListener(\n        'mouseleave',\n        on_mouse_event_closure('figure_leave')\n    );\n\n    canvas_div.addEventListener('wheel', function (event) {\n        if (event.deltaY < 0) {\n            event.step = 1;\n        } else {\n            event.step = -1;\n        }\n        on_mouse_event_closure('scroll')(event);\n    });\n\n    canvas_div.appendChild(canvas);\n    canvas_div.appendChild(rubberband_canvas);\n\n    this.rubberband_context = rubberband_canvas.getContext('2d');\n    this.rubberband_context.strokeStyle = '#000000';\n\n    this._resize_canvas = function (width, height, forward) {\n        if (forward) {\n            canvas_div.style.width = width + 'px';\n            canvas_div.style.height = height + 'px';\n        }\n    };\n\n    // Disable right mouse context menu.\n    canvas_div.addEventListener('contextmenu', function (_e) {\n        event.preventDefault();\n        return false;\n    });\n\n    function set_focus() {\n        canvas.focus();\n        canvas_div.focus();\n    }\n\n    window.setTimeout(set_focus, 100);\n};\n\nmpl.figure.prototype._init_toolbar = function () {\n    var fig = this;\n\n    var toolbar = document.createElement('div');\n    toolbar.classList = 'mpl-toolbar';\n    this.root.appendChild(toolbar);\n\n    function on_click_closure(name) {\n        return function (_event) {\n            return fig.toolbar_button_onclick(name);\n        };\n    }\n\n    function on_mouseover_closure(tooltip) {\n        return function (event) {\n            if (!event.currentTarget.disabled) {\n                return fig.toolbar_button_onmouseover(tooltip);\n            }\n        };\n    }\n\n    fig.buttons = {};\n    var buttonGroup = document.createElement('div');\n    buttonGroup.classList = 'mpl-button-group';\n    for (var toolbar_ind in mpl.toolbar_items) {\n        var name = mpl.toolbar_items[toolbar_ind][0];\n        var tooltip = mpl.toolbar_items[toolbar_ind][1];\n        var image = mpl.toolbar_items[toolbar_ind][2];\n        var method_name = mpl.toolbar_items[toolbar_ind][3];\n\n        if (!name) {\n            /* Instead of a spacer, we start a new button group. */\n            if (buttonGroup.hasChildNodes()) {\n                toolbar.appendChild(buttonGroup);\n            }\n            buttonGroup = document.createElement('div');\n            buttonGroup.classList = 'mpl-button-group';\n            continue;\n        }\n\n        var button = (fig.buttons[name] = document.createElement('button'));\n        button.classList = 'mpl-widget';\n        button.setAttribute('role', 'button');\n        button.setAttribute('aria-disabled', 'false');\n        button.addEventListener('click', on_click_closure(method_name));\n        button.addEventListener('mouseover', on_mouseover_closure(tooltip));\n\n        var icon_img = document.createElement('img');\n        icon_img.src = '_images/' + image + '.png';\n        icon_img.srcset = '_images/' + image + '_large.png 2x';\n        icon_img.alt = tooltip;\n        button.appendChild(icon_img);\n\n        buttonGroup.appendChild(button);\n    }\n\n    if (buttonGroup.hasChildNodes()) {\n        toolbar.appendChild(buttonGroup);\n    }\n\n    var fmt_picker = document.createElement('select');\n    fmt_picker.classList = 'mpl-widget';\n    toolbar.appendChild(fmt_picker);\n    this.format_dropdown = fmt_picker;\n\n    for (var ind in mpl.extensions) {\n        var fmt = mpl.extensions[ind];\n        var option = document.createElement('option');\n        option.selected = fmt === mpl.default_extension;\n        option.innerHTML = fmt;\n        fmt_picker.appendChild(option);\n    }\n\n    var status_bar = document.createElement('span');\n    status_bar.classList = 'mpl-message';\n    toolbar.appendChild(status_bar);\n    this.message = status_bar;\n};\n\nmpl.figure.prototype.request_resize = function (x_pixels, y_pixels) {\n    // Request matplotlib to resize the figure. Matplotlib will then trigger a resize in the client,\n    // which will in turn request a refresh of the image.\n    this.send_message('resize', { width: x_pixels, height: y_pixels });\n};\n\nmpl.figure.prototype.send_message = function (type, properties) {\n    properties['type'] = type;\n    properties['figure_id'] = this.id;\n    this.ws.send(JSON.stringify(properties));\n};\n\nmpl.figure.prototype.send_draw_message = function () {\n    if (!this.waiting) {\n        this.waiting = true;\n        this.ws.send(JSON.stringify({ type: 'draw', figure_id: this.id }));\n    }\n};\n\nmpl.figure.prototype.handle_save = function (fig, _msg) {\n    var format_dropdown = fig.format_dropdown;\n    var format = format_dropdown.options[format_dropdown.selectedIndex].value;\n    fig.ondownload(fig, format);\n};\n\nmpl.figure.prototype.handle_resize = function (fig, msg) {\n    var size = msg['size'];\n    if (size[0] !== fig.canvas.width || size[1] !== fig.canvas.height) {\n        fig._resize_canvas(size[0], size[1], msg['forward']);\n        fig.send_message('refresh', {});\n    }\n};\n\nmpl.figure.prototype.handle_rubberband = function (fig, msg) {\n    var x0 = msg['x0'] / fig.ratio;\n    var y0 = (fig.canvas.height - msg['y0']) / fig.ratio;\n    var x1 = msg['x1'] / fig.ratio;\n    var y1 = (fig.canvas.height - msg['y1']) / fig.ratio;\n    x0 = Math.floor(x0) + 0.5;\n    y0 = Math.floor(y0) + 0.5;\n    x1 = Math.floor(x1) + 0.5;\n    y1 = Math.floor(y1) + 0.5;\n    var min_x = Math.min(x0, x1);\n    var min_y = Math.min(y0, y1);\n    var width = Math.abs(x1 - x0);\n    var height = Math.abs(y1 - y0);\n\n    fig.rubberband_context.clearRect(\n        0,\n        0,\n        fig.canvas.width / fig.ratio,\n        fig.canvas.height / fig.ratio\n    );\n\n    fig.rubberband_context.strokeRect(min_x, min_y, width, height);\n};\n\nmpl.figure.prototype.handle_figure_label = function (fig, msg) {\n    // Updates the figure title.\n    fig.header.textContent = msg['label'];\n};\n\nmpl.figure.prototype.handle_cursor = function (fig, msg) {\n    fig.canvas_div.style.cursor = msg['cursor'];\n};\n\nmpl.figure.prototype.handle_message = function (fig, msg) {\n    fig.message.textContent = msg['message'];\n};\n\nmpl.figure.prototype.handle_draw = function (fig, _msg) {\n    // Request the server to send over a new figure.\n    fig.send_draw_message();\n};\n\nmpl.figure.prototype.handle_image_mode = function (fig, msg) {\n    fig.image_mode = msg['mode'];\n};\n\nmpl.figure.prototype.handle_history_buttons = function (fig, msg) {\n    for (var key in msg) {\n        if (!(key in fig.buttons)) {\n            continue;\n        }\n        fig.buttons[key].disabled = !msg[key];\n        fig.buttons[key].setAttribute('aria-disabled', !msg[key]);\n    }\n};\n\nmpl.figure.prototype.handle_navigate_mode = function (fig, msg) {\n    if (msg['mode'] === 'PAN') {\n        fig.buttons['Pan'].classList.add('active');\n        fig.buttons['Zoom'].classList.remove('active');\n    } else if (msg['mode'] === 'ZOOM') {\n        fig.buttons['Pan'].classList.remove('active');\n        fig.buttons['Zoom'].classList.add('active');\n    } else {\n        fig.buttons['Pan'].classList.remove('active');\n        fig.buttons['Zoom'].classList.remove('active');\n    }\n};\n\nmpl.figure.prototype.updated_canvas_event = function () {\n    // Called whenever the canvas gets updated.\n    this.send_message('ack', {});\n};\n\n// A function to construct a web socket function for onmessage handling.\n// Called in the figure constructor.\nmpl.figure.prototype._make_on_message_function = function (fig) {\n    return function socket_on_message(evt) {\n        if (evt.data instanceof Blob) {\n            var img = evt.data;\n            if (img.type !== 'image/png') {\n                /* FIXME: We get \"Resource interpreted as Image but\n                 * transferred with MIME type text/plain:\" errors on\n                 * Chrome.  But how to set the MIME type?  It doesn't seem\n                 * to be part of the websocket stream */\n                img.type = 'image/png';\n            }\n\n            /* Free the memory for the previous frames */\n            if (fig.imageObj.src) {\n                (window.URL || window.webkitURL).revokeObjectURL(\n                    fig.imageObj.src\n                );\n            }\n\n            fig.imageObj.src = (window.URL || window.webkitURL).createObjectURL(\n                img\n            );\n            fig.updated_canvas_event();\n            fig.waiting = false;\n            return;\n        } else if (\n            typeof evt.data === 'string' &&\n            evt.data.slice(0, 21) === 'data:image/png;base64'\n        ) {\n            fig.imageObj.src = evt.data;\n            fig.updated_canvas_event();\n            fig.waiting = false;\n            return;\n        }\n\n        var msg = JSON.parse(evt.data);\n        var msg_type = msg['type'];\n\n        // Call the  \"handle_{type}\" callback, which takes\n        // the figure and JSON message as its only arguments.\n        try {\n            var callback = fig['handle_' + msg_type];\n        } catch (e) {\n            console.log(\n                \"No handler for the '\" + msg_type + \"' message type: \",\n                msg\n            );\n            return;\n        }\n\n        if (callback) {\n            try {\n                // console.log(\"Handling '\" + msg_type + \"' message: \", msg);\n                callback(fig, msg);\n            } catch (e) {\n                console.log(\n                    \"Exception inside the 'handler_\" + msg_type + \"' callback:\",\n                    e,\n                    e.stack,\n                    msg\n                );\n            }\n        }\n    };\n};\n\nfunction getModifiers(event) {\n    var mods = [];\n    if (event.ctrlKey) {\n        mods.push('ctrl');\n    }\n    if (event.altKey) {\n        mods.push('alt');\n    }\n    if (event.shiftKey) {\n        mods.push('shift');\n    }\n    if (event.metaKey) {\n        mods.push('meta');\n    }\n    return mods;\n}\n\n/*\n * return a copy of an object with only non-object keys\n * we need this to avoid circular references\n * https://stackoverflow.com/a/24161582/3208463\n */\nfunction simpleKeys(original) {\n    return Object.keys(original).reduce(function (obj, key) {\n        if (typeof original[key] !== 'object') {\n            obj[key] = original[key];\n        }\n        return obj;\n    }, {});\n}\n\nmpl.figure.prototype.mouse_event = function (event, name) {\n    if (name === 'button_press') {\n        this.canvas.focus();\n        this.canvas_div.focus();\n    }\n\n    // from https://stackoverflow.com/q/1114465\n    var boundingRect = this.canvas.getBoundingClientRect();\n    var x = (event.clientX - boundingRect.left) * this.ratio;\n    var y = (event.clientY - boundingRect.top) * this.ratio;\n\n    this.send_message(name, {\n        x: x,\n        y: y,\n        button: event.button,\n        step: event.step,\n        buttons: event.buttons,\n        modifiers: getModifiers(event),\n        guiEvent: simpleKeys(event),\n    });\n\n    return false;\n};\n\nmpl.figure.prototype._key_event_extra = function (_event, _name) {\n    // Handle any extra behaviour associated with a key event\n};\n\nmpl.figure.prototype.key_event = function (event, name) {\n    // Prevent repeat events\n    if (name === 'key_press') {\n        if (event.key === this._key) {\n            return;\n        } else {\n            this._key = event.key;\n        }\n    }\n    if (name === 'key_release') {\n        this._key = null;\n    }\n\n    var value = '';\n    if (event.ctrlKey && event.key !== 'Control') {\n        value += 'ctrl+';\n    }\n    else if (event.altKey && event.key !== 'Alt') {\n        value += 'alt+';\n    }\n    else if (event.shiftKey && event.key !== 'Shift') {\n        value += 'shift+';\n    }\n\n    value += 'k' + event.key;\n\n    this._key_event_extra(event, name);\n\n    this.send_message(name, { key: value, guiEvent: simpleKeys(event) });\n    return false;\n};\n\nmpl.figure.prototype.toolbar_button_onclick = function (name) {\n    if (name === 'download') {\n        this.handle_save(this, null);\n    } else {\n        this.send_message('toolbar_button', { name: name });\n    }\n};\n\nmpl.figure.prototype.toolbar_button_onmouseover = function (tooltip) {\n    this.message.textContent = tooltip;\n};\n\n///////////////// REMAINING CONTENT GENERATED BY embed_js.py /////////////////\n// prettier-ignore\nvar _JSXTOOLS_RESIZE_OBSERVER=function(A){var t,i=new WeakMap,n=new WeakMap,a=new WeakMap,r=new WeakMap,o=new Set;function s(e){if(!(this instanceof s))throw new TypeError(\"Constructor requires 'new' operator\");i.set(this,e)}function h(){throw new TypeError(\"Function is not a constructor\")}function c(e,t,i,n){e=0 in arguments?Number(arguments[0]):0,t=1 in arguments?Number(arguments[1]):0,i=2 in arguments?Number(arguments[2]):0,n=3 in arguments?Number(arguments[3]):0,this.right=(this.x=this.left=e)+(this.width=i),this.bottom=(this.y=this.top=t)+(this.height=n),Object.freeze(this)}function d(){t=requestAnimationFrame(d);var s=new WeakMap,p=new Set;o.forEach((function(t){r.get(t).forEach((function(i){var r=t instanceof window.SVGElement,o=a.get(t),d=r?0:parseFloat(o.paddingTop),f=r?0:parseFloat(o.paddingRight),l=r?0:parseFloat(o.paddingBottom),u=r?0:parseFloat(o.paddingLeft),g=r?0:parseFloat(o.borderTopWidth),m=r?0:parseFloat(o.borderRightWidth),w=r?0:parseFloat(o.borderBottomWidth),b=u+f,F=d+l,v=(r?0:parseFloat(o.borderLeftWidth))+m,W=g+w,y=r?0:t.offsetHeight-W-t.clientHeight,E=r?0:t.offsetWidth-v-t.clientWidth,R=b+v,z=F+W,M=r?t.width:parseFloat(o.width)-R-E,O=r?t.height:parseFloat(o.height)-z-y;if(n.has(t)){var k=n.get(t);if(k[0]===M&&k[1]===O)return}n.set(t,[M,O]);var S=Object.create(h.prototype);S.target=t,S.contentRect=new c(u,d,M,O),s.has(i)||(s.set(i,[]),p.add(i)),s.get(i).push(S)}))})),p.forEach((function(e){i.get(e).call(e,s.get(e),e)}))}return s.prototype.observe=function(i){if(i instanceof window.Element){r.has(i)||(r.set(i,new Set),o.add(i),a.set(i,window.getComputedStyle(i)));var n=r.get(i);n.has(this)||n.add(this),cancelAnimationFrame(t),t=requestAnimationFrame(d)}},s.prototype.unobserve=function(i){if(i instanceof window.Element&&r.has(i)){var n=r.get(i);n.has(this)&&(n.delete(this),n.size||(r.delete(i),o.delete(i))),n.size||r.delete(i),o.size||cancelAnimationFrame(t)}},A.DOMRectReadOnly=c,A.ResizeObserver=s,A.ResizeObserverEntry=h,A}; // eslint-disable-line\nmpl.toolbar_items = [[\"Home\", \"Reset original view\", \"fa fa-home\", \"home\"], [\"Back\", \"Back to previous view\", \"fa fa-arrow-left\", \"back\"], [\"Forward\", \"Forward to next view\", \"fa fa-arrow-right\", \"forward\"], [\"\", \"\", \"\", \"\"], [\"Pan\", \"Left button pans, Right button zooms\\nx/y fixes axis, CTRL fixes aspect\", \"fa fa-arrows\", \"pan\"], [\"Zoom\", \"Zoom to rectangle\\nx/y fixes axis\", \"fa fa-square-o\", \"zoom\"], [\"\", \"\", \"\", \"\"], [\"Download\", \"Download plot\", \"fa fa-floppy-o\", \"download\"]];\n\nmpl.extensions = [\"eps\", \"jpeg\", \"pgf\", \"pdf\", \"png\", \"ps\", \"raw\", \"svg\", \"tif\", \"webp\"];\n\nmpl.default_extension = \"png\";/* global mpl */\n\nvar comm_websocket_adapter = function (comm) {\n    // Create a \"websocket\"-like object which calls the given IPython comm\n    // object with the appropriate methods. Currently this is a non binary\n    // socket, so there is still some room for performance tuning.\n    var ws = {};\n\n    ws.binaryType = comm.kernel.ws.binaryType;\n    ws.readyState = comm.kernel.ws.readyState;\n    function updateReadyState(_event) {\n        if (comm.kernel.ws) {\n            ws.readyState = comm.kernel.ws.readyState;\n        } else {\n            ws.readyState = 3; // Closed state.\n        }\n    }\n    comm.kernel.ws.addEventListener('open', updateReadyState);\n    comm.kernel.ws.addEventListener('close', updateReadyState);\n    comm.kernel.ws.addEventListener('error', updateReadyState);\n\n    ws.close = function () {\n        comm.close();\n    };\n    ws.send = function (m) {\n        //console.log('sending', m);\n        comm.send(m);\n    };\n    // Register the callback with on_msg.\n    comm.on_msg(function (msg) {\n        //console.log('receiving', msg['content']['data'], msg);\n        var data = msg['content']['data'];\n        if (data['blob'] !== undefined) {\n            data = {\n                data: new Blob(msg['buffers'], { type: data['blob'] }),\n            };\n        }\n        // Pass the mpl event to the overridden (by mpl) onmessage function.\n        ws.onmessage(data);\n    });\n    return ws;\n};\n\nmpl.mpl_figure_comm = function (comm, msg) {\n    // This is the function which gets called when the mpl process\n    // starts-up an IPython Comm through the \"matplotlib\" channel.\n\n    var id = msg.content.data.id;\n    // Get hold of the div created by the display call when the Comm\n    // socket was opened in Python.\n    var element = document.getElementById(id);\n    var ws_proxy = comm_websocket_adapter(comm);\n\n    function ondownload(figure, _format) {\n        window.open(figure.canvas.toDataURL());\n    }\n\n    var fig = new mpl.figure(id, ws_proxy, ondownload, element);\n\n    // Call onopen now - mpl needs it, as it is assuming we've passed it a real\n    // web socket which is closed, not our websocket->open comm proxy.\n    ws_proxy.onopen();\n\n    fig.parent_element = element;\n    fig.cell_info = mpl.find_output_cell(\"<div id='\" + id + \"'></div>\");\n    if (!fig.cell_info) {\n        console.error('Failed to find cell for figure', id, fig);\n        return;\n    }\n    fig.cell_info[0].output_area.element.on(\n        'cleared',\n        { fig: fig },\n        fig._remove_fig_handler\n    );\n};\n\nmpl.figure.prototype.handle_close = function (fig, msg) {\n    var width = fig.canvas.width / fig.ratio;\n    fig.cell_info[0].output_area.element.off(\n        'cleared',\n        fig._remove_fig_handler\n    );\n    fig.resizeObserverInstance.unobserve(fig.canvas_div);\n\n    // Update the output cell to use the data from the current canvas.\n    fig.push_to_output();\n    var dataURL = fig.canvas.toDataURL();\n    // Re-enable the keyboard manager in IPython - without this line, in FF,\n    // the notebook keyboard shortcuts fail.\n    IPython.keyboard_manager.enable();\n    fig.parent_element.innerHTML =\n        '<img src=\"' + dataURL + '\" width=\"' + width + '\">';\n    fig.close_ws(fig, msg);\n};\n\nmpl.figure.prototype.close_ws = function (fig, msg) {\n    fig.send_message('closing', msg);\n    // fig.ws.close()\n};\n\nmpl.figure.prototype.push_to_output = function (_remove_interactive) {\n    // Turn the data on the canvas into data in the output cell.\n    var width = this.canvas.width / this.ratio;\n    var dataURL = this.canvas.toDataURL();\n    this.cell_info[1]['text/html'] =\n        '<img src=\"' + dataURL + '\" width=\"' + width + '\">';\n};\n\nmpl.figure.prototype.updated_canvas_event = function () {\n    // Tell IPython that the notebook contents must change.\n    IPython.notebook.set_dirty(true);\n    this.send_message('ack', {});\n    var fig = this;\n    // Wait a second, then push the new image to the DOM so\n    // that it is saved nicely (might be nice to debounce this).\n    setTimeout(function () {\n        fig.push_to_output();\n    }, 1000);\n};\n\nmpl.figure.prototype._init_toolbar = function () {\n    var fig = this;\n\n    var toolbar = document.createElement('div');\n    toolbar.classList = 'btn-toolbar';\n    this.root.appendChild(toolbar);\n\n    function on_click_closure(name) {\n        return function (_event) {\n            return fig.toolbar_button_onclick(name);\n        };\n    }\n\n    function on_mouseover_closure(tooltip) {\n        return function (event) {\n            if (!event.currentTarget.disabled) {\n                return fig.toolbar_button_onmouseover(tooltip);\n            }\n        };\n    }\n\n    fig.buttons = {};\n    var buttonGroup = document.createElement('div');\n    buttonGroup.classList = 'btn-group';\n    var button;\n    for (var toolbar_ind in mpl.toolbar_items) {\n        var name = mpl.toolbar_items[toolbar_ind][0];\n        var tooltip = mpl.toolbar_items[toolbar_ind][1];\n        var image = mpl.toolbar_items[toolbar_ind][2];\n        var method_name = mpl.toolbar_items[toolbar_ind][3];\n\n        if (!name) {\n            /* Instead of a spacer, we start a new button group. */\n            if (buttonGroup.hasChildNodes()) {\n                toolbar.appendChild(buttonGroup);\n            }\n            buttonGroup = document.createElement('div');\n            buttonGroup.classList = 'btn-group';\n            continue;\n        }\n\n        button = fig.buttons[name] = document.createElement('button');\n        button.classList = 'btn btn-default';\n        button.href = '#';\n        button.title = name;\n        button.innerHTML = '<i class=\"fa ' + image + ' fa-lg\"></i>';\n        button.addEventListener('click', on_click_closure(method_name));\n        button.addEventListener('mouseover', on_mouseover_closure(tooltip));\n        buttonGroup.appendChild(button);\n    }\n\n    if (buttonGroup.hasChildNodes()) {\n        toolbar.appendChild(buttonGroup);\n    }\n\n    // Add the status bar.\n    var status_bar = document.createElement('span');\n    status_bar.classList = 'mpl-message pull-right';\n    toolbar.appendChild(status_bar);\n    this.message = status_bar;\n\n    // Add the close button to the window.\n    var buttongrp = document.createElement('div');\n    buttongrp.classList = 'btn-group inline pull-right';\n    button = document.createElement('button');\n    button.classList = 'btn btn-mini btn-primary';\n    button.href = '#';\n    button.title = 'Stop Interaction';\n    button.innerHTML = '<i class=\"fa fa-power-off icon-remove icon-large\"></i>';\n    button.addEventListener('click', function (_evt) {\n        fig.handle_close(fig, {});\n    });\n    button.addEventListener(\n        'mouseover',\n        on_mouseover_closure('Stop Interaction')\n    );\n    buttongrp.appendChild(button);\n    var titlebar = this.root.querySelector('.ui-dialog-titlebar');\n    titlebar.insertBefore(buttongrp, titlebar.firstChild);\n};\n\nmpl.figure.prototype._remove_fig_handler = function (event) {\n    var fig = event.data.fig;\n    if (event.target !== this) {\n        // Ignore bubbled events from children.\n        return;\n    }\n    fig.close_ws(fig, {});\n};\n\nmpl.figure.prototype._root_extra_style = function (el) {\n    el.style.boxSizing = 'content-box'; // override notebook setting of border-box.\n};\n\nmpl.figure.prototype._canvas_extra_style = function (el) {\n    // this is important to make the div 'focusable\n    el.setAttribute('tabindex', 0);\n    // reach out to IPython and tell the keyboard manager to turn it's self\n    // off when our div gets focus\n\n    // location in version 3\n    if (IPython.notebook.keyboard_manager) {\n        IPython.notebook.keyboard_manager.register_events(el);\n    } else {\n        // location in version 2\n        IPython.keyboard_manager.register_events(el);\n    }\n};\n\nmpl.figure.prototype._key_event_extra = function (event, _name) {\n    // Check for shift+enter\n    if (event.shiftKey && event.which === 13) {\n        this.canvas_div.blur();\n        // select the cell after this one\n        var index = IPython.notebook.find_cell_index(this.cell_info[0]);\n        IPython.notebook.select(index + 1);\n    }\n};\n\nmpl.figure.prototype.handle_save = function (fig, _msg) {\n    fig.ondownload(fig, null);\n};\n\nmpl.find_output_cell = function (html_output) {\n    // Return the cell and output element which can be found *uniquely* in the notebook.\n    // Note - this is a bit hacky, but it is done because the \"notebook_saving.Notebook\"\n    // IPython event is triggered only after the cells have been serialised, which for\n    // our purposes (turning an active figure into a static one), is too late.\n    var cells = IPython.notebook.get_cells();\n    var ncells = cells.length;\n    for (var i = 0; i < ncells; i++) {\n        var cell = cells[i];\n        if (cell.cell_type === 'code') {\n            for (var j = 0; j < cell.output_area.outputs.length; j++) {\n                var data = cell.output_area.outputs[j];\n                if (data.data) {\n                    // IPython >= 3 moved mimebundle to data attribute of output\n                    data = data.data;\n                }\n                if (data['text/html'] === html_output) {\n                    return [cell, data, j];\n                }\n            }\n        }\n    }\n};\n\n// Register the function which deals with the matplotlib target/channel.\n// The kernel may be null if the page has been refreshed.\nif (IPython.notebook.kernel !== null) {\n    IPython.notebook.kernel.comm_manager.register_target(\n        'matplotlib',\n        mpl.mpl_figure_comm\n    );\n}\n",
      "text/plain": [
       "<IPython.core.display.Javascript object>"
      ]
     },
     "metadata": {},
     "output_type": "display_data"
    },
    {
     "data": {
      "text/html": [
       "<div id='673bc57e-a127-4253-92cb-6afb3b050725'></div>"
      ],
      "text/plain": [
       "<IPython.core.display.HTML object>"
      ]
     },
     "metadata": {},
     "output_type": "display_data"
    }
   ],
   "source": [
    "sns.lineplot({\"reward\": reward_to_episodes})\n",
    "plt.title(\"total reward for each episode\")\n",
    "plt.xlabel('Episodes')\n",
    "plt.ylabel(\"Rewards\")\n",
    "plt.grid()\n",
    "plt.show()"
   ]
  },
  {
   "cell_type": "markdown",
   "metadata": {},
   "source": [
    "## Records of Positions(PnL)"
   ]
  },
  {
   "cell_type": "code",
   "execution_count": 142,
   "metadata": {
    "execution": {
     "iopub.execute_input": "2025-07-31T03:14:04.025664Z",
     "iopub.status.busy": "2025-07-31T03:14:04.025119Z",
     "iopub.status.idle": "2025-07-31T03:14:04.250008Z",
     "shell.execute_reply": "2025-07-31T03:14:04.249311Z",
     "shell.execute_reply.started": "2025-07-31T03:14:04.025645Z"
    },
    "trusted": true
   },
   "outputs": [
    {
     "data": {
      "application/javascript": "/* Put everything inside the global mpl namespace */\n/* global mpl */\nwindow.mpl = {};\n\nmpl.get_websocket_type = function () {\n    if (typeof WebSocket !== 'undefined') {\n        return WebSocket;\n    } else if (typeof MozWebSocket !== 'undefined') {\n        return MozWebSocket;\n    } else {\n        alert(\n            'Your browser does not have WebSocket support. ' +\n                'Please try Chrome, Safari or Firefox ≥ 6. ' +\n                'Firefox 4 and 5 are also supported but you ' +\n                'have to enable WebSockets in about:config.'\n        );\n    }\n};\n\nmpl.figure = function (figure_id, websocket, ondownload, parent_element) {\n    this.id = figure_id;\n\n    this.ws = websocket;\n\n    this.supports_binary = this.ws.binaryType !== undefined;\n\n    if (!this.supports_binary) {\n        var warnings = document.getElementById('mpl-warnings');\n        if (warnings) {\n            warnings.style.display = 'block';\n            warnings.textContent =\n                'This browser does not support binary websocket messages. ' +\n                'Performance may be slow.';\n        }\n    }\n\n    this.imageObj = new Image();\n\n    this.context = undefined;\n    this.message = undefined;\n    this.canvas = undefined;\n    this.rubberband_canvas = undefined;\n    this.rubberband_context = undefined;\n    this.format_dropdown = undefined;\n\n    this.image_mode = 'full';\n\n    this.root = document.createElement('div');\n    this.root.setAttribute('style', 'display: inline-block');\n    this._root_extra_style(this.root);\n\n    parent_element.appendChild(this.root);\n\n    this._init_header(this);\n    this._init_canvas(this);\n    this._init_toolbar(this);\n\n    var fig = this;\n\n    this.waiting = false;\n\n    this.ws.onopen = function () {\n        fig.send_message('supports_binary', { value: fig.supports_binary });\n        fig.send_message('send_image_mode', {});\n        if (fig.ratio !== 1) {\n            fig.send_message('set_device_pixel_ratio', {\n                device_pixel_ratio: fig.ratio,\n            });\n        }\n        fig.send_message('refresh', {});\n    };\n\n    this.imageObj.onload = function () {\n        if (fig.image_mode === 'full') {\n            // Full images could contain transparency (where diff images\n            // almost always do), so we need to clear the canvas so that\n            // there is no ghosting.\n            fig.context.clearRect(0, 0, fig.canvas.width, fig.canvas.height);\n        }\n        fig.context.drawImage(fig.imageObj, 0, 0);\n    };\n\n    this.imageObj.onunload = function () {\n        fig.ws.close();\n    };\n\n    this.ws.onmessage = this._make_on_message_function(this);\n\n    this.ondownload = ondownload;\n};\n\nmpl.figure.prototype._init_header = function () {\n    var titlebar = document.createElement('div');\n    titlebar.classList =\n        'ui-dialog-titlebar ui-widget-header ui-corner-all ui-helper-clearfix';\n    var titletext = document.createElement('div');\n    titletext.classList = 'ui-dialog-title';\n    titletext.setAttribute(\n        'style',\n        'width: 100%; text-align: center; padding: 3px;'\n    );\n    titlebar.appendChild(titletext);\n    this.root.appendChild(titlebar);\n    this.header = titletext;\n};\n\nmpl.figure.prototype._canvas_extra_style = function (_canvas_div) {};\n\nmpl.figure.prototype._root_extra_style = function (_canvas_div) {};\n\nmpl.figure.prototype._init_canvas = function () {\n    var fig = this;\n\n    var canvas_div = (this.canvas_div = document.createElement('div'));\n    canvas_div.setAttribute('tabindex', '0');\n    canvas_div.setAttribute(\n        'style',\n        'border: 1px solid #ddd;' +\n            'box-sizing: content-box;' +\n            'clear: both;' +\n            'min-height: 1px;' +\n            'min-width: 1px;' +\n            'outline: 0;' +\n            'overflow: hidden;' +\n            'position: relative;' +\n            'resize: both;' +\n            'z-index: 2;'\n    );\n\n    function on_keyboard_event_closure(name) {\n        return function (event) {\n            return fig.key_event(event, name);\n        };\n    }\n\n    canvas_div.addEventListener(\n        'keydown',\n        on_keyboard_event_closure('key_press')\n    );\n    canvas_div.addEventListener(\n        'keyup',\n        on_keyboard_event_closure('key_release')\n    );\n\n    this._canvas_extra_style(canvas_div);\n    this.root.appendChild(canvas_div);\n\n    var canvas = (this.canvas = document.createElement('canvas'));\n    canvas.classList.add('mpl-canvas');\n    canvas.setAttribute(\n        'style',\n        'box-sizing: content-box;' +\n            'pointer-events: none;' +\n            'position: relative;' +\n            'z-index: 0;'\n    );\n\n    this.context = canvas.getContext('2d');\n\n    var backingStore =\n        this.context.backingStorePixelRatio ||\n        this.context.webkitBackingStorePixelRatio ||\n        this.context.mozBackingStorePixelRatio ||\n        this.context.msBackingStorePixelRatio ||\n        this.context.oBackingStorePixelRatio ||\n        this.context.backingStorePixelRatio ||\n        1;\n\n    this.ratio = (window.devicePixelRatio || 1) / backingStore;\n\n    var rubberband_canvas = (this.rubberband_canvas = document.createElement(\n        'canvas'\n    ));\n    rubberband_canvas.setAttribute(\n        'style',\n        'box-sizing: content-box;' +\n            'left: 0;' +\n            'pointer-events: none;' +\n            'position: absolute;' +\n            'top: 0;' +\n            'z-index: 1;'\n    );\n\n    // Apply a ponyfill if ResizeObserver is not implemented by browser.\n    if (this.ResizeObserver === undefined) {\n        if (window.ResizeObserver !== undefined) {\n            this.ResizeObserver = window.ResizeObserver;\n        } else {\n            var obs = _JSXTOOLS_RESIZE_OBSERVER({});\n            this.ResizeObserver = obs.ResizeObserver;\n        }\n    }\n\n    this.resizeObserverInstance = new this.ResizeObserver(function (entries) {\n        // There's no need to resize if the WebSocket is not connected:\n        // - If it is still connecting, then we will get an initial resize from\n        //   Python once it connects.\n        // - If it has disconnected, then resizing will clear the canvas and\n        //   never get anything back to refill it, so better to not resize and\n        //   keep something visible.\n        if (fig.ws.readyState != 1) {\n            return;\n        }\n        var nentries = entries.length;\n        for (var i = 0; i < nentries; i++) {\n            var entry = entries[i];\n            var width, height;\n            if (entry.contentBoxSize) {\n                if (entry.contentBoxSize instanceof Array) {\n                    // Chrome 84 implements new version of spec.\n                    width = entry.contentBoxSize[0].inlineSize;\n                    height = entry.contentBoxSize[0].blockSize;\n                } else {\n                    // Firefox implements old version of spec.\n                    width = entry.contentBoxSize.inlineSize;\n                    height = entry.contentBoxSize.blockSize;\n                }\n            } else {\n                // Chrome <84 implements even older version of spec.\n                width = entry.contentRect.width;\n                height = entry.contentRect.height;\n            }\n\n            // Keep the size of the canvas and rubber band canvas in sync with\n            // the canvas container.\n            if (entry.devicePixelContentBoxSize) {\n                // Chrome 84 implements new version of spec.\n                canvas.setAttribute(\n                    'width',\n                    entry.devicePixelContentBoxSize[0].inlineSize\n                );\n                canvas.setAttribute(\n                    'height',\n                    entry.devicePixelContentBoxSize[0].blockSize\n                );\n            } else {\n                canvas.setAttribute('width', width * fig.ratio);\n                canvas.setAttribute('height', height * fig.ratio);\n            }\n            /* This rescales the canvas back to display pixels, so that it\n             * appears correct on HiDPI screens. */\n            canvas.style.width = width + 'px';\n            canvas.style.height = height + 'px';\n\n            rubberband_canvas.setAttribute('width', width);\n            rubberband_canvas.setAttribute('height', height);\n\n            // And update the size in Python. We ignore the initial 0/0 size\n            // that occurs as the element is placed into the DOM, which should\n            // otherwise not happen due to the minimum size styling.\n            if (width != 0 && height != 0) {\n                fig.request_resize(width, height);\n            }\n        }\n    });\n    this.resizeObserverInstance.observe(canvas_div);\n\n    function on_mouse_event_closure(name) {\n        /* User Agent sniffing is bad, but WebKit is busted:\n         * https://bugs.webkit.org/show_bug.cgi?id=144526\n         * https://bugs.webkit.org/show_bug.cgi?id=181818\n         * The worst that happens here is that they get an extra browser\n         * selection when dragging, if this check fails to catch them.\n         */\n        var UA = navigator.userAgent;\n        var isWebKit = /AppleWebKit/.test(UA) && !/Chrome/.test(UA);\n        if(isWebKit) {\n            return function (event) {\n                /* This prevents the web browser from automatically changing to\n                 * the text insertion cursor when the button is pressed. We\n                 * want to control all of the cursor setting manually through\n                 * the 'cursor' event from matplotlib */\n                event.preventDefault()\n                return fig.mouse_event(event, name);\n            };\n        } else {\n            return function (event) {\n                return fig.mouse_event(event, name);\n            };\n        }\n    }\n\n    canvas_div.addEventListener(\n        'mousedown',\n        on_mouse_event_closure('button_press')\n    );\n    canvas_div.addEventListener(\n        'mouseup',\n        on_mouse_event_closure('button_release')\n    );\n    canvas_div.addEventListener(\n        'dblclick',\n        on_mouse_event_closure('dblclick')\n    );\n    // Throttle sequential mouse events to 1 every 20ms.\n    canvas_div.addEventListener(\n        'mousemove',\n        on_mouse_event_closure('motion_notify')\n    );\n\n    canvas_div.addEventListener(\n        'mouseenter',\n        on_mouse_event_closure('figure_enter')\n    );\n    canvas_div.addEventListener(\n        'mouseleave',\n        on_mouse_event_closure('figure_leave')\n    );\n\n    canvas_div.addEventListener('wheel', function (event) {\n        if (event.deltaY < 0) {\n            event.step = 1;\n        } else {\n            event.step = -1;\n        }\n        on_mouse_event_closure('scroll')(event);\n    });\n\n    canvas_div.appendChild(canvas);\n    canvas_div.appendChild(rubberband_canvas);\n\n    this.rubberband_context = rubberband_canvas.getContext('2d');\n    this.rubberband_context.strokeStyle = '#000000';\n\n    this._resize_canvas = function (width, height, forward) {\n        if (forward) {\n            canvas_div.style.width = width + 'px';\n            canvas_div.style.height = height + 'px';\n        }\n    };\n\n    // Disable right mouse context menu.\n    canvas_div.addEventListener('contextmenu', function (_e) {\n        event.preventDefault();\n        return false;\n    });\n\n    function set_focus() {\n        canvas.focus();\n        canvas_div.focus();\n    }\n\n    window.setTimeout(set_focus, 100);\n};\n\nmpl.figure.prototype._init_toolbar = function () {\n    var fig = this;\n\n    var toolbar = document.createElement('div');\n    toolbar.classList = 'mpl-toolbar';\n    this.root.appendChild(toolbar);\n\n    function on_click_closure(name) {\n        return function (_event) {\n            return fig.toolbar_button_onclick(name);\n        };\n    }\n\n    function on_mouseover_closure(tooltip) {\n        return function (event) {\n            if (!event.currentTarget.disabled) {\n                return fig.toolbar_button_onmouseover(tooltip);\n            }\n        };\n    }\n\n    fig.buttons = {};\n    var buttonGroup = document.createElement('div');\n    buttonGroup.classList = 'mpl-button-group';\n    for (var toolbar_ind in mpl.toolbar_items) {\n        var name = mpl.toolbar_items[toolbar_ind][0];\n        var tooltip = mpl.toolbar_items[toolbar_ind][1];\n        var image = mpl.toolbar_items[toolbar_ind][2];\n        var method_name = mpl.toolbar_items[toolbar_ind][3];\n\n        if (!name) {\n            /* Instead of a spacer, we start a new button group. */\n            if (buttonGroup.hasChildNodes()) {\n                toolbar.appendChild(buttonGroup);\n            }\n            buttonGroup = document.createElement('div');\n            buttonGroup.classList = 'mpl-button-group';\n            continue;\n        }\n\n        var button = (fig.buttons[name] = document.createElement('button'));\n        button.classList = 'mpl-widget';\n        button.setAttribute('role', 'button');\n        button.setAttribute('aria-disabled', 'false');\n        button.addEventListener('click', on_click_closure(method_name));\n        button.addEventListener('mouseover', on_mouseover_closure(tooltip));\n\n        var icon_img = document.createElement('img');\n        icon_img.src = '_images/' + image + '.png';\n        icon_img.srcset = '_images/' + image + '_large.png 2x';\n        icon_img.alt = tooltip;\n        button.appendChild(icon_img);\n\n        buttonGroup.appendChild(button);\n    }\n\n    if (buttonGroup.hasChildNodes()) {\n        toolbar.appendChild(buttonGroup);\n    }\n\n    var fmt_picker = document.createElement('select');\n    fmt_picker.classList = 'mpl-widget';\n    toolbar.appendChild(fmt_picker);\n    this.format_dropdown = fmt_picker;\n\n    for (var ind in mpl.extensions) {\n        var fmt = mpl.extensions[ind];\n        var option = document.createElement('option');\n        option.selected = fmt === mpl.default_extension;\n        option.innerHTML = fmt;\n        fmt_picker.appendChild(option);\n    }\n\n    var status_bar = document.createElement('span');\n    status_bar.classList = 'mpl-message';\n    toolbar.appendChild(status_bar);\n    this.message = status_bar;\n};\n\nmpl.figure.prototype.request_resize = function (x_pixels, y_pixels) {\n    // Request matplotlib to resize the figure. Matplotlib will then trigger a resize in the client,\n    // which will in turn request a refresh of the image.\n    this.send_message('resize', { width: x_pixels, height: y_pixels });\n};\n\nmpl.figure.prototype.send_message = function (type, properties) {\n    properties['type'] = type;\n    properties['figure_id'] = this.id;\n    this.ws.send(JSON.stringify(properties));\n};\n\nmpl.figure.prototype.send_draw_message = function () {\n    if (!this.waiting) {\n        this.waiting = true;\n        this.ws.send(JSON.stringify({ type: 'draw', figure_id: this.id }));\n    }\n};\n\nmpl.figure.prototype.handle_save = function (fig, _msg) {\n    var format_dropdown = fig.format_dropdown;\n    var format = format_dropdown.options[format_dropdown.selectedIndex].value;\n    fig.ondownload(fig, format);\n};\n\nmpl.figure.prototype.handle_resize = function (fig, msg) {\n    var size = msg['size'];\n    if (size[0] !== fig.canvas.width || size[1] !== fig.canvas.height) {\n        fig._resize_canvas(size[0], size[1], msg['forward']);\n        fig.send_message('refresh', {});\n    }\n};\n\nmpl.figure.prototype.handle_rubberband = function (fig, msg) {\n    var x0 = msg['x0'] / fig.ratio;\n    var y0 = (fig.canvas.height - msg['y0']) / fig.ratio;\n    var x1 = msg['x1'] / fig.ratio;\n    var y1 = (fig.canvas.height - msg['y1']) / fig.ratio;\n    x0 = Math.floor(x0) + 0.5;\n    y0 = Math.floor(y0) + 0.5;\n    x1 = Math.floor(x1) + 0.5;\n    y1 = Math.floor(y1) + 0.5;\n    var min_x = Math.min(x0, x1);\n    var min_y = Math.min(y0, y1);\n    var width = Math.abs(x1 - x0);\n    var height = Math.abs(y1 - y0);\n\n    fig.rubberband_context.clearRect(\n        0,\n        0,\n        fig.canvas.width / fig.ratio,\n        fig.canvas.height / fig.ratio\n    );\n\n    fig.rubberband_context.strokeRect(min_x, min_y, width, height);\n};\n\nmpl.figure.prototype.handle_figure_label = function (fig, msg) {\n    // Updates the figure title.\n    fig.header.textContent = msg['label'];\n};\n\nmpl.figure.prototype.handle_cursor = function (fig, msg) {\n    fig.canvas_div.style.cursor = msg['cursor'];\n};\n\nmpl.figure.prototype.handle_message = function (fig, msg) {\n    fig.message.textContent = msg['message'];\n};\n\nmpl.figure.prototype.handle_draw = function (fig, _msg) {\n    // Request the server to send over a new figure.\n    fig.send_draw_message();\n};\n\nmpl.figure.prototype.handle_image_mode = function (fig, msg) {\n    fig.image_mode = msg['mode'];\n};\n\nmpl.figure.prototype.handle_history_buttons = function (fig, msg) {\n    for (var key in msg) {\n        if (!(key in fig.buttons)) {\n            continue;\n        }\n        fig.buttons[key].disabled = !msg[key];\n        fig.buttons[key].setAttribute('aria-disabled', !msg[key]);\n    }\n};\n\nmpl.figure.prototype.handle_navigate_mode = function (fig, msg) {\n    if (msg['mode'] === 'PAN') {\n        fig.buttons['Pan'].classList.add('active');\n        fig.buttons['Zoom'].classList.remove('active');\n    } else if (msg['mode'] === 'ZOOM') {\n        fig.buttons['Pan'].classList.remove('active');\n        fig.buttons['Zoom'].classList.add('active');\n    } else {\n        fig.buttons['Pan'].classList.remove('active');\n        fig.buttons['Zoom'].classList.remove('active');\n    }\n};\n\nmpl.figure.prototype.updated_canvas_event = function () {\n    // Called whenever the canvas gets updated.\n    this.send_message('ack', {});\n};\n\n// A function to construct a web socket function for onmessage handling.\n// Called in the figure constructor.\nmpl.figure.prototype._make_on_message_function = function (fig) {\n    return function socket_on_message(evt) {\n        if (evt.data instanceof Blob) {\n            var img = evt.data;\n            if (img.type !== 'image/png') {\n                /* FIXME: We get \"Resource interpreted as Image but\n                 * transferred with MIME type text/plain:\" errors on\n                 * Chrome.  But how to set the MIME type?  It doesn't seem\n                 * to be part of the websocket stream */\n                img.type = 'image/png';\n            }\n\n            /* Free the memory for the previous frames */\n            if (fig.imageObj.src) {\n                (window.URL || window.webkitURL).revokeObjectURL(\n                    fig.imageObj.src\n                );\n            }\n\n            fig.imageObj.src = (window.URL || window.webkitURL).createObjectURL(\n                img\n            );\n            fig.updated_canvas_event();\n            fig.waiting = false;\n            return;\n        } else if (\n            typeof evt.data === 'string' &&\n            evt.data.slice(0, 21) === 'data:image/png;base64'\n        ) {\n            fig.imageObj.src = evt.data;\n            fig.updated_canvas_event();\n            fig.waiting = false;\n            return;\n        }\n\n        var msg = JSON.parse(evt.data);\n        var msg_type = msg['type'];\n\n        // Call the  \"handle_{type}\" callback, which takes\n        // the figure and JSON message as its only arguments.\n        try {\n            var callback = fig['handle_' + msg_type];\n        } catch (e) {\n            console.log(\n                \"No handler for the '\" + msg_type + \"' message type: \",\n                msg\n            );\n            return;\n        }\n\n        if (callback) {\n            try {\n                // console.log(\"Handling '\" + msg_type + \"' message: \", msg);\n                callback(fig, msg);\n            } catch (e) {\n                console.log(\n                    \"Exception inside the 'handler_\" + msg_type + \"' callback:\",\n                    e,\n                    e.stack,\n                    msg\n                );\n            }\n        }\n    };\n};\n\nfunction getModifiers(event) {\n    var mods = [];\n    if (event.ctrlKey) {\n        mods.push('ctrl');\n    }\n    if (event.altKey) {\n        mods.push('alt');\n    }\n    if (event.shiftKey) {\n        mods.push('shift');\n    }\n    if (event.metaKey) {\n        mods.push('meta');\n    }\n    return mods;\n}\n\n/*\n * return a copy of an object with only non-object keys\n * we need this to avoid circular references\n * https://stackoverflow.com/a/24161582/3208463\n */\nfunction simpleKeys(original) {\n    return Object.keys(original).reduce(function (obj, key) {\n        if (typeof original[key] !== 'object') {\n            obj[key] = original[key];\n        }\n        return obj;\n    }, {});\n}\n\nmpl.figure.prototype.mouse_event = function (event, name) {\n    if (name === 'button_press') {\n        this.canvas.focus();\n        this.canvas_div.focus();\n    }\n\n    // from https://stackoverflow.com/q/1114465\n    var boundingRect = this.canvas.getBoundingClientRect();\n    var x = (event.clientX - boundingRect.left) * this.ratio;\n    var y = (event.clientY - boundingRect.top) * this.ratio;\n\n    this.send_message(name, {\n        x: x,\n        y: y,\n        button: event.button,\n        step: event.step,\n        buttons: event.buttons,\n        modifiers: getModifiers(event),\n        guiEvent: simpleKeys(event),\n    });\n\n    return false;\n};\n\nmpl.figure.prototype._key_event_extra = function (_event, _name) {\n    // Handle any extra behaviour associated with a key event\n};\n\nmpl.figure.prototype.key_event = function (event, name) {\n    // Prevent repeat events\n    if (name === 'key_press') {\n        if (event.key === this._key) {\n            return;\n        } else {\n            this._key = event.key;\n        }\n    }\n    if (name === 'key_release') {\n        this._key = null;\n    }\n\n    var value = '';\n    if (event.ctrlKey && event.key !== 'Control') {\n        value += 'ctrl+';\n    }\n    else if (event.altKey && event.key !== 'Alt') {\n        value += 'alt+';\n    }\n    else if (event.shiftKey && event.key !== 'Shift') {\n        value += 'shift+';\n    }\n\n    value += 'k' + event.key;\n\n    this._key_event_extra(event, name);\n\n    this.send_message(name, { key: value, guiEvent: simpleKeys(event) });\n    return false;\n};\n\nmpl.figure.prototype.toolbar_button_onclick = function (name) {\n    if (name === 'download') {\n        this.handle_save(this, null);\n    } else {\n        this.send_message('toolbar_button', { name: name });\n    }\n};\n\nmpl.figure.prototype.toolbar_button_onmouseover = function (tooltip) {\n    this.message.textContent = tooltip;\n};\n\n///////////////// REMAINING CONTENT GENERATED BY embed_js.py /////////////////\n// prettier-ignore\nvar _JSXTOOLS_RESIZE_OBSERVER=function(A){var t,i=new WeakMap,n=new WeakMap,a=new WeakMap,r=new WeakMap,o=new Set;function s(e){if(!(this instanceof s))throw new TypeError(\"Constructor requires 'new' operator\");i.set(this,e)}function h(){throw new TypeError(\"Function is not a constructor\")}function c(e,t,i,n){e=0 in arguments?Number(arguments[0]):0,t=1 in arguments?Number(arguments[1]):0,i=2 in arguments?Number(arguments[2]):0,n=3 in arguments?Number(arguments[3]):0,this.right=(this.x=this.left=e)+(this.width=i),this.bottom=(this.y=this.top=t)+(this.height=n),Object.freeze(this)}function d(){t=requestAnimationFrame(d);var s=new WeakMap,p=new Set;o.forEach((function(t){r.get(t).forEach((function(i){var r=t instanceof window.SVGElement,o=a.get(t),d=r?0:parseFloat(o.paddingTop),f=r?0:parseFloat(o.paddingRight),l=r?0:parseFloat(o.paddingBottom),u=r?0:parseFloat(o.paddingLeft),g=r?0:parseFloat(o.borderTopWidth),m=r?0:parseFloat(o.borderRightWidth),w=r?0:parseFloat(o.borderBottomWidth),b=u+f,F=d+l,v=(r?0:parseFloat(o.borderLeftWidth))+m,W=g+w,y=r?0:t.offsetHeight-W-t.clientHeight,E=r?0:t.offsetWidth-v-t.clientWidth,R=b+v,z=F+W,M=r?t.width:parseFloat(o.width)-R-E,O=r?t.height:parseFloat(o.height)-z-y;if(n.has(t)){var k=n.get(t);if(k[0]===M&&k[1]===O)return}n.set(t,[M,O]);var S=Object.create(h.prototype);S.target=t,S.contentRect=new c(u,d,M,O),s.has(i)||(s.set(i,[]),p.add(i)),s.get(i).push(S)}))})),p.forEach((function(e){i.get(e).call(e,s.get(e),e)}))}return s.prototype.observe=function(i){if(i instanceof window.Element){r.has(i)||(r.set(i,new Set),o.add(i),a.set(i,window.getComputedStyle(i)));var n=r.get(i);n.has(this)||n.add(this),cancelAnimationFrame(t),t=requestAnimationFrame(d)}},s.prototype.unobserve=function(i){if(i instanceof window.Element&&r.has(i)){var n=r.get(i);n.has(this)&&(n.delete(this),n.size||(r.delete(i),o.delete(i))),n.size||r.delete(i),o.size||cancelAnimationFrame(t)}},A.DOMRectReadOnly=c,A.ResizeObserver=s,A.ResizeObserverEntry=h,A}; // eslint-disable-line\nmpl.toolbar_items = [[\"Home\", \"Reset original view\", \"fa fa-home\", \"home\"], [\"Back\", \"Back to previous view\", \"fa fa-arrow-left\", \"back\"], [\"Forward\", \"Forward to next view\", \"fa fa-arrow-right\", \"forward\"], [\"\", \"\", \"\", \"\"], [\"Pan\", \"Left button pans, Right button zooms\\nx/y fixes axis, CTRL fixes aspect\", \"fa fa-arrows\", \"pan\"], [\"Zoom\", \"Zoom to rectangle\\nx/y fixes axis\", \"fa fa-square-o\", \"zoom\"], [\"\", \"\", \"\", \"\"], [\"Download\", \"Download plot\", \"fa fa-floppy-o\", \"download\"]];\n\nmpl.extensions = [\"eps\", \"jpeg\", \"pgf\", \"pdf\", \"png\", \"ps\", \"raw\", \"svg\", \"tif\", \"webp\"];\n\nmpl.default_extension = \"png\";/* global mpl */\n\nvar comm_websocket_adapter = function (comm) {\n    // Create a \"websocket\"-like object which calls the given IPython comm\n    // object with the appropriate methods. Currently this is a non binary\n    // socket, so there is still some room for performance tuning.\n    var ws = {};\n\n    ws.binaryType = comm.kernel.ws.binaryType;\n    ws.readyState = comm.kernel.ws.readyState;\n    function updateReadyState(_event) {\n        if (comm.kernel.ws) {\n            ws.readyState = comm.kernel.ws.readyState;\n        } else {\n            ws.readyState = 3; // Closed state.\n        }\n    }\n    comm.kernel.ws.addEventListener('open', updateReadyState);\n    comm.kernel.ws.addEventListener('close', updateReadyState);\n    comm.kernel.ws.addEventListener('error', updateReadyState);\n\n    ws.close = function () {\n        comm.close();\n    };\n    ws.send = function (m) {\n        //console.log('sending', m);\n        comm.send(m);\n    };\n    // Register the callback with on_msg.\n    comm.on_msg(function (msg) {\n        //console.log('receiving', msg['content']['data'], msg);\n        var data = msg['content']['data'];\n        if (data['blob'] !== undefined) {\n            data = {\n                data: new Blob(msg['buffers'], { type: data['blob'] }),\n            };\n        }\n        // Pass the mpl event to the overridden (by mpl) onmessage function.\n        ws.onmessage(data);\n    });\n    return ws;\n};\n\nmpl.mpl_figure_comm = function (comm, msg) {\n    // This is the function which gets called when the mpl process\n    // starts-up an IPython Comm through the \"matplotlib\" channel.\n\n    var id = msg.content.data.id;\n    // Get hold of the div created by the display call when the Comm\n    // socket was opened in Python.\n    var element = document.getElementById(id);\n    var ws_proxy = comm_websocket_adapter(comm);\n\n    function ondownload(figure, _format) {\n        window.open(figure.canvas.toDataURL());\n    }\n\n    var fig = new mpl.figure(id, ws_proxy, ondownload, element);\n\n    // Call onopen now - mpl needs it, as it is assuming we've passed it a real\n    // web socket which is closed, not our websocket->open comm proxy.\n    ws_proxy.onopen();\n\n    fig.parent_element = element;\n    fig.cell_info = mpl.find_output_cell(\"<div id='\" + id + \"'></div>\");\n    if (!fig.cell_info) {\n        console.error('Failed to find cell for figure', id, fig);\n        return;\n    }\n    fig.cell_info[0].output_area.element.on(\n        'cleared',\n        { fig: fig },\n        fig._remove_fig_handler\n    );\n};\n\nmpl.figure.prototype.handle_close = function (fig, msg) {\n    var width = fig.canvas.width / fig.ratio;\n    fig.cell_info[0].output_area.element.off(\n        'cleared',\n        fig._remove_fig_handler\n    );\n    fig.resizeObserverInstance.unobserve(fig.canvas_div);\n\n    // Update the output cell to use the data from the current canvas.\n    fig.push_to_output();\n    var dataURL = fig.canvas.toDataURL();\n    // Re-enable the keyboard manager in IPython - without this line, in FF,\n    // the notebook keyboard shortcuts fail.\n    IPython.keyboard_manager.enable();\n    fig.parent_element.innerHTML =\n        '<img src=\"' + dataURL + '\" width=\"' + width + '\">';\n    fig.close_ws(fig, msg);\n};\n\nmpl.figure.prototype.close_ws = function (fig, msg) {\n    fig.send_message('closing', msg);\n    // fig.ws.close()\n};\n\nmpl.figure.prototype.push_to_output = function (_remove_interactive) {\n    // Turn the data on the canvas into data in the output cell.\n    var width = this.canvas.width / this.ratio;\n    var dataURL = this.canvas.toDataURL();\n    this.cell_info[1]['text/html'] =\n        '<img src=\"' + dataURL + '\" width=\"' + width + '\">';\n};\n\nmpl.figure.prototype.updated_canvas_event = function () {\n    // Tell IPython that the notebook contents must change.\n    IPython.notebook.set_dirty(true);\n    this.send_message('ack', {});\n    var fig = this;\n    // Wait a second, then push the new image to the DOM so\n    // that it is saved nicely (might be nice to debounce this).\n    setTimeout(function () {\n        fig.push_to_output();\n    }, 1000);\n};\n\nmpl.figure.prototype._init_toolbar = function () {\n    var fig = this;\n\n    var toolbar = document.createElement('div');\n    toolbar.classList = 'btn-toolbar';\n    this.root.appendChild(toolbar);\n\n    function on_click_closure(name) {\n        return function (_event) {\n            return fig.toolbar_button_onclick(name);\n        };\n    }\n\n    function on_mouseover_closure(tooltip) {\n        return function (event) {\n            if (!event.currentTarget.disabled) {\n                return fig.toolbar_button_onmouseover(tooltip);\n            }\n        };\n    }\n\n    fig.buttons = {};\n    var buttonGroup = document.createElement('div');\n    buttonGroup.classList = 'btn-group';\n    var button;\n    for (var toolbar_ind in mpl.toolbar_items) {\n        var name = mpl.toolbar_items[toolbar_ind][0];\n        var tooltip = mpl.toolbar_items[toolbar_ind][1];\n        var image = mpl.toolbar_items[toolbar_ind][2];\n        var method_name = mpl.toolbar_items[toolbar_ind][3];\n\n        if (!name) {\n            /* Instead of a spacer, we start a new button group. */\n            if (buttonGroup.hasChildNodes()) {\n                toolbar.appendChild(buttonGroup);\n            }\n            buttonGroup = document.createElement('div');\n            buttonGroup.classList = 'btn-group';\n            continue;\n        }\n\n        button = fig.buttons[name] = document.createElement('button');\n        button.classList = 'btn btn-default';\n        button.href = '#';\n        button.title = name;\n        button.innerHTML = '<i class=\"fa ' + image + ' fa-lg\"></i>';\n        button.addEventListener('click', on_click_closure(method_name));\n        button.addEventListener('mouseover', on_mouseover_closure(tooltip));\n        buttonGroup.appendChild(button);\n    }\n\n    if (buttonGroup.hasChildNodes()) {\n        toolbar.appendChild(buttonGroup);\n    }\n\n    // Add the status bar.\n    var status_bar = document.createElement('span');\n    status_bar.classList = 'mpl-message pull-right';\n    toolbar.appendChild(status_bar);\n    this.message = status_bar;\n\n    // Add the close button to the window.\n    var buttongrp = document.createElement('div');\n    buttongrp.classList = 'btn-group inline pull-right';\n    button = document.createElement('button');\n    button.classList = 'btn btn-mini btn-primary';\n    button.href = '#';\n    button.title = 'Stop Interaction';\n    button.innerHTML = '<i class=\"fa fa-power-off icon-remove icon-large\"></i>';\n    button.addEventListener('click', function (_evt) {\n        fig.handle_close(fig, {});\n    });\n    button.addEventListener(\n        'mouseover',\n        on_mouseover_closure('Stop Interaction')\n    );\n    buttongrp.appendChild(button);\n    var titlebar = this.root.querySelector('.ui-dialog-titlebar');\n    titlebar.insertBefore(buttongrp, titlebar.firstChild);\n};\n\nmpl.figure.prototype._remove_fig_handler = function (event) {\n    var fig = event.data.fig;\n    if (event.target !== this) {\n        // Ignore bubbled events from children.\n        return;\n    }\n    fig.close_ws(fig, {});\n};\n\nmpl.figure.prototype._root_extra_style = function (el) {\n    el.style.boxSizing = 'content-box'; // override notebook setting of border-box.\n};\n\nmpl.figure.prototype._canvas_extra_style = function (el) {\n    // this is important to make the div 'focusable\n    el.setAttribute('tabindex', 0);\n    // reach out to IPython and tell the keyboard manager to turn it's self\n    // off when our div gets focus\n\n    // location in version 3\n    if (IPython.notebook.keyboard_manager) {\n        IPython.notebook.keyboard_manager.register_events(el);\n    } else {\n        // location in version 2\n        IPython.keyboard_manager.register_events(el);\n    }\n};\n\nmpl.figure.prototype._key_event_extra = function (event, _name) {\n    // Check for shift+enter\n    if (event.shiftKey && event.which === 13) {\n        this.canvas_div.blur();\n        // select the cell after this one\n        var index = IPython.notebook.find_cell_index(this.cell_info[0]);\n        IPython.notebook.select(index + 1);\n    }\n};\n\nmpl.figure.prototype.handle_save = function (fig, _msg) {\n    fig.ondownload(fig, null);\n};\n\nmpl.find_output_cell = function (html_output) {\n    // Return the cell and output element which can be found *uniquely* in the notebook.\n    // Note - this is a bit hacky, but it is done because the \"notebook_saving.Notebook\"\n    // IPython event is triggered only after the cells have been serialised, which for\n    // our purposes (turning an active figure into a static one), is too late.\n    var cells = IPython.notebook.get_cells();\n    var ncells = cells.length;\n    for (var i = 0; i < ncells; i++) {\n        var cell = cells[i];\n        if (cell.cell_type === 'code') {\n            for (var j = 0; j < cell.output_area.outputs.length; j++) {\n                var data = cell.output_area.outputs[j];\n                if (data.data) {\n                    // IPython >= 3 moved mimebundle to data attribute of output\n                    data = data.data;\n                }\n                if (data['text/html'] === html_output) {\n                    return [cell, data, j];\n                }\n            }\n        }\n    }\n};\n\n// Register the function which deals with the matplotlib target/channel.\n// The kernel may be null if the page has been refreshed.\nif (IPython.notebook.kernel !== null) {\n    IPython.notebook.kernel.comm_manager.register_target(\n        'matplotlib',\n        mpl.mpl_figure_comm\n    );\n}\n",
      "text/plain": [
       "<IPython.core.display.Javascript object>"
      ]
     },
     "metadata": {},
     "output_type": "display_data"
    },
    {
     "data": {
      "text/html": [
       "<div id='77c53a32-e188-4cb0-bdd3-cd443a65fa87'></div>"
      ],
      "text/plain": [
       "<IPython.core.display.HTML object>"
      ]
     },
     "metadata": {},
     "output_type": "display_data"
    }
   ],
   "source": [
    "sns.lineplot({\"Record\": np.array(env.trade_record)[:,1] } )\n",
    "plt.title(\"total Record\")\n",
    "plt.xlabel('Position')\n",
    "plt.ylabel(\"gain\")\n",
    "plt.grid()\n",
    "plt.show()"
   ]
  },
  {
   "cell_type": "markdown",
   "metadata": {},
   "source": [
    "## Gain Over Each Episodes"
   ]
  },
  {
   "cell_type": "code",
   "execution_count": 143,
   "metadata": {
    "execution": {
     "iopub.execute_input": "2025-07-31T03:37:20.941422Z",
     "iopub.status.busy": "2025-07-31T03:37:20.941102Z",
     "iopub.status.idle": "2025-07-31T03:37:20.962423Z",
     "shell.execute_reply": "2025-07-31T03:37:20.961402Z",
     "shell.execute_reply.started": "2025-07-31T03:37:20.941401Z"
    },
    "trusted": true
   },
   "outputs": [
    {
     "data": {
      "application/javascript": "/* Put everything inside the global mpl namespace */\n/* global mpl */\nwindow.mpl = {};\n\nmpl.get_websocket_type = function () {\n    if (typeof WebSocket !== 'undefined') {\n        return WebSocket;\n    } else if (typeof MozWebSocket !== 'undefined') {\n        return MozWebSocket;\n    } else {\n        alert(\n            'Your browser does not have WebSocket support. ' +\n                'Please try Chrome, Safari or Firefox ≥ 6. ' +\n                'Firefox 4 and 5 are also supported but you ' +\n                'have to enable WebSockets in about:config.'\n        );\n    }\n};\n\nmpl.figure = function (figure_id, websocket, ondownload, parent_element) {\n    this.id = figure_id;\n\n    this.ws = websocket;\n\n    this.supports_binary = this.ws.binaryType !== undefined;\n\n    if (!this.supports_binary) {\n        var warnings = document.getElementById('mpl-warnings');\n        if (warnings) {\n            warnings.style.display = 'block';\n            warnings.textContent =\n                'This browser does not support binary websocket messages. ' +\n                'Performance may be slow.';\n        }\n    }\n\n    this.imageObj = new Image();\n\n    this.context = undefined;\n    this.message = undefined;\n    this.canvas = undefined;\n    this.rubberband_canvas = undefined;\n    this.rubberband_context = undefined;\n    this.format_dropdown = undefined;\n\n    this.image_mode = 'full';\n\n    this.root = document.createElement('div');\n    this.root.setAttribute('style', 'display: inline-block');\n    this._root_extra_style(this.root);\n\n    parent_element.appendChild(this.root);\n\n    this._init_header(this);\n    this._init_canvas(this);\n    this._init_toolbar(this);\n\n    var fig = this;\n\n    this.waiting = false;\n\n    this.ws.onopen = function () {\n        fig.send_message('supports_binary', { value: fig.supports_binary });\n        fig.send_message('send_image_mode', {});\n        if (fig.ratio !== 1) {\n            fig.send_message('set_device_pixel_ratio', {\n                device_pixel_ratio: fig.ratio,\n            });\n        }\n        fig.send_message('refresh', {});\n    };\n\n    this.imageObj.onload = function () {\n        if (fig.image_mode === 'full') {\n            // Full images could contain transparency (where diff images\n            // almost always do), so we need to clear the canvas so that\n            // there is no ghosting.\n            fig.context.clearRect(0, 0, fig.canvas.width, fig.canvas.height);\n        }\n        fig.context.drawImage(fig.imageObj, 0, 0);\n    };\n\n    this.imageObj.onunload = function () {\n        fig.ws.close();\n    };\n\n    this.ws.onmessage = this._make_on_message_function(this);\n\n    this.ondownload = ondownload;\n};\n\nmpl.figure.prototype._init_header = function () {\n    var titlebar = document.createElement('div');\n    titlebar.classList =\n        'ui-dialog-titlebar ui-widget-header ui-corner-all ui-helper-clearfix';\n    var titletext = document.createElement('div');\n    titletext.classList = 'ui-dialog-title';\n    titletext.setAttribute(\n        'style',\n        'width: 100%; text-align: center; padding: 3px;'\n    );\n    titlebar.appendChild(titletext);\n    this.root.appendChild(titlebar);\n    this.header = titletext;\n};\n\nmpl.figure.prototype._canvas_extra_style = function (_canvas_div) {};\n\nmpl.figure.prototype._root_extra_style = function (_canvas_div) {};\n\nmpl.figure.prototype._init_canvas = function () {\n    var fig = this;\n\n    var canvas_div = (this.canvas_div = document.createElement('div'));\n    canvas_div.setAttribute('tabindex', '0');\n    canvas_div.setAttribute(\n        'style',\n        'border: 1px solid #ddd;' +\n            'box-sizing: content-box;' +\n            'clear: both;' +\n            'min-height: 1px;' +\n            'min-width: 1px;' +\n            'outline: 0;' +\n            'overflow: hidden;' +\n            'position: relative;' +\n            'resize: both;' +\n            'z-index: 2;'\n    );\n\n    function on_keyboard_event_closure(name) {\n        return function (event) {\n            return fig.key_event(event, name);\n        };\n    }\n\n    canvas_div.addEventListener(\n        'keydown',\n        on_keyboard_event_closure('key_press')\n    );\n    canvas_div.addEventListener(\n        'keyup',\n        on_keyboard_event_closure('key_release')\n    );\n\n    this._canvas_extra_style(canvas_div);\n    this.root.appendChild(canvas_div);\n\n    var canvas = (this.canvas = document.createElement('canvas'));\n    canvas.classList.add('mpl-canvas');\n    canvas.setAttribute(\n        'style',\n        'box-sizing: content-box;' +\n            'pointer-events: none;' +\n            'position: relative;' +\n            'z-index: 0;'\n    );\n\n    this.context = canvas.getContext('2d');\n\n    var backingStore =\n        this.context.backingStorePixelRatio ||\n        this.context.webkitBackingStorePixelRatio ||\n        this.context.mozBackingStorePixelRatio ||\n        this.context.msBackingStorePixelRatio ||\n        this.context.oBackingStorePixelRatio ||\n        this.context.backingStorePixelRatio ||\n        1;\n\n    this.ratio = (window.devicePixelRatio || 1) / backingStore;\n\n    var rubberband_canvas = (this.rubberband_canvas = document.createElement(\n        'canvas'\n    ));\n    rubberband_canvas.setAttribute(\n        'style',\n        'box-sizing: content-box;' +\n            'left: 0;' +\n            'pointer-events: none;' +\n            'position: absolute;' +\n            'top: 0;' +\n            'z-index: 1;'\n    );\n\n    // Apply a ponyfill if ResizeObserver is not implemented by browser.\n    if (this.ResizeObserver === undefined) {\n        if (window.ResizeObserver !== undefined) {\n            this.ResizeObserver = window.ResizeObserver;\n        } else {\n            var obs = _JSXTOOLS_RESIZE_OBSERVER({});\n            this.ResizeObserver = obs.ResizeObserver;\n        }\n    }\n\n    this.resizeObserverInstance = new this.ResizeObserver(function (entries) {\n        // There's no need to resize if the WebSocket is not connected:\n        // - If it is still connecting, then we will get an initial resize from\n        //   Python once it connects.\n        // - If it has disconnected, then resizing will clear the canvas and\n        //   never get anything back to refill it, so better to not resize and\n        //   keep something visible.\n        if (fig.ws.readyState != 1) {\n            return;\n        }\n        var nentries = entries.length;\n        for (var i = 0; i < nentries; i++) {\n            var entry = entries[i];\n            var width, height;\n            if (entry.contentBoxSize) {\n                if (entry.contentBoxSize instanceof Array) {\n                    // Chrome 84 implements new version of spec.\n                    width = entry.contentBoxSize[0].inlineSize;\n                    height = entry.contentBoxSize[0].blockSize;\n                } else {\n                    // Firefox implements old version of spec.\n                    width = entry.contentBoxSize.inlineSize;\n                    height = entry.contentBoxSize.blockSize;\n                }\n            } else {\n                // Chrome <84 implements even older version of spec.\n                width = entry.contentRect.width;\n                height = entry.contentRect.height;\n            }\n\n            // Keep the size of the canvas and rubber band canvas in sync with\n            // the canvas container.\n            if (entry.devicePixelContentBoxSize) {\n                // Chrome 84 implements new version of spec.\n                canvas.setAttribute(\n                    'width',\n                    entry.devicePixelContentBoxSize[0].inlineSize\n                );\n                canvas.setAttribute(\n                    'height',\n                    entry.devicePixelContentBoxSize[0].blockSize\n                );\n            } else {\n                canvas.setAttribute('width', width * fig.ratio);\n                canvas.setAttribute('height', height * fig.ratio);\n            }\n            /* This rescales the canvas back to display pixels, so that it\n             * appears correct on HiDPI screens. */\n            canvas.style.width = width + 'px';\n            canvas.style.height = height + 'px';\n\n            rubberband_canvas.setAttribute('width', width);\n            rubberband_canvas.setAttribute('height', height);\n\n            // And update the size in Python. We ignore the initial 0/0 size\n            // that occurs as the element is placed into the DOM, which should\n            // otherwise not happen due to the minimum size styling.\n            if (width != 0 && height != 0) {\n                fig.request_resize(width, height);\n            }\n        }\n    });\n    this.resizeObserverInstance.observe(canvas_div);\n\n    function on_mouse_event_closure(name) {\n        /* User Agent sniffing is bad, but WebKit is busted:\n         * https://bugs.webkit.org/show_bug.cgi?id=144526\n         * https://bugs.webkit.org/show_bug.cgi?id=181818\n         * The worst that happens here is that they get an extra browser\n         * selection when dragging, if this check fails to catch them.\n         */\n        var UA = navigator.userAgent;\n        var isWebKit = /AppleWebKit/.test(UA) && !/Chrome/.test(UA);\n        if(isWebKit) {\n            return function (event) {\n                /* This prevents the web browser from automatically changing to\n                 * the text insertion cursor when the button is pressed. We\n                 * want to control all of the cursor setting manually through\n                 * the 'cursor' event from matplotlib */\n                event.preventDefault()\n                return fig.mouse_event(event, name);\n            };\n        } else {\n            return function (event) {\n                return fig.mouse_event(event, name);\n            };\n        }\n    }\n\n    canvas_div.addEventListener(\n        'mousedown',\n        on_mouse_event_closure('button_press')\n    );\n    canvas_div.addEventListener(\n        'mouseup',\n        on_mouse_event_closure('button_release')\n    );\n    canvas_div.addEventListener(\n        'dblclick',\n        on_mouse_event_closure('dblclick')\n    );\n    // Throttle sequential mouse events to 1 every 20ms.\n    canvas_div.addEventListener(\n        'mousemove',\n        on_mouse_event_closure('motion_notify')\n    );\n\n    canvas_div.addEventListener(\n        'mouseenter',\n        on_mouse_event_closure('figure_enter')\n    );\n    canvas_div.addEventListener(\n        'mouseleave',\n        on_mouse_event_closure('figure_leave')\n    );\n\n    canvas_div.addEventListener('wheel', function (event) {\n        if (event.deltaY < 0) {\n            event.step = 1;\n        } else {\n            event.step = -1;\n        }\n        on_mouse_event_closure('scroll')(event);\n    });\n\n    canvas_div.appendChild(canvas);\n    canvas_div.appendChild(rubberband_canvas);\n\n    this.rubberband_context = rubberband_canvas.getContext('2d');\n    this.rubberband_context.strokeStyle = '#000000';\n\n    this._resize_canvas = function (width, height, forward) {\n        if (forward) {\n            canvas_div.style.width = width + 'px';\n            canvas_div.style.height = height + 'px';\n        }\n    };\n\n    // Disable right mouse context menu.\n    canvas_div.addEventListener('contextmenu', function (_e) {\n        event.preventDefault();\n        return false;\n    });\n\n    function set_focus() {\n        canvas.focus();\n        canvas_div.focus();\n    }\n\n    window.setTimeout(set_focus, 100);\n};\n\nmpl.figure.prototype._init_toolbar = function () {\n    var fig = this;\n\n    var toolbar = document.createElement('div');\n    toolbar.classList = 'mpl-toolbar';\n    this.root.appendChild(toolbar);\n\n    function on_click_closure(name) {\n        return function (_event) {\n            return fig.toolbar_button_onclick(name);\n        };\n    }\n\n    function on_mouseover_closure(tooltip) {\n        return function (event) {\n            if (!event.currentTarget.disabled) {\n                return fig.toolbar_button_onmouseover(tooltip);\n            }\n        };\n    }\n\n    fig.buttons = {};\n    var buttonGroup = document.createElement('div');\n    buttonGroup.classList = 'mpl-button-group';\n    for (var toolbar_ind in mpl.toolbar_items) {\n        var name = mpl.toolbar_items[toolbar_ind][0];\n        var tooltip = mpl.toolbar_items[toolbar_ind][1];\n        var image = mpl.toolbar_items[toolbar_ind][2];\n        var method_name = mpl.toolbar_items[toolbar_ind][3];\n\n        if (!name) {\n            /* Instead of a spacer, we start a new button group. */\n            if (buttonGroup.hasChildNodes()) {\n                toolbar.appendChild(buttonGroup);\n            }\n            buttonGroup = document.createElement('div');\n            buttonGroup.classList = 'mpl-button-group';\n            continue;\n        }\n\n        var button = (fig.buttons[name] = document.createElement('button'));\n        button.classList = 'mpl-widget';\n        button.setAttribute('role', 'button');\n        button.setAttribute('aria-disabled', 'false');\n        button.addEventListener('click', on_click_closure(method_name));\n        button.addEventListener('mouseover', on_mouseover_closure(tooltip));\n\n        var icon_img = document.createElement('img');\n        icon_img.src = '_images/' + image + '.png';\n        icon_img.srcset = '_images/' + image + '_large.png 2x';\n        icon_img.alt = tooltip;\n        button.appendChild(icon_img);\n\n        buttonGroup.appendChild(button);\n    }\n\n    if (buttonGroup.hasChildNodes()) {\n        toolbar.appendChild(buttonGroup);\n    }\n\n    var fmt_picker = document.createElement('select');\n    fmt_picker.classList = 'mpl-widget';\n    toolbar.appendChild(fmt_picker);\n    this.format_dropdown = fmt_picker;\n\n    for (var ind in mpl.extensions) {\n        var fmt = mpl.extensions[ind];\n        var option = document.createElement('option');\n        option.selected = fmt === mpl.default_extension;\n        option.innerHTML = fmt;\n        fmt_picker.appendChild(option);\n    }\n\n    var status_bar = document.createElement('span');\n    status_bar.classList = 'mpl-message';\n    toolbar.appendChild(status_bar);\n    this.message = status_bar;\n};\n\nmpl.figure.prototype.request_resize = function (x_pixels, y_pixels) {\n    // Request matplotlib to resize the figure. Matplotlib will then trigger a resize in the client,\n    // which will in turn request a refresh of the image.\n    this.send_message('resize', { width: x_pixels, height: y_pixels });\n};\n\nmpl.figure.prototype.send_message = function (type, properties) {\n    properties['type'] = type;\n    properties['figure_id'] = this.id;\n    this.ws.send(JSON.stringify(properties));\n};\n\nmpl.figure.prototype.send_draw_message = function () {\n    if (!this.waiting) {\n        this.waiting = true;\n        this.ws.send(JSON.stringify({ type: 'draw', figure_id: this.id }));\n    }\n};\n\nmpl.figure.prototype.handle_save = function (fig, _msg) {\n    var format_dropdown = fig.format_dropdown;\n    var format = format_dropdown.options[format_dropdown.selectedIndex].value;\n    fig.ondownload(fig, format);\n};\n\nmpl.figure.prototype.handle_resize = function (fig, msg) {\n    var size = msg['size'];\n    if (size[0] !== fig.canvas.width || size[1] !== fig.canvas.height) {\n        fig._resize_canvas(size[0], size[1], msg['forward']);\n        fig.send_message('refresh', {});\n    }\n};\n\nmpl.figure.prototype.handle_rubberband = function (fig, msg) {\n    var x0 = msg['x0'] / fig.ratio;\n    var y0 = (fig.canvas.height - msg['y0']) / fig.ratio;\n    var x1 = msg['x1'] / fig.ratio;\n    var y1 = (fig.canvas.height - msg['y1']) / fig.ratio;\n    x0 = Math.floor(x0) + 0.5;\n    y0 = Math.floor(y0) + 0.5;\n    x1 = Math.floor(x1) + 0.5;\n    y1 = Math.floor(y1) + 0.5;\n    var min_x = Math.min(x0, x1);\n    var min_y = Math.min(y0, y1);\n    var width = Math.abs(x1 - x0);\n    var height = Math.abs(y1 - y0);\n\n    fig.rubberband_context.clearRect(\n        0,\n        0,\n        fig.canvas.width / fig.ratio,\n        fig.canvas.height / fig.ratio\n    );\n\n    fig.rubberband_context.strokeRect(min_x, min_y, width, height);\n};\n\nmpl.figure.prototype.handle_figure_label = function (fig, msg) {\n    // Updates the figure title.\n    fig.header.textContent = msg['label'];\n};\n\nmpl.figure.prototype.handle_cursor = function (fig, msg) {\n    fig.canvas_div.style.cursor = msg['cursor'];\n};\n\nmpl.figure.prototype.handle_message = function (fig, msg) {\n    fig.message.textContent = msg['message'];\n};\n\nmpl.figure.prototype.handle_draw = function (fig, _msg) {\n    // Request the server to send over a new figure.\n    fig.send_draw_message();\n};\n\nmpl.figure.prototype.handle_image_mode = function (fig, msg) {\n    fig.image_mode = msg['mode'];\n};\n\nmpl.figure.prototype.handle_history_buttons = function (fig, msg) {\n    for (var key in msg) {\n        if (!(key in fig.buttons)) {\n            continue;\n        }\n        fig.buttons[key].disabled = !msg[key];\n        fig.buttons[key].setAttribute('aria-disabled', !msg[key]);\n    }\n};\n\nmpl.figure.prototype.handle_navigate_mode = function (fig, msg) {\n    if (msg['mode'] === 'PAN') {\n        fig.buttons['Pan'].classList.add('active');\n        fig.buttons['Zoom'].classList.remove('active');\n    } else if (msg['mode'] === 'ZOOM') {\n        fig.buttons['Pan'].classList.remove('active');\n        fig.buttons['Zoom'].classList.add('active');\n    } else {\n        fig.buttons['Pan'].classList.remove('active');\n        fig.buttons['Zoom'].classList.remove('active');\n    }\n};\n\nmpl.figure.prototype.updated_canvas_event = function () {\n    // Called whenever the canvas gets updated.\n    this.send_message('ack', {});\n};\n\n// A function to construct a web socket function for onmessage handling.\n// Called in the figure constructor.\nmpl.figure.prototype._make_on_message_function = function (fig) {\n    return function socket_on_message(evt) {\n        if (evt.data instanceof Blob) {\n            var img = evt.data;\n            if (img.type !== 'image/png') {\n                /* FIXME: We get \"Resource interpreted as Image but\n                 * transferred with MIME type text/plain:\" errors on\n                 * Chrome.  But how to set the MIME type?  It doesn't seem\n                 * to be part of the websocket stream */\n                img.type = 'image/png';\n            }\n\n            /* Free the memory for the previous frames */\n            if (fig.imageObj.src) {\n                (window.URL || window.webkitURL).revokeObjectURL(\n                    fig.imageObj.src\n                );\n            }\n\n            fig.imageObj.src = (window.URL || window.webkitURL).createObjectURL(\n                img\n            );\n            fig.updated_canvas_event();\n            fig.waiting = false;\n            return;\n        } else if (\n            typeof evt.data === 'string' &&\n            evt.data.slice(0, 21) === 'data:image/png;base64'\n        ) {\n            fig.imageObj.src = evt.data;\n            fig.updated_canvas_event();\n            fig.waiting = false;\n            return;\n        }\n\n        var msg = JSON.parse(evt.data);\n        var msg_type = msg['type'];\n\n        // Call the  \"handle_{type}\" callback, which takes\n        // the figure and JSON message as its only arguments.\n        try {\n            var callback = fig['handle_' + msg_type];\n        } catch (e) {\n            console.log(\n                \"No handler for the '\" + msg_type + \"' message type: \",\n                msg\n            );\n            return;\n        }\n\n        if (callback) {\n            try {\n                // console.log(\"Handling '\" + msg_type + \"' message: \", msg);\n                callback(fig, msg);\n            } catch (e) {\n                console.log(\n                    \"Exception inside the 'handler_\" + msg_type + \"' callback:\",\n                    e,\n                    e.stack,\n                    msg\n                );\n            }\n        }\n    };\n};\n\nfunction getModifiers(event) {\n    var mods = [];\n    if (event.ctrlKey) {\n        mods.push('ctrl');\n    }\n    if (event.altKey) {\n        mods.push('alt');\n    }\n    if (event.shiftKey) {\n        mods.push('shift');\n    }\n    if (event.metaKey) {\n        mods.push('meta');\n    }\n    return mods;\n}\n\n/*\n * return a copy of an object with only non-object keys\n * we need this to avoid circular references\n * https://stackoverflow.com/a/24161582/3208463\n */\nfunction simpleKeys(original) {\n    return Object.keys(original).reduce(function (obj, key) {\n        if (typeof original[key] !== 'object') {\n            obj[key] = original[key];\n        }\n        return obj;\n    }, {});\n}\n\nmpl.figure.prototype.mouse_event = function (event, name) {\n    if (name === 'button_press') {\n        this.canvas.focus();\n        this.canvas_div.focus();\n    }\n\n    // from https://stackoverflow.com/q/1114465\n    var boundingRect = this.canvas.getBoundingClientRect();\n    var x = (event.clientX - boundingRect.left) * this.ratio;\n    var y = (event.clientY - boundingRect.top) * this.ratio;\n\n    this.send_message(name, {\n        x: x,\n        y: y,\n        button: event.button,\n        step: event.step,\n        buttons: event.buttons,\n        modifiers: getModifiers(event),\n        guiEvent: simpleKeys(event),\n    });\n\n    return false;\n};\n\nmpl.figure.prototype._key_event_extra = function (_event, _name) {\n    // Handle any extra behaviour associated with a key event\n};\n\nmpl.figure.prototype.key_event = function (event, name) {\n    // Prevent repeat events\n    if (name === 'key_press') {\n        if (event.key === this._key) {\n            return;\n        } else {\n            this._key = event.key;\n        }\n    }\n    if (name === 'key_release') {\n        this._key = null;\n    }\n\n    var value = '';\n    if (event.ctrlKey && event.key !== 'Control') {\n        value += 'ctrl+';\n    }\n    else if (event.altKey && event.key !== 'Alt') {\n        value += 'alt+';\n    }\n    else if (event.shiftKey && event.key !== 'Shift') {\n        value += 'shift+';\n    }\n\n    value += 'k' + event.key;\n\n    this._key_event_extra(event, name);\n\n    this.send_message(name, { key: value, guiEvent: simpleKeys(event) });\n    return false;\n};\n\nmpl.figure.prototype.toolbar_button_onclick = function (name) {\n    if (name === 'download') {\n        this.handle_save(this, null);\n    } else {\n        this.send_message('toolbar_button', { name: name });\n    }\n};\n\nmpl.figure.prototype.toolbar_button_onmouseover = function (tooltip) {\n    this.message.textContent = tooltip;\n};\n\n///////////////// REMAINING CONTENT GENERATED BY embed_js.py /////////////////\n// prettier-ignore\nvar _JSXTOOLS_RESIZE_OBSERVER=function(A){var t,i=new WeakMap,n=new WeakMap,a=new WeakMap,r=new WeakMap,o=new Set;function s(e){if(!(this instanceof s))throw new TypeError(\"Constructor requires 'new' operator\");i.set(this,e)}function h(){throw new TypeError(\"Function is not a constructor\")}function c(e,t,i,n){e=0 in arguments?Number(arguments[0]):0,t=1 in arguments?Number(arguments[1]):0,i=2 in arguments?Number(arguments[2]):0,n=3 in arguments?Number(arguments[3]):0,this.right=(this.x=this.left=e)+(this.width=i),this.bottom=(this.y=this.top=t)+(this.height=n),Object.freeze(this)}function d(){t=requestAnimationFrame(d);var s=new WeakMap,p=new Set;o.forEach((function(t){r.get(t).forEach((function(i){var r=t instanceof window.SVGElement,o=a.get(t),d=r?0:parseFloat(o.paddingTop),f=r?0:parseFloat(o.paddingRight),l=r?0:parseFloat(o.paddingBottom),u=r?0:parseFloat(o.paddingLeft),g=r?0:parseFloat(o.borderTopWidth),m=r?0:parseFloat(o.borderRightWidth),w=r?0:parseFloat(o.borderBottomWidth),b=u+f,F=d+l,v=(r?0:parseFloat(o.borderLeftWidth))+m,W=g+w,y=r?0:t.offsetHeight-W-t.clientHeight,E=r?0:t.offsetWidth-v-t.clientWidth,R=b+v,z=F+W,M=r?t.width:parseFloat(o.width)-R-E,O=r?t.height:parseFloat(o.height)-z-y;if(n.has(t)){var k=n.get(t);if(k[0]===M&&k[1]===O)return}n.set(t,[M,O]);var S=Object.create(h.prototype);S.target=t,S.contentRect=new c(u,d,M,O),s.has(i)||(s.set(i,[]),p.add(i)),s.get(i).push(S)}))})),p.forEach((function(e){i.get(e).call(e,s.get(e),e)}))}return s.prototype.observe=function(i){if(i instanceof window.Element){r.has(i)||(r.set(i,new Set),o.add(i),a.set(i,window.getComputedStyle(i)));var n=r.get(i);n.has(this)||n.add(this),cancelAnimationFrame(t),t=requestAnimationFrame(d)}},s.prototype.unobserve=function(i){if(i instanceof window.Element&&r.has(i)){var n=r.get(i);n.has(this)&&(n.delete(this),n.size||(r.delete(i),o.delete(i))),n.size||r.delete(i),o.size||cancelAnimationFrame(t)}},A.DOMRectReadOnly=c,A.ResizeObserver=s,A.ResizeObserverEntry=h,A}; // eslint-disable-line\nmpl.toolbar_items = [[\"Home\", \"Reset original view\", \"fa fa-home\", \"home\"], [\"Back\", \"Back to previous view\", \"fa fa-arrow-left\", \"back\"], [\"Forward\", \"Forward to next view\", \"fa fa-arrow-right\", \"forward\"], [\"\", \"\", \"\", \"\"], [\"Pan\", \"Left button pans, Right button zooms\\nx/y fixes axis, CTRL fixes aspect\", \"fa fa-arrows\", \"pan\"], [\"Zoom\", \"Zoom to rectangle\\nx/y fixes axis\", \"fa fa-square-o\", \"zoom\"], [\"\", \"\", \"\", \"\"], [\"Download\", \"Download plot\", \"fa fa-floppy-o\", \"download\"]];\n\nmpl.extensions = [\"eps\", \"jpeg\", \"pgf\", \"pdf\", \"png\", \"ps\", \"raw\", \"svg\", \"tif\", \"webp\"];\n\nmpl.default_extension = \"png\";/* global mpl */\n\nvar comm_websocket_adapter = function (comm) {\n    // Create a \"websocket\"-like object which calls the given IPython comm\n    // object with the appropriate methods. Currently this is a non binary\n    // socket, so there is still some room for performance tuning.\n    var ws = {};\n\n    ws.binaryType = comm.kernel.ws.binaryType;\n    ws.readyState = comm.kernel.ws.readyState;\n    function updateReadyState(_event) {\n        if (comm.kernel.ws) {\n            ws.readyState = comm.kernel.ws.readyState;\n        } else {\n            ws.readyState = 3; // Closed state.\n        }\n    }\n    comm.kernel.ws.addEventListener('open', updateReadyState);\n    comm.kernel.ws.addEventListener('close', updateReadyState);\n    comm.kernel.ws.addEventListener('error', updateReadyState);\n\n    ws.close = function () {\n        comm.close();\n    };\n    ws.send = function (m) {\n        //console.log('sending', m);\n        comm.send(m);\n    };\n    // Register the callback with on_msg.\n    comm.on_msg(function (msg) {\n        //console.log('receiving', msg['content']['data'], msg);\n        var data = msg['content']['data'];\n        if (data['blob'] !== undefined) {\n            data = {\n                data: new Blob(msg['buffers'], { type: data['blob'] }),\n            };\n        }\n        // Pass the mpl event to the overridden (by mpl) onmessage function.\n        ws.onmessage(data);\n    });\n    return ws;\n};\n\nmpl.mpl_figure_comm = function (comm, msg) {\n    // This is the function which gets called when the mpl process\n    // starts-up an IPython Comm through the \"matplotlib\" channel.\n\n    var id = msg.content.data.id;\n    // Get hold of the div created by the display call when the Comm\n    // socket was opened in Python.\n    var element = document.getElementById(id);\n    var ws_proxy = comm_websocket_adapter(comm);\n\n    function ondownload(figure, _format) {\n        window.open(figure.canvas.toDataURL());\n    }\n\n    var fig = new mpl.figure(id, ws_proxy, ondownload, element);\n\n    // Call onopen now - mpl needs it, as it is assuming we've passed it a real\n    // web socket which is closed, not our websocket->open comm proxy.\n    ws_proxy.onopen();\n\n    fig.parent_element = element;\n    fig.cell_info = mpl.find_output_cell(\"<div id='\" + id + \"'></div>\");\n    if (!fig.cell_info) {\n        console.error('Failed to find cell for figure', id, fig);\n        return;\n    }\n    fig.cell_info[0].output_area.element.on(\n        'cleared',\n        { fig: fig },\n        fig._remove_fig_handler\n    );\n};\n\nmpl.figure.prototype.handle_close = function (fig, msg) {\n    var width = fig.canvas.width / fig.ratio;\n    fig.cell_info[0].output_area.element.off(\n        'cleared',\n        fig._remove_fig_handler\n    );\n    fig.resizeObserverInstance.unobserve(fig.canvas_div);\n\n    // Update the output cell to use the data from the current canvas.\n    fig.push_to_output();\n    var dataURL = fig.canvas.toDataURL();\n    // Re-enable the keyboard manager in IPython - without this line, in FF,\n    // the notebook keyboard shortcuts fail.\n    IPython.keyboard_manager.enable();\n    fig.parent_element.innerHTML =\n        '<img src=\"' + dataURL + '\" width=\"' + width + '\">';\n    fig.close_ws(fig, msg);\n};\n\nmpl.figure.prototype.close_ws = function (fig, msg) {\n    fig.send_message('closing', msg);\n    // fig.ws.close()\n};\n\nmpl.figure.prototype.push_to_output = function (_remove_interactive) {\n    // Turn the data on the canvas into data in the output cell.\n    var width = this.canvas.width / this.ratio;\n    var dataURL = this.canvas.toDataURL();\n    this.cell_info[1]['text/html'] =\n        '<img src=\"' + dataURL + '\" width=\"' + width + '\">';\n};\n\nmpl.figure.prototype.updated_canvas_event = function () {\n    // Tell IPython that the notebook contents must change.\n    IPython.notebook.set_dirty(true);\n    this.send_message('ack', {});\n    var fig = this;\n    // Wait a second, then push the new image to the DOM so\n    // that it is saved nicely (might be nice to debounce this).\n    setTimeout(function () {\n        fig.push_to_output();\n    }, 1000);\n};\n\nmpl.figure.prototype._init_toolbar = function () {\n    var fig = this;\n\n    var toolbar = document.createElement('div');\n    toolbar.classList = 'btn-toolbar';\n    this.root.appendChild(toolbar);\n\n    function on_click_closure(name) {\n        return function (_event) {\n            return fig.toolbar_button_onclick(name);\n        };\n    }\n\n    function on_mouseover_closure(tooltip) {\n        return function (event) {\n            if (!event.currentTarget.disabled) {\n                return fig.toolbar_button_onmouseover(tooltip);\n            }\n        };\n    }\n\n    fig.buttons = {};\n    var buttonGroup = document.createElement('div');\n    buttonGroup.classList = 'btn-group';\n    var button;\n    for (var toolbar_ind in mpl.toolbar_items) {\n        var name = mpl.toolbar_items[toolbar_ind][0];\n        var tooltip = mpl.toolbar_items[toolbar_ind][1];\n        var image = mpl.toolbar_items[toolbar_ind][2];\n        var method_name = mpl.toolbar_items[toolbar_ind][3];\n\n        if (!name) {\n            /* Instead of a spacer, we start a new button group. */\n            if (buttonGroup.hasChildNodes()) {\n                toolbar.appendChild(buttonGroup);\n            }\n            buttonGroup = document.createElement('div');\n            buttonGroup.classList = 'btn-group';\n            continue;\n        }\n\n        button = fig.buttons[name] = document.createElement('button');\n        button.classList = 'btn btn-default';\n        button.href = '#';\n        button.title = name;\n        button.innerHTML = '<i class=\"fa ' + image + ' fa-lg\"></i>';\n        button.addEventListener('click', on_click_closure(method_name));\n        button.addEventListener('mouseover', on_mouseover_closure(tooltip));\n        buttonGroup.appendChild(button);\n    }\n\n    if (buttonGroup.hasChildNodes()) {\n        toolbar.appendChild(buttonGroup);\n    }\n\n    // Add the status bar.\n    var status_bar = document.createElement('span');\n    status_bar.classList = 'mpl-message pull-right';\n    toolbar.appendChild(status_bar);\n    this.message = status_bar;\n\n    // Add the close button to the window.\n    var buttongrp = document.createElement('div');\n    buttongrp.classList = 'btn-group inline pull-right';\n    button = document.createElement('button');\n    button.classList = 'btn btn-mini btn-primary';\n    button.href = '#';\n    button.title = 'Stop Interaction';\n    button.innerHTML = '<i class=\"fa fa-power-off icon-remove icon-large\"></i>';\n    button.addEventListener('click', function (_evt) {\n        fig.handle_close(fig, {});\n    });\n    button.addEventListener(\n        'mouseover',\n        on_mouseover_closure('Stop Interaction')\n    );\n    buttongrp.appendChild(button);\n    var titlebar = this.root.querySelector('.ui-dialog-titlebar');\n    titlebar.insertBefore(buttongrp, titlebar.firstChild);\n};\n\nmpl.figure.prototype._remove_fig_handler = function (event) {\n    var fig = event.data.fig;\n    if (event.target !== this) {\n        // Ignore bubbled events from children.\n        return;\n    }\n    fig.close_ws(fig, {});\n};\n\nmpl.figure.prototype._root_extra_style = function (el) {\n    el.style.boxSizing = 'content-box'; // override notebook setting of border-box.\n};\n\nmpl.figure.prototype._canvas_extra_style = function (el) {\n    // this is important to make the div 'focusable\n    el.setAttribute('tabindex', 0);\n    // reach out to IPython and tell the keyboard manager to turn it's self\n    // off when our div gets focus\n\n    // location in version 3\n    if (IPython.notebook.keyboard_manager) {\n        IPython.notebook.keyboard_manager.register_events(el);\n    } else {\n        // location in version 2\n        IPython.keyboard_manager.register_events(el);\n    }\n};\n\nmpl.figure.prototype._key_event_extra = function (event, _name) {\n    // Check for shift+enter\n    if (event.shiftKey && event.which === 13) {\n        this.canvas_div.blur();\n        // select the cell after this one\n        var index = IPython.notebook.find_cell_index(this.cell_info[0]);\n        IPython.notebook.select(index + 1);\n    }\n};\n\nmpl.figure.prototype.handle_save = function (fig, _msg) {\n    fig.ondownload(fig, null);\n};\n\nmpl.find_output_cell = function (html_output) {\n    // Return the cell and output element which can be found *uniquely* in the notebook.\n    // Note - this is a bit hacky, but it is done because the \"notebook_saving.Notebook\"\n    // IPython event is triggered only after the cells have been serialised, which for\n    // our purposes (turning an active figure into a static one), is too late.\n    var cells = IPython.notebook.get_cells();\n    var ncells = cells.length;\n    for (var i = 0; i < ncells; i++) {\n        var cell = cells[i];\n        if (cell.cell_type === 'code') {\n            for (var j = 0; j < cell.output_area.outputs.length; j++) {\n                var data = cell.output_area.outputs[j];\n                if (data.data) {\n                    // IPython >= 3 moved mimebundle to data attribute of output\n                    data = data.data;\n                }\n                if (data['text/html'] === html_output) {\n                    return [cell, data, j];\n                }\n            }\n        }\n    }\n};\n\n// Register the function which deals with the matplotlib target/channel.\n// The kernel may be null if the page has been refreshed.\nif (IPython.notebook.kernel !== null) {\n    IPython.notebook.kernel.comm_manager.register_target(\n        'matplotlib',\n        mpl.mpl_figure_comm\n    );\n}\n",
      "text/plain": [
       "<IPython.core.display.Javascript object>"
      ]
     },
     "metadata": {},
     "output_type": "display_data"
    },
    {
     "data": {
      "text/html": [
       "<div id='ee9b97b0-626b-47ae-9b2a-55c9919a7ca4'></div>"
      ],
      "text/plain": [
       "<IPython.core.display.HTML object>"
      ]
     },
     "metadata": {},
     "output_type": "display_data"
    }
   ],
   "source": [
    "sns.lineplot({\"gains\": gain_over_episode } )\n",
    "plt.title(\"total Record\")\n",
    "plt.xlabel('Position')\n",
    "plt.ylabel(\"gain\")\n",
    "plt.grid()\n",
    "plt.show()"
   ]
  },
  {
   "cell_type": "markdown",
   "metadata": {},
   "source": [
    "## Ready Eval Data"
   ]
  },
  {
   "cell_type": "code",
   "execution_count": 144,
   "metadata": {
    "execution": {
     "iopub.execute_input": "2025-07-31T03:14:04.251243Z",
     "iopub.status.busy": "2025-07-31T03:14:04.250995Z",
     "iopub.status.idle": "2025-07-31T03:14:04.258144Z",
     "shell.execute_reply": "2025-07-31T03:14:04.257463Z",
     "shell.execute_reply.started": "2025-07-31T03:14:04.251224Z"
    },
    "trusted": true
   },
   "outputs": [
    {
     "name": "stdout",
     "output_type": "stream",
     "text": [
      "torch.Size([1050, 5, 6])\n"
     ]
    }
   ],
   "source": [
    "n_features = env.num_features\n",
    "n_rows = data.shape[0]\n",
    "usable_rows = (n_rows // window_size) * window_size\n",
    "data_trimmed = data.iloc[:usable_rows, :]\n",
    "\n",
    "data_tensor = torch.tensor(data_trimmed.to_numpy(), dtype=torch.float).reshape(-1, window_size, n_features).to(device)\n",
    "print(data_tensor.shape)"
   ]
  },
  {
   "cell_type": "code",
   "execution_count": 145,
   "metadata": {
    "execution": {
     "iopub.execute_input": "2025-07-31T03:14:04.259212Z",
     "iopub.status.busy": "2025-07-31T03:14:04.258898Z",
     "iopub.status.idle": "2025-07-31T03:14:04.279107Z",
     "shell.execute_reply": "2025-07-31T03:14:04.278437Z",
     "shell.execute_reply.started": "2025-07-31T03:14:04.259184Z"
    },
    "trusted": true
   },
   "outputs": [
    {
     "name": "stdout",
     "output_type": "stream",
     "text": [
      "torch.Size([1050, 5, 6]) (5250, 6)\n"
     ]
    }
   ],
   "source": [
    "print(data_tensor.shape, data.shape)"
   ]
  },
  {
   "cell_type": "markdown",
   "metadata": {},
   "source": [
    "## Eval Lables"
   ]
  },
  {
   "cell_type": "code",
   "execution_count": 146,
   "metadata": {
    "execution": {
     "iopub.execute_input": "2025-07-31T03:14:04.280243Z",
     "iopub.status.busy": "2025-07-31T03:14:04.279987Z",
     "iopub.status.idle": "2025-07-31T03:14:06.385627Z",
     "shell.execute_reply": "2025-07-31T03:14:06.384815Z",
     "shell.execute_reply.started": "2025-07-31T03:14:04.280217Z"
    },
    "trusted": true
   },
   "outputs": [],
   "source": [
    "\n",
    "labels = []\n",
    "with torch.no_grad():\n",
    "\tagent.policy.eval()\n",
    "\tfor state in data_tensor:\n",
    "\t\tprobs  = F.softmax(agent.policy(state), dim=-1) # type: ignore\n",
    "\t\tm = Categorical(probs)\n",
    "\t\taction = m.sample().squeeze(0).item()\n",
    "\t\tlabels.append(action)\n",
    "\n",
    "tensor_labels = torch.tensor(labels)\n"
   ]
  },
  {
   "cell_type": "code",
   "execution_count": 147,
   "metadata": {
    "execution": {
     "iopub.execute_input": "2025-07-31T03:14:06.386662Z",
     "iopub.status.busy": "2025-07-31T03:14:06.386454Z",
     "iopub.status.idle": "2025-07-31T03:14:06.391645Z",
     "shell.execute_reply": "2025-07-31T03:14:06.391025Z",
     "shell.execute_reply.started": "2025-07-31T03:14:06.386645Z"
    },
    "trusted": true
   },
   "outputs": [
    {
     "name": "stdout",
     "output_type": "stream",
     "text": [
      "\n",
      "uniques (tensor([0, 1, 2]), tensor([395, 333, 322]))\n",
      "labels.shape torch.Size([1050]) \n",
      "data_tensor.shape torch.Size([1050, 5, 6])\n",
      "data.shape (5250, 6) \n"
     ]
    }
   ],
   "source": [
    "print(f\"\"\"\n",
    "uniques {torch.unique(tensor_labels, return_counts=True)}\n",
    "labels.shape {tensor_labels.shape} \n",
    "data_tensor.shape {data_tensor.shape}\n",
    "data.shape {data.shape} \"\"\")"
   ]
  },
  {
   "cell_type": "markdown",
   "metadata": {},
   "source": [
    "## Eval Dataframe Ready "
   ]
  },
  {
   "cell_type": "code",
   "execution_count": 148,
   "metadata": {
    "execution": {
     "iopub.execute_input": "2025-07-31T03:14:06.392615Z",
     "iopub.status.busy": "2025-07-31T03:14:06.392390Z",
     "iopub.status.idle": "2025-07-31T03:14:06.428375Z",
     "shell.execute_reply": "2025-07-31T03:14:06.427822Z",
     "shell.execute_reply.started": "2025-07-31T03:14:06.392599Z"
    },
    "trusted": true
   },
   "outputs": [
    {
     "data": {
      "text/html": [
       "<div>\n",
       "<style scoped>\n",
       "    .dataframe tbody tr th:only-of-type {\n",
       "        vertical-align: middle;\n",
       "    }\n",
       "\n",
       "    .dataframe tbody tr th {\n",
       "        vertical-align: top;\n",
       "    }\n",
       "\n",
       "    .dataframe thead th {\n",
       "        text-align: right;\n",
       "    }\n",
       "</style>\n",
       "<table border=\"1\" class=\"dataframe\">\n",
       "  <thead>\n",
       "    <tr style=\"text-align: right;\">\n",
       "      <th></th>\n",
       "      <th>Open</th>\n",
       "      <th>High</th>\n",
       "      <th>Low</th>\n",
       "      <th>Close</th>\n",
       "      <th>Volume</th>\n",
       "      <th>Pivot D</th>\n",
       "      <th>signal</th>\n",
       "    </tr>\n",
       "    <tr>\n",
       "      <th>Date</th>\n",
       "      <th></th>\n",
       "      <th></th>\n",
       "      <th></th>\n",
       "      <th></th>\n",
       "      <th></th>\n",
       "      <th></th>\n",
       "      <th></th>\n",
       "    </tr>\n",
       "  </thead>\n",
       "  <tbody>\n",
       "    <tr>\n",
       "      <th>2024-03-22 05:15:00</th>\n",
       "      <td>1.08368</td>\n",
       "      <td>1.08381</td>\n",
       "      <td>1.08368</td>\n",
       "      <td>1.08376</td>\n",
       "      <td>86.0</td>\n",
       "      <td>0.0</td>\n",
       "      <td>1</td>\n",
       "    </tr>\n",
       "    <tr>\n",
       "      <th>2024-03-22 05:20:00</th>\n",
       "      <td>1.08376</td>\n",
       "      <td>1.08394</td>\n",
       "      <td>1.08376</td>\n",
       "      <td>1.08379</td>\n",
       "      <td>79.0</td>\n",
       "      <td>0.0</td>\n",
       "      <td>2</td>\n",
       "    </tr>\n",
       "    <tr>\n",
       "      <th>2024-03-22 05:25:00</th>\n",
       "      <td>1.08379</td>\n",
       "      <td>1.08392</td>\n",
       "      <td>1.08376</td>\n",
       "      <td>1.08380</td>\n",
       "      <td>132.0</td>\n",
       "      <td>0.0</td>\n",
       "      <td>2</td>\n",
       "    </tr>\n",
       "    <tr>\n",
       "      <th>2024-03-22 05:30:00</th>\n",
       "      <td>1.08380</td>\n",
       "      <td>1.08384</td>\n",
       "      <td>1.08358</td>\n",
       "      <td>1.08363</td>\n",
       "      <td>151.0</td>\n",
       "      <td>0.0</td>\n",
       "      <td>2</td>\n",
       "    </tr>\n",
       "    <tr>\n",
       "      <th>2024-03-22 05:35:00</th>\n",
       "      <td>1.08363</td>\n",
       "      <td>1.08396</td>\n",
       "      <td>1.08363</td>\n",
       "      <td>1.08393</td>\n",
       "      <td>122.0</td>\n",
       "      <td>0.0</td>\n",
       "      <td>2</td>\n",
       "    </tr>\n",
       "  </tbody>\n",
       "</table>\n",
       "</div>"
      ],
      "text/plain": [
       "                        Open     High      Low    Close  Volume  Pivot D  \\\n",
       "Date                                                                       \n",
       "2024-03-22 05:15:00  1.08368  1.08381  1.08368  1.08376    86.0      0.0   \n",
       "2024-03-22 05:20:00  1.08376  1.08394  1.08376  1.08379    79.0      0.0   \n",
       "2024-03-22 05:25:00  1.08379  1.08392  1.08376  1.08380   132.0      0.0   \n",
       "2024-03-22 05:30:00  1.08380  1.08384  1.08358  1.08363   151.0      0.0   \n",
       "2024-03-22 05:35:00  1.08363  1.08396  1.08363  1.08393   122.0      0.0   \n",
       "\n",
       "                     signal  \n",
       "Date                         \n",
       "2024-03-22 05:15:00       1  \n",
       "2024-03-22 05:20:00       2  \n",
       "2024-03-22 05:25:00       2  \n",
       "2024-03-22 05:30:00       2  \n",
       "2024-03-22 05:35:00       2  "
      ]
     },
     "execution_count": 148,
     "metadata": {},
     "output_type": "execute_result"
    }
   ],
   "source": [
    "\n",
    "trade_df = data.copy()\n",
    "labels_full = [2] * len(trade_df)  # مقدار پیش‌فرض برای همه ردیف‌ها\n",
    "\n",
    "# تعداد ردیف‌هایی که برای مدل استفاده شدن\n",
    "usable_rows = (len(df) // window_size) * window_size\n",
    "\n",
    "for i, label in enumerate(tensor_labels):\n",
    "\tidx = i * window_size\n",
    "\tif idx < len(labels_full):\n",
    "\t\tlabels_full[idx] = label.item()   # type: ignore\n",
    "\t\t# the rest all `2`\n",
    "\n",
    "data['signal'] = labels_full\n",
    "\n",
    "\n",
    "data.head()\n"
   ]
  },
  {
   "cell_type": "code",
   "execution_count": 149,
   "metadata": {
    "execution": {
     "iopub.execute_input": "2025-07-31T03:14:06.429417Z",
     "iopub.status.busy": "2025-07-31T03:14:06.429174Z",
     "iopub.status.idle": "2025-07-31T03:14:06.456160Z",
     "shell.execute_reply": "2025-07-31T03:14:06.455546Z",
     "shell.execute_reply.started": "2025-07-31T03:14:06.429396Z"
    },
    "trusted": true
   },
   "outputs": [
    {
     "data": {
      "text/html": [
       "<div>\n",
       "<style scoped>\n",
       "    .dataframe tbody tr th:only-of-type {\n",
       "        vertical-align: middle;\n",
       "    }\n",
       "\n",
       "    .dataframe tbody tr th {\n",
       "        vertical-align: top;\n",
       "    }\n",
       "\n",
       "    .dataframe thead th {\n",
       "        text-align: right;\n",
       "    }\n",
       "</style>\n",
       "<table border=\"1\" class=\"dataframe\">\n",
       "  <thead>\n",
       "    <tr style=\"text-align: right;\">\n",
       "      <th></th>\n",
       "      <th>Close</th>\n",
       "      <th>shifted</th>\n",
       "      <th>true-diff</th>\n",
       "      <th>signal</th>\n",
       "      <th>true-signal</th>\n",
       "    </tr>\n",
       "    <tr>\n",
       "      <th>Date</th>\n",
       "      <th></th>\n",
       "      <th></th>\n",
       "      <th></th>\n",
       "      <th></th>\n",
       "      <th></th>\n",
       "    </tr>\n",
       "  </thead>\n",
       "  <tbody>\n",
       "    <tr>\n",
       "      <th>2025-07-16 00:35:00</th>\n",
       "      <td>1.15977</td>\n",
       "      <td>1.15975</td>\n",
       "      <td>0.00002</td>\n",
       "      <td>2</td>\n",
       "      <td>0</td>\n",
       "    </tr>\n",
       "    <tr>\n",
       "      <th>2024-11-22 00:25:00</th>\n",
       "      <td>1.04751</td>\n",
       "      <td>1.04703</td>\n",
       "      <td>0.00048</td>\n",
       "      <td>2</td>\n",
       "      <td>0</td>\n",
       "    </tr>\n",
       "    <tr>\n",
       "      <th>2024-11-21 00:30:00</th>\n",
       "      <td>1.05421</td>\n",
       "      <td>1.05401</td>\n",
       "      <td>0.00020</td>\n",
       "      <td>1</td>\n",
       "      <td>0</td>\n",
       "    </tr>\n",
       "    <tr>\n",
       "      <th>2024-07-23 00:45:00</th>\n",
       "      <td>1.08897</td>\n",
       "      <td>1.08868</td>\n",
       "      <td>0.00029</td>\n",
       "      <td>2</td>\n",
       "      <td>0</td>\n",
       "    </tr>\n",
       "    <tr>\n",
       "      <th>2024-10-09 00:25:00</th>\n",
       "      <td>1.09778</td>\n",
       "      <td>1.09733</td>\n",
       "      <td>0.00045</td>\n",
       "      <td>2</td>\n",
       "      <td>0</td>\n",
       "    </tr>\n",
       "  </tbody>\n",
       "</table>\n",
       "</div>"
      ],
      "text/plain": [
       "                       Close  shifted  true-diff  signal  true-signal\n",
       "Date                                                                 \n",
       "2025-07-16 00:35:00  1.15977  1.15975    0.00002       2            0\n",
       "2024-11-22 00:25:00  1.04751  1.04703    0.00048       2            0\n",
       "2024-11-21 00:30:00  1.05421  1.05401    0.00020       1            0\n",
       "2024-07-23 00:45:00  1.08897  1.08868    0.00029       2            0\n",
       "2024-10-09 00:25:00  1.09778  1.09733    0.00045       2            0"
      ]
     },
     "execution_count": 149,
     "metadata": {},
     "output_type": "execute_result"
    }
   ],
   "source": [
    "data['shifted'] = data['Close'].shift(5)#.mean()\n",
    "data['true-diff'] = data['Close'] - data['shifted']\n",
    "\n",
    "data['true-signal'] = 2  # default\n",
    "data.loc[data['shifted'] <= data['Close'], 'true-signal'] = 0\n",
    "data.loc[data['shifted'] >= data['Close'], 'true-signal'] = 1\n",
    "\n",
    "data.dropna(inplace=True)\n",
    "fliterd_data = data[['Close', 'shifted', 'true-diff', 'signal', 'true-signal']]\n",
    "\n",
    "# fliterd_data = fliterd_data[(fliterd_data['true-signal'] == fliterd_data['signal']) ]\n",
    "\n",
    "fliterd_data.sample(5)"
   ]
  },
  {
   "cell_type": "markdown",
   "metadata": {},
   "source": [
    "## Classification Report"
   ]
  },
  {
   "cell_type": "code",
   "execution_count": 150,
   "metadata": {
    "execution": {
     "iopub.execute_input": "2025-07-31T03:14:06.457118Z",
     "iopub.status.busy": "2025-07-31T03:14:06.456870Z",
     "iopub.status.idle": "2025-07-31T03:14:06.472475Z",
     "shell.execute_reply": "2025-07-31T03:14:06.471517Z",
     "shell.execute_reply.started": "2025-07-31T03:14:06.457083Z"
    },
    "trusted": true
   },
   "outputs": [
    {
     "name": "stdout",
     "output_type": "stream",
     "text": [
      "\n",
      "accuracy 6.9971%\n",
      "report\n",
      "              precision    recall  f1-score   support\n",
      "\n",
      "         Buy       0.59      0.07      0.13      3145\n",
      "        Sell       0.40      0.06      0.11      2100\n",
      "        Hold       0.00      0.00      0.00         0\n",
      "\n",
      "    accuracy                           0.07      5245\n",
      "   macro avg       0.33      0.05      0.08      5245\n",
      "weighted avg       0.52      0.07      0.12      5245\n",
      "\n",
      "\n"
     ]
    }
   ],
   "source": [
    "accuracy = (data['true-signal'] == data['signal']).mean()\n",
    "\n",
    "from sklearn.metrics import classification_report\n",
    "\n",
    "\n",
    "report = classification_report(data['true-signal'], data['signal'], target_names = ['Buy', 'Sell', 'Hold'])\n",
    "\n",
    "print(f\"\"\"\n",
    "accuracy {accuracy:.4%}\n",
    "report\n",
    "{report}\n",
    "\"\"\")"
   ]
  },
  {
   "cell_type": "code",
   "execution_count": 151,
   "metadata": {
    "execution": {
     "iopub.execute_input": "2025-07-31T03:14:06.477208Z",
     "iopub.status.busy": "2025-07-31T03:14:06.476989Z",
     "iopub.status.idle": "2025-07-31T03:14:06.483451Z",
     "shell.execute_reply": "2025-07-31T03:14:06.482609Z",
     "shell.execute_reply.started": "2025-07-31T03:14:06.477191Z"
    },
    "trusted": true
   },
   "outputs": [
    {
     "data": {
      "text/plain": [
       "(array([0, 1, 2]), array([ 395,  332, 4518]))"
      ]
     },
     "execution_count": 151,
     "metadata": {},
     "output_type": "execute_result"
    }
   ],
   "source": [
    "np.unique(data['signal'].to_numpy(), return_counts = True)"
   ]
  },
  {
   "cell_type": "code",
   "execution_count": 152,
   "metadata": {
    "execution": {
     "iopub.execute_input": "2025-07-31T03:14:06.491756Z",
     "iopub.status.busy": "2025-07-31T03:14:06.491128Z",
     "iopub.status.idle": "2025-07-31T03:14:09.710513Z",
     "shell.execute_reply": "2025-07-31T03:14:09.709785Z",
     "shell.execute_reply.started": "2025-07-31T03:14:06.491735Z"
    },
    "trusted": true
   },
   "outputs": [],
   "source": [
    "# from IPython.display import clear_output \n",
    "# %pip install backtrader\n",
    "# clear_output ()"
   ]
  },
  {
   "cell_type": "markdown",
   "metadata": {},
   "source": [
    "# Back Testing"
   ]
  },
  {
   "cell_type": "markdown",
   "metadata": {},
   "source": [
    "## Data for Backtesting"
   ]
  },
  {
   "cell_type": "code",
   "execution_count": 153,
   "metadata": {},
   "outputs": [],
   "source": [
    "data = data[\n",
    "\t\t\t\t[\t'Open', 'High', 'Low' , 'Close', 'Volume',\n",
    "\t\t\t\t\t# 'macd',\n",
    "\t\t\t\t\t'Pivot D', \n",
    "\t\t\t\t\t#   \"R1 D\", 'S1 D', \n",
    "\t\t\t\t\t# 'MovAvg D'\n",
    "\t\t\t\t]\n",
    "\t\t\t\t\t]"
   ]
  },
  {
   "cell_type": "code",
   "execution_count": 154,
   "metadata": {
    "execution": {
     "iopub.execute_input": "2025-07-31T03:14:09.714798Z",
     "iopub.status.busy": "2025-07-31T03:14:09.714548Z",
     "iopub.status.idle": "2025-07-31T03:14:09.720514Z",
     "shell.execute_reply": "2025-07-31T03:14:09.719816Z",
     "shell.execute_reply.started": "2025-07-31T03:14:09.714746Z"
    },
    "trusted": true
   },
   "outputs": [],
   "source": [
    "# 1. Define a custom Pandas feed with signal line\n",
    "class PandasSignalData(bt.feeds.PandasData):\n",
    "\tlines = ('Pivot',)  \n",
    "\tparams = (('Pivot', 5),)  # tell backtrader where to find it (column index or name)\n"
   ]
  },
  {
   "cell_type": "code",
   "execution_count": 158,
   "metadata": {},
   "outputs": [
    {
     "data": {
      "text/plain": [
       "['Created',\n",
       " 'Submitted',\n",
       " 'Accepted',\n",
       " 'Partial',\n",
       " 'Completed',\n",
       " 'Canceled',\n",
       " 'Expired',\n",
       " 'Margin',\n",
       " 'Rejected']"
      ]
     },
     "execution_count": 158,
     "metadata": {},
     "output_type": "execute_result"
    }
   ],
   "source": [
    "bt.Order.Status"
   ]
  },
  {
   "cell_type": "markdown",
   "metadata": {},
   "source": [
    "## Strategy for Backtesting"
   ]
  },
  {
   "cell_type": "code",
   "execution_count": 159,
   "metadata": {
    "execution": {
     "iopub.execute_input": "2025-07-31T03:33:49.489250Z",
     "iopub.status.busy": "2025-07-31T03:33:49.489007Z",
     "iopub.status.idle": "2025-07-31T03:33:49.500043Z",
     "shell.execute_reply": "2025-07-31T03:33:49.499319Z",
     "shell.execute_reply.started": "2025-07-31T03:33:49.489227Z"
    },
    "trusted": true
   },
   "outputs": [],
   "source": [
    "class TestStrategy(bt.Strategy):\n",
    "\tparams = dict(\n",
    "\t\tvalue_type = False,\n",
    "\t\ttp_percent= .01 ,  #  `tp` % take profit \n",
    "\t\tsl_percent= .01 ,  #  `sl` % stop loss \n",
    "\t\ttp_value = .005 ,  #  `tp` $ take profit\n",
    "\t\tsl_value = .005 ,  #  `sl` $ stop loss\n",
    "\t\tmax_hold= None  ,  # maximum candle to hold on a position\n",
    "\t\tsize = .001      # Position Size\n",
    "\t)\n",
    "\n",
    "\tdef __init__(self):\n",
    "\t\t# self.signal = self.datas[0].signal\n",
    "\t\tself.entry_price = None\n",
    "\t\tself.bar_executed = None\n",
    "\t\tself.position_type = None  # 'long' or 'short'\n",
    "\t\tself.order_dict = dict()\n",
    "\t\tself.logs_list = []\n",
    "\t\tself.agent = agent.policy\n",
    "\t\tself.status = dict(\n",
    "\t\t\tzip(range(len(bt.Order.Status)) ,bt.Order.Status) )\n",
    "\t\n",
    "\tdef _predict(self, state):\n",
    "\t\tprobs  = F.softmax(self.agent(state), dim=-1) # type: ignore\n",
    "\t\t# probs  = self.agent(state)\n",
    "\t\t# print(probs)\n",
    "\t\tm = Categorical(probs)\n",
    "\t\taction = m.sample().squeeze(0).item()\n",
    "\t\treturn action\n",
    "\n",
    "\t# === تغییرات ===\n",
    "\tdef _get_state_window(self, window_size=5):\n",
    "\t\t# فرض می‌کنیم داده‌ها ستون‌هایی مثل close، open، high، low دارن\n",
    "\t\tstate = []\n",
    "\t\tfor i in range(-window_size + 1, 1):\n",
    "\t\t\tstate.append([\n",
    "\t\t\t\tself.data.close[i],\n",
    "\t\t\t\tself.data.open[i],\n",
    "\t\t\t\tself.data.high[i],\n",
    "\t\t\t\tself.data.low[i],\n",
    "\t\t\t\tself.data.volume[i],\n",
    "\t\t\t\tself.data.Pivot [i]\n",
    "\t\t\t])\n",
    "\t\treturn torch.tensor(state, dtype=torch.float).to(device)#.unsqueeze(0)  # شکل: (1, 5, 5)\n",
    "\n",
    "\tdef next(self):\n",
    "\t\tprice_now = self.data.close[0]\n",
    "\t\t\n",
    "\n",
    "\t\tstate = self._get_state_window()\n",
    "\t\t# print(state )\n",
    "\t\tpredict = self._predict(state)\n",
    "\t\t# print(predict)\n",
    "\t\tif not self.position:\n",
    "\t\t\t# ورود به پوزیشن لانگ\n",
    "\t\t\tif predict == 0:\n",
    "\t\t\t\tself.entry_price = price_now\n",
    "\t\t\t\tself.buy(size=self.p.size)\n",
    "\t\t\t\tself.bar_executed = len(self)\n",
    "\t\t\t\tself.position_type = 'long'\n",
    "\n",
    "\t\t\t\tself.logs_list.append({\n",
    "\t\t\t\t\t'datetime': self.data.datetime.datetime(0),\n",
    "\t\t\t\t\t'action': 'BUY',\n",
    "\t\t\t\t\t'entry_price': price_now,\n",
    "\t\t\t\t\t'tp_price': price_now * (1 + self.p.tp_percent) if not self.p.value_type else price_now + self.p.tp_value,\n",
    "\t\t\t\t\t'sl_price': price_now * (1 - self.p.sl_percent) if not self.p.value_type else price_now - self.p.sl_value,\n",
    "\t\t\t\t\t'size': self.p.size,\n",
    "\t\t\t\t\t'position_type': 'long',\n",
    "\t\t\t\t\t'exit_reason': None,\n",
    "\t\t\t\t\t'exit_price': None,\n",
    "\t\t\t\t\t'pnl': None,\n",
    "\t\t\t\t\t# 'pnlcomm' : None\n",
    "\t\t\t\t})\n",
    "\n",
    "\t\t\t# ورود به پوزیشن شورت\n",
    "\t\t\telif predict == 1:\n",
    "\t\t\t\tself.entry_price = price_now\n",
    "\t\t\t\tself.sell(size=self.p.size)\n",
    "\t\t\t\tself.bar_executed = len(self)\n",
    "\t\t\t\tself.position_type = 'short'\n",
    "\n",
    "\t\t\t\tself.logs_list.append({\n",
    "\t\t\t\t\t'datetime': self.data.datetime.datetime(0),\n",
    "\t\t\t\t\t'action': 'SELL',\n",
    "\t\t\t\t\t'entry_price': price_now,\n",
    "\t\t\t\t\t'tp_price': price_now * (1 - self.p.tp_percent) if not self.p.value_type else price_now - self.p.tp_value,\n",
    "\t\t\t\t\t'sl_price': price_now * (1 + self.p.sl_percent) if not self.p.value_type else price_now + self.p.sl_value,\n",
    "\t\t\t\t\t'size': self.p.size,\n",
    "\t\t\t\t\t'position_type': 'short',\n",
    "\t\t\t\t\t'exit_reason': None,\n",
    "\t\t\t\t\t'exit_price': None,\n",
    "\t\t\t\t\t'pnl': None,\n",
    "\t\t\t\t\t# \"pnlcomm\": None,\n",
    "\t\t\t\t})\n",
    "\n",
    "\t\t# Tp and Sl Organizing\n",
    "\t\telse:\n",
    "\t\t\t# پوزیشن لانگ\n",
    "\t\t\tif self.position_type == 'long':\n",
    "\t\t\t\ttp_price = self.entry_price * (1 + self.p.tp_percent) if not self.p.value_type else self.entry_price + self.p.tp_value\n",
    "\t\t\t\tsl_price = self.entry_price * (1 - self.p.sl_percent) if not self.p.value_type else self.entry_price - self.p.sl_value\n",
    "\n",
    "\t\t\t\tif price_now >= tp_price:\n",
    "\t\t\t\t\tself.close()\n",
    "\t\t\t\t\tpnl = (price_now - self.entry_price) * self.p.size\n",
    "\t\t\t\t\tself.logs_list[-1]['exit_reason'] = 'TP'\n",
    "\t\t\t\t\tself.logs_list[-1]['exit_price'] = price_now\n",
    "\t\t\t\t\tself.logs_list[-1]['pnl'] = pnl\n",
    "\t\t\t\t\tself.position_type = None\n",
    "\t\t\t\t\tself.entry_price = None\n",
    "\t\t\t\t\tself.bar_executed = None\n",
    "\n",
    "\t\t\t\telif price_now <= sl_price:\n",
    "\t\t\t\t\tself.close()\n",
    "\t\t\t\t\tpnl = (price_now - self.entry_price) * self.p.size\n",
    "\t\t\t\t\tself.logs_list[-1]['exit_reason'] = 'SL'\n",
    "\t\t\t\t\tself.logs_list[-1]['exit_price'] = price_now\n",
    "\t\t\t\t\tself.logs_list[-1]['pnl'] = pnl\n",
    "\t\t\t\t\tself.position_type = None\n",
    "\t\t\t\t\tself.entry_price = None\n",
    "\t\t\t\t\tself.bar_executed = None\n",
    "\n",
    "\t\t\t# پوزیشن شورت\n",
    "\t\t\telif self.position_type == 'short':\n",
    "\t\t\t\ttp_price = self.entry_price * (1 - self.p.tp_percent) if not self.p.value_type else self.entry_price - self.p.tp_value\n",
    "\t\t\t\tsl_price = self.entry_price * (1 + self.p.sl_percent) if not self.p.value_type else self.entry_price + self.p.sl_value\n",
    "\n",
    "\t\t\t\tif price_now <= tp_price:\n",
    "\t\t\t\t\tself.close()\n",
    "\t\t\t\t\tpnl = (self.entry_price - price_now) * self.p.size\n",
    "\t\t\t\t\tself.logs_list[-1]['exit_reason'] = 'TP'\n",
    "\t\t\t\t\tself.logs_list[-1]['exit_price'] = price_now\n",
    "\t\t\t\t\tself.logs_list[-1]['pnl'] = pnl\n",
    "\t\t\t\t\tself.position_type = None\n",
    "\t\t\t\t\tself.entry_price = None\n",
    "\t\t\t\t\tself.bar_executed = None\n",
    "\n",
    "\t\t\t\telif price_now >= sl_price:\n",
    "\t\t\t\t\tself.close()\n",
    "\t\t\t\t\tpnl = (self.entry_price - price_now) * self.p.size\n",
    "\t\t\t\t\tself.logs_list[-1]['exit_reason'] = 'SL'\n",
    "\t\t\t\t\tself.logs_list[-1]['exit_price'] = price_now\n",
    "\t\t\t\t\tself.logs_list[-1]['pnl'] = pnl\n",
    "\t\t\t\t\tself.position_type = None\n",
    "\t\t\t\t\tself.entry_price = None\n",
    "\t\t\t\t\tself.bar_executed = None\n",
    "\n",
    "\t\t\t# خروج زمانی\n",
    "\t\t\tif self.p.max_hold is not None and self.bar_executed is not None:\n",
    "\t\t\t\tif (len(self) - self.bar_executed) >= self.p.max_hold:\n",
    "\t\t\t\t\tif self.position_type == 'long':\n",
    "\t\t\t\t\t\tpnl = (price_now - self.entry_price) * self.p.size\n",
    "\t\t\t\t\telif self.position_type == 'short':\n",
    "\t\t\t\t\t\tpnl = (self.entry_price - price_now) * self.p.size\n",
    "\t\t\t\t\telse:\n",
    "\t\t\t\t\t\tpnl = 0\n",
    "\n",
    "\t\t\t\t\tself.logs_list[-1]['exit_reason'] = 'TIME'\n",
    "\t\t\t\t\tself.logs_list[-1]['exit_price'] = price_now\n",
    "\t\t\t\t\tself.logs_list[-1]['pnl'] = pnl\n",
    "\t\t\t\t\tself.close()\n",
    "\t\t\t\t\tself.position_type = None\n",
    "\t\t\t\t\tself.entry_price = None\n",
    "\t\t\t\t\tself.bar_executed = None\n",
    "\n",
    "\tdef log(self, txt, dt=None):\n",
    "\t\t''' Logging function fot this strategy'''\n",
    "\t\tdt = dt or self.datas[0].datetime.datetime()\n",
    "\t\tprint('%s | %s' % (dt.isoformat(), txt))\n",
    "\n",
    "\tdef notify(self, order):\n",
    "\t\tif order.status in [order.Submitted, order.Accepted]:\n",
    "\t\t\t# Buy/Sell order submitted/accepted to/by broker - Nothing to do\n",
    "\t\t\treturn \n",
    "\n",
    "\t\t# Check if an order has been completed\n",
    "\n",
    "\t\t# Attention: broker could reject order if not enougth cash\n",
    "\t\tif order.status in [order.Completed, order.Canceled, order.Margin]:\n",
    "\t\t\tif order.isbuy():\n",
    "\t\t\t\tself.log(\n",
    "\t\t\t\t\t'BUY %s | Price: %.4f | Cost: %.4f | Comm %.4f' %\n",
    "\t\t\t\t\t(self.status[order.status],\n",
    "\t\t\t\t\t\torder.executed.price,\n",
    "\t\t\t\t\t order.executed.value,\n",
    "\t\t\t\t\t order.executed.comm))\n",
    "\t\t\telif order.issell():  # Sell\n",
    "\t\t\t\tself.log('SELL %s | Price: %.4f | Cost: %.4f | Comm %.4f' %\n",
    "\t\t\t\t\t\t (self.status[order.status],\n",
    "\t\t\t\t\t\t\torder.executed.price,\n",
    "\t\t\t\t\t\t  order.executed.value,\n",
    "\t\t\t\t\t\t  order.executed.comm))\n",
    "\t\t\telse:\n",
    "\t\t\t\tself.log(\"noth\")\n",
    "\n",
    "\tdef notify_trade(self, trade):\n",
    "\t\tif trade.isclosed:\n",
    "\t\t\tself.log('TRADE PROFIT | GROSS %.4f  | NET %.4f' %\n",
    "\t\t\t\t\t (trade.pnl, trade.pnlcomm))\n",
    "\t\t\t\n",
    "\n",
    "\tdef notify_order(self, order):\n",
    "\t\tif order.status in [bt.Order.Completed, bt.Order.Canceled, bt.Order.Rejected, bt.Order.Expired]:\n",
    "\t\t\tlog_entry = {\n",
    "\t\t\t\t'datetime': self.data.datetime.datetime(0),\n",
    "\t\t\t\t'status': order.getstatusname(),\n",
    "\t\t\t\t'action': 'BUY' if order.isbuy() else 'SELL',\n",
    "\t\t\t\t'price_executed': order.executed.price if order.executed.price else None,\n",
    "\t\t\t\t'size': order.executed.size if order.executed.size else None,\n",
    "\t\t\t\t'commission': order.executed.comm if order.executed.comm else None,\n",
    "\t\t\t\t'position_type': self.position_type,\n",
    "\t\t\t\t'entry_price': self.entry_price,\n",
    "\t\t\t\t'tp_price': None,\n",
    "\t\t\t\t'sl_price': None,\n",
    "\t\t\t\t'exit_reason': None,\n",
    "\t\t\t\t'note': None,\n",
    "\t\t\t}\n",
    "\n",
    "\t\t\t# فقط اگر سفارش اجرا شده (پوزیشن باز یا بسته شده)\n",
    "\t\t\tif order.status == bt.Order.Completed:\n",
    "\t\t\t\tif self.position_type == 'long':\n",
    "\t\t\t\t\tif self.p.value_type:\n",
    "\t\t\t\t\t\tlog_entry['tp_price'] = self.entry_price + self.p.tp_value\n",
    "\t\t\t\t\t\tlog_entry['sl_price'] = self.entry_price - self.p.sl_value\n",
    "\t\t\t\t\t\tlog_entry['note'] = self.status[order.status]\n",
    "\t\t\t\t\telse:\n",
    "\t\t\t\t\t\tlog_entry['tp_price'] = self.entry_price * (1 + self.p.tp_percent)\n",
    "\t\t\t\t\t\tlog_entry['sl_price'] = self.entry_price * (1 - self.p.sl_percent)\n",
    "\t\t\t\t\t\tlog_entry['note'] = self.status[order.status]\n",
    "\n",
    "\n",
    "\t\t\t\telif self.position_type == 'short':\n",
    "\t\t\t\t\tif self.p.value_type:\n",
    "\t\t\t\t\t\tlog_entry['tp_price'] = self.entry_price - self.p.tp_value\n",
    "\t\t\t\t\t\tlog_entry['sl_price'] = self.entry_price + self.p.sl_value\n",
    "\t\t\t\t\t\tlog_entry['note'] = self.status[order.status]\n",
    "\n",
    "\t\t\t\t\telse:\n",
    "\t\t\t\t\t\tlog_entry['tp_price'] = self.entry_price * (1 - self.p.tp_percent)\n",
    "\t\t\t\t\t\tlog_entry['sl_price'] = self.entry_price * (1 + self.p.sl_percent)\n",
    "\t\t\t\t\t\tlog_entry['note'] = self.status[order.status]\n",
    "\n",
    "\n",
    "\t\t\telif order.status == bt.Order.Canceled:\n",
    "\t\t\t\tlog_entry['note'] = 'Canceled by system'\n",
    "\t\t\telif order.status == bt.Order.Rejected:\n",
    "\t\t\t\tlog_entry['note'] = 'Rejected by broker (margin?)'\n",
    "\t\t\telif order.status == bt.Order.Expired:\n",
    "\t\t\t\tlog_entry['note'] = 'Expired before execution'\n",
    "\t\t\t\n",
    "\n",
    "\n",
    "\t\t\tself.logs_list.append(log_entry)\n",
    "\n",
    "\n",
    "\tdef stop(self):\n",
    "\t\tdf = pd.DataFrame(self.logs_list)\n",
    "\t\tdf.to_csv('tradelog.csv', index=False)\n"
   ]
  },
  {
   "cell_type": "markdown",
   "metadata": {},
   "source": [
    "## Run Backtesting"
   ]
  },
  {
   "cell_type": "code",
   "execution_count": 160,
   "metadata": {},
   "outputs": [],
   "source": [
    "# data = data[['Open', \"High\", \"Low\",  \"Close\", \"Volume\", ]]"
   ]
  },
  {
   "cell_type": "code",
   "execution_count": 161,
   "metadata": {
    "execution": {
     "iopub.execute_input": "2025-07-31T03:33:50.125840Z",
     "iopub.status.busy": "2025-07-31T03:33:50.125224Z",
     "iopub.status.idle": "2025-07-31T03:33:51.441829Z",
     "shell.execute_reply": "2025-07-31T03:33:51.441116Z",
     "shell.execute_reply.started": "2025-07-31T03:33:50.125807Z"
    },
    "trusted": true
   },
   "outputs": [
    {
     "name": "stdout",
     "output_type": "stream",
     "text": [
      "2024-03-22T05:45:00 | BUY Completed | Price: 1.0839 | Cost: 10.0000 | Comm 0.0000\n",
      "2024-04-12T00:05:00 | SELL Completed | Price: 1.0726 | Cost: 10.0000 | Comm 0.0000\n",
      "2024-04-12T00:05:00 | TRADE PROFIT | GROSS -0.0011  | NET -0.0011\n",
      "2024-04-12T00:10:00 | SELL Completed | Price: 1.0727 | Cost: 10.0000 | Comm 0.0000\n",
      "2024-04-17T00:05:00 | BUY Completed | Price: 1.0615 | Cost: 10.0000 | Comm 0.0000\n",
      "2024-04-17T00:05:00 | TRADE PROFIT | GROSS 0.0011  | NET 0.0011\n",
      "2024-04-17T00:10:00 | SELL Completed | Price: 1.0617 | Cost: 10.0000 | Comm 0.0000\n",
      "2024-04-26T00:05:00 | BUY Completed | Price: 1.0727 | Cost: 10.0000 | Comm 0.0000\n",
      "2024-04-26T00:05:00 | TRADE PROFIT | GROSS -0.0011  | NET -0.0011\n",
      "2024-04-26T00:10:00 | BUY Completed | Price: 1.0728 | Cost: 10.0000 | Comm 0.0000\n",
      "2024-05-16T00:05:00 | SELL Completed | Price: 1.0883 | Cost: 10.0000 | Comm 0.0000\n",
      "2024-05-16T00:05:00 | TRADE PROFIT | GROSS 0.0016  | NET 0.0016\n",
      "2024-05-16T00:10:00 | BUY Completed | Price: 1.0883 | Cost: 10.0000 | Comm 0.0000\n",
      "2024-06-10T00:05:00 | SELL Completed | Price: 1.0767 | Cost: 10.0000 | Comm 0.0000\n",
      "2024-06-10T00:05:00 | TRADE PROFIT | GROSS -0.0012  | NET -0.0012\n",
      "2024-06-10T00:10:00 | BUY Completed | Price: 1.0765 | Cost: 10.0000 | Comm 0.0000\n",
      "2024-07-15T00:05:00 | SELL Completed | Price: 1.0882 | Cost: 10.0000 | Comm 0.0000\n",
      "2024-07-15T00:05:00 | TRADE PROFIT | GROSS 0.0012  | NET 0.0012\n",
      "2024-07-15T00:10:00 | BUY Completed | Price: 1.0884 | Cost: 10.0000 | Comm 0.0000\n",
      "2024-08-14T00:20:00 | SELL Completed | Price: 1.0993 | Cost: 10.0000 | Comm 0.0000\n",
      "2024-08-14T00:20:00 | TRADE PROFIT | GROSS 0.0011  | NET 0.0011\n",
      "2024-08-14T00:30:00 | SELL Completed | Price: 1.0992 | Cost: 10.0000 | Comm 0.0000\n",
      "2024-08-21T00:05:00 | BUY Completed | Price: 1.1126 | Cost: 10.0000 | Comm 0.0000\n",
      "2024-08-21T00:05:00 | TRADE PROFIT | GROSS -0.0013  | NET -0.0013\n",
      "2024-08-21T00:10:00 | SELL Completed | Price: 1.1125 | Cost: 10.0000 | Comm 0.0000\n",
      "2024-09-12T00:05:00 | BUY Completed | Price: 1.1012 | Cost: 10.0000 | Comm 0.0000\n",
      "2024-09-12T00:05:00 | TRADE PROFIT | GROSS 0.0011  | NET 0.0011\n",
      "2024-09-12T00:15:00 | SELL Completed | Price: 1.1014 | Cost: 10.0000 | Comm 0.0000\n",
      "2024-09-17T00:05:00 | BUY Completed | Price: 1.1132 | Cost: 10.0000 | Comm 0.0000\n",
      "2024-09-17T00:05:00 | TRADE PROFIT | GROSS -0.0012  | NET -0.0012\n",
      "2024-09-17T00:15:00 | BUY Completed | Price: 1.1132 | Cost: 10.0000 | Comm 0.0000\n",
      "2024-10-07T00:05:00 | SELL Completed | Price: 1.0963 | Cost: 10.0000 | Comm 0.0000\n",
      "2024-10-07T00:05:00 | TRADE PROFIT | GROSS -0.0017  | NET -0.0017\n",
      "2024-10-07T00:10:00 | SELL Completed | Price: 1.0965 | Cost: 10.0000 | Comm 0.0000\n",
      "2024-10-18T00:05:00 | BUY Completed | Price: 1.0826 | Cost: 10.0000 | Comm 0.0000\n",
      "2024-10-18T00:05:00 | TRADE PROFIT | GROSS 0.0014  | NET 0.0014\n",
      "2024-10-18T00:15:00 | SELL Completed | Price: 1.0829 | Cost: 10.0000 | Comm 0.0000\n",
      "2024-11-11T00:05:00 | BUY Completed | Price: 1.0707 | Cost: 10.0000 | Comm 0.0000\n",
      "2024-11-11T00:05:00 | TRADE PROFIT | GROSS 0.0012  | NET 0.0012\n",
      "2024-11-11T00:10:00 | SELL Completed | Price: 1.0711 | Cost: 10.0000 | Comm 0.0000\n",
      "2024-11-14T00:05:00 | BUY Completed | Price: 1.0561 | Cost: 10.0000 | Comm 0.0000\n",
      "2024-11-14T00:05:00 | TRADE PROFIT | GROSS 0.0015  | NET 0.0015\n",
      "2024-11-14T00:10:00 | BUY Completed | Price: 1.0562 | Cost: 10.0000 | Comm 0.0000\n",
      "2024-12-19T00:05:00 | SELL Completed | Price: 1.0348 | Cost: 10.0000 | Comm 0.0000\n",
      "2024-12-19T00:05:00 | TRADE PROFIT | GROSS -0.0021  | NET -0.0021\n",
      "2024-12-19T00:20:00 | SELL Completed | Price: 1.0349 | Cost: 10.0000 | Comm 0.0000\n",
      "2025-01-13T00:05:00 | BUY Completed | Price: 1.0234 | Cost: 10.0000 | Comm 0.0000\n",
      "2025-01-13T00:05:00 | TRADE PROFIT | GROSS 0.0012  | NET 0.0012\n",
      "2025-01-13T00:10:00 | BUY Completed | Price: 1.0240 | Cost: 10.0000 | Comm 0.0000\n",
      "2025-01-21T00:05:00 | SELL Completed | Price: 1.0409 | Cost: 10.0000 | Comm 0.0000\n",
      "2025-01-21T00:05:00 | TRADE PROFIT | GROSS 0.0017  | NET 0.0017\n",
      "2025-01-21T00:15:00 | BUY Completed | Price: 1.0415 | Cost: 10.0000 | Comm 0.0000\n",
      "2025-02-03T00:05:00 | SELL Completed | Price: 1.0239 | Cost: 10.0000 | Comm 0.0000\n",
      "2025-02-03T00:05:00 | TRADE PROFIT | GROSS -0.0018  | NET -0.0018\n",
      "2025-02-03T00:15:00 | BUY Completed | Price: 1.0252 | Cost: 10.0000 | Comm 0.0000\n",
      "2025-02-05T00:05:00 | SELL Completed | Price: 1.0375 | Cost: 10.0000 | Comm 0.0000\n",
      "2025-02-05T00:05:00 | TRADE PROFIT | GROSS 0.0012  | NET 0.0012\n",
      "2025-02-05T00:10:00 | SELL Completed | Price: 1.0375 | Cost: 10.0000 | Comm 0.0000\n",
      "2025-02-17T00:05:00 | BUY Completed | Price: 1.0485 | Cost: 10.0000 | Comm 0.0000\n",
      "2025-02-17T00:05:00 | TRADE PROFIT | GROSS -0.0011  | NET -0.0011\n",
      "2025-02-17T00:10:00 | SELL Completed | Price: 1.0486 | Cost: 10.0000 | Comm 0.0000\n",
      "2025-03-05T00:05:00 | BUY Completed | Price: 1.0621 | Cost: 10.0000 | Comm 0.0000\n",
      "2025-03-05T00:05:00 | TRADE PROFIT | GROSS -0.0014  | NET -0.0014\n",
      "2025-03-05T00:10:00 | BUY Completed | Price: 1.0622 | Cost: 10.0000 | Comm 0.0000\n",
      "2025-03-06T00:05:00 | SELL Completed | Price: 1.0788 | Cost: 10.0000 | Comm 0.0000\n",
      "2025-03-06T00:05:00 | TRADE PROFIT | GROSS 0.0017  | NET 0.0017\n",
      "2025-03-06T00:10:00 | SELL Completed | Price: 1.0788 | Cost: 10.0000 | Comm 0.0000\n",
      "2025-03-12T00:05:00 | BUY Completed | Price: 1.0915 | Cost: 10.0000 | Comm 0.0000\n",
      "2025-03-12T00:05:00 | TRADE PROFIT | GROSS -0.0013  | NET -0.0013\n",
      "2025-03-12T00:10:00 | BUY Completed | Price: 1.0915 | Cost: 10.0000 | Comm 0.0000\n",
      "2025-03-25T00:05:00 | SELL Completed | Price: 1.0801 | Cost: 10.0000 | Comm 0.0000\n",
      "2025-03-25T00:05:00 | TRADE PROFIT | GROSS -0.0011  | NET -0.0011\n",
      "2025-03-25T00:10:00 | BUY Completed | Price: 1.0800 | Cost: 10.0000 | Comm 0.0000\n",
      "2025-04-04T00:05:00 | SELL Completed | Price: 1.1048 | Cost: 10.0000 | Comm 0.0000\n",
      "2025-04-04T00:05:00 | TRADE PROFIT | GROSS 0.0025  | NET 0.0025\n",
      "2025-04-04T00:10:00 | BUY Completed | Price: 1.1048 | Cost: 10.0000 | Comm 0.0000\n",
      "2025-04-07T00:05:00 | SELL Completed | Price: 1.0889 | Cost: 10.0000 | Comm 0.0000\n",
      "2025-04-07T00:05:00 | TRADE PROFIT | GROSS -0.0016  | NET -0.0016\n",
      "2025-04-07T00:20:00 | SELL Completed | Price: 1.0884 | Cost: 10.0000 | Comm 0.0000\n",
      "2025-04-11T00:05:00 | BUY Completed | Price: 1.1189 | Cost: 10.0000 | Comm 0.0000\n",
      "2025-04-11T00:05:00 | TRADE PROFIT | GROSS -0.0030  | NET -0.0030\n",
      "2025-04-11T00:25:00 | BUY Completed | Price: 1.1195 | Cost: 10.0000 | Comm 0.0000\n",
      "2025-04-14T00:05:00 | SELL Completed | Price: 1.1312 | Cost: 10.0000 | Comm 0.0000\n",
      "2025-04-14T00:05:00 | TRADE PROFIT | GROSS 0.0012  | NET 0.0012\n",
      "2025-04-14T00:15:00 | BUY Completed | Price: 1.1316 | Cost: 10.0000 | Comm 0.0000\n",
      "2025-04-22T00:05:00 | SELL Completed | Price: 1.1508 | Cost: 10.0000 | Comm 0.0000\n",
      "2025-04-22T00:05:00 | TRADE PROFIT | GROSS 0.0019  | NET 0.0019\n",
      "2025-04-22T00:10:00 | BUY Completed | Price: 1.1510 | Cost: 10.0000 | Comm 0.0000\n",
      "2025-04-23T00:35:00 | SELL Completed | Price: 1.1385 | Cost: 10.0000 | Comm 0.0000\n",
      "2025-04-23T00:35:00 | TRADE PROFIT | GROSS -0.0012  | NET -0.0012\n",
      "2025-04-23T00:40:00 | SELL Completed | Price: 1.1377 | Cost: 10.0000 | Comm 0.0000\n",
      "2025-05-09T00:05:00 | BUY Completed | Price: 1.1221 | Cost: 10.0000 | Comm 0.0000\n",
      "2025-05-09T00:05:00 | TRADE PROFIT | GROSS 0.0016  | NET 0.0016\n",
      "2025-05-09T00:10:00 | BUY Completed | Price: 1.1224 | Cost: 10.0000 | Comm 0.0000\n",
      "2025-05-13T00:05:00 | SELL Completed | Price: 1.1088 | Cost: 10.0000 | Comm 0.0000\n",
      "2025-05-13T00:05:00 | TRADE PROFIT | GROSS -0.0014  | NET -0.0014\n",
      "2025-05-13T00:10:00 | SELL Completed | Price: 1.1088 | Cost: 10.0000 | Comm 0.0000\n",
      "2025-05-20T00:05:00 | BUY Completed | Price: 1.1237 | Cost: 10.0000 | Comm 0.0000\n",
      "2025-05-20T00:05:00 | TRADE PROFIT | GROSS -0.0015  | NET -0.0015\n",
      "2025-05-20T00:20:00 | BUY Completed | Price: 1.1240 | Cost: 10.0000 | Comm 0.0000\n",
      "2025-05-26T00:05:00 | SELL Completed | Price: 1.1364 | Cost: 10.0000 | Comm 0.0000\n",
      "2025-05-26T00:05:00 | TRADE PROFIT | GROSS 0.0012  | NET 0.0012\n",
      "2025-05-26T00:10:00 | BUY Completed | Price: 1.1362 | Cost: 10.0000 | Comm 0.0000\n",
      "2025-06-12T00:05:00 | SELL Completed | Price: 1.1484 | Cost: 10.0000 | Comm 0.0000\n",
      "2025-06-12T00:05:00 | TRADE PROFIT | GROSS 0.0012  | NET 0.0012\n",
      "2025-06-12T00:15:00 | BUY Completed | Price: 1.1483 | Cost: 10.0000 | Comm 0.0000\n",
      "2025-06-25T00:05:00 | SELL Completed | Price: 1.1608 | Cost: 10.0000 | Comm 0.0000\n",
      "2025-06-25T00:05:00 | TRADE PROFIT | GROSS 0.0013  | NET 0.0013\n",
      "2025-06-25T00:15:00 | BUY Completed | Price: 1.1605 | Cost: 10.0000 | Comm 0.0000\n",
      "2025-06-30T00:05:00 | SELL Completed | Price: 1.1729 | Cost: 10.0000 | Comm 0.0000\n",
      "2025-06-30T00:05:00 | TRADE PROFIT | GROSS 0.0012  | NET 0.0012\n",
      "2025-06-30T00:10:00 | SELL Completed | Price: 1.1721 | Cost: 10.0000 | Comm 0.0000\n",
      "2025-07-16T00:05:00 | BUY Completed | Price: 1.1598 | Cost: 10.0000 | Comm 0.0000\n",
      "2025-07-16T00:05:00 | TRADE PROFIT | GROSS 0.0012  | NET 0.0012\n",
      "2025-07-16T00:10:00 | BUY Completed | Price: 1.1598 | Cost: 10.0000 | Comm 0.0000\n",
      "2025-07-23T00:05:00 | SELL Completed | Price: 1.1753 | Cost: 10.0000 | Comm 0.0000\n",
      "2025-07-23T00:05:00 | TRADE PROFIT | GROSS 0.0015  | NET 0.0015\n",
      "2025-07-23T00:25:00 | BUY Completed | Price: 1.1748 | Cost: 10.0000 | Comm 0.0000\n"
     ]
    }
   ],
   "source": [
    "# 4. Feed into backtrader\n",
    "trade_data = PandasSignalData(dataname=data) # type: ignore\n",
    "\n",
    "\n",
    "\n",
    "cerebro = bt.Cerebro()\n",
    "cerebro.adddata(trade_data)\n",
    "cerebro.addstrategy(TestStrategy)\n",
    "\n",
    "cerebro.broker.setcommission(\n",
    "\tcommission= 0., margin=10_000, mult=100)\n",
    "\n",
    "\n",
    "cerebro.broker.setcash(100_000)\n",
    "\n",
    "cerebro.addanalyzer(bt.analyzers.SharpeRatio,\n",
    "\t\t\t\t\t _name='sharpe', \n",
    "\t\t\t\t\t timeframe=bt.TimeFrame.Days,  # type: ignore\n",
    "\t\t\t\t\t#  riskfreerate = 1e-1, \n",
    "\t\t\t\t\t#  compression = 5\n",
    "\t\t\t\t\t )\n",
    "cerebro.addanalyzer(bt.analyzers.DrawDown, _name='drawdown')\n",
    "cerebro.addanalyzer(bt.analyzers.TradeAnalyzer, _name='trades')\n",
    "cerebro.addanalyzer(bt.analyzers.Returns, _name='returns')\n",
    "cerebro.addwriter(bt.writer.WriterFile,out= 'results.csv', csv=True , close_out= True)\n",
    "\n",
    "cerebro.broker.set_shortcash(True)\n",
    "\n",
    "\n",
    "results = cerebro.run()\n",
    "strategy = results[0]\n",
    "\n",
    "\n",
    "sharpe = strategy .analyzers.sharpe.get_analysis()\n",
    "drawdown = strategy .analyzers.drawdown.get_analysis()\n",
    "\n",
    "trades = strategy .analyzers.trades.get_analysis()\n",
    "returns = strategy .analyzers.returns.get_analysis()\n",
    "\n",
    "\n"
   ]
  },
  {
   "cell_type": "markdown",
   "metadata": {},
   "source": [
    "## Eval Strategy"
   ]
  },
  {
   "cell_type": "markdown",
   "metadata": {},
   "source": [
    "## strategy Stats"
   ]
  },
  {
   "cell_type": "code",
   "execution_count": 162,
   "metadata": {
    "execution": {
     "iopub.execute_input": "2025-07-31T03:30:49.995839Z",
     "iopub.status.busy": "2025-07-31T03:30:49.995563Z",
     "iopub.status.idle": "2025-07-31T03:30:50.001011Z",
     "shell.execute_reply": "2025-07-31T03:30:50.000263Z",
     "shell.execute_reply.started": "2025-07-31T03:30:49.995820Z"
    },
    "trusted": true
   },
   "outputs": [
    {
     "data": {
      "text/html": [
       "<div>\n",
       "<style scoped>\n",
       "    .dataframe tbody tr th:only-of-type {\n",
       "        vertical-align: middle;\n",
       "    }\n",
       "\n",
       "    .dataframe tbody tr th {\n",
       "        vertical-align: top;\n",
       "    }\n",
       "\n",
       "    .dataframe thead th {\n",
       "        text-align: right;\n",
       "    }\n",
       "</style>\n",
       "<table border=\"1\" class=\"dataframe\">\n",
       "  <thead>\n",
       "    <tr style=\"text-align: right;\">\n",
       "      <th></th>\n",
       "      <th>value</th>\n",
       "    </tr>\n",
       "  </thead>\n",
       "  <tbody>\n",
       "    <tr>\n",
       "      <th>Starting Value</th>\n",
       "      <td>1.000000e+05</td>\n",
       "    </tr>\n",
       "    <tr>\n",
       "      <th>Final Value</th>\n",
       "      <td>1.000000e+05</td>\n",
       "    </tr>\n",
       "    <tr>\n",
       "      <th>gross</th>\n",
       "      <td>5.689000e-03</td>\n",
       "    </tr>\n",
       "    <tr>\n",
       "      <th>PnL Tot</th>\n",
       "      <td>5.655000e-03</td>\n",
       "    </tr>\n",
       "    <tr>\n",
       "      <th>PnL Avg</th>\n",
       "      <td>1.450000e-04</td>\n",
       "    </tr>\n",
       "    <tr>\n",
       "      <th>won</th>\n",
       "      <td>2.200000e+01</td>\n",
       "    </tr>\n",
       "    <tr>\n",
       "      <th>lost</th>\n",
       "      <td>1.700000e+01</td>\n",
       "    </tr>\n",
       "    <tr>\n",
       "      <th>Buy Orders</th>\n",
       "      <td>2.300000e+01</td>\n",
       "    </tr>\n",
       "    <tr>\n",
       "      <th>Sell Orders</th>\n",
       "      <td>1.600000e+01</td>\n",
       "    </tr>\n",
       "    <tr>\n",
       "      <th>Total Orders</th>\n",
       "      <td>4.000000e+01</td>\n",
       "    </tr>\n",
       "    <tr>\n",
       "      <th>Buy/T (%)</th>\n",
       "      <td>5.897000e+01</td>\n",
       "    </tr>\n",
       "    <tr>\n",
       "      <th>Sell/T (%)</th>\n",
       "      <td>4.103000e+01</td>\n",
       "    </tr>\n",
       "    <tr>\n",
       "      <th>totral return</th>\n",
       "      <td>5.689000e-08</td>\n",
       "    </tr>\n",
       "    <tr>\n",
       "      <th>Avg return</th>\n",
       "      <td>1.620798e-10</td>\n",
       "    </tr>\n",
       "    <tr>\n",
       "      <th>Sharpe Ratio</th>\n",
       "      <td>-7.691852e+03</td>\n",
       "    </tr>\n",
       "    <tr>\n",
       "      <th>Max Drawdown (%)</th>\n",
       "      <td>0.000000e+00</td>\n",
       "    </tr>\n",
       "    <tr>\n",
       "      <th>Net Profit (%)</th>\n",
       "      <td>0.000000e+00</td>\n",
       "    </tr>\n",
       "    <tr>\n",
       "      <th>Win Rate (%)</th>\n",
       "      <td>5.500000e+01</td>\n",
       "    </tr>\n",
       "  </tbody>\n",
       "</table>\n",
       "</div>"
      ],
      "text/plain": [
       "                         value\n",
       "Starting Value    1.000000e+05\n",
       "Final Value       1.000000e+05\n",
       "gross             5.689000e-03\n",
       "PnL Tot           5.655000e-03\n",
       "PnL Avg           1.450000e-04\n",
       "won               2.200000e+01\n",
       "lost              1.700000e+01\n",
       "Buy Orders        2.300000e+01\n",
       "Sell Orders       1.600000e+01\n",
       "Total Orders      4.000000e+01\n",
       "Buy/T (%)         5.897000e+01\n",
       "Sell/T (%)        4.103000e+01\n",
       "totral return     5.689000e-08\n",
       "Avg return        1.620798e-10\n",
       "Sharpe Ratio     -7.691852e+03\n",
       "Max Drawdown (%)  0.000000e+00\n",
       "Net Profit (%)    0.000000e+00\n",
       "Win Rate (%)      5.500000e+01"
      ]
     },
     "execution_count": 162,
     "metadata": {},
     "output_type": "execute_result"
    }
   ],
   "source": [
    "\n",
    "trade_stats = {\n",
    "\t\"Starting Value\" :[cerebro.broker.startingcash],\n",
    "\t\"Final Value\": [cerebro.broker._valuelever],\n",
    "    'gross' : [cerebro.broker._valuelever - cerebro.broker.startingcash],\n",
    "\t\"PnL Tot\" : [trades['pnl']['gross']['total']],\n",
    "\t\"PnL Avg\" : [trades['pnl']['gross']['average']],\n",
    "\t'won' : [trades['won']['total']],\n",
    "\t'lost' : [trades['lost']['total']],\n",
    "\n",
    "\t\"Buy Orders\": [trades['long']['total']],\n",
    "\t\"Sell Orders\": [trades['short']['total']],\n",
    "\t\"Total Orders\": [trades['total']['total']],\n",
    "\t'Buy/T (%)' : [np.round(trades['long']['total'] / (trades['long']['total'] + trades['short']['total']) , 4)*100],\n",
    "\t'Sell/T (%)' : [ np.round(trades['short']['total'] / (trades['long']['total'] + trades['short']['total']) ,4)*100 ], \n",
    "\t'totral return'  : [returns['rtot']],\n",
    "\t'Avg return' : [returns['ravg']],\n",
    "\t\"Sharpe Ratio\": [round(sharpe.get('sharperatio', float('nan')), 4)],\n",
    "\t\"Max Drawdown (%)\": [round(drawdown.max.drawdown, 2)],\n",
    "\t\"Net Profit (%)\": [round(returns['rtot'] * 100, 2)],\n",
    "\t\"Win Rate (%)\": [round(trades['won']['total'] / trades['total']['total'] * 100, 10)]\n",
    "}\n",
    "\n",
    "trade_stats = pd.DataFrame(trade_stats, index = ['value']).T\n",
    "trade_stats\n",
    "\n"
   ]
  },
  {
   "cell_type": "code",
   "execution_count": 163,
   "metadata": {
    "execution": {
     "iopub.execute_input": "2025-07-31T03:14:11.238113Z",
     "iopub.status.busy": "2025-07-31T03:14:11.237798Z",
     "iopub.status.idle": "2025-07-31T03:14:12.363500Z",
     "shell.execute_reply": "2025-07-31T03:14:12.362541Z",
     "shell.execute_reply.started": "2025-07-31T03:14:11.238082Z"
    },
    "trusted": true
   },
   "outputs": [
    {
     "data": {
      "application/javascript": "/* Put everything inside the global mpl namespace */\n/* global mpl */\nwindow.mpl = {};\n\nmpl.get_websocket_type = function () {\n    if (typeof WebSocket !== 'undefined') {\n        return WebSocket;\n    } else if (typeof MozWebSocket !== 'undefined') {\n        return MozWebSocket;\n    } else {\n        alert(\n            'Your browser does not have WebSocket support. ' +\n                'Please try Chrome, Safari or Firefox ≥ 6. ' +\n                'Firefox 4 and 5 are also supported but you ' +\n                'have to enable WebSockets in about:config.'\n        );\n    }\n};\n\nmpl.figure = function (figure_id, websocket, ondownload, parent_element) {\n    this.id = figure_id;\n\n    this.ws = websocket;\n\n    this.supports_binary = this.ws.binaryType !== undefined;\n\n    if (!this.supports_binary) {\n        var warnings = document.getElementById('mpl-warnings');\n        if (warnings) {\n            warnings.style.display = 'block';\n            warnings.textContent =\n                'This browser does not support binary websocket messages. ' +\n                'Performance may be slow.';\n        }\n    }\n\n    this.imageObj = new Image();\n\n    this.context = undefined;\n    this.message = undefined;\n    this.canvas = undefined;\n    this.rubberband_canvas = undefined;\n    this.rubberband_context = undefined;\n    this.format_dropdown = undefined;\n\n    this.image_mode = 'full';\n\n    this.root = document.createElement('div');\n    this.root.setAttribute('style', 'display: inline-block');\n    this._root_extra_style(this.root);\n\n    parent_element.appendChild(this.root);\n\n    this._init_header(this);\n    this._init_canvas(this);\n    this._init_toolbar(this);\n\n    var fig = this;\n\n    this.waiting = false;\n\n    this.ws.onopen = function () {\n        fig.send_message('supports_binary', { value: fig.supports_binary });\n        fig.send_message('send_image_mode', {});\n        if (fig.ratio !== 1) {\n            fig.send_message('set_device_pixel_ratio', {\n                device_pixel_ratio: fig.ratio,\n            });\n        }\n        fig.send_message('refresh', {});\n    };\n\n    this.imageObj.onload = function () {\n        if (fig.image_mode === 'full') {\n            // Full images could contain transparency (where diff images\n            // almost always do), so we need to clear the canvas so that\n            // there is no ghosting.\n            fig.context.clearRect(0, 0, fig.canvas.width, fig.canvas.height);\n        }\n        fig.context.drawImage(fig.imageObj, 0, 0);\n    };\n\n    this.imageObj.onunload = function () {\n        fig.ws.close();\n    };\n\n    this.ws.onmessage = this._make_on_message_function(this);\n\n    this.ondownload = ondownload;\n};\n\nmpl.figure.prototype._init_header = function () {\n    var titlebar = document.createElement('div');\n    titlebar.classList =\n        'ui-dialog-titlebar ui-widget-header ui-corner-all ui-helper-clearfix';\n    var titletext = document.createElement('div');\n    titletext.classList = 'ui-dialog-title';\n    titletext.setAttribute(\n        'style',\n        'width: 100%; text-align: center; padding: 3px;'\n    );\n    titlebar.appendChild(titletext);\n    this.root.appendChild(titlebar);\n    this.header = titletext;\n};\n\nmpl.figure.prototype._canvas_extra_style = function (_canvas_div) {};\n\nmpl.figure.prototype._root_extra_style = function (_canvas_div) {};\n\nmpl.figure.prototype._init_canvas = function () {\n    var fig = this;\n\n    var canvas_div = (this.canvas_div = document.createElement('div'));\n    canvas_div.setAttribute('tabindex', '0');\n    canvas_div.setAttribute(\n        'style',\n        'border: 1px solid #ddd;' +\n            'box-sizing: content-box;' +\n            'clear: both;' +\n            'min-height: 1px;' +\n            'min-width: 1px;' +\n            'outline: 0;' +\n            'overflow: hidden;' +\n            'position: relative;' +\n            'resize: both;' +\n            'z-index: 2;'\n    );\n\n    function on_keyboard_event_closure(name) {\n        return function (event) {\n            return fig.key_event(event, name);\n        };\n    }\n\n    canvas_div.addEventListener(\n        'keydown',\n        on_keyboard_event_closure('key_press')\n    );\n    canvas_div.addEventListener(\n        'keyup',\n        on_keyboard_event_closure('key_release')\n    );\n\n    this._canvas_extra_style(canvas_div);\n    this.root.appendChild(canvas_div);\n\n    var canvas = (this.canvas = document.createElement('canvas'));\n    canvas.classList.add('mpl-canvas');\n    canvas.setAttribute(\n        'style',\n        'box-sizing: content-box;' +\n            'pointer-events: none;' +\n            'position: relative;' +\n            'z-index: 0;'\n    );\n\n    this.context = canvas.getContext('2d');\n\n    var backingStore =\n        this.context.backingStorePixelRatio ||\n        this.context.webkitBackingStorePixelRatio ||\n        this.context.mozBackingStorePixelRatio ||\n        this.context.msBackingStorePixelRatio ||\n        this.context.oBackingStorePixelRatio ||\n        this.context.backingStorePixelRatio ||\n        1;\n\n    this.ratio = (window.devicePixelRatio || 1) / backingStore;\n\n    var rubberband_canvas = (this.rubberband_canvas = document.createElement(\n        'canvas'\n    ));\n    rubberband_canvas.setAttribute(\n        'style',\n        'box-sizing: content-box;' +\n            'left: 0;' +\n            'pointer-events: none;' +\n            'position: absolute;' +\n            'top: 0;' +\n            'z-index: 1;'\n    );\n\n    // Apply a ponyfill if ResizeObserver is not implemented by browser.\n    if (this.ResizeObserver === undefined) {\n        if (window.ResizeObserver !== undefined) {\n            this.ResizeObserver = window.ResizeObserver;\n        } else {\n            var obs = _JSXTOOLS_RESIZE_OBSERVER({});\n            this.ResizeObserver = obs.ResizeObserver;\n        }\n    }\n\n    this.resizeObserverInstance = new this.ResizeObserver(function (entries) {\n        // There's no need to resize if the WebSocket is not connected:\n        // - If it is still connecting, then we will get an initial resize from\n        //   Python once it connects.\n        // - If it has disconnected, then resizing will clear the canvas and\n        //   never get anything back to refill it, so better to not resize and\n        //   keep something visible.\n        if (fig.ws.readyState != 1) {\n            return;\n        }\n        var nentries = entries.length;\n        for (var i = 0; i < nentries; i++) {\n            var entry = entries[i];\n            var width, height;\n            if (entry.contentBoxSize) {\n                if (entry.contentBoxSize instanceof Array) {\n                    // Chrome 84 implements new version of spec.\n                    width = entry.contentBoxSize[0].inlineSize;\n                    height = entry.contentBoxSize[0].blockSize;\n                } else {\n                    // Firefox implements old version of spec.\n                    width = entry.contentBoxSize.inlineSize;\n                    height = entry.contentBoxSize.blockSize;\n                }\n            } else {\n                // Chrome <84 implements even older version of spec.\n                width = entry.contentRect.width;\n                height = entry.contentRect.height;\n            }\n\n            // Keep the size of the canvas and rubber band canvas in sync with\n            // the canvas container.\n            if (entry.devicePixelContentBoxSize) {\n                // Chrome 84 implements new version of spec.\n                canvas.setAttribute(\n                    'width',\n                    entry.devicePixelContentBoxSize[0].inlineSize\n                );\n                canvas.setAttribute(\n                    'height',\n                    entry.devicePixelContentBoxSize[0].blockSize\n                );\n            } else {\n                canvas.setAttribute('width', width * fig.ratio);\n                canvas.setAttribute('height', height * fig.ratio);\n            }\n            /* This rescales the canvas back to display pixels, so that it\n             * appears correct on HiDPI screens. */\n            canvas.style.width = width + 'px';\n            canvas.style.height = height + 'px';\n\n            rubberband_canvas.setAttribute('width', width);\n            rubberband_canvas.setAttribute('height', height);\n\n            // And update the size in Python. We ignore the initial 0/0 size\n            // that occurs as the element is placed into the DOM, which should\n            // otherwise not happen due to the minimum size styling.\n            if (width != 0 && height != 0) {\n                fig.request_resize(width, height);\n            }\n        }\n    });\n    this.resizeObserverInstance.observe(canvas_div);\n\n    function on_mouse_event_closure(name) {\n        /* User Agent sniffing is bad, but WebKit is busted:\n         * https://bugs.webkit.org/show_bug.cgi?id=144526\n         * https://bugs.webkit.org/show_bug.cgi?id=181818\n         * The worst that happens here is that they get an extra browser\n         * selection when dragging, if this check fails to catch them.\n         */\n        var UA = navigator.userAgent;\n        var isWebKit = /AppleWebKit/.test(UA) && !/Chrome/.test(UA);\n        if(isWebKit) {\n            return function (event) {\n                /* This prevents the web browser from automatically changing to\n                 * the text insertion cursor when the button is pressed. We\n                 * want to control all of the cursor setting manually through\n                 * the 'cursor' event from matplotlib */\n                event.preventDefault()\n                return fig.mouse_event(event, name);\n            };\n        } else {\n            return function (event) {\n                return fig.mouse_event(event, name);\n            };\n        }\n    }\n\n    canvas_div.addEventListener(\n        'mousedown',\n        on_mouse_event_closure('button_press')\n    );\n    canvas_div.addEventListener(\n        'mouseup',\n        on_mouse_event_closure('button_release')\n    );\n    canvas_div.addEventListener(\n        'dblclick',\n        on_mouse_event_closure('dblclick')\n    );\n    // Throttle sequential mouse events to 1 every 20ms.\n    canvas_div.addEventListener(\n        'mousemove',\n        on_mouse_event_closure('motion_notify')\n    );\n\n    canvas_div.addEventListener(\n        'mouseenter',\n        on_mouse_event_closure('figure_enter')\n    );\n    canvas_div.addEventListener(\n        'mouseleave',\n        on_mouse_event_closure('figure_leave')\n    );\n\n    canvas_div.addEventListener('wheel', function (event) {\n        if (event.deltaY < 0) {\n            event.step = 1;\n        } else {\n            event.step = -1;\n        }\n        on_mouse_event_closure('scroll')(event);\n    });\n\n    canvas_div.appendChild(canvas);\n    canvas_div.appendChild(rubberband_canvas);\n\n    this.rubberband_context = rubberband_canvas.getContext('2d');\n    this.rubberband_context.strokeStyle = '#000000';\n\n    this._resize_canvas = function (width, height, forward) {\n        if (forward) {\n            canvas_div.style.width = width + 'px';\n            canvas_div.style.height = height + 'px';\n        }\n    };\n\n    // Disable right mouse context menu.\n    canvas_div.addEventListener('contextmenu', function (_e) {\n        event.preventDefault();\n        return false;\n    });\n\n    function set_focus() {\n        canvas.focus();\n        canvas_div.focus();\n    }\n\n    window.setTimeout(set_focus, 100);\n};\n\nmpl.figure.prototype._init_toolbar = function () {\n    var fig = this;\n\n    var toolbar = document.createElement('div');\n    toolbar.classList = 'mpl-toolbar';\n    this.root.appendChild(toolbar);\n\n    function on_click_closure(name) {\n        return function (_event) {\n            return fig.toolbar_button_onclick(name);\n        };\n    }\n\n    function on_mouseover_closure(tooltip) {\n        return function (event) {\n            if (!event.currentTarget.disabled) {\n                return fig.toolbar_button_onmouseover(tooltip);\n            }\n        };\n    }\n\n    fig.buttons = {};\n    var buttonGroup = document.createElement('div');\n    buttonGroup.classList = 'mpl-button-group';\n    for (var toolbar_ind in mpl.toolbar_items) {\n        var name = mpl.toolbar_items[toolbar_ind][0];\n        var tooltip = mpl.toolbar_items[toolbar_ind][1];\n        var image = mpl.toolbar_items[toolbar_ind][2];\n        var method_name = mpl.toolbar_items[toolbar_ind][3];\n\n        if (!name) {\n            /* Instead of a spacer, we start a new button group. */\n            if (buttonGroup.hasChildNodes()) {\n                toolbar.appendChild(buttonGroup);\n            }\n            buttonGroup = document.createElement('div');\n            buttonGroup.classList = 'mpl-button-group';\n            continue;\n        }\n\n        var button = (fig.buttons[name] = document.createElement('button'));\n        button.classList = 'mpl-widget';\n        button.setAttribute('role', 'button');\n        button.setAttribute('aria-disabled', 'false');\n        button.addEventListener('click', on_click_closure(method_name));\n        button.addEventListener('mouseover', on_mouseover_closure(tooltip));\n\n        var icon_img = document.createElement('img');\n        icon_img.src = '_images/' + image + '.png';\n        icon_img.srcset = '_images/' + image + '_large.png 2x';\n        icon_img.alt = tooltip;\n        button.appendChild(icon_img);\n\n        buttonGroup.appendChild(button);\n    }\n\n    if (buttonGroup.hasChildNodes()) {\n        toolbar.appendChild(buttonGroup);\n    }\n\n    var fmt_picker = document.createElement('select');\n    fmt_picker.classList = 'mpl-widget';\n    toolbar.appendChild(fmt_picker);\n    this.format_dropdown = fmt_picker;\n\n    for (var ind in mpl.extensions) {\n        var fmt = mpl.extensions[ind];\n        var option = document.createElement('option');\n        option.selected = fmt === mpl.default_extension;\n        option.innerHTML = fmt;\n        fmt_picker.appendChild(option);\n    }\n\n    var status_bar = document.createElement('span');\n    status_bar.classList = 'mpl-message';\n    toolbar.appendChild(status_bar);\n    this.message = status_bar;\n};\n\nmpl.figure.prototype.request_resize = function (x_pixels, y_pixels) {\n    // Request matplotlib to resize the figure. Matplotlib will then trigger a resize in the client,\n    // which will in turn request a refresh of the image.\n    this.send_message('resize', { width: x_pixels, height: y_pixels });\n};\n\nmpl.figure.prototype.send_message = function (type, properties) {\n    properties['type'] = type;\n    properties['figure_id'] = this.id;\n    this.ws.send(JSON.stringify(properties));\n};\n\nmpl.figure.prototype.send_draw_message = function () {\n    if (!this.waiting) {\n        this.waiting = true;\n        this.ws.send(JSON.stringify({ type: 'draw', figure_id: this.id }));\n    }\n};\n\nmpl.figure.prototype.handle_save = function (fig, _msg) {\n    var format_dropdown = fig.format_dropdown;\n    var format = format_dropdown.options[format_dropdown.selectedIndex].value;\n    fig.ondownload(fig, format);\n};\n\nmpl.figure.prototype.handle_resize = function (fig, msg) {\n    var size = msg['size'];\n    if (size[0] !== fig.canvas.width || size[1] !== fig.canvas.height) {\n        fig._resize_canvas(size[0], size[1], msg['forward']);\n        fig.send_message('refresh', {});\n    }\n};\n\nmpl.figure.prototype.handle_rubberband = function (fig, msg) {\n    var x0 = msg['x0'] / fig.ratio;\n    var y0 = (fig.canvas.height - msg['y0']) / fig.ratio;\n    var x1 = msg['x1'] / fig.ratio;\n    var y1 = (fig.canvas.height - msg['y1']) / fig.ratio;\n    x0 = Math.floor(x0) + 0.5;\n    y0 = Math.floor(y0) + 0.5;\n    x1 = Math.floor(x1) + 0.5;\n    y1 = Math.floor(y1) + 0.5;\n    var min_x = Math.min(x0, x1);\n    var min_y = Math.min(y0, y1);\n    var width = Math.abs(x1 - x0);\n    var height = Math.abs(y1 - y0);\n\n    fig.rubberband_context.clearRect(\n        0,\n        0,\n        fig.canvas.width / fig.ratio,\n        fig.canvas.height / fig.ratio\n    );\n\n    fig.rubberband_context.strokeRect(min_x, min_y, width, height);\n};\n\nmpl.figure.prototype.handle_figure_label = function (fig, msg) {\n    // Updates the figure title.\n    fig.header.textContent = msg['label'];\n};\n\nmpl.figure.prototype.handle_cursor = function (fig, msg) {\n    fig.canvas_div.style.cursor = msg['cursor'];\n};\n\nmpl.figure.prototype.handle_message = function (fig, msg) {\n    fig.message.textContent = msg['message'];\n};\n\nmpl.figure.prototype.handle_draw = function (fig, _msg) {\n    // Request the server to send over a new figure.\n    fig.send_draw_message();\n};\n\nmpl.figure.prototype.handle_image_mode = function (fig, msg) {\n    fig.image_mode = msg['mode'];\n};\n\nmpl.figure.prototype.handle_history_buttons = function (fig, msg) {\n    for (var key in msg) {\n        if (!(key in fig.buttons)) {\n            continue;\n        }\n        fig.buttons[key].disabled = !msg[key];\n        fig.buttons[key].setAttribute('aria-disabled', !msg[key]);\n    }\n};\n\nmpl.figure.prototype.handle_navigate_mode = function (fig, msg) {\n    if (msg['mode'] === 'PAN') {\n        fig.buttons['Pan'].classList.add('active');\n        fig.buttons['Zoom'].classList.remove('active');\n    } else if (msg['mode'] === 'ZOOM') {\n        fig.buttons['Pan'].classList.remove('active');\n        fig.buttons['Zoom'].classList.add('active');\n    } else {\n        fig.buttons['Pan'].classList.remove('active');\n        fig.buttons['Zoom'].classList.remove('active');\n    }\n};\n\nmpl.figure.prototype.updated_canvas_event = function () {\n    // Called whenever the canvas gets updated.\n    this.send_message('ack', {});\n};\n\n// A function to construct a web socket function for onmessage handling.\n// Called in the figure constructor.\nmpl.figure.prototype._make_on_message_function = function (fig) {\n    return function socket_on_message(evt) {\n        if (evt.data instanceof Blob) {\n            var img = evt.data;\n            if (img.type !== 'image/png') {\n                /* FIXME: We get \"Resource interpreted as Image but\n                 * transferred with MIME type text/plain:\" errors on\n                 * Chrome.  But how to set the MIME type?  It doesn't seem\n                 * to be part of the websocket stream */\n                img.type = 'image/png';\n            }\n\n            /* Free the memory for the previous frames */\n            if (fig.imageObj.src) {\n                (window.URL || window.webkitURL).revokeObjectURL(\n                    fig.imageObj.src\n                );\n            }\n\n            fig.imageObj.src = (window.URL || window.webkitURL).createObjectURL(\n                img\n            );\n            fig.updated_canvas_event();\n            fig.waiting = false;\n            return;\n        } else if (\n            typeof evt.data === 'string' &&\n            evt.data.slice(0, 21) === 'data:image/png;base64'\n        ) {\n            fig.imageObj.src = evt.data;\n            fig.updated_canvas_event();\n            fig.waiting = false;\n            return;\n        }\n\n        var msg = JSON.parse(evt.data);\n        var msg_type = msg['type'];\n\n        // Call the  \"handle_{type}\" callback, which takes\n        // the figure and JSON message as its only arguments.\n        try {\n            var callback = fig['handle_' + msg_type];\n        } catch (e) {\n            console.log(\n                \"No handler for the '\" + msg_type + \"' message type: \",\n                msg\n            );\n            return;\n        }\n\n        if (callback) {\n            try {\n                // console.log(\"Handling '\" + msg_type + \"' message: \", msg);\n                callback(fig, msg);\n            } catch (e) {\n                console.log(\n                    \"Exception inside the 'handler_\" + msg_type + \"' callback:\",\n                    e,\n                    e.stack,\n                    msg\n                );\n            }\n        }\n    };\n};\n\nfunction getModifiers(event) {\n    var mods = [];\n    if (event.ctrlKey) {\n        mods.push('ctrl');\n    }\n    if (event.altKey) {\n        mods.push('alt');\n    }\n    if (event.shiftKey) {\n        mods.push('shift');\n    }\n    if (event.metaKey) {\n        mods.push('meta');\n    }\n    return mods;\n}\n\n/*\n * return a copy of an object with only non-object keys\n * we need this to avoid circular references\n * https://stackoverflow.com/a/24161582/3208463\n */\nfunction simpleKeys(original) {\n    return Object.keys(original).reduce(function (obj, key) {\n        if (typeof original[key] !== 'object') {\n            obj[key] = original[key];\n        }\n        return obj;\n    }, {});\n}\n\nmpl.figure.prototype.mouse_event = function (event, name) {\n    if (name === 'button_press') {\n        this.canvas.focus();\n        this.canvas_div.focus();\n    }\n\n    // from https://stackoverflow.com/q/1114465\n    var boundingRect = this.canvas.getBoundingClientRect();\n    var x = (event.clientX - boundingRect.left) * this.ratio;\n    var y = (event.clientY - boundingRect.top) * this.ratio;\n\n    this.send_message(name, {\n        x: x,\n        y: y,\n        button: event.button,\n        step: event.step,\n        buttons: event.buttons,\n        modifiers: getModifiers(event),\n        guiEvent: simpleKeys(event),\n    });\n\n    return false;\n};\n\nmpl.figure.prototype._key_event_extra = function (_event, _name) {\n    // Handle any extra behaviour associated with a key event\n};\n\nmpl.figure.prototype.key_event = function (event, name) {\n    // Prevent repeat events\n    if (name === 'key_press') {\n        if (event.key === this._key) {\n            return;\n        } else {\n            this._key = event.key;\n        }\n    }\n    if (name === 'key_release') {\n        this._key = null;\n    }\n\n    var value = '';\n    if (event.ctrlKey && event.key !== 'Control') {\n        value += 'ctrl+';\n    }\n    else if (event.altKey && event.key !== 'Alt') {\n        value += 'alt+';\n    }\n    else if (event.shiftKey && event.key !== 'Shift') {\n        value += 'shift+';\n    }\n\n    value += 'k' + event.key;\n\n    this._key_event_extra(event, name);\n\n    this.send_message(name, { key: value, guiEvent: simpleKeys(event) });\n    return false;\n};\n\nmpl.figure.prototype.toolbar_button_onclick = function (name) {\n    if (name === 'download') {\n        this.handle_save(this, null);\n    } else {\n        this.send_message('toolbar_button', { name: name });\n    }\n};\n\nmpl.figure.prototype.toolbar_button_onmouseover = function (tooltip) {\n    this.message.textContent = tooltip;\n};\n\n///////////////// REMAINING CONTENT GENERATED BY embed_js.py /////////////////\n// prettier-ignore\nvar _JSXTOOLS_RESIZE_OBSERVER=function(A){var t,i=new WeakMap,n=new WeakMap,a=new WeakMap,r=new WeakMap,o=new Set;function s(e){if(!(this instanceof s))throw new TypeError(\"Constructor requires 'new' operator\");i.set(this,e)}function h(){throw new TypeError(\"Function is not a constructor\")}function c(e,t,i,n){e=0 in arguments?Number(arguments[0]):0,t=1 in arguments?Number(arguments[1]):0,i=2 in arguments?Number(arguments[2]):0,n=3 in arguments?Number(arguments[3]):0,this.right=(this.x=this.left=e)+(this.width=i),this.bottom=(this.y=this.top=t)+(this.height=n),Object.freeze(this)}function d(){t=requestAnimationFrame(d);var s=new WeakMap,p=new Set;o.forEach((function(t){r.get(t).forEach((function(i){var r=t instanceof window.SVGElement,o=a.get(t),d=r?0:parseFloat(o.paddingTop),f=r?0:parseFloat(o.paddingRight),l=r?0:parseFloat(o.paddingBottom),u=r?0:parseFloat(o.paddingLeft),g=r?0:parseFloat(o.borderTopWidth),m=r?0:parseFloat(o.borderRightWidth),w=r?0:parseFloat(o.borderBottomWidth),b=u+f,F=d+l,v=(r?0:parseFloat(o.borderLeftWidth))+m,W=g+w,y=r?0:t.offsetHeight-W-t.clientHeight,E=r?0:t.offsetWidth-v-t.clientWidth,R=b+v,z=F+W,M=r?t.width:parseFloat(o.width)-R-E,O=r?t.height:parseFloat(o.height)-z-y;if(n.has(t)){var k=n.get(t);if(k[0]===M&&k[1]===O)return}n.set(t,[M,O]);var S=Object.create(h.prototype);S.target=t,S.contentRect=new c(u,d,M,O),s.has(i)||(s.set(i,[]),p.add(i)),s.get(i).push(S)}))})),p.forEach((function(e){i.get(e).call(e,s.get(e),e)}))}return s.prototype.observe=function(i){if(i instanceof window.Element){r.has(i)||(r.set(i,new Set),o.add(i),a.set(i,window.getComputedStyle(i)));var n=r.get(i);n.has(this)||n.add(this),cancelAnimationFrame(t),t=requestAnimationFrame(d)}},s.prototype.unobserve=function(i){if(i instanceof window.Element&&r.has(i)){var n=r.get(i);n.has(this)&&(n.delete(this),n.size||(r.delete(i),o.delete(i))),n.size||r.delete(i),o.size||cancelAnimationFrame(t)}},A.DOMRectReadOnly=c,A.ResizeObserver=s,A.ResizeObserverEntry=h,A}; // eslint-disable-line\nmpl.toolbar_items = [[\"Home\", \"Reset original view\", \"fa fa-home\", \"home\"], [\"Back\", \"Back to previous view\", \"fa fa-arrow-left\", \"back\"], [\"Forward\", \"Forward to next view\", \"fa fa-arrow-right\", \"forward\"], [\"\", \"\", \"\", \"\"], [\"Pan\", \"Left button pans, Right button zooms\\nx/y fixes axis, CTRL fixes aspect\", \"fa fa-arrows\", \"pan\"], [\"Zoom\", \"Zoom to rectangle\\nx/y fixes axis\", \"fa fa-square-o\", \"zoom\"], [\"\", \"\", \"\", \"\"], [\"Download\", \"Download plot\", \"fa fa-floppy-o\", \"download\"]];\n\nmpl.extensions = [\"eps\", \"jpeg\", \"pgf\", \"pdf\", \"png\", \"ps\", \"raw\", \"svg\", \"tif\", \"webp\"];\n\nmpl.default_extension = \"png\";/* global mpl */\n\nvar comm_websocket_adapter = function (comm) {\n    // Create a \"websocket\"-like object which calls the given IPython comm\n    // object with the appropriate methods. Currently this is a non binary\n    // socket, so there is still some room for performance tuning.\n    var ws = {};\n\n    ws.binaryType = comm.kernel.ws.binaryType;\n    ws.readyState = comm.kernel.ws.readyState;\n    function updateReadyState(_event) {\n        if (comm.kernel.ws) {\n            ws.readyState = comm.kernel.ws.readyState;\n        } else {\n            ws.readyState = 3; // Closed state.\n        }\n    }\n    comm.kernel.ws.addEventListener('open', updateReadyState);\n    comm.kernel.ws.addEventListener('close', updateReadyState);\n    comm.kernel.ws.addEventListener('error', updateReadyState);\n\n    ws.close = function () {\n        comm.close();\n    };\n    ws.send = function (m) {\n        //console.log('sending', m);\n        comm.send(m);\n    };\n    // Register the callback with on_msg.\n    comm.on_msg(function (msg) {\n        //console.log('receiving', msg['content']['data'], msg);\n        var data = msg['content']['data'];\n        if (data['blob'] !== undefined) {\n            data = {\n                data: new Blob(msg['buffers'], { type: data['blob'] }),\n            };\n        }\n        // Pass the mpl event to the overridden (by mpl) onmessage function.\n        ws.onmessage(data);\n    });\n    return ws;\n};\n\nmpl.mpl_figure_comm = function (comm, msg) {\n    // This is the function which gets called when the mpl process\n    // starts-up an IPython Comm through the \"matplotlib\" channel.\n\n    var id = msg.content.data.id;\n    // Get hold of the div created by the display call when the Comm\n    // socket was opened in Python.\n    var element = document.getElementById(id);\n    var ws_proxy = comm_websocket_adapter(comm);\n\n    function ondownload(figure, _format) {\n        window.open(figure.canvas.toDataURL());\n    }\n\n    var fig = new mpl.figure(id, ws_proxy, ondownload, element);\n\n    // Call onopen now - mpl needs it, as it is assuming we've passed it a real\n    // web socket which is closed, not our websocket->open comm proxy.\n    ws_proxy.onopen();\n\n    fig.parent_element = element;\n    fig.cell_info = mpl.find_output_cell(\"<div id='\" + id + \"'></div>\");\n    if (!fig.cell_info) {\n        console.error('Failed to find cell for figure', id, fig);\n        return;\n    }\n    fig.cell_info[0].output_area.element.on(\n        'cleared',\n        { fig: fig },\n        fig._remove_fig_handler\n    );\n};\n\nmpl.figure.prototype.handle_close = function (fig, msg) {\n    var width = fig.canvas.width / fig.ratio;\n    fig.cell_info[0].output_area.element.off(\n        'cleared',\n        fig._remove_fig_handler\n    );\n    fig.resizeObserverInstance.unobserve(fig.canvas_div);\n\n    // Update the output cell to use the data from the current canvas.\n    fig.push_to_output();\n    var dataURL = fig.canvas.toDataURL();\n    // Re-enable the keyboard manager in IPython - without this line, in FF,\n    // the notebook keyboard shortcuts fail.\n    IPython.keyboard_manager.enable();\n    fig.parent_element.innerHTML =\n        '<img src=\"' + dataURL + '\" width=\"' + width + '\">';\n    fig.close_ws(fig, msg);\n};\n\nmpl.figure.prototype.close_ws = function (fig, msg) {\n    fig.send_message('closing', msg);\n    // fig.ws.close()\n};\n\nmpl.figure.prototype.push_to_output = function (_remove_interactive) {\n    // Turn the data on the canvas into data in the output cell.\n    var width = this.canvas.width / this.ratio;\n    var dataURL = this.canvas.toDataURL();\n    this.cell_info[1]['text/html'] =\n        '<img src=\"' + dataURL + '\" width=\"' + width + '\">';\n};\n\nmpl.figure.prototype.updated_canvas_event = function () {\n    // Tell IPython that the notebook contents must change.\n    IPython.notebook.set_dirty(true);\n    this.send_message('ack', {});\n    var fig = this;\n    // Wait a second, then push the new image to the DOM so\n    // that it is saved nicely (might be nice to debounce this).\n    setTimeout(function () {\n        fig.push_to_output();\n    }, 1000);\n};\n\nmpl.figure.prototype._init_toolbar = function () {\n    var fig = this;\n\n    var toolbar = document.createElement('div');\n    toolbar.classList = 'btn-toolbar';\n    this.root.appendChild(toolbar);\n\n    function on_click_closure(name) {\n        return function (_event) {\n            return fig.toolbar_button_onclick(name);\n        };\n    }\n\n    function on_mouseover_closure(tooltip) {\n        return function (event) {\n            if (!event.currentTarget.disabled) {\n                return fig.toolbar_button_onmouseover(tooltip);\n            }\n        };\n    }\n\n    fig.buttons = {};\n    var buttonGroup = document.createElement('div');\n    buttonGroup.classList = 'btn-group';\n    var button;\n    for (var toolbar_ind in mpl.toolbar_items) {\n        var name = mpl.toolbar_items[toolbar_ind][0];\n        var tooltip = mpl.toolbar_items[toolbar_ind][1];\n        var image = mpl.toolbar_items[toolbar_ind][2];\n        var method_name = mpl.toolbar_items[toolbar_ind][3];\n\n        if (!name) {\n            /* Instead of a spacer, we start a new button group. */\n            if (buttonGroup.hasChildNodes()) {\n                toolbar.appendChild(buttonGroup);\n            }\n            buttonGroup = document.createElement('div');\n            buttonGroup.classList = 'btn-group';\n            continue;\n        }\n\n        button = fig.buttons[name] = document.createElement('button');\n        button.classList = 'btn btn-default';\n        button.href = '#';\n        button.title = name;\n        button.innerHTML = '<i class=\"fa ' + image + ' fa-lg\"></i>';\n        button.addEventListener('click', on_click_closure(method_name));\n        button.addEventListener('mouseover', on_mouseover_closure(tooltip));\n        buttonGroup.appendChild(button);\n    }\n\n    if (buttonGroup.hasChildNodes()) {\n        toolbar.appendChild(buttonGroup);\n    }\n\n    // Add the status bar.\n    var status_bar = document.createElement('span');\n    status_bar.classList = 'mpl-message pull-right';\n    toolbar.appendChild(status_bar);\n    this.message = status_bar;\n\n    // Add the close button to the window.\n    var buttongrp = document.createElement('div');\n    buttongrp.classList = 'btn-group inline pull-right';\n    button = document.createElement('button');\n    button.classList = 'btn btn-mini btn-primary';\n    button.href = '#';\n    button.title = 'Stop Interaction';\n    button.innerHTML = '<i class=\"fa fa-power-off icon-remove icon-large\"></i>';\n    button.addEventListener('click', function (_evt) {\n        fig.handle_close(fig, {});\n    });\n    button.addEventListener(\n        'mouseover',\n        on_mouseover_closure('Stop Interaction')\n    );\n    buttongrp.appendChild(button);\n    var titlebar = this.root.querySelector('.ui-dialog-titlebar');\n    titlebar.insertBefore(buttongrp, titlebar.firstChild);\n};\n\nmpl.figure.prototype._remove_fig_handler = function (event) {\n    var fig = event.data.fig;\n    if (event.target !== this) {\n        // Ignore bubbled events from children.\n        return;\n    }\n    fig.close_ws(fig, {});\n};\n\nmpl.figure.prototype._root_extra_style = function (el) {\n    el.style.boxSizing = 'content-box'; // override notebook setting of border-box.\n};\n\nmpl.figure.prototype._canvas_extra_style = function (el) {\n    // this is important to make the div 'focusable\n    el.setAttribute('tabindex', 0);\n    // reach out to IPython and tell the keyboard manager to turn it's self\n    // off when our div gets focus\n\n    // location in version 3\n    if (IPython.notebook.keyboard_manager) {\n        IPython.notebook.keyboard_manager.register_events(el);\n    } else {\n        // location in version 2\n        IPython.keyboard_manager.register_events(el);\n    }\n};\n\nmpl.figure.prototype._key_event_extra = function (event, _name) {\n    // Check for shift+enter\n    if (event.shiftKey && event.which === 13) {\n        this.canvas_div.blur();\n        // select the cell after this one\n        var index = IPython.notebook.find_cell_index(this.cell_info[0]);\n        IPython.notebook.select(index + 1);\n    }\n};\n\nmpl.figure.prototype.handle_save = function (fig, _msg) {\n    fig.ondownload(fig, null);\n};\n\nmpl.find_output_cell = function (html_output) {\n    // Return the cell and output element which can be found *uniquely* in the notebook.\n    // Note - this is a bit hacky, but it is done because the \"notebook_saving.Notebook\"\n    // IPython event is triggered only after the cells have been serialised, which for\n    // our purposes (turning an active figure into a static one), is too late.\n    var cells = IPython.notebook.get_cells();\n    var ncells = cells.length;\n    for (var i = 0; i < ncells; i++) {\n        var cell = cells[i];\n        if (cell.cell_type === 'code') {\n            for (var j = 0; j < cell.output_area.outputs.length; j++) {\n                var data = cell.output_area.outputs[j];\n                if (data.data) {\n                    // IPython >= 3 moved mimebundle to data attribute of output\n                    data = data.data;\n                }\n                if (data['text/html'] === html_output) {\n                    return [cell, data, j];\n                }\n            }\n        }\n    }\n};\n\n// Register the function which deals with the matplotlib target/channel.\n// The kernel may be null if the page has been refreshed.\nif (IPython.notebook.kernel !== null) {\n    IPython.notebook.kernel.comm_manager.register_target(\n        'matplotlib',\n        mpl.mpl_figure_comm\n    );\n}\n",
      "text/plain": [
       "<IPython.core.display.Javascript object>"
      ]
     },
     "metadata": {},
     "output_type": "display_data"
    },
    {
     "data": {
      "text/html": [
       "<div id='55f16877-6071-472e-aec5-60c3c757e05a'></div>"
      ],
      "text/plain": [
       "<IPython.core.display.HTML object>"
      ]
     },
     "metadata": {},
     "output_type": "display_data"
    },
    {
     "data": {
      "image/png": "[encoded data removed]",
      "text/plain": [
       "<Figure size 640x480 with 4 Axes>"
      ]
     },
     "execution_count": 163,
     "metadata": {},
     "output_type": "execute_result"
    }
   ],
   "source": [
    "\n",
    "cerebro.plot(\n",
    "\t\t\t# width = 100, \n",
    "\t\t\t# height = 50, \n",
    "\t\t\tdpi=500,\n",
    "\t\t\tiplot= True,\n",
    "\t\t\t)[0][0] # type: ignore"
   ]
  },
  {
   "cell_type": "code",
   "execution_count": 164,
   "metadata": {},
   "outputs": [],
   "source": [
    "strategy_params = pd.DataFrame(results[0].params.__dict__, index = ['value']).T\n",
    "\n",
    "with pd.ExcelWriter(\"stats.xlsx\",  engine=\"openpyxl\" , mode='w') as writer:\n",
    "\tstrategy_params.to_excel(writer, index =True,sheet_name='strategy settings')\n",
    "\ttrade_stats.to_excel(writer, index =True,sheet_name='trade stats') # type: ignore"
   ]
  },
  {
   "cell_type": "code",
   "execution_count": 165,
   "metadata": {},
   "outputs": [],
   "source": [
    "import json\n",
    "\n",
    "config = {\n",
    "    \"win_size\": window_size,\n",
    "    \"n_feature\": env.num_features,\n",
    "\n",
    "}\n",
    "\n",
    "with open(\"config.json\", \"w\") as f:\n",
    "    json.dump(config, f)\n"
   ]
  },
  {
   "cell_type": "code",
   "execution_count": 166,
   "metadata": {
    "trusted": true
   },
   "outputs": [],
   "source": [
    "torch.save(agent.policy.state_dict(), f\"saved-trade-model.pt\")"
   ]
  },
  {
   "cell_type": "markdown",
   "metadata": {},
   "source": [
    "# Hint: \n",
    "\tfor Loading model"
   ]
  },
  {
   "cell_type": "code",
   "execution_count": 167,
   "metadata": {},
   "outputs": [],
   "source": [
    "# import json\n",
    "# from .Policy_Network_Structure import PolicyNetwork\n",
    "\n",
    "\n",
    "# with open(\"config.json\", \"r\") as f:\n",
    "#     config = json.load(f)\n",
    "    \n",
    "\n",
    "# print(config)\n",
    "# # -------------------------\n",
    "\n",
    "# policy = PolicyNetwork(**config)\n",
    "# policy_dict = torch.load(r'C:\\Users\\Nemo\\Desktop\\sth-financial\\model-for-test\\trade-model 75.0.pt', weights_only=True,map_location=torch.device('cpu'))\n",
    "# policy.load_state_dict(policy_dict)\n",
    "# policy.eval()"
   ]
  }
 ],
 "metadata": {
  "colab": {
   "name": "",
   "provenance": [
    {
     "file_id": "18eyr28BgWOOex2Eeg6rlBUbF4urSysI1",
     "timestamp": 1684274748287
    }
   ],
   "version": ""
  },
  "kaggle": {
   "accelerator": "nvidiaTeslaT4",
   "dataSources": [
    {
     "datasetId": 7961296,
     "sourceId": 12604102,
     "sourceType": "datasetVersion"
    }
   ],
   "isGpuEnabled": true,
   "isInternetEnabled": true,
   "language": "python",
   "sourceType": "notebook"
  },
  "kernelspec": {
   "display_name": "Python 3",
   "language": "python",
   "name": "python3"
  },
  "language_info": {
   "codemirror_mode": {
    "name": "ipython",
    "version": 3
   },
   "file_extension": ".py",
   "mimetype": "text/x-python",
   "name": "python",
   "nbconvert_exporter": "python",
   "pygments_lexer": "ipython3",
   "version": "3.13.4"
  }
 },
 "nbformat": 4,
 "nbformat_minor": 4
}
