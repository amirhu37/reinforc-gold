{
 "cells": [
  {
   "cell_type": "code",
   "execution_count": 261,
   "metadata": {
    "execution": {
     "iopub.execute_input": "2025-07-29T19:07:53.276436Z",
     "iopub.status.busy": "2025-07-29T19:07:53.276141Z",
     "iopub.status.idle": "2025-07-29T19:07:53.280946Z",
     "shell.execute_reply": "2025-07-29T19:07:53.280397Z",
     "shell.execute_reply.started": "2025-07-29T19:07:53.276416Z"
    },
    "executionInfo": {
     "elapsed": 7952,
     "status": "ok",
     "timestamp": 1684278986482,
     "user": {
      "displayName": "A H Sh",
      "userId": "16181755643368908406"
     },
     "user_tz": -210
    },
    "id": "HY6mx2bIR6Vp",
    "trusted": true
   },
   "outputs": [],
   "source": [
    "import warnings\n",
    "warnings.simplefilter('ignore')\n",
    "warnings.filterwarnings('ignore')\n",
    "\n",
    "from sklearn.model_selection import train_test_split\n",
    "\n",
    "\n",
    "import numpy as np\n",
    "import pandas as pd\n",
    "import matplotlib.pyplot as plt\n",
    "\n",
    "import gymnasium as gym\n",
    "from gymnasium import spaces\n",
    "\n",
    "\n",
    "from typing import Any, Literal\n",
    "# from pandas import DataFrame\n",
    "\n",
    "\n",
    "\n",
    "from typing import Any\n",
    "# from numpy import dtype, floating\n",
    "from pandas.core.frame import DataFrame\n",
    "from pandas.core.series import Series\n",
    "\n",
    "\n",
    "\n",
    "import torch\n",
    "Tensor = torch.Tensor\n",
    "import torch.nn as nn\n",
    "from torch.optim import Adam, RMSprop\n"
   ]
  },
  {
   "cell_type": "code",
   "execution_count": 262,
   "metadata": {
    "execution": {
     "iopub.execute_input": "2025-07-29T19:07:53.282336Z",
     "iopub.status.busy": "2025-07-29T19:07:53.282139Z",
     "iopub.status.idle": "2025-07-29T19:07:56.285738Z",
     "shell.execute_reply": "2025-07-29T19:07:56.285040Z",
     "shell.execute_reply.started": "2025-07-29T19:07:53.282321Z"
    },
    "trusted": true
   },
   "outputs": [],
   "source": [
    "from IPython.display  import clear_output \n",
    "\n",
    "# %pip install backtrader\n",
    "\n",
    "clear_output ()"
   ]
  },
  {
   "cell_type": "code",
   "execution_count": 263,
   "metadata": {
    "execution": {
     "iopub.execute_input": "2025-07-29T19:07:56.287173Z",
     "iopub.status.busy": "2025-07-29T19:07:56.286855Z",
     "iopub.status.idle": "2025-07-29T19:07:56.290925Z",
     "shell.execute_reply": "2025-07-29T19:07:56.290263Z",
     "shell.execute_reply.started": "2025-07-29T19:07:56.287148Z"
    },
    "trusted": true
   },
   "outputs": [],
   "source": [
    "%matplotlib inline"
   ]
  },
  {
   "cell_type": "code",
   "execution_count": 264,
   "metadata": {
    "execution": {
     "iopub.execute_input": "2025-07-29T19:07:56.292110Z",
     "iopub.status.busy": "2025-07-29T19:07:56.291857Z",
     "iopub.status.idle": "2025-07-29T19:07:56.311960Z",
     "shell.execute_reply": "2025-07-29T19:07:56.311383Z",
     "shell.execute_reply.started": "2025-07-29T19:07:56.292094Z"
    },
    "trusted": true
   },
   "outputs": [
    {
     "data": {
      "text/plain": [
       "device(type='cpu')"
      ]
     },
     "execution_count": 264,
     "metadata": {},
     "output_type": "execute_result"
    }
   ],
   "source": [
    "device = torch.device('cuda' if torch.cuda.is_available() else 'cpu')\n",
    "\n",
    "device"
   ]
  },
  {
   "cell_type": "code",
   "execution_count": 265,
   "metadata": {
    "execution": {
     "iopub.execute_input": "2025-07-29T19:07:56.313805Z",
     "iopub.status.busy": "2025-07-29T19:07:56.313610Z",
     "iopub.status.idle": "2025-07-29T19:07:56.327280Z",
     "shell.execute_reply": "2025-07-29T19:07:56.326745Z",
     "shell.execute_reply.started": "2025-07-29T19:07:56.313792Z"
    },
    "trusted": true
   },
   "outputs": [],
   "source": [
    "path_m5_xau : str = r\"XAUUSDM5.csv\"\n",
    "path_m15_xau: str = r\"XAUUSDM15.csv\"\n",
    "path_daiy_xau: str = r\"XAUUSDDaily.csv\"\n",
    "\n",
    "path_m5_eur: str = r\"EURUSDM5.csv\"\n",
    "path_m15_eur: str = r\"EURUSDM15.csv\"\n",
    "path_daily_eur: str = r\"EURUSDDaily.csv\"\n"
   ]
  },
  {
   "cell_type": "code",
   "execution_count": 266,
   "metadata": {
    "colab": {
     "base_uri": "https://localhost:8080/"
    },
    "execution": {
     "iopub.execute_input": "2025-07-29T19:07:56.328251Z",
     "iopub.status.busy": "2025-07-29T19:07:56.328051Z",
     "iopub.status.idle": "2025-07-29T19:07:56.520604Z",
     "shell.execute_reply": "2025-07-29T19:07:56.520038Z",
     "shell.execute_reply.started": "2025-07-29T19:07:56.328233Z"
    },
    "executionInfo": {
     "elapsed": 29,
     "status": "ok",
     "timestamp": 1684278986483,
     "user": {
      "displayName": "A H Sh",
      "userId": "16181755643368908406"
     },
     "user_tz": -210
    },
    "id": "ittlDRFmgXHU",
    "outputId": "860a67e2-52c9-4888-eed0-6450cdd91835",
    "trusted": true
   },
   "outputs": [],
   "source": [
    "df = pd.read_csv(path_m5_xau , \n",
    "\t\t\t\t   encoding = 'utf-16', \n",
    "\t\t\t\t   names =  ['Date', 'Open', 'High', 'Low', 'Close', 'Volume', '0'] )\n",
    "\n",
    "df['Date'] = pd.to_datetime(df['Date'])\n",
    "df.set_index('Date', drop=True, inplace = True)\n",
    "df.drop('0', axis=1)\n",
    "\n",
    "\n",
    "# variables\n",
    "\n",
    "Open_ = df['Open']\n",
    "close = df['Close']\n",
    "# volume = data['Volume']\n",
    "high = df['High']\n",
    "time = df.index\n",
    "\n",
    "Round = 4\n",
    "\n",
    "rsi_len = 14\n",
    "\n",
    "std_len = movAvgLen = 5\n",
    "\n",
    "Vol_ma_1 = ma_1 = 10\n",
    "\n",
    "Vol_ma_2 = ma_2 = 20\n"
   ]
  },
  {
   "cell_type": "code",
   "execution_count": 267,
   "metadata": {
    "execution": {
     "iopub.execute_input": "2025-07-29T19:07:56.521461Z",
     "iopub.status.busy": "2025-07-29T19:07:56.521273Z",
     "iopub.status.idle": "2025-07-29T19:07:56.531752Z",
     "shell.execute_reply": "2025-07-29T19:07:56.530929Z",
     "shell.execute_reply.started": "2025-07-29T19:07:56.521447Z"
    },
    "trusted": true
   },
   "outputs": [
    {
     "data": {
      "text/html": [
       "<div>\n",
       "<style scoped>\n",
       "    .dataframe tbody tr th:only-of-type {\n",
       "        vertical-align: middle;\n",
       "    }\n",
       "\n",
       "    .dataframe tbody tr th {\n",
       "        vertical-align: top;\n",
       "    }\n",
       "\n",
       "    .dataframe thead th {\n",
       "        text-align: right;\n",
       "    }\n",
       "</style>\n",
       "<table border=\"1\" class=\"dataframe\">\n",
       "  <thead>\n",
       "    <tr style=\"text-align: right;\">\n",
       "      <th></th>\n",
       "      <th>Open</th>\n",
       "      <th>High</th>\n",
       "      <th>Low</th>\n",
       "      <th>Close</th>\n",
       "      <th>Volume</th>\n",
       "      <th>0</th>\n",
       "    </tr>\n",
       "    <tr>\n",
       "      <th>Date</th>\n",
       "      <th></th>\n",
       "      <th></th>\n",
       "      <th></th>\n",
       "      <th></th>\n",
       "      <th></th>\n",
       "      <th></th>\n",
       "    </tr>\n",
       "  </thead>\n",
       "  <tbody>\n",
       "    <tr>\n",
       "      <th>2025-04-16 01:00:00</th>\n",
       "      <td>3230.96</td>\n",
       "      <td>3231.07</td>\n",
       "      <td>3229.84</td>\n",
       "      <td>3230.80</td>\n",
       "      <td>199</td>\n",
       "      <td>0</td>\n",
       "    </tr>\n",
       "    <tr>\n",
       "      <th>2025-04-16 01:05:00</th>\n",
       "      <td>3230.80</td>\n",
       "      <td>3233.35</td>\n",
       "      <td>3230.68</td>\n",
       "      <td>3231.44</td>\n",
       "      <td>144</td>\n",
       "      <td>0</td>\n",
       "    </tr>\n",
       "    <tr>\n",
       "      <th>2025-04-16 01:10:00</th>\n",
       "      <td>3231.43</td>\n",
       "      <td>3232.56</td>\n",
       "      <td>3231.19</td>\n",
       "      <td>3232.16</td>\n",
       "      <td>139</td>\n",
       "      <td>0</td>\n",
       "    </tr>\n",
       "    <tr>\n",
       "      <th>2025-04-16 01:15:00</th>\n",
       "      <td>3232.15</td>\n",
       "      <td>3232.77</td>\n",
       "      <td>3231.74</td>\n",
       "      <td>3231.74</td>\n",
       "      <td>125</td>\n",
       "      <td>0</td>\n",
       "    </tr>\n",
       "    <tr>\n",
       "      <th>2025-04-16 01:20:00</th>\n",
       "      <td>3231.75</td>\n",
       "      <td>3232.47</td>\n",
       "      <td>3231.47</td>\n",
       "      <td>3232.38</td>\n",
       "      <td>111</td>\n",
       "      <td>0</td>\n",
       "    </tr>\n",
       "  </tbody>\n",
       "</table>\n",
       "</div>"
      ],
      "text/plain": [
       "                        Open     High      Low    Close  Volume  0\n",
       "Date                                                              \n",
       "2025-04-16 01:00:00  3230.96  3231.07  3229.84  3230.80     199  0\n",
       "2025-04-16 01:05:00  3230.80  3233.35  3230.68  3231.44     144  0\n",
       "2025-04-16 01:10:00  3231.43  3232.56  3231.19  3232.16     139  0\n",
       "2025-04-16 01:15:00  3232.15  3232.77  3231.74  3231.74     125  0\n",
       "2025-04-16 01:20:00  3231.75  3232.47  3231.47  3232.38     111  0"
      ]
     },
     "execution_count": 267,
     "metadata": {},
     "output_type": "execute_result"
    }
   ],
   "source": [
    "df.head()"
   ]
  },
  {
   "cell_type": "code",
   "execution_count": 268,
   "metadata": {
    "colab": {
     "base_uri": "https://localhost:8080/"
    },
    "execution": {
     "iopub.execute_input": "2025-07-29T19:07:56.532883Z",
     "iopub.status.busy": "2025-07-29T19:07:56.532635Z",
     "iopub.status.idle": "2025-07-29T19:07:56.551320Z",
     "shell.execute_reply": "2025-07-29T19:07:56.550782Z",
     "shell.execute_reply.started": "2025-07-29T19:07:56.532867Z"
    },
    "executionInfo": {
     "elapsed": 27,
     "status": "ok",
     "timestamp": 1684278986483,
     "user": {
      "displayName": "A H Sh",
      "userId": "16181755643368908406"
     },
     "user_tz": -210
    },
    "id": "ejyqd7VtrBxy",
    "outputId": "b9ede333-0d6e-40bd-e455-aaee7cc2a3db",
    "trusted": true
   },
   "outputs": [],
   "source": [
    "\n",
    "def calculate_RSI(data: Series , time_window : int = 14) -> Series:\n",
    "\t\tdelta: Series[type[float]] = data.diff() # type: ignore\n",
    "\n",
    "\t\tup, down = delta.copy(), delta.copy()\n",
    "\t\tup[up < 0] = 0 # type: ignore\n",
    "\t\tdown[down > 0] = 0 # type: ignore\n",
    "\n",
    "\t\troll_up: Series[float] = up.rolling(time_window).mean()\n",
    "\t\troll_down: Series[float] = down.abs().rolling(time_window).mean()\n",
    "\n",
    "\t\tRS: Series[float] = roll_up / roll_down\n",
    "\t\tRSI: Series[float] = 100.0 - (100.0 / (1.0 + RS))\n",
    "\n",
    "\t\treturn RSI.round(Round)\n",
    "\n",
    "\n",
    "\n",
    "def macd(data, fast, slow):\n",
    "\tif isinstance(data, np.ndarray):\n",
    "\t\tma1 =  np.convolve(data, np.ones(fast)/fast, mode='valid')\n",
    "\t\tma2 =  np.convolve(data, np.ones(slow)/slow, mode='valid')\n",
    "\t\treturn ma2 - ma1\n",
    "\tif isinstance(data, pd.Series):\n",
    "\t\tma1 =  data.rolling(fast, min_periods=1).mean()\n",
    "\t\tma2 =  data.rolling(slow, min_periods=1).mean()\n",
    "\t\treturn ma2 - ma1\n",
    "\n",
    "\n",
    "\n",
    "def clc_mean(series : Series , window: int) :\n",
    "\t\trolling_mean = series.rolling(window=window).mean().round(Round)\n",
    "\t\treturn  rolling_mean\n",
    "\n",
    "def moving_avg_std(series : Series , window : int)  -> Series:\n",
    "\t\"\"\"Calculate the moving average and standard deviation of a pandas series, and then divide the two\"\"\"\n",
    "\trolling_mean = series.rolling(window=window).mean().round(Round)\n",
    "\trolling_std = series.rolling(window=window).std().round(Round)\n",
    "\treturn rolling_mean - rolling_std\n",
    "\n"
   ]
  },
  {
   "cell_type": "code",
   "execution_count": 269,
   "metadata": {
    "execution": {
     "iopub.execute_input": "2025-07-29T19:07:56.552241Z",
     "iopub.status.busy": "2025-07-29T19:07:56.551983Z",
     "iopub.status.idle": "2025-07-29T19:07:56.588309Z",
     "shell.execute_reply": "2025-07-29T19:07:56.587608Z",
     "shell.execute_reply.started": "2025-07-29T19:07:56.552225Z"
    },
    "executionInfo": {
     "elapsed": 25,
     "status": "ok",
     "timestamp": 1684278986483,
     "user": {
      "displayName": "A H Sh",
      "userId": "16181755643368908406"
     },
     "user_tz": -210
    },
    "id": "3xhWTHEyrBxy",
    "trusted": true
   },
   "outputs": [],
   "source": [
    "def creat_data(df: pd.DataFrame):\n",
    "\tdf['MovAvg'] = df['Close'].rolling(movAvgLen).mean()\n",
    "\n",
    "\tdf['diff']  =  (df['Close'] - df['MovAvg']).round(Round) \n",
    "\tdf['cadle-type']  = (df['Close'] - df['Open']).round(Round)\n",
    "\tdf['hike'] = df['diff'] / df['cadle-type']\n",
    "\tdf['change']  =  df['Open'] - df['MovAvg'] \n",
    "\tdf['macd'] = macd(df['Close'], movAvgLen, movAvgLen*2 )\n",
    "\tdf['percent']  =  (close - df['Open']) / close  * 100\n",
    "\n",
    "\tdf['rsi']  = calculate_RSI( df['Open'] , rsi_len ) / 100\n",
    "\n",
    "\t# df['std'] = std(df['Open'] , std_len)\n",
    "\tdf['Pivot'] = (df['High'] + df['Low'] + df['Close']) / 3\n",
    "\n",
    "\t# Optional: First support and resistance\n",
    "\tdf['R1'] = (2 * df['Pivot']) - df['Low']\n",
    "\tdf['S1'] = (2 * df['Pivot']) - df['High']\n",
    "\n",
    "\t# df['mean'] = clc_mean(df['Open'] , std_len)\n",
    "\n",
    "\t# df['buy'] = np.where( (df['Open'] > clc_mean(df['Open'],movAvgLen).shift(1)) & (df['cadle-type'] >= .65), 1 ,0 )\n",
    "\n",
    "\t# df['sell'] = np.where( (df['Open'] < clc_mean(df['Open'],movAvgLen).shift(1)) & (abs(df['cadle-type']) >= .65)  , 1 ,0 )\n",
    "\n",
    "\t# df['hold'] = np.where(df['buy'] == df['sell'], 1, 0)\n",
    "\n",
    "\t# df['action'] = np.where(buyers == 1, 1,0)\n",
    "\n",
    "\tdf = df.dropna(axis=0)\n",
    "\n",
    "\treturn df"
   ]
  },
  {
   "cell_type": "code",
   "execution_count": 270,
   "metadata": {
    "execution": {
     "iopub.execute_input": "2025-07-29T19:07:56.589233Z",
     "iopub.status.busy": "2025-07-29T19:07:56.588976Z",
     "iopub.status.idle": "2025-07-29T19:07:56.676839Z",
     "shell.execute_reply": "2025-07-29T19:07:56.676243Z",
     "shell.execute_reply.started": "2025-07-29T19:07:56.589213Z"
    },
    "executionInfo": {
     "elapsed": 26,
     "status": "ok",
     "timestamp": 1684278986484,
     "user": {
      "displayName": "A H Sh",
      "userId": "16181755643368908406"
     },
     "user_tz": -210
    },
    "id": "VN0JOp9crBxz",
    "trusted": true
   },
   "outputs": [
    {
     "data": {
      "text/html": [
       "<div>\n",
       "<style scoped>\n",
       "    .dataframe tbody tr th:only-of-type {\n",
       "        vertical-align: middle;\n",
       "    }\n",
       "\n",
       "    .dataframe tbody tr th {\n",
       "        vertical-align: top;\n",
       "    }\n",
       "\n",
       "    .dataframe thead th {\n",
       "        text-align: right;\n",
       "    }\n",
       "</style>\n",
       "<table border=\"1\" class=\"dataframe\">\n",
       "  <thead>\n",
       "    <tr style=\"text-align: right;\">\n",
       "      <th></th>\n",
       "      <th>diff</th>\n",
       "      <th>Open</th>\n",
       "      <th>High</th>\n",
       "      <th>Low</th>\n",
       "      <th>Close</th>\n",
       "      <th>Volume</th>\n",
       "      <th>MovAvg</th>\n",
       "      <th>macd</th>\n",
       "      <th>rsi</th>\n",
       "      <th>Pivot</th>\n",
       "      <th>R1</th>\n",
       "      <th>S1</th>\n",
       "    </tr>\n",
       "    <tr>\n",
       "      <th>Date</th>\n",
       "      <th></th>\n",
       "      <th></th>\n",
       "      <th></th>\n",
       "      <th></th>\n",
       "      <th></th>\n",
       "      <th></th>\n",
       "      <th></th>\n",
       "      <th></th>\n",
       "      <th></th>\n",
       "      <th></th>\n",
       "      <th></th>\n",
       "      <th></th>\n",
       "    </tr>\n",
       "  </thead>\n",
       "  <tbody>\n",
       "    <tr>\n",
       "      <th>2025-04-16 02:10:00</th>\n",
       "      <td>1.158</td>\n",
       "      <td>3238.81</td>\n",
       "      <td>3241.74</td>\n",
       "      <td>3238.81</td>\n",
       "      <td>3241.73</td>\n",
       "      <td>231</td>\n",
       "      <td>3240.572</td>\n",
       "      <td>-1.548</td>\n",
       "      <td>0.768652</td>\n",
       "      <td>3240.760000</td>\n",
       "      <td>3242.710000</td>\n",
       "      <td>3239.780000</td>\n",
       "    </tr>\n",
       "    <tr>\n",
       "      <th>2025-04-16 02:15:00</th>\n",
       "      <td>1.174</td>\n",
       "      <td>3241.77</td>\n",
       "      <td>3242.33</td>\n",
       "      <td>3240.10</td>\n",
       "      <td>3242.00</td>\n",
       "      <td>249</td>\n",
       "      <td>3240.826</td>\n",
       "      <td>-1.127</td>\n",
       "      <td>0.815049</td>\n",
       "      <td>3241.476667</td>\n",
       "      <td>3242.853333</td>\n",
       "      <td>3240.623333</td>\n",
       "    </tr>\n",
       "    <tr>\n",
       "      <th>2025-04-16 02:20:00</th>\n",
       "      <td>1.388</td>\n",
       "      <td>3241.97</td>\n",
       "      <td>3243.69</td>\n",
       "      <td>3241.10</td>\n",
       "      <td>3242.40</td>\n",
       "      <td>290</td>\n",
       "      <td>3241.012</td>\n",
       "      <td>-0.656</td>\n",
       "      <td>0.810365</td>\n",
       "      <td>3242.396667</td>\n",
       "      <td>3243.693333</td>\n",
       "      <td>3241.103333</td>\n",
       "    </tr>\n",
       "    <tr>\n",
       "      <th>2025-04-16 02:25:00</th>\n",
       "      <td>1.164</td>\n",
       "      <td>3242.41</td>\n",
       "      <td>3243.07</td>\n",
       "      <td>3242.09</td>\n",
       "      <td>3242.69</td>\n",
       "      <td>215</td>\n",
       "      <td>3241.526</td>\n",
       "      <td>-0.777</td>\n",
       "      <td>0.807186</td>\n",
       "      <td>3242.616667</td>\n",
       "      <td>3243.143333</td>\n",
       "      <td>3242.163333</td>\n",
       "    </tr>\n",
       "    <tr>\n",
       "      <th>2025-04-16 02:30:00</th>\n",
       "      <td>0.716</td>\n",
       "      <td>3242.68</td>\n",
       "      <td>3243.39</td>\n",
       "      <td>3242.31</td>\n",
       "      <td>3243.10</td>\n",
       "      <td>248</td>\n",
       "      <td>3242.384</td>\n",
       "      <td>-1.207</td>\n",
       "      <td>0.829813</td>\n",
       "      <td>3242.933333</td>\n",
       "      <td>3243.556667</td>\n",
       "      <td>3242.476667</td>\n",
       "    </tr>\n",
       "  </tbody>\n",
       "</table>\n",
       "</div>"
      ],
      "text/plain": [
       "                      diff     Open     High      Low    Close  Volume  \\\n",
       "Date                                                                     \n",
       "2025-04-16 02:10:00  1.158  3238.81  3241.74  3238.81  3241.73     231   \n",
       "2025-04-16 02:15:00  1.174  3241.77  3242.33  3240.10  3242.00     249   \n",
       "2025-04-16 02:20:00  1.388  3241.97  3243.69  3241.10  3242.40     290   \n",
       "2025-04-16 02:25:00  1.164  3242.41  3243.07  3242.09  3242.69     215   \n",
       "2025-04-16 02:30:00  0.716  3242.68  3243.39  3242.31  3243.10     248   \n",
       "\n",
       "                       MovAvg   macd       rsi        Pivot           R1  \\\n",
       "Date                                                                       \n",
       "2025-04-16 02:10:00  3240.572 -1.548  0.768652  3240.760000  3242.710000   \n",
       "2025-04-16 02:15:00  3240.826 -1.127  0.815049  3241.476667  3242.853333   \n",
       "2025-04-16 02:20:00  3241.012 -0.656  0.810365  3242.396667  3243.693333   \n",
       "2025-04-16 02:25:00  3241.526 -0.777  0.807186  3242.616667  3243.143333   \n",
       "2025-04-16 02:30:00  3242.384 -1.207  0.829813  3242.933333  3243.556667   \n",
       "\n",
       "                              S1  \n",
       "Date                              \n",
       "2025-04-16 02:10:00  3239.780000  \n",
       "2025-04-16 02:15:00  3240.623333  \n",
       "2025-04-16 02:20:00  3241.103333  \n",
       "2025-04-16 02:25:00  3242.163333  \n",
       "2025-04-16 02:30:00  3242.476667  "
      ]
     },
     "execution_count": 270,
     "metadata": {},
     "output_type": "execute_result"
    }
   ],
   "source": [
    "df = creat_data(df)\n",
    "\n",
    "# df.tail()\n",
    "\n",
    "data = df[\n",
    "\t\t\t['diff', 'Open', 'High', 'Low' , 'Close', 'Volume', 'MovAvg', 'macd'  ,'rsi', 'Pivot', \"R1\", \"S1\"]\n",
    "\t\t\t\t\t]\n",
    "data.head()"
   ]
  },
  {
   "cell_type": "code",
   "execution_count": 271,
   "metadata": {
    "execution": {
     "iopub.execute_input": "2025-07-29T19:07:56.677780Z",
     "iopub.status.busy": "2025-07-29T19:07:56.677553Z",
     "iopub.status.idle": "2025-07-29T19:07:56.690616Z",
     "shell.execute_reply": "2025-07-29T19:07:56.690053Z",
     "shell.execute_reply.started": "2025-07-29T19:07:56.677763Z"
    },
    "trusted": true
   },
   "outputs": [],
   "source": [
    "\n",
    "from typing import Any\n",
    "from numpy import floating\n",
    "\n",
    "\n",
    "class MarketEnv(gym.Env):\n",
    "\tmetadata = {\"render_modes\": [\"human\"], \"render_fps\": 4}\n",
    "\n",
    "\tdef __init__(self, \n",
    "\t\t\t\t df: pd.DataFrame, \n",
    "\t\t\t\t win_size: int, \n",
    "\t\t\t\t sharpe_weight : float = .4,\n",
    "\t\t\t\t shapre_compression : int = 5,\n",
    "\t\t\t\t size : float = 0.01 ,\n",
    "\t\t\t\t transaction_cost : float = 1e-2,\n",
    "\t\t\t\t portfolio : float = 100,\n",
    "\t\t\t\t risk_free_rate : float = 1e-2):\n",
    "\t\tsuper().__init__()\n",
    "\t\tself.df = df.reset_index(drop=True).astype(np.float32)\n",
    "\t\tself.win_size = win_size\n",
    "\t\tself.num_features = df.shape[1]\n",
    "\t\tself.current_step = self.win_size\n",
    "\t\tself.max_steps = len(df) - win_size - 1\n",
    "\t\tself.step_count : int = 0\n",
    "\t\tself.current_position : int = 0\n",
    "\t\tself.reward : float = 0.\n",
    "\t\tself.risk_free_rate: float = risk_free_rate\n",
    "\t\tself.trade_record: list[tuple[int, float]] = list()\n",
    "\t\tself.pnl : float = 0.\n",
    "\t\tself.sharpe_reward : float = 0.\n",
    "\t\tself.portfolio_Start = portfolio\n",
    "\t\tself.portfolio = portfolio\n",
    "\t\tself.size = size\n",
    "\t\tself.commission = transaction_cost\n",
    "\t\tself.sharpe_weight = sharpe_weight\n",
    "\t\tself.shapre_compression = shapre_compression\n",
    "\t\tself.action_space = spaces.Box(low=-1.0, high=1.0, shape=(1,), dtype=np.float32)\n",
    "\t\tself.observation_space = spaces.Box(\n",
    "\t\t\tlow=-np.inf,\n",
    "\t\t\thigh=np.inf,\n",
    "\t\t\tshape=(win_size, self.num_features),\n",
    "\t\t\tdtype=np.float32\n",
    "\t\t)\n",
    "\t\tself.state : np.ndarray\n",
    "\n",
    "\tdef reset(self, *, seed=None, options=None):\n",
    "\t\tsuper().reset(seed=seed)\n",
    "\t\tself.current_step = self.win_size\n",
    "\t\tself.step_count = 0\n",
    "\t\tself.current_position = 0\n",
    "\t\tself.state = self._get_observation()\n",
    "\t\tself.trade_record.clear()\n",
    "\t\tself.pnl : float = 0.\n",
    "\t\tself.sharpe_reward : float = 0.\n",
    "\t\tself.portfolio = self.portfolio_Start\n",
    "\t\treturn self.state, {}\n",
    "\n",
    "\tdef _get_observation(self):\n",
    "\t\twindow = self.df.iloc[self.current_step - self.win_size : self.current_step]\n",
    "\t\treturn window.to_numpy()\n",
    "\n",
    "\tdef _calc_pnl(self, prices: np.ndarray , action : int ) -> float:\n",
    "\n",
    "\t\ttransaction_cost = (prices.sum()  *  self.size ) * self.commission\n",
    "\n",
    "\t\treturn (prices.sum() * action *  self.size ) - transaction_cost\n",
    "\n",
    "\tdef _calc_shapre(self):\n",
    "\t\tif len(self.trade_record) < 2:\n",
    "\t\t\treturn 0.0  # جلوگیری از تقسیم بر صفر\n",
    "\t\t# print(self.trade_record[-self.shapre_compression:])\n",
    "\t\texcess_returns: np.ndarray = np.array(self.trade_record[-self.shapre_compression:]) - self.risk_free_rate\n",
    "\t\tmean_excess_return: floating[Any] = np.mean(excess_returns)\n",
    "\t\tstd_excess_return: floating[Any] = np.std(excess_returns)\n",
    "\t\t\n",
    "\t\tif std_excess_return == 0:\n",
    "\t\t\treturn 0.0\n",
    "\t\t\n",
    "\t\tsharpe: floating[Any] = mean_excess_return / std_excess_return\n",
    "\t\treturn sharpe * np.sum(excess_returns)  \n",
    "\n",
    "\n",
    "\tdef step(self, action : int, margin : float = 0.):\n",
    "\n",
    "\t\t# action += 1\n",
    "\t\tmatch action:\n",
    "\t\t\tcase  0:\n",
    "\t\t\t\treal_action = 1  # Buy\n",
    "\t\t\tcase 1:\n",
    "\t\t\t\treal_action = -1 # Sell\n",
    "\t\t\tcase 2:\n",
    "\t\t\t\treal_action = 0  # Hold\n",
    "\t\t# State:\n",
    "\t\t# O: 0 | H: 1 | L: 2 | C: 3 | V: 4 | D: 5 |\n",
    "\t\t# print(f'state {self.state[:,5].sum()}')\n",
    "\t\tself.pnl = self._calc_pnl(self.state[:,0] , real_action )\n",
    "\t\tself.trade_record.append(( action ,self.pnl))\n",
    "\t\t\n",
    "\t\tself.sharpe_reward = self._calc_shapre()\n",
    "\n",
    "\t\tself.reward = ((1 - self.sharpe_weight) * self.pnl) + (self.sharpe_weight * self.sharpe_reward)\n",
    " \n",
    "\t\tself.current_step += 1\n",
    "\t\tself.step_count += 1\n",
    "\t\tself.current_position = action # type: ignore\n",
    "\t\tterminated: bool = False\n",
    "\t\ttruncated: bool = self.step_count >= self.max_steps\n",
    "\t\tself.state = self._get_observation()\n",
    "\t\tself.portfolio += self.pnl\n",
    "\n",
    "\t\tinfo = {}\n",
    "\t\treturn self.state, self.reward , terminated, truncated, info\n",
    "\n",
    "\tdef render(self, mode=\"human\"):\n",
    "\t\tprint(f\"Step: {self.step_count}, Reward: {self.reward:.4f}\")\n"
   ]
  },
  {
   "cell_type": "code",
   "execution_count": 272,
   "metadata": {
    "execution": {
     "iopub.execute_input": "2025-07-29T19:07:56.691639Z",
     "iopub.status.busy": "2025-07-29T19:07:56.691388Z",
     "iopub.status.idle": "2025-07-29T19:07:56.715512Z",
     "shell.execute_reply": "2025-07-29T19:07:56.714962Z",
     "shell.execute_reply.started": "2025-07-29T19:07:56.691618Z"
    },
    "trusted": true
   },
   "outputs": [],
   "source": [
    "import torch\n",
    "import torch.nn as nn\n",
    "import torch.optim as optim\n",
    "import torch.nn.functional as F\n",
    "\n",
    "class PolicyNetwork(nn.Module):\n",
    "\tdef __init__(self, win_size , n_feature):\n",
    "\t\tsuper().__init__()\n",
    "\n",
    "\t\tself.norm_all = nn.LayerNorm(n_feature)\n",
    "\t\t\n",
    "\t\tself.i_know = nn.LSTM(input_size=n_feature, \n",
    "\t\t\t\t\t\thidden_size=n_feature,\n",
    "\t\t\t\t\t\t  num_layers= 128,\n",
    "\t\t\t\t\t\t  batch_first=True,\n",
    "\t\t\t\t\t\t  bidirectional= False\n",
    "\t\t\t\t\t\t  )\n",
    "\t\t\n",
    "\n",
    "\t\t# self.rnn = nn.RNN(input_size=n_feature,hidden_size=n_feature,num_layers=256,  batch_first=True, )\n",
    "\t\t\n",
    "\t\tself.i_see = nn.Sequential(\n",
    "\t\t\tnn.Conv1d(in_channels=win_size, out_channels=win_size, kernel_size=5, padding='same'),\n",
    "\t\t\tnn.BatchNorm1d(win_size),\n",
    "\t\t\tnn.LeakyReLU(),\n",
    "\t\t\tnn.Conv1d(in_channels=win_size, out_channels=win_size, kernel_size=3, padding='same'),\n",
    "\t\t\tnn.BatchNorm1d(win_size),\n",
    "\t\t\tnn.LeakyReLU()\n",
    "\t\t\t)\n",
    "\n",
    "\t\tself.i_decide = nn.Sequential(\n",
    "\t\t\tnn.Flatten(),\n",
    "\t\t\tnn.Dropout(.5),\n",
    "\t\t\tnn.Linear(win_size * n_feature, 128), # fc1\n",
    "\t\t\tnn.LeakyReLU(),\n",
    "\t\t\tnn.Linear(128, 128), # fc2\n",
    "\t\t\tnn.LeakyReLU(),\n",
    "\t\t\tnn.Linear(128, 3), # out\n",
    "\t\t\t# nn.Softmax()         \n",
    "\t\t)\n",
    "\n",
    "\n",
    "\tdef forward(self, X: Tensor) -> Tensor:\n",
    "\t\t# print(f\"before denorm\\n{X}\")\n",
    "\t\tx : Tensor = self.norm_all(X).unsqueeze(0)\n",
    "\t\t# print(f\"after denorm\\n{x}\")\n",
    "\t\tiknow : Tensor\n",
    "\t\tiknow ,_ = self.i_know(x)\n",
    "\n",
    "\t\tisee : Tensor = self.i_see(iknow)\n",
    "\t\t# print(isee.shape)\n",
    "\t\twhathpend =  isee + iknow.tanh()\n",
    "\n",
    "\t\tout = self.i_decide(whathpend)\n",
    "\n",
    "\t\treturn out\n",
    "\n",
    "\n",
    "\n",
    "\n",
    "# تبدیل observation به بردار 1D برای ورودی شبکه\n",
    "def preprocess_obs(obs : np.ndarray | Tensor) -> torch.Tensor:\n",
    "\treturn torch.tensor(obs, dtype=torch.float32)\n"
   ]
  },
  {
   "cell_type": "code",
   "execution_count": 273,
   "metadata": {
    "execution": {
     "iopub.execute_input": "2025-07-29T19:07:56.716303Z",
     "iopub.status.busy": "2025-07-29T19:07:56.716146Z",
     "iopub.status.idle": "2025-07-29T19:07:56.789265Z",
     "shell.execute_reply": "2025-07-29T19:07:56.788696Z",
     "shell.execute_reply.started": "2025-07-29T19:07:56.716290Z"
    },
    "trusted": true
   },
   "outputs": [
    {
     "data": {
      "text/html": [
       "<div>\n",
       "<style scoped>\n",
       "    .dataframe tbody tr th:only-of-type {\n",
       "        vertical-align: middle;\n",
       "    }\n",
       "\n",
       "    .dataframe tbody tr th {\n",
       "        vertical-align: top;\n",
       "    }\n",
       "\n",
       "    .dataframe thead th {\n",
       "        text-align: right;\n",
       "    }\n",
       "</style>\n",
       "<table border=\"1\" class=\"dataframe\">\n",
       "  <thead>\n",
       "    <tr style=\"text-align: right;\">\n",
       "      <th></th>\n",
       "      <th>diff</th>\n",
       "      <th>Open</th>\n",
       "      <th>High</th>\n",
       "      <th>Low</th>\n",
       "      <th>Close</th>\n",
       "      <th>Volume</th>\n",
       "      <th>MovAvg</th>\n",
       "      <th>macd</th>\n",
       "      <th>rsi</th>\n",
       "      <th>Pivot</th>\n",
       "      <th>R1</th>\n",
       "      <th>S1</th>\n",
       "    </tr>\n",
       "  </thead>\n",
       "  <tbody>\n",
       "    <tr>\n",
       "      <th>count</th>\n",
       "      <td>16196.000000</td>\n",
       "      <td>16196.000000</td>\n",
       "      <td>16196.000000</td>\n",
       "      <td>16196.000000</td>\n",
       "      <td>16196.000000</td>\n",
       "      <td>16196.000000</td>\n",
       "      <td>16196.000000</td>\n",
       "      <td>16196.000000</td>\n",
       "      <td>16196.000000</td>\n",
       "      <td>16196.000000</td>\n",
       "      <td>16196.000000</td>\n",
       "      <td>16196.000000</td>\n",
       "    </tr>\n",
       "    <tr>\n",
       "      <th>mean</th>\n",
       "      <td>0.008881</td>\n",
       "      <td>3322.106239</td>\n",
       "      <td>3323.693715</td>\n",
       "      <td>3320.438804</td>\n",
       "      <td>3322.108786</td>\n",
       "      <td>328.232712</td>\n",
       "      <td>3322.099905</td>\n",
       "      <td>-0.010970</td>\n",
       "      <td>0.511939</td>\n",
       "      <td>3322.080435</td>\n",
       "      <td>3323.722066</td>\n",
       "      <td>3320.467155</td>\n",
       "    </tr>\n",
       "    <tr>\n",
       "      <th>std</th>\n",
       "      <td>2.727019</td>\n",
       "      <td>55.571126</td>\n",
       "      <td>55.523052</td>\n",
       "      <td>55.602232</td>\n",
       "      <td>55.567196</td>\n",
       "      <td>86.788161</td>\n",
       "      <td>55.530395</td>\n",
       "      <td>2.331886</td>\n",
       "      <td>0.170295</td>\n",
       "      <td>55.553895</td>\n",
       "      <td>55.528926</td>\n",
       "      <td>55.609346</td>\n",
       "    </tr>\n",
       "    <tr>\n",
       "      <th>min</th>\n",
       "      <td>-44.396000</td>\n",
       "      <td>3125.430000</td>\n",
       "      <td>3129.880000</td>\n",
       "      <td>3120.780000</td>\n",
       "      <td>3125.400000</td>\n",
       "      <td>5.000000</td>\n",
       "      <td>3128.250000</td>\n",
       "      <td>-15.686000</td>\n",
       "      <td>0.015426</td>\n",
       "      <td>3125.480000</td>\n",
       "      <td>3130.180000</td>\n",
       "      <td>3120.700000</td>\n",
       "    </tr>\n",
       "    <tr>\n",
       "      <th>25%</th>\n",
       "      <td>-1.230500</td>\n",
       "      <td>3294.915000</td>\n",
       "      <td>3296.380000</td>\n",
       "      <td>3293.400000</td>\n",
       "      <td>3294.917500</td>\n",
       "      <td>276.000000</td>\n",
       "      <td>3295.074000</td>\n",
       "      <td>-1.205000</td>\n",
       "      <td>0.389633</td>\n",
       "      <td>3294.875833</td>\n",
       "      <td>3296.455833</td>\n",
       "      <td>3293.399167</td>\n",
       "    </tr>\n",
       "    <tr>\n",
       "      <th>50%</th>\n",
       "      <td>0.072000</td>\n",
       "      <td>3326.425000</td>\n",
       "      <td>3327.930000</td>\n",
       "      <td>3324.870000</td>\n",
       "      <td>3326.440000</td>\n",
       "      <td>331.000000</td>\n",
       "      <td>3326.540000</td>\n",
       "      <td>-0.066000</td>\n",
       "      <td>0.509717</td>\n",
       "      <td>3326.480000</td>\n",
       "      <td>3327.835000</td>\n",
       "      <td>3324.961667</td>\n",
       "    </tr>\n",
       "    <tr>\n",
       "      <th>75%</th>\n",
       "      <td>1.358000</td>\n",
       "      <td>3357.857500</td>\n",
       "      <td>3359.365000</td>\n",
       "      <td>3356.260000</td>\n",
       "      <td>3357.865000</td>\n",
       "      <td>385.000000</td>\n",
       "      <td>3357.641500</td>\n",
       "      <td>1.059000</td>\n",
       "      <td>0.633781</td>\n",
       "      <td>3357.800000</td>\n",
       "      <td>3359.331667</td>\n",
       "      <td>3356.350000</td>\n",
       "    </tr>\n",
       "    <tr>\n",
       "      <th>max</th>\n",
       "      <td>20.690000</td>\n",
       "      <td>3497.360000</td>\n",
       "      <td>3499.980000</td>\n",
       "      <td>3494.210000</td>\n",
       "      <td>3497.330000</td>\n",
       "      <td>1181.000000</td>\n",
       "      <td>3493.994000</td>\n",
       "      <td>25.022000</td>\n",
       "      <td>1.000000</td>\n",
       "      <td>3496.546667</td>\n",
       "      <td>3499.763333</td>\n",
       "      <td>3493.463333</td>\n",
       "    </tr>\n",
       "  </tbody>\n",
       "</table>\n",
       "</div>"
      ],
      "text/plain": [
       "               diff          Open          High           Low         Close  \\\n",
       "count  16196.000000  16196.000000  16196.000000  16196.000000  16196.000000   \n",
       "mean       0.008881   3322.106239   3323.693715   3320.438804   3322.108786   \n",
       "std        2.727019     55.571126     55.523052     55.602232     55.567196   \n",
       "min      -44.396000   3125.430000   3129.880000   3120.780000   3125.400000   \n",
       "25%       -1.230500   3294.915000   3296.380000   3293.400000   3294.917500   \n",
       "50%        0.072000   3326.425000   3327.930000   3324.870000   3326.440000   \n",
       "75%        1.358000   3357.857500   3359.365000   3356.260000   3357.865000   \n",
       "max       20.690000   3497.360000   3499.980000   3494.210000   3497.330000   \n",
       "\n",
       "             Volume        MovAvg          macd           rsi         Pivot  \\\n",
       "count  16196.000000  16196.000000  16196.000000  16196.000000  16196.000000   \n",
       "mean     328.232712   3322.099905     -0.010970      0.511939   3322.080435   \n",
       "std       86.788161     55.530395      2.331886      0.170295     55.553895   \n",
       "min        5.000000   3128.250000    -15.686000      0.015426   3125.480000   \n",
       "25%      276.000000   3295.074000     -1.205000      0.389633   3294.875833   \n",
       "50%      331.000000   3326.540000     -0.066000      0.509717   3326.480000   \n",
       "75%      385.000000   3357.641500      1.059000      0.633781   3357.800000   \n",
       "max     1181.000000   3493.994000     25.022000      1.000000   3496.546667   \n",
       "\n",
       "                 R1            S1  \n",
       "count  16196.000000  16196.000000  \n",
       "mean    3323.722066   3320.467155  \n",
       "std       55.528926     55.609346  \n",
       "min     3130.180000   3120.700000  \n",
       "25%     3296.455833   3293.399167  \n",
       "50%     3327.835000   3324.961667  \n",
       "75%     3359.331667   3356.350000  \n",
       "max     3499.763333   3493.463333  "
      ]
     },
     "execution_count": 273,
     "metadata": {},
     "output_type": "execute_result"
    }
   ],
   "source": [
    "assert not data.isnull().any().any(), \"NaN exists in dataframe!\"\n",
    "\n",
    "data.describe()"
   ]
  },
  {
   "cell_type": "code",
   "execution_count": 274,
   "metadata": {
    "execution": {
     "iopub.execute_input": "2025-07-29T19:07:56.792106Z",
     "iopub.status.busy": "2025-07-29T19:07:56.791633Z",
     "iopub.status.idle": "2025-07-29T19:07:56.798337Z",
     "shell.execute_reply": "2025-07-29T19:07:56.797773Z",
     "shell.execute_reply.started": "2025-07-29T19:07:56.792088Z"
    },
    "trusted": true
   },
   "outputs": [],
   "source": [
    "from torch.distributions import Categorical\n",
    "\n",
    "class SimpleRLAgent:\n",
    "\tdef __init__(self, win_size, num_features ,action_dim):\n",
    "\t\tself.policy = PolicyNetwork (win_size=win_size, n_feature=num_features )\n",
    "\t\tself.policy.to(device)\n",
    "\t\tself.optimizer = optim.Adam(self.policy.parameters(), lr=0.001)\n",
    "\t\tself.buffer = []  # Stores (log_prob, reward) pairs\n",
    "\t\n",
    "\tdef select_action(self, state):\n",
    "\t\tstate = torch.FloatTensor(state).to(device)#.unsqueeze(0)\n",
    "\t\tlogits = self.policy(state)\n",
    "\t\tprobs: Tensor = F.softmax(logits, dim=-1)  # Convert logits to probabilities\n",
    "\t\t\n",
    "\t\tm = Categorical(probs)\n",
    "\t\taction = m.sample().squeeze(0)\n",
    "\t\t# print(action)\n",
    "\t\t# Sample an action from the probability distribution\n",
    "\t\t# action = torch. multinomial(probs, 1).item()\n",
    "\t\t# print(action)\n",
    "\t\tlog_prob: Tensor = m.log_prob(action) #F.log_softmax(logits, dim=-1)[0, action] # type: ignore\n",
    "\t\t\n",
    "\t\treturn action, log_prob\n",
    "\t\n",
    "\tdef update(self):\n",
    "\t\tif not self.buffer:\n",
    "\t\t\treturn\n",
    "\t\t\n",
    "\t\t# Extract stored (log_prob, reward) pairs\n",
    "\t\tlog_probs, rewards = zip(*self.buffer)\n",
    "\t\tlog_probs = torch.stack(log_probs).to(device)\n",
    "\t\trewards = torch.FloatTensor(rewards).to(device)\n",
    "\t\t\n",
    "\t\t# Normalize rewards (reduces variance)\n",
    "\t\trewards = (rewards - rewards.mean()) / (rewards.std() + 1e-8)\n",
    "\t\t\n",
    "\t\t# Policy gradient loss: -log_prob * reward (maximize reward)\n",
    "\t\tloss = (-log_probs * rewards).mean()\n",
    "\t\t\n",
    "\t\tself.optimizer.zero_grad()\n",
    "\t\tloss.backward()\n",
    "\t\tself.optimizer.step()\n",
    "\t\t\n",
    "\t\tself.buffer = []  # Clear buffer after update\n",
    "\t\treturn loss.item()"
   ]
  },
  {
   "cell_type": "code",
   "execution_count": 275,
   "metadata": {
    "execution": {
     "iopub.execute_input": "2025-07-29T19:07:56.799129Z",
     "iopub.status.busy": "2025-07-29T19:07:56.798926Z",
     "iopub.status.idle": "2025-07-29T19:07:56.819354Z",
     "shell.execute_reply": "2025-07-29T19:07:56.818797Z",
     "shell.execute_reply.started": "2025-07-29T19:07:56.799114Z"
    },
    "trusted": true
   },
   "outputs": [
    {
     "data": {
      "text/plain": [
       "<torch.autograd.anomaly_mode.set_detect_anomaly at 0x1a98ca582d0>"
      ]
     },
     "execution_count": 275,
     "metadata": {},
     "output_type": "execute_result"
    }
   ],
   "source": [
    "torch.autograd.set_detect_anomaly(True)\n"
   ]
  },
  {
   "cell_type": "code",
   "execution_count": 276,
   "metadata": {
    "execution": {
     "iopub.execute_input": "2025-07-29T19:11:29.132448Z",
     "iopub.status.busy": "2025-07-29T19:11:29.131699Z",
     "iopub.status.idle": "2025-07-29T19:11:29.138812Z",
     "shell.execute_reply": "2025-07-29T19:11:29.137870Z",
     "shell.execute_reply.started": "2025-07-29T19:11:29.132422Z"
    },
    "trusted": true
   },
   "outputs": [
    {
     "name": "stdout",
     "output_type": "stream",
     "text": [
      "Episode 1 | Reward 130.2620 | Gain 101.26896667480469\n",
      "Episode 2 | Reward 155.7591 | Gain 100.00019836425781\n",
      "Episode 3 | Reward 136.4417 | Gain 97.78438568115234\n",
      "Episode 4 | Reward 110.5170 | Gain 100.37301635742188\n",
      "Episode 5 | Reward 147.4299 | Gain 100.39592742919922\n",
      "Episode 6 | Reward 139.7851 | Gain 102.41270446777344\n",
      "Episode 7 | Reward 99.4766 | Gain 100.3000259399414\n",
      "Episode 8 | Reward 142.1303 | Gain 99.97492218017578\n",
      "Episode 9 | Reward 124.6161 | Gain 99.78401184082031\n",
      "Episode 10 | Reward 144.5879 | Gain 98.93206024169922\n"
     ]
    }
   ],
   "source": [
    "\n",
    "window_size = 10\n",
    "\n",
    "env = MarketEnv(df=data, \n",
    "\t\t\t\twin_size=window_size,\n",
    "\t\t\t    risk_free_rate = 1e-1 ,\n",
    "\t\t\t\tsharpe_weight = .5 ,\n",
    "\t\t\t\tshapre_compression= 5,\n",
    "\t\t\t\tsize= 0.01,\n",
    "\t\t\t\ttransaction_cost = 2e-2,\n",
    "\n",
    "\t\t\t   )\n",
    "obs, _ = env.reset()\n",
    "\n",
    "# actor: PolicyNetwork   = PolicyNetwork (win_size=window_size, n_feature=env.num_features )\n",
    "\n",
    "agent = SimpleRLAgent(win_size=window_size, \n",
    "\t\t\t\t\t  num_features=env.num_features, \n",
    "\t\t\t\t\t  action_dim=3)  # 3 discrete actions\n",
    "\n",
    "# optim = optim.Adam(actor.parameters(), lr=1e-3, maximize=True)\n",
    "\n",
    "gamma = 0.5\n",
    "num_episodes = 10\n",
    "max_steps = 1_00\n",
    "reward_to_episodes = list()\n",
    "done : bool = False\n",
    "\n",
    "for episode in range(num_episodes):\n",
    "\tstate ,_= env.reset()\n",
    "\tepisode_reward = 0.\n",
    "\t\n",
    "\t# while not done:\n",
    "\tfor step in range(max_steps):\n",
    "\t\taction, log_prob = agent.select_action(state)\n",
    "\t\tnext_state, reward, terminated, truncated, _ = env.step(action) # type: ignore\n",
    "\t\tagent.buffer.append((log_prob, reward))\n",
    "\t\t\n",
    "\t\tstate = next_state\n",
    "\t\tepisode_reward += reward\n",
    "\t\tdone: bool = terminated or truncated\n",
    "\t\t# env.render()\n",
    "\t\t# if done:\n",
    "\tagent.update()  # Update policy at the end of the episode\n",
    "\tprint(f\"Episode {episode+1} | Reward {episode_reward:.4f} | Gain {env.portfolio}\")\n",
    "\treward_to_episodes.append(episode_reward)\n",
    "\t# break"
   ]
  },
  {
   "cell_type": "code",
   "execution_count": 277,
   "metadata": {},
   "outputs": [
    {
     "data": {
      "text/plain": [
       "tensor(193015.)"
      ]
     },
     "execution_count": 277,
     "metadata": {},
     "output_type": "execute_result"
    }
   ],
   "source": [
    "params = torch.tensor(0.0)\n",
    "\n",
    "for name, param in agent.policy.named_parameters():\n",
    "\tparams += param.size().numel()\n",
    "\t# print(name, param.size(),)\n",
    "\n",
    "params"
   ]
  },
  {
   "cell_type": "code",
   "execution_count": 278,
   "metadata": {
    "execution": {
     "iopub.execute_input": "2025-07-29T19:09:02.416984Z",
     "iopub.status.busy": "2025-07-29T19:09:02.416703Z",
     "iopub.status.idle": "2025-07-29T19:09:02.421565Z",
     "shell.execute_reply": "2025-07-29T19:09:02.420958Z",
     "shell.execute_reply.started": "2025-07-29T19:09:02.416961Z"
    },
    "trusted": true
   },
   "outputs": [
    {
     "name": "stdout",
     "output_type": "stream",
     "text": [
      "\n",
      "portfolio   98.93206024169922\n",
      "max gain    2.0000\n",
      "min gain    -0.4281\n",
      "mean gain   0.5847\n",
      "std gain   0.8465\n",
      "median gain 0.0012\n",
      "\n"
     ]
    }
   ],
   "source": [
    "print(f\"\"\"\n",
    "portfolio   {env.portfolio}\n",
    "max gain    {np.max(env.trade_record)  :.4f}\n",
    "min gain    {np.min(env.trade_record)  :.4f}\n",
    "mean gain   {np.mean(env.trade_record)  :.4f}\n",
    "std gain   {np.std(env.trade_record)  :.4f}\n",
    "median gain {np.median(env.trade_record)  :.4f}\n",
    "\"\"\")"
   ]
  },
  {
   "cell_type": "code",
   "execution_count": 279,
   "metadata": {
    "execution": {
     "iopub.execute_input": "2025-07-29T19:09:02.422472Z",
     "iopub.status.busy": "2025-07-29T19:09:02.422256Z",
     "iopub.status.idle": "2025-07-29T19:09:02.501724Z",
     "shell.execute_reply": "2025-07-29T19:09:02.501179Z",
     "shell.execute_reply.started": "2025-07-29T19:09:02.422456Z"
    },
    "trusted": true
   },
   "outputs": [
    {
     "data": {
      "image/png": "[encoded data removed]",
      "text/plain": [
       "<Figure size 640x480 with 1 Axes>"
      ]
     },
     "metadata": {},
     "output_type": "display_data"
    }
   ],
   "source": [
    "import seaborn as sns\n",
    "\n",
    "sns.lineplot({\"reward\": reward_to_episodes})\n",
    "plt.title(\"total reward for each episode\")\n",
    "plt.xlabel('Episodes')\n",
    "plt.ylabel(\"Rewards\")\n",
    "plt.grid()\n",
    "plt.show()"
   ]
  },
  {
   "cell_type": "code",
   "execution_count": 280,
   "metadata": {
    "execution": {
     "iopub.execute_input": "2025-07-29T19:09:02.502647Z",
     "iopub.status.busy": "2025-07-29T19:09:02.502418Z",
     "iopub.status.idle": "2025-07-29T19:09:02.529796Z",
     "shell.execute_reply": "2025-07-29T19:09:02.529032Z",
     "shell.execute_reply.started": "2025-07-29T19:09:02.502625Z"
    },
    "trusted": true
   },
   "outputs": [
    {
     "data": {
      "image/png": "[encoded data removed]",
      "text/plain": [
       "<Figure size 640x480 with 1 Axes>"
      ]
     },
     "metadata": {},
     "output_type": "display_data"
    }
   ],
   "source": [
    "sns.lineplot({\"Record\": np.array(env.trade_record)[:,1] } )\n",
    "# sns.scatterplot({'position': np.array(env.trade_record)[:,0] })\n",
    "plt.title(\"total Record\")\n",
    "plt.xlabel('Position')\n",
    "plt.ylabel(\"gain\")\n",
    "plt.grid()\n",
    "plt.show()"
   ]
  },
  {
   "cell_type": "code",
   "execution_count": 281,
   "metadata": {
    "execution": {
     "iopub.execute_input": "2025-07-29T19:09:02.531314Z",
     "iopub.status.busy": "2025-07-29T19:09:02.530627Z",
     "iopub.status.idle": "2025-07-29T19:09:02.539354Z",
     "shell.execute_reply": "2025-07-29T19:09:02.538781Z",
     "shell.execute_reply.started": "2025-07-29T19:09:02.531292Z"
    },
    "trusted": true
   },
   "outputs": [
    {
     "name": "stdout",
     "output_type": "stream",
     "text": [
      "torch.Size([1619, 10, 12])\n"
     ]
    }
   ],
   "source": [
    "n_features = env.num_features\n",
    "n_rows = data.shape[0]\n",
    "usable_rows = (n_rows // window_size) * window_size\n",
    "data_trimmed = data.iloc[:usable_rows, :]\n",
    "\n",
    "data_tensor = torch.tensor(data_trimmed.to_numpy(), dtype=torch.float).reshape(-1, window_size, n_features).to(device)\n",
    "print(data_tensor.shape)"
   ]
  },
  {
   "cell_type": "code",
   "execution_count": 282,
   "metadata": {
    "execution": {
     "iopub.execute_input": "2025-07-29T19:09:02.540464Z",
     "iopub.status.busy": "2025-07-29T19:09:02.540123Z",
     "iopub.status.idle": "2025-07-29T19:09:02.567175Z",
     "shell.execute_reply": "2025-07-29T19:09:02.566461Z",
     "shell.execute_reply.started": "2025-07-29T19:09:02.540443Z"
    },
    "trusted": true
   },
   "outputs": [
    {
     "name": "stdout",
     "output_type": "stream",
     "text": [
      "torch.Size([1619, 10, 12]) (16196, 12)\n"
     ]
    }
   ],
   "source": [
    "print(data_tensor.shape, data.shape)"
   ]
  },
  {
   "cell_type": "code",
   "execution_count": 283,
   "metadata": {
    "execution": {
     "iopub.execute_input": "2025-07-29T19:09:02.568406Z",
     "iopub.status.busy": "2025-07-29T19:09:02.567869Z",
     "iopub.status.idle": "2025-07-29T19:09:30.298169Z",
     "shell.execute_reply": "2025-07-29T19:09:30.297539Z",
     "shell.execute_reply.started": "2025-07-29T19:09:02.568388Z"
    },
    "trusted": true
   },
   "outputs": [
    {
     "name": "stdout",
     "output_type": "stream",
     "text": [
      "tensor([0, 0, 0,  ..., 0, 0, 2])\n"
     ]
    }
   ],
   "source": [
    "\n",
    "labels = []\n",
    "with torch.no_grad():\n",
    "\tagent.policy.eval()\n",
    "\tfor state in data_tensor:\n",
    "\t\tprobs  = F.softmax(agent.policy(state), dim=-1) # type: ignore\n",
    "\t\taction = torch.multinomial(probs, 1).item()\n",
    "\t\tlabels.append(action)\n",
    "\n",
    "tensor_labels = torch.tensor(labels)\n",
    "print(tensor_labels)\n",
    "# print(action)"
   ]
  },
  {
   "cell_type": "code",
   "execution_count": 284,
   "metadata": {
    "execution": {
     "iopub.execute_input": "2025-07-29T19:09:30.299261Z",
     "iopub.status.busy": "2025-07-29T19:09:30.298954Z",
     "iopub.status.idle": "2025-07-29T19:09:30.304480Z",
     "shell.execute_reply": "2025-07-29T19:09:30.303768Z",
     "shell.execute_reply.started": "2025-07-29T19:09:30.299235Z"
    },
    "trusted": true
   },
   "outputs": [
    {
     "name": "stdout",
     "output_type": "stream",
     "text": [
      "\n",
      "uniques (tensor([0, 1, 2]), tensor([545, 478, 596]))\n",
      "labels.shape torch.Size([1619]) \n",
      "data_tensor.shape torch.Size([1619, 10, 12])\n",
      "data.shape (16196, 12) \n"
     ]
    }
   ],
   "source": [
    "print(f\"\"\"\n",
    "uniques {torch.unique(tensor_labels, return_counts=True)}\n",
    "labels.shape {tensor_labels.shape} \n",
    "data_tensor.shape {data_tensor.shape}\n",
    "data.shape {data.shape} \"\"\")"
   ]
  },
  {
   "cell_type": "code",
   "execution_count": 285,
   "metadata": {
    "execution": {
     "iopub.execute_input": "2025-07-29T19:09:30.305390Z",
     "iopub.status.busy": "2025-07-29T19:09:30.305199Z",
     "iopub.status.idle": "2025-07-29T19:09:30.382385Z",
     "shell.execute_reply": "2025-07-29T19:09:30.381691Z",
     "shell.execute_reply.started": "2025-07-29T19:09:30.305375Z"
    },
    "trusted": true
   },
   "outputs": [
    {
     "data": {
      "text/html": [
       "<div>\n",
       "<style scoped>\n",
       "    .dataframe tbody tr th:only-of-type {\n",
       "        vertical-align: middle;\n",
       "    }\n",
       "\n",
       "    .dataframe tbody tr th {\n",
       "        vertical-align: top;\n",
       "    }\n",
       "\n",
       "    .dataframe thead th {\n",
       "        text-align: right;\n",
       "    }\n",
       "</style>\n",
       "<table border=\"1\" class=\"dataframe\">\n",
       "  <thead>\n",
       "    <tr style=\"text-align: right;\">\n",
       "      <th></th>\n",
       "      <th>diff</th>\n",
       "      <th>Open</th>\n",
       "      <th>High</th>\n",
       "      <th>Low</th>\n",
       "      <th>Close</th>\n",
       "      <th>Volume</th>\n",
       "      <th>MovAvg</th>\n",
       "      <th>macd</th>\n",
       "      <th>rsi</th>\n",
       "      <th>Pivot</th>\n",
       "      <th>R1</th>\n",
       "      <th>S1</th>\n",
       "      <th>signal</th>\n",
       "    </tr>\n",
       "    <tr>\n",
       "      <th>Date</th>\n",
       "      <th></th>\n",
       "      <th></th>\n",
       "      <th></th>\n",
       "      <th></th>\n",
       "      <th></th>\n",
       "      <th></th>\n",
       "      <th></th>\n",
       "      <th></th>\n",
       "      <th></th>\n",
       "      <th></th>\n",
       "      <th></th>\n",
       "      <th></th>\n",
       "      <th></th>\n",
       "    </tr>\n",
       "  </thead>\n",
       "  <tbody>\n",
       "    <tr>\n",
       "      <th>2025-04-16 02:10:00</th>\n",
       "      <td>1.158</td>\n",
       "      <td>3238.81</td>\n",
       "      <td>3241.74</td>\n",
       "      <td>3238.81</td>\n",
       "      <td>3241.73</td>\n",
       "      <td>231</td>\n",
       "      <td>3240.572</td>\n",
       "      <td>-1.548</td>\n",
       "      <td>0.768652</td>\n",
       "      <td>3240.760000</td>\n",
       "      <td>3242.710000</td>\n",
       "      <td>3239.780000</td>\n",
       "      <td>0</td>\n",
       "    </tr>\n",
       "    <tr>\n",
       "      <th>2025-04-16 02:15:00</th>\n",
       "      <td>1.174</td>\n",
       "      <td>3241.77</td>\n",
       "      <td>3242.33</td>\n",
       "      <td>3240.10</td>\n",
       "      <td>3242.00</td>\n",
       "      <td>249</td>\n",
       "      <td>3240.826</td>\n",
       "      <td>-1.127</td>\n",
       "      <td>0.815049</td>\n",
       "      <td>3241.476667</td>\n",
       "      <td>3242.853333</td>\n",
       "      <td>3240.623333</td>\n",
       "      <td>2</td>\n",
       "    </tr>\n",
       "    <tr>\n",
       "      <th>2025-04-16 02:20:00</th>\n",
       "      <td>1.388</td>\n",
       "      <td>3241.97</td>\n",
       "      <td>3243.69</td>\n",
       "      <td>3241.10</td>\n",
       "      <td>3242.40</td>\n",
       "      <td>290</td>\n",
       "      <td>3241.012</td>\n",
       "      <td>-0.656</td>\n",
       "      <td>0.810365</td>\n",
       "      <td>3242.396667</td>\n",
       "      <td>3243.693333</td>\n",
       "      <td>3241.103333</td>\n",
       "      <td>2</td>\n",
       "    </tr>\n",
       "    <tr>\n",
       "      <th>2025-04-16 02:25:00</th>\n",
       "      <td>1.164</td>\n",
       "      <td>3242.41</td>\n",
       "      <td>3243.07</td>\n",
       "      <td>3242.09</td>\n",
       "      <td>3242.69</td>\n",
       "      <td>215</td>\n",
       "      <td>3241.526</td>\n",
       "      <td>-0.777</td>\n",
       "      <td>0.807186</td>\n",
       "      <td>3242.616667</td>\n",
       "      <td>3243.143333</td>\n",
       "      <td>3242.163333</td>\n",
       "      <td>2</td>\n",
       "    </tr>\n",
       "    <tr>\n",
       "      <th>2025-04-16 02:30:00</th>\n",
       "      <td>0.716</td>\n",
       "      <td>3242.68</td>\n",
       "      <td>3243.39</td>\n",
       "      <td>3242.31</td>\n",
       "      <td>3243.10</td>\n",
       "      <td>248</td>\n",
       "      <td>3242.384</td>\n",
       "      <td>-1.207</td>\n",
       "      <td>0.829813</td>\n",
       "      <td>3242.933333</td>\n",
       "      <td>3243.556667</td>\n",
       "      <td>3242.476667</td>\n",
       "      <td>2</td>\n",
       "    </tr>\n",
       "    <tr>\n",
       "      <th>...</th>\n",
       "      <td>...</td>\n",
       "      <td>...</td>\n",
       "      <td>...</td>\n",
       "      <td>...</td>\n",
       "      <td>...</td>\n",
       "      <td>...</td>\n",
       "      <td>...</td>\n",
       "      <td>...</td>\n",
       "      <td>...</td>\n",
       "      <td>...</td>\n",
       "      <td>...</td>\n",
       "      <td>...</td>\n",
       "      <td>...</td>\n",
       "    </tr>\n",
       "    <tr>\n",
       "      <th>2025-07-09 21:00:00</th>\n",
       "      <td>-0.986</td>\n",
       "      <td>3309.46</td>\n",
       "      <td>3309.63</td>\n",
       "      <td>3308.07</td>\n",
       "      <td>3309.02</td>\n",
       "      <td>257</td>\n",
       "      <td>3310.006</td>\n",
       "      <td>0.872</td>\n",
       "      <td>0.383396</td>\n",
       "      <td>3308.906667</td>\n",
       "      <td>3309.743333</td>\n",
       "      <td>3308.183333</td>\n",
       "      <td>2</td>\n",
       "    </tr>\n",
       "    <tr>\n",
       "      <th>2025-07-09 21:05:00</th>\n",
       "      <td>0.398</td>\n",
       "      <td>3308.99</td>\n",
       "      <td>3311.21</td>\n",
       "      <td>3308.32</td>\n",
       "      <td>3310.37</td>\n",
       "      <td>317</td>\n",
       "      <td>3309.972</td>\n",
       "      <td>0.718</td>\n",
       "      <td>0.352809</td>\n",
       "      <td>3309.966667</td>\n",
       "      <td>3311.613333</td>\n",
       "      <td>3308.723333</td>\n",
       "      <td>2</td>\n",
       "    </tr>\n",
       "    <tr>\n",
       "      <th>2025-07-09 21:10:00</th>\n",
       "      <td>0.610</td>\n",
       "      <td>3310.37</td>\n",
       "      <td>3310.75</td>\n",
       "      <td>3309.41</td>\n",
       "      <td>3310.51</td>\n",
       "      <td>248</td>\n",
       "      <td>3309.900</td>\n",
       "      <td>0.643</td>\n",
       "      <td>0.449446</td>\n",
       "      <td>3310.223333</td>\n",
       "      <td>3311.036667</td>\n",
       "      <td>3309.696667</td>\n",
       "      <td>2</td>\n",
       "    </tr>\n",
       "    <tr>\n",
       "      <th>2025-07-09 21:15:00</th>\n",
       "      <td>1.560</td>\n",
       "      <td>3310.52</td>\n",
       "      <td>3311.88</td>\n",
       "      <td>3310.45</td>\n",
       "      <td>3311.80</td>\n",
       "      <td>283</td>\n",
       "      <td>3310.240</td>\n",
       "      <td>0.241</td>\n",
       "      <td>0.513158</td>\n",
       "      <td>3311.376667</td>\n",
       "      <td>3312.303333</td>\n",
       "      <td>3310.873333</td>\n",
       "      <td>2</td>\n",
       "    </tr>\n",
       "    <tr>\n",
       "      <th>2025-07-09 21:20:00</th>\n",
       "      <td>1.988</td>\n",
       "      <td>3311.76</td>\n",
       "      <td>3313.70</td>\n",
       "      <td>3311.75</td>\n",
       "      <td>3312.91</td>\n",
       "      <td>309</td>\n",
       "      <td>3310.922</td>\n",
       "      <td>-0.266</td>\n",
       "      <td>0.438863</td>\n",
       "      <td>3312.786667</td>\n",
       "      <td>3313.823333</td>\n",
       "      <td>3311.873333</td>\n",
       "      <td>2</td>\n",
       "    </tr>\n",
       "  </tbody>\n",
       "</table>\n",
       "<p>16196 rows × 13 columns</p>\n",
       "</div>"
      ],
      "text/plain": [
       "                      diff     Open     High      Low    Close  Volume  \\\n",
       "Date                                                                     \n",
       "2025-04-16 02:10:00  1.158  3238.81  3241.74  3238.81  3241.73     231   \n",
       "2025-04-16 02:15:00  1.174  3241.77  3242.33  3240.10  3242.00     249   \n",
       "2025-04-16 02:20:00  1.388  3241.97  3243.69  3241.10  3242.40     290   \n",
       "2025-04-16 02:25:00  1.164  3242.41  3243.07  3242.09  3242.69     215   \n",
       "2025-04-16 02:30:00  0.716  3242.68  3243.39  3242.31  3243.10     248   \n",
       "...                    ...      ...      ...      ...      ...     ...   \n",
       "2025-07-09 21:00:00 -0.986  3309.46  3309.63  3308.07  3309.02     257   \n",
       "2025-07-09 21:05:00  0.398  3308.99  3311.21  3308.32  3310.37     317   \n",
       "2025-07-09 21:10:00  0.610  3310.37  3310.75  3309.41  3310.51     248   \n",
       "2025-07-09 21:15:00  1.560  3310.52  3311.88  3310.45  3311.80     283   \n",
       "2025-07-09 21:20:00  1.988  3311.76  3313.70  3311.75  3312.91     309   \n",
       "\n",
       "                       MovAvg   macd       rsi        Pivot           R1  \\\n",
       "Date                                                                       \n",
       "2025-04-16 02:10:00  3240.572 -1.548  0.768652  3240.760000  3242.710000   \n",
       "2025-04-16 02:15:00  3240.826 -1.127  0.815049  3241.476667  3242.853333   \n",
       "2025-04-16 02:20:00  3241.012 -0.656  0.810365  3242.396667  3243.693333   \n",
       "2025-04-16 02:25:00  3241.526 -0.777  0.807186  3242.616667  3243.143333   \n",
       "2025-04-16 02:30:00  3242.384 -1.207  0.829813  3242.933333  3243.556667   \n",
       "...                       ...    ...       ...          ...          ...   \n",
       "2025-07-09 21:00:00  3310.006  0.872  0.383396  3308.906667  3309.743333   \n",
       "2025-07-09 21:05:00  3309.972  0.718  0.352809  3309.966667  3311.613333   \n",
       "2025-07-09 21:10:00  3309.900  0.643  0.449446  3310.223333  3311.036667   \n",
       "2025-07-09 21:15:00  3310.240  0.241  0.513158  3311.376667  3312.303333   \n",
       "2025-07-09 21:20:00  3310.922 -0.266  0.438863  3312.786667  3313.823333   \n",
       "\n",
       "                              S1  signal  \n",
       "Date                                      \n",
       "2025-04-16 02:10:00  3239.780000       0  \n",
       "2025-04-16 02:15:00  3240.623333       2  \n",
       "2025-04-16 02:20:00  3241.103333       2  \n",
       "2025-04-16 02:25:00  3242.163333       2  \n",
       "2025-04-16 02:30:00  3242.476667       2  \n",
       "...                          ...     ...  \n",
       "2025-07-09 21:00:00  3308.183333       2  \n",
       "2025-07-09 21:05:00  3308.723333       2  \n",
       "2025-07-09 21:10:00  3309.696667       2  \n",
       "2025-07-09 21:15:00  3310.873333       2  \n",
       "2025-07-09 21:20:00  3311.873333       2  \n",
       "\n",
       "[16196 rows x 13 columns]"
      ]
     },
     "execution_count": 285,
     "metadata": {},
     "output_type": "execute_result"
    }
   ],
   "source": [
    "\n",
    "trade_df = data.copy()\n",
    "labels_full = [2] * len(trade_df)  # مقدار پیش‌فرض برای همه ردیف‌ها\n",
    "\n",
    "# تعداد ردیف‌هایی که برای مدل استفاده شدن\n",
    "usable_rows = (len(df) // 5) * 5\n",
    "\n",
    "for i, label in enumerate(tensor_labels):\n",
    "\tidx = i * 5\n",
    "\tif idx < len(labels_full):\n",
    "\t\tlabels_full[idx] = label.item()   # type: ignore\n",
    "\t\t# باقی ۴ ردیف همان صفر باقی می‌مانند\n",
    "\n",
    "data['signal'] = labels_full\n",
    "\n",
    "\n",
    "data\n",
    "\n",
    "# trade_df = data.copy()\n",
    "# labels_full = [np.nan] * len(trade_df)\n",
    "# for i, label in enumerate(labels):\n",
    "#     for j in range(5):\n",
    "#         labels_full[i*5 + j] = label.item()\n",
    "\n",
    "# data['signal'] = labels_full\n",
    "# data.head()"
   ]
  },
  {
   "cell_type": "code",
   "execution_count": 310,
   "metadata": {},
   "outputs": [
    {
     "data": {
      "text/html": [
       "<div>\n",
       "<style scoped>\n",
       "    .dataframe tbody tr th:only-of-type {\n",
       "        vertical-align: middle;\n",
       "    }\n",
       "\n",
       "    .dataframe tbody tr th {\n",
       "        vertical-align: top;\n",
       "    }\n",
       "\n",
       "    .dataframe thead th {\n",
       "        text-align: right;\n",
       "    }\n",
       "</style>\n",
       "<table border=\"1\" class=\"dataframe\">\n",
       "  <thead>\n",
       "    <tr style=\"text-align: right;\">\n",
       "      <th></th>\n",
       "      <th>Close</th>\n",
       "      <th>shifted</th>\n",
       "      <th>true-diff</th>\n",
       "      <th>diff</th>\n",
       "      <th>signal</th>\n",
       "      <th>true-signal</th>\n",
       "    </tr>\n",
       "  </thead>\n",
       "  <tbody>\n",
       "    <tr>\n",
       "      <th>count</th>\n",
       "      <td>219.000000</td>\n",
       "      <td>219.000000</td>\n",
       "      <td>219.000000</td>\n",
       "      <td>219.000000</td>\n",
       "      <td>219.0</td>\n",
       "      <td>219.0</td>\n",
       "    </tr>\n",
       "    <tr>\n",
       "      <th>mean</th>\n",
       "      <td>3298.047945</td>\n",
       "      <td>3302.745753</td>\n",
       "      <td>-4.697808</td>\n",
       "      <td>-1.757224</td>\n",
       "      <td>1.0</td>\n",
       "      <td>1.0</td>\n",
       "    </tr>\n",
       "    <tr>\n",
       "      <th>std</th>\n",
       "      <td>63.338984</td>\n",
       "      <td>63.056373</td>\n",
       "      <td>5.617819</td>\n",
       "      <td>3.843324</td>\n",
       "      <td>0.0</td>\n",
       "      <td>0.0</td>\n",
       "    </tr>\n",
       "    <tr>\n",
       "      <th>min</th>\n",
       "      <td>3128.750000</td>\n",
       "      <td>3137.590000</td>\n",
       "      <td>-55.150000</td>\n",
       "      <td>-44.396000</td>\n",
       "      <td>1.0</td>\n",
       "      <td>1.0</td>\n",
       "    </tr>\n",
       "    <tr>\n",
       "      <th>25%</th>\n",
       "      <td>3244.930000</td>\n",
       "      <td>3247.735000</td>\n",
       "      <td>-5.840000</td>\n",
       "      <td>-2.729000</td>\n",
       "      <td>1.0</td>\n",
       "      <td>1.0</td>\n",
       "    </tr>\n",
       "    <tr>\n",
       "      <th>50%</th>\n",
       "      <td>3307.760000</td>\n",
       "      <td>3311.400000</td>\n",
       "      <td>-3.060000</td>\n",
       "      <td>-1.174000</td>\n",
       "      <td>1.0</td>\n",
       "      <td>1.0</td>\n",
       "    </tr>\n",
       "    <tr>\n",
       "      <th>75%</th>\n",
       "      <td>3336.795000</td>\n",
       "      <td>3340.045000</td>\n",
       "      <td>-1.285000</td>\n",
       "      <td>0.014000</td>\n",
       "      <td>1.0</td>\n",
       "      <td>1.0</td>\n",
       "    </tr>\n",
       "    <tr>\n",
       "      <th>max</th>\n",
       "      <td>3488.400000</td>\n",
       "      <td>3490.100000</td>\n",
       "      <td>-0.010000</td>\n",
       "      <td>4.926000</td>\n",
       "      <td>1.0</td>\n",
       "      <td>1.0</td>\n",
       "    </tr>\n",
       "  </tbody>\n",
       "</table>\n",
       "</div>"
      ],
      "text/plain": [
       "             Close      shifted   true-diff        diff  signal  true-signal\n",
       "count   219.000000   219.000000  219.000000  219.000000   219.0        219.0\n",
       "mean   3298.047945  3302.745753   -4.697808   -1.757224     1.0          1.0\n",
       "std      63.338984    63.056373    5.617819    3.843324     0.0          0.0\n",
       "min    3128.750000  3137.590000  -55.150000  -44.396000     1.0          1.0\n",
       "25%    3244.930000  3247.735000   -5.840000   -2.729000     1.0          1.0\n",
       "50%    3307.760000  3311.400000   -3.060000   -1.174000     1.0          1.0\n",
       "75%    3336.795000  3340.045000   -1.285000    0.014000     1.0          1.0\n",
       "max    3488.400000  3490.100000   -0.010000    4.926000     1.0          1.0"
      ]
     },
     "execution_count": 310,
     "metadata": {},
     "output_type": "execute_result"
    }
   ],
   "source": [
    "data['shifted'] = data['Close'].shift(5)#.mean()\n",
    "data['true-diff'] = data['Close'] - data['shifted']\n",
    "\n",
    "data['true-signal'] = 2  # default\n",
    "data.loc[data['shifted'] <= data['Close'], 'true-signal'] = 0\n",
    "data.loc[data['shifted'] >= data['Close'], 'true-signal'] = 1\n",
    "\n",
    "data.dropna(inplace=True)\n",
    "fliterd_data = data[['Close', 'shifted', 'true-diff','diff', 'signal', 'true-signal']]\n",
    "\n",
    "fliterd_data = fliterd_data[(fliterd_data['true-signal'] == fliterd_data['signal']) & (fliterd_data['signal'] == 1)]\n",
    "\n",
    "fliterd_data.describe()"
   ]
  },
  {
   "cell_type": "code",
   "execution_count": 304,
   "metadata": {},
   "outputs": [
    {
     "name": "stdout",
     "output_type": "stream",
     "text": [
      "\n",
      "accuracy 3.1879%\n",
      "report\n",
      "              precision    recall  f1-score   support\n",
      "\n",
      "           0       0.55      0.04      0.07      8324\n",
      "           1       0.46      0.03      0.05      7862\n",
      "           2       0.00      0.00      0.00         0\n",
      "\n",
      "    accuracy                           0.03     16186\n",
      "   macro avg       0.34      0.02      0.04     16186\n",
      "weighted avg       0.50      0.03      0.06     16186\n",
      "\n",
      "\n"
     ]
    }
   ],
   "source": [
    "accuracy = (data['true-signal'] == data['signal']).mean()\n",
    "\n",
    "from sklearn.metrics import precision_score, recall_score, classification_report\n",
    "\n",
    "\n",
    "report = classification_report(data['true-signal'], data['signal'])\n",
    "\n",
    "print(f\"\"\"\n",
    "accuracy {accuracy:.4%}\n",
    "report\n",
    "{report}\n",
    "\"\"\")"
   ]
  },
  {
   "cell_type": "code",
   "execution_count": 288,
   "metadata": {
    "execution": {
     "iopub.execute_input": "2025-07-29T19:09:30.383229Z",
     "iopub.status.busy": "2025-07-29T19:09:30.383051Z",
     "iopub.status.idle": "2025-07-29T19:09:30.389587Z",
     "shell.execute_reply": "2025-07-29T19:09:30.388887Z",
     "shell.execute_reply.started": "2025-07-29T19:09:30.383215Z"
    },
    "trusted": true
   },
   "outputs": [
    {
     "data": {
      "text/plain": [
       "(array([0, 1, 2]), array([  544,   478, 15169]))"
      ]
     },
     "execution_count": 288,
     "metadata": {},
     "output_type": "execute_result"
    }
   ],
   "source": [
    "np.unique(fliterd_data['signal'].to_numpy(), return_counts = True)"
   ]
  },
  {
   "cell_type": "code",
   "execution_count": 289,
   "metadata": {
    "execution": {
     "iopub.execute_input": "2025-07-29T19:09:30.390537Z",
     "iopub.status.busy": "2025-07-29T19:09:30.390345Z",
     "iopub.status.idle": "2025-07-29T19:09:30.405297Z",
     "shell.execute_reply": "2025-07-29T19:09:30.404751Z",
     "shell.execute_reply.started": "2025-07-29T19:09:30.390523Z"
    },
    "trusted": true
   },
   "outputs": [],
   "source": [
    "import backtrader as bt\n",
    "\n",
    "# 1. Define a custom Pandas feed with signal line\n",
    "class PandasSignalData(bt.feeds.PandasData):\n",
    "\tlines = ('signal',)  # add 'signal' column\n",
    "\tparams = (('signal', -1),)  # tell backtrader where to find it (column index or name)\n"
   ]
  },
  {
   "cell_type": "code",
   "execution_count": 357,
   "metadata": {
    "execution": {
     "iopub.execute_input": "2025-07-29T19:09:30.406288Z",
     "iopub.status.busy": "2025-07-29T19:09:30.406052Z",
     "iopub.status.idle": "2025-07-29T19:09:30.424819Z",
     "shell.execute_reply": "2025-07-29T19:09:30.424149Z",
     "shell.execute_reply.started": "2025-07-29T19:09:30.406266Z"
    },
    "trusted": true
   },
   "outputs": [],
   "source": [
    "class TestStrategy(bt.Strategy):\n",
    "\tparams = dict(\n",
    "\t\ttp_percent= .04 ,  # 5% take profit for buy\n",
    "\t\tsl_percent= .04 ,  # 2% stop loss for buy\n",
    "\t\t# tp_percent_short= 0.02 ,  # 5% take profit for sell\n",
    "\t\t# sl_percent_short= 0.02 ,  # 2% stop loss for sell\n",
    "\t\tmax_hold= None ,    # maximum candle to hold on a position\n",
    "\t\tsize = 0.01 \n",
    "\t)\n",
    "\n",
    "\tdef __init__(self):\n",
    "\t\tself.signal = self.datas[0].signal\n",
    "\t\tself.entry_price = None\n",
    "\t\tself.bar_executed = None\n",
    "\t\tself.position_type = None  # 'long' یا 'short'\n",
    "\t\tself.size = 0.1\n",
    "\n",
    "\tdef next(self):\n",
    "\t\tprice_now = self.data.close[0]\n",
    "\n",
    "\t\tif not self.position:\n",
    "\t\t\tif self.signal[0] == 0:\n",
    "\t\t\t\t# if not self.position_type in ('short', None):\n",
    "\t\t\t\tself.close()\n",
    "\t\t\t\tself.entry_price = price_now\n",
    "\t\t\t\tself.buy(exectype= bt.Order.Market,\n",
    "\t\t\t\t\t\t\tsize= self.size,\n",
    "\t\t\t\t\t\t\ttp = self.entry_price * (1 + self.p.tp_percent),\n",
    "\t\t\t\t\t\t\tsl = self.entry_price * (1 - self.p.sl_percent)\n",
    "\t\t\t\t\t\t\t)\n",
    "\t\t\t\tself.bar_executed = len(self)\n",
    "\t\t\t\tself.position_type = 'long'\n",
    "\n",
    "\t\t\telif self.signal[0] == 1:\n",
    "\t\t\t\t# if not self.position_type in ('long', None):\n",
    "\t\t\t\tself.close()\n",
    "\t\t\t\tself.entry_price = price_now\n",
    "\t\t\t\tself.sell(exectype= bt.Order.Market,\n",
    "\t\t\t\t\t\t\tsize= self.size,\n",
    "\t\t\t\t\t\t\ttp = self.entry_price * (1 - self.p.tp_percent),\n",
    "\t\t\t\t\t\t\tsl = self.entry_price * (1 + self.p.sl_percent)\n",
    "\t\t\t\t\t\t\t)\n",
    "\t\t\t\tself.entry_price = price_now\n",
    "\t\t\t\tself.bar_executed = len(self)\n",
    "\t\t\t\tself.position_type = 'short'\n",
    "\n",
    "\t\telse:\n",
    "\t\t\tpass\n",
    "\t\t\tif self.position_type == 'long':\n",
    "\t\t\t\ttp_price = self.entry_price * (1 + self.p.tp_percent)\n",
    "\t\t\t\tsl_price = self.entry_price * (1 - self.p.sl_percent)\n",
    "\n",
    "\t\t\t\tif price_now >= tp_price:\n",
    "\t\t\t\t\tself.close()\n",
    "\t\t\t\t\tprint(f\"Take Profit (long) hit at {price_now}\")\n",
    "\t\t\t\t\tself.position_type = None\n",
    "\t\t\t\t\tself.entry_price = None\n",
    "\t\t\t\t\tself.bar_executed = None\n",
    "\n",
    "\t\t\t\telif price_now <= sl_price:\n",
    "\t\t\t\t\tself.close()\n",
    "\t\t\t\t\tprint(f\"Stop Loss (long) hit at {price_now}\")\n",
    "\t\t\t\t\tself.position_type = None\n",
    "\t\t\t\t\tself.entry_price = None\n",
    "\t\t\t\t\tself.bar_executed = None\n",
    "\n",
    "\t\t\t# پوزیشن شورت\n",
    "\t\t\telif self.position_type == 'short':\n",
    "\t\t\t\ttp_price = self.entry_price * (1 - self.p.tp_percent)\n",
    "\t\t\t\tsl_price = self.entry_price * (1 + self.p.sl_percent)\n",
    "\n",
    "\t\t\t\tif price_now <= tp_price:\n",
    "\t\t\t\t\tself.close()\n",
    "\t\t\t\t\tprint(f\"Take Profit (short) hit at {price_now}\")\n",
    "\t\t\t\t\tself.position_type = None\n",
    "\t\t\t\t\tself.entry_price = None\n",
    "\t\t\t\t\tself.bar_executed = None\n",
    "\n",
    "\t\t\t\telif price_now >= sl_price:\n",
    "\t\t\t\t\tself.close()\n",
    "\t\t\t\t\tprint(f\"Stop Loss (short) hit at {price_now}\")\n",
    "\t\t\t\t\tself.position_type = None\n",
    "\t\t\t\t\tself.entry_price = None\n",
    "\t\t\t\t\tself.bar_executed = None\n",
    "\n",
    "\t\t\t# شرط زمانی خروج از هر نوع پوزیشن\n",
    "\t\t\tif not self.p.max_hold == None:\n",
    "\t\t\t\tif self.bar_executed and (len(self) - self.bar_executed) >= self.p.max_hold:\n",
    "\t\t\t\t\tself.close()\n",
    "\t\t\t\t\t# print(f\"Time-based exit at {price_now}\")\n",
    "\t\t\t\t\tself.position_type = None\n",
    "\t\t\t\t\tself.entry_price = None\n",
    "\t\t\t\t\tself.bar_executed = None\n",
    "\n",
    "\n"
   ]
  },
  {
   "cell_type": "code",
   "execution_count": 358,
   "metadata": {
    "execution": {
     "iopub.execute_input": "2025-07-29T19:10:17.808064Z",
     "iopub.status.busy": "2025-07-29T19:10:17.807428Z",
     "iopub.status.idle": "2025-07-29T19:10:38.587923Z",
     "shell.execute_reply": "2025-07-29T19:10:38.587164Z",
     "shell.execute_reply.started": "2025-07-29T19:10:17.808042Z"
    },
    "trusted": true
   },
   "outputs": [
    {
     "name": "stdout",
     "output_type": "stream",
     "text": [
      "Starting Portfolio Value: 10000\n",
      "Stop Loss (short) hit at 3398.92\n",
      "Stop Loss (long) hit at 3263.65\n",
      "Take Profit (long) hit at 3410.58\n",
      "Take Profit (short) hit at 3271.71\n",
      "Take Profit (short) hit at 3145.6\n",
      "Take Profit (long) hit at 3270.89\n",
      "Stop Loss (short) hit at 3413.8\n",
      "Final Portfolio Value:    10012.502999999999\n",
      "groose : 12.502999999998792\n"
     ]
    }
   ],
   "source": [
    "# 4. Feed into backtrader\n",
    "trade_data = PandasSignalData(dataname=data) # type: ignore\n",
    "\n",
    "\n",
    "\n",
    "cerebro = bt.Cerebro()\n",
    "cerebro.adddata(trade_data)\n",
    "cerebro.addstrategy(TestStrategy)\n",
    "cerebro.broker.setcash(10_000)\n",
    "cerebro.broker\n",
    "cerebro.addanalyzer(bt.analyzers.SharpeRatio,\n",
    "                     _name='sharpe', \n",
    "                     timeframe=bt.TimeFrame.Days,  # type: ignore\n",
    "                    #  riskfreerate = 1e-1, \n",
    "                    #  compression = 5\n",
    "                     )\n",
    "cerebro.addanalyzer(bt.analyzers.DrawDown, _name='drawdown')\n",
    "cerebro.addanalyzer(bt.analyzers.TradeAnalyzer, _name='trades')\n",
    "cerebro.addanalyzer(bt.analyzers.Returns, _name='returns')\n",
    "cerebro.broker.set_shortcash(True)\n",
    "\n",
    "first_portfolio = cerebro.broker.getvalue()\n",
    "print(f\"Starting Portfolio Value: {first_portfolio}\")\n",
    "results = cerebro.run()\n",
    "strategy = results[0]\n",
    "last_portfolio = cerebro.broker.getvalue()\n",
    "print(f\"Final Portfolio Value:    {last_portfolio}\" )\n",
    "print(f\"groose : { last_portfolio - first_portfolio}\")\n",
    "\n"
   ]
  },
  {
   "cell_type": "code",
   "execution_count": 359,
   "metadata": {
    "execution": {
     "iopub.execute_input": "2025-07-29T19:10:38.589396Z",
     "iopub.status.busy": "2025-07-29T19:10:38.589197Z",
     "iopub.status.idle": "2025-07-29T19:10:38.593198Z",
     "shell.execute_reply": "2025-07-29T19:10:38.592512Z",
     "shell.execute_reply.started": "2025-07-29T19:10:38.589381Z"
    },
    "trusted": true
   },
   "outputs": [],
   "source": [
    "sharpe = strategy .analyzers.sharpe.get_analysis()\n",
    "drawdown = strategy .analyzers.drawdown.get_analysis()\n",
    "\n",
    "trades = strategy .analyzers.trades.get_analysis()\n",
    "returns = strategy .analyzers.returns.get_analysis()"
   ]
  },
  {
   "cell_type": "code",
   "execution_count": 360,
   "metadata": {
    "execution": {
     "iopub.execute_input": "2025-07-29T19:10:38.594271Z",
     "iopub.status.busy": "2025-07-29T19:10:38.594034Z",
     "iopub.status.idle": "2025-07-29T19:10:38.613257Z",
     "shell.execute_reply": "2025-07-29T19:10:38.612598Z",
     "shell.execute_reply.started": "2025-07-29T19:10:38.594239Z"
    },
    "trusted": true
   },
   "outputs": [
    {
     "name": "stdout",
     "output_type": "stream",
     "text": [
      "Sharpe Ratio: -0.043520308111733144\n",
      "Max Drawdown: 0.34%\n",
      "Total Net Profit: 0.12%\n",
      "Win Rate: 57.14%\n"
     ]
    }
   ],
   "source": [
    "print(f\"Sharpe Ratio: {sharpe.get('sharperatio', 'N/A')}\")\n",
    "print(f\"Max Drawdown: {drawdown.max.drawdown:.2f}%\")\n",
    "print(f\"Total Net Profit: {returns['rtot']*100:.2f}%\")\n",
    "# print(f\"Profit Factor: {trades['pnl']['gross']['total'] / abs(trades['pnl']['gross']['loss']) if trades['pnl']['gross']['loss'] != 0 else 'inf'}\")\n",
    "print(f\"Win Rate: {trades['won']['total'] / trades['total']['total'] * 100:.2f}%\")\n"
   ]
  },
  {
   "cell_type": "code",
   "execution_count": 361,
   "metadata": {
    "execution": {
     "iopub.execute_input": "2025-07-29T19:10:43.945977Z",
     "iopub.status.busy": "2025-07-29T19:10:43.945733Z",
     "iopub.status.idle": "2025-07-29T19:10:46.189009Z",
     "shell.execute_reply": "2025-07-29T19:10:46.188221Z",
     "shell.execute_reply.started": "2025-07-29T19:10:43.945960Z"
    },
    "trusted": true
   },
   "outputs": [
    {
     "data": {
      "application/javascript": "/* Put everything inside the global mpl namespace */\n/* global mpl */\nwindow.mpl = {};\n\nmpl.get_websocket_type = function () {\n    if (typeof WebSocket !== 'undefined') {\n        return WebSocket;\n    } else if (typeof MozWebSocket !== 'undefined') {\n        return MozWebSocket;\n    } else {\n        alert(\n            'Your browser does not have WebSocket support. ' +\n                'Please try Chrome, Safari or Firefox ≥ 6. ' +\n                'Firefox 4 and 5 are also supported but you ' +\n                'have to enable WebSockets in about:config.'\n        );\n    }\n};\n\nmpl.figure = function (figure_id, websocket, ondownload, parent_element) {\n    this.id = figure_id;\n\n    this.ws = websocket;\n\n    this.supports_binary = this.ws.binaryType !== undefined;\n\n    if (!this.supports_binary) {\n        var warnings = document.getElementById('mpl-warnings');\n        if (warnings) {\n            warnings.style.display = 'block';\n            warnings.textContent =\n                'This browser does not support binary websocket messages. ' +\n                'Performance may be slow.';\n        }\n    }\n\n    this.imageObj = new Image();\n\n    this.context = undefined;\n    this.message = undefined;\n    this.canvas = undefined;\n    this.rubberband_canvas = undefined;\n    this.rubberband_context = undefined;\n    this.format_dropdown = undefined;\n\n    this.image_mode = 'full';\n\n    this.root = document.createElement('div');\n    this.root.setAttribute('style', 'display: inline-block');\n    this._root_extra_style(this.root);\n\n    parent_element.appendChild(this.root);\n\n    this._init_header(this);\n    this._init_canvas(this);\n    this._init_toolbar(this);\n\n    var fig = this;\n\n    this.waiting = false;\n\n    this.ws.onopen = function () {\n        fig.send_message('supports_binary', { value: fig.supports_binary });\n        fig.send_message('send_image_mode', {});\n        if (fig.ratio !== 1) {\n            fig.send_message('set_device_pixel_ratio', {\n                device_pixel_ratio: fig.ratio,\n            });\n        }\n        fig.send_message('refresh', {});\n    };\n\n    this.imageObj.onload = function () {\n        if (fig.image_mode === 'full') {\n            // Full images could contain transparency (where diff images\n            // almost always do), so we need to clear the canvas so that\n            // there is no ghosting.\n            fig.context.clearRect(0, 0, fig.canvas.width, fig.canvas.height);\n        }\n        fig.context.drawImage(fig.imageObj, 0, 0);\n    };\n\n    this.imageObj.onunload = function () {\n        fig.ws.close();\n    };\n\n    this.ws.onmessage = this._make_on_message_function(this);\n\n    this.ondownload = ondownload;\n};\n\nmpl.figure.prototype._init_header = function () {\n    var titlebar = document.createElement('div');\n    titlebar.classList =\n        'ui-dialog-titlebar ui-widget-header ui-corner-all ui-helper-clearfix';\n    var titletext = document.createElement('div');\n    titletext.classList = 'ui-dialog-title';\n    titletext.setAttribute(\n        'style',\n        'width: 100%; text-align: center; padding: 3px;'\n    );\n    titlebar.appendChild(titletext);\n    this.root.appendChild(titlebar);\n    this.header = titletext;\n};\n\nmpl.figure.prototype._canvas_extra_style = function (_canvas_div) {};\n\nmpl.figure.prototype._root_extra_style = function (_canvas_div) {};\n\nmpl.figure.prototype._init_canvas = function () {\n    var fig = this;\n\n    var canvas_div = (this.canvas_div = document.createElement('div'));\n    canvas_div.setAttribute('tabindex', '0');\n    canvas_div.setAttribute(\n        'style',\n        'border: 1px solid #ddd;' +\n            'box-sizing: content-box;' +\n            'clear: both;' +\n            'min-height: 1px;' +\n            'min-width: 1px;' +\n            'outline: 0;' +\n            'overflow: hidden;' +\n            'position: relative;' +\n            'resize: both;' +\n            'z-index: 2;'\n    );\n\n    function on_keyboard_event_closure(name) {\n        return function (event) {\n            return fig.key_event(event, name);\n        };\n    }\n\n    canvas_div.addEventListener(\n        'keydown',\n        on_keyboard_event_closure('key_press')\n    );\n    canvas_div.addEventListener(\n        'keyup',\n        on_keyboard_event_closure('key_release')\n    );\n\n    this._canvas_extra_style(canvas_div);\n    this.root.appendChild(canvas_div);\n\n    var canvas = (this.canvas = document.createElement('canvas'));\n    canvas.classList.add('mpl-canvas');\n    canvas.setAttribute(\n        'style',\n        'box-sizing: content-box;' +\n            'pointer-events: none;' +\n            'position: relative;' +\n            'z-index: 0;'\n    );\n\n    this.context = canvas.getContext('2d');\n\n    var backingStore =\n        this.context.backingStorePixelRatio ||\n        this.context.webkitBackingStorePixelRatio ||\n        this.context.mozBackingStorePixelRatio ||\n        this.context.msBackingStorePixelRatio ||\n        this.context.oBackingStorePixelRatio ||\n        this.context.backingStorePixelRatio ||\n        1;\n\n    this.ratio = (window.devicePixelRatio || 1) / backingStore;\n\n    var rubberband_canvas = (this.rubberband_canvas = document.createElement(\n        'canvas'\n    ));\n    rubberband_canvas.setAttribute(\n        'style',\n        'box-sizing: content-box;' +\n            'left: 0;' +\n            'pointer-events: none;' +\n            'position: absolute;' +\n            'top: 0;' +\n            'z-index: 1;'\n    );\n\n    // Apply a ponyfill if ResizeObserver is not implemented by browser.\n    if (this.ResizeObserver === undefined) {\n        if (window.ResizeObserver !== undefined) {\n            this.ResizeObserver = window.ResizeObserver;\n        } else {\n            var obs = _JSXTOOLS_RESIZE_OBSERVER({});\n            this.ResizeObserver = obs.ResizeObserver;\n        }\n    }\n\n    this.resizeObserverInstance = new this.ResizeObserver(function (entries) {\n        // There's no need to resize if the WebSocket is not connected:\n        // - If it is still connecting, then we will get an initial resize from\n        //   Python once it connects.\n        // - If it has disconnected, then resizing will clear the canvas and\n        //   never get anything back to refill it, so better to not resize and\n        //   keep something visible.\n        if (fig.ws.readyState != 1) {\n            return;\n        }\n        var nentries = entries.length;\n        for (var i = 0; i < nentries; i++) {\n            var entry = entries[i];\n            var width, height;\n            if (entry.contentBoxSize) {\n                if (entry.contentBoxSize instanceof Array) {\n                    // Chrome 84 implements new version of spec.\n                    width = entry.contentBoxSize[0].inlineSize;\n                    height = entry.contentBoxSize[0].blockSize;\n                } else {\n                    // Firefox implements old version of spec.\n                    width = entry.contentBoxSize.inlineSize;\n                    height = entry.contentBoxSize.blockSize;\n                }\n            } else {\n                // Chrome <84 implements even older version of spec.\n                width = entry.contentRect.width;\n                height = entry.contentRect.height;\n            }\n\n            // Keep the size of the canvas and rubber band canvas in sync with\n            // the canvas container.\n            if (entry.devicePixelContentBoxSize) {\n                // Chrome 84 implements new version of spec.\n                canvas.setAttribute(\n                    'width',\n                    entry.devicePixelContentBoxSize[0].inlineSize\n                );\n                canvas.setAttribute(\n                    'height',\n                    entry.devicePixelContentBoxSize[0].blockSize\n                );\n            } else {\n                canvas.setAttribute('width', width * fig.ratio);\n                canvas.setAttribute('height', height * fig.ratio);\n            }\n            /* This rescales the canvas back to display pixels, so that it\n             * appears correct on HiDPI screens. */\n            canvas.style.width = width + 'px';\n            canvas.style.height = height + 'px';\n\n            rubberband_canvas.setAttribute('width', width);\n            rubberband_canvas.setAttribute('height', height);\n\n            // And update the size in Python. We ignore the initial 0/0 size\n            // that occurs as the element is placed into the DOM, which should\n            // otherwise not happen due to the minimum size styling.\n            if (width != 0 && height != 0) {\n                fig.request_resize(width, height);\n            }\n        }\n    });\n    this.resizeObserverInstance.observe(canvas_div);\n\n    function on_mouse_event_closure(name) {\n        /* User Agent sniffing is bad, but WebKit is busted:\n         * https://bugs.webkit.org/show_bug.cgi?id=144526\n         * https://bugs.webkit.org/show_bug.cgi?id=181818\n         * The worst that happens here is that they get an extra browser\n         * selection when dragging, if this check fails to catch them.\n         */\n        var UA = navigator.userAgent;\n        var isWebKit = /AppleWebKit/.test(UA) && !/Chrome/.test(UA);\n        if(isWebKit) {\n            return function (event) {\n                /* This prevents the web browser from automatically changing to\n                 * the text insertion cursor when the button is pressed. We\n                 * want to control all of the cursor setting manually through\n                 * the 'cursor' event from matplotlib */\n                event.preventDefault()\n                return fig.mouse_event(event, name);\n            };\n        } else {\n            return function (event) {\n                return fig.mouse_event(event, name);\n            };\n        }\n    }\n\n    canvas_div.addEventListener(\n        'mousedown',\n        on_mouse_event_closure('button_press')\n    );\n    canvas_div.addEventListener(\n        'mouseup',\n        on_mouse_event_closure('button_release')\n    );\n    canvas_div.addEventListener(\n        'dblclick',\n        on_mouse_event_closure('dblclick')\n    );\n    // Throttle sequential mouse events to 1 every 20ms.\n    canvas_div.addEventListener(\n        'mousemove',\n        on_mouse_event_closure('motion_notify')\n    );\n\n    canvas_div.addEventListener(\n        'mouseenter',\n        on_mouse_event_closure('figure_enter')\n    );\n    canvas_div.addEventListener(\n        'mouseleave',\n        on_mouse_event_closure('figure_leave')\n    );\n\n    canvas_div.addEventListener('wheel', function (event) {\n        if (event.deltaY < 0) {\n            event.step = 1;\n        } else {\n            event.step = -1;\n        }\n        on_mouse_event_closure('scroll')(event);\n    });\n\n    canvas_div.appendChild(canvas);\n    canvas_div.appendChild(rubberband_canvas);\n\n    this.rubberband_context = rubberband_canvas.getContext('2d');\n    this.rubberband_context.strokeStyle = '#000000';\n\n    this._resize_canvas = function (width, height, forward) {\n        if (forward) {\n            canvas_div.style.width = width + 'px';\n            canvas_div.style.height = height + 'px';\n        }\n    };\n\n    // Disable right mouse context menu.\n    canvas_div.addEventListener('contextmenu', function (_e) {\n        event.preventDefault();\n        return false;\n    });\n\n    function set_focus() {\n        canvas.focus();\n        canvas_div.focus();\n    }\n\n    window.setTimeout(set_focus, 100);\n};\n\nmpl.figure.prototype._init_toolbar = function () {\n    var fig = this;\n\n    var toolbar = document.createElement('div');\n    toolbar.classList = 'mpl-toolbar';\n    this.root.appendChild(toolbar);\n\n    function on_click_closure(name) {\n        return function (_event) {\n            return fig.toolbar_button_onclick(name);\n        };\n    }\n\n    function on_mouseover_closure(tooltip) {\n        return function (event) {\n            if (!event.currentTarget.disabled) {\n                return fig.toolbar_button_onmouseover(tooltip);\n            }\n        };\n    }\n\n    fig.buttons = {};\n    var buttonGroup = document.createElement('div');\n    buttonGroup.classList = 'mpl-button-group';\n    for (var toolbar_ind in mpl.toolbar_items) {\n        var name = mpl.toolbar_items[toolbar_ind][0];\n        var tooltip = mpl.toolbar_items[toolbar_ind][1];\n        var image = mpl.toolbar_items[toolbar_ind][2];\n        var method_name = mpl.toolbar_items[toolbar_ind][3];\n\n        if (!name) {\n            /* Instead of a spacer, we start a new button group. */\n            if (buttonGroup.hasChildNodes()) {\n                toolbar.appendChild(buttonGroup);\n            }\n            buttonGroup = document.createElement('div');\n            buttonGroup.classList = 'mpl-button-group';\n            continue;\n        }\n\n        var button = (fig.buttons[name] = document.createElement('button'));\n        button.classList = 'mpl-widget';\n        button.setAttribute('role', 'button');\n        button.setAttribute('aria-disabled', 'false');\n        button.addEventListener('click', on_click_closure(method_name));\n        button.addEventListener('mouseover', on_mouseover_closure(tooltip));\n\n        var icon_img = document.createElement('img');\n        icon_img.src = '_images/' + image + '.png';\n        icon_img.srcset = '_images/' + image + '_large.png 2x';\n        icon_img.alt = tooltip;\n        button.appendChild(icon_img);\n\n        buttonGroup.appendChild(button);\n    }\n\n    if (buttonGroup.hasChildNodes()) {\n        toolbar.appendChild(buttonGroup);\n    }\n\n    var fmt_picker = document.createElement('select');\n    fmt_picker.classList = 'mpl-widget';\n    toolbar.appendChild(fmt_picker);\n    this.format_dropdown = fmt_picker;\n\n    for (var ind in mpl.extensions) {\n        var fmt = mpl.extensions[ind];\n        var option = document.createElement('option');\n        option.selected = fmt === mpl.default_extension;\n        option.innerHTML = fmt;\n        fmt_picker.appendChild(option);\n    }\n\n    var status_bar = document.createElement('span');\n    status_bar.classList = 'mpl-message';\n    toolbar.appendChild(status_bar);\n    this.message = status_bar;\n};\n\nmpl.figure.prototype.request_resize = function (x_pixels, y_pixels) {\n    // Request matplotlib to resize the figure. Matplotlib will then trigger a resize in the client,\n    // which will in turn request a refresh of the image.\n    this.send_message('resize', { width: x_pixels, height: y_pixels });\n};\n\nmpl.figure.prototype.send_message = function (type, properties) {\n    properties['type'] = type;\n    properties['figure_id'] = this.id;\n    this.ws.send(JSON.stringify(properties));\n};\n\nmpl.figure.prototype.send_draw_message = function () {\n    if (!this.waiting) {\n        this.waiting = true;\n        this.ws.send(JSON.stringify({ type: 'draw', figure_id: this.id }));\n    }\n};\n\nmpl.figure.prototype.handle_save = function (fig, _msg) {\n    var format_dropdown = fig.format_dropdown;\n    var format = format_dropdown.options[format_dropdown.selectedIndex].value;\n    fig.ondownload(fig, format);\n};\n\nmpl.figure.prototype.handle_resize = function (fig, msg) {\n    var size = msg['size'];\n    if (size[0] !== fig.canvas.width || size[1] !== fig.canvas.height) {\n        fig._resize_canvas(size[0], size[1], msg['forward']);\n        fig.send_message('refresh', {});\n    }\n};\n\nmpl.figure.prototype.handle_rubberband = function (fig, msg) {\n    var x0 = msg['x0'] / fig.ratio;\n    var y0 = (fig.canvas.height - msg['y0']) / fig.ratio;\n    var x1 = msg['x1'] / fig.ratio;\n    var y1 = (fig.canvas.height - msg['y1']) / fig.ratio;\n    x0 = Math.floor(x0) + 0.5;\n    y0 = Math.floor(y0) + 0.5;\n    x1 = Math.floor(x1) + 0.5;\n    y1 = Math.floor(y1) + 0.5;\n    var min_x = Math.min(x0, x1);\n    var min_y = Math.min(y0, y1);\n    var width = Math.abs(x1 - x0);\n    var height = Math.abs(y1 - y0);\n\n    fig.rubberband_context.clearRect(\n        0,\n        0,\n        fig.canvas.width / fig.ratio,\n        fig.canvas.height / fig.ratio\n    );\n\n    fig.rubberband_context.strokeRect(min_x, min_y, width, height);\n};\n\nmpl.figure.prototype.handle_figure_label = function (fig, msg) {\n    // Updates the figure title.\n    fig.header.textContent = msg['label'];\n};\n\nmpl.figure.prototype.handle_cursor = function (fig, msg) {\n    fig.canvas_div.style.cursor = msg['cursor'];\n};\n\nmpl.figure.prototype.handle_message = function (fig, msg) {\n    fig.message.textContent = msg['message'];\n};\n\nmpl.figure.prototype.handle_draw = function (fig, _msg) {\n    // Request the server to send over a new figure.\n    fig.send_draw_message();\n};\n\nmpl.figure.prototype.handle_image_mode = function (fig, msg) {\n    fig.image_mode = msg['mode'];\n};\n\nmpl.figure.prototype.handle_history_buttons = function (fig, msg) {\n    for (var key in msg) {\n        if (!(key in fig.buttons)) {\n            continue;\n        }\n        fig.buttons[key].disabled = !msg[key];\n        fig.buttons[key].setAttribute('aria-disabled', !msg[key]);\n    }\n};\n\nmpl.figure.prototype.handle_navigate_mode = function (fig, msg) {\n    if (msg['mode'] === 'PAN') {\n        fig.buttons['Pan'].classList.add('active');\n        fig.buttons['Zoom'].classList.remove('active');\n    } else if (msg['mode'] === 'ZOOM') {\n        fig.buttons['Pan'].classList.remove('active');\n        fig.buttons['Zoom'].classList.add('active');\n    } else {\n        fig.buttons['Pan'].classList.remove('active');\n        fig.buttons['Zoom'].classList.remove('active');\n    }\n};\n\nmpl.figure.prototype.updated_canvas_event = function () {\n    // Called whenever the canvas gets updated.\n    this.send_message('ack', {});\n};\n\n// A function to construct a web socket function for onmessage handling.\n// Called in the figure constructor.\nmpl.figure.prototype._make_on_message_function = function (fig) {\n    return function socket_on_message(evt) {\n        if (evt.data instanceof Blob) {\n            var img = evt.data;\n            if (img.type !== 'image/png') {\n                /* FIXME: We get \"Resource interpreted as Image but\n                 * transferred with MIME type text/plain:\" errors on\n                 * Chrome.  But how to set the MIME type?  It doesn't seem\n                 * to be part of the websocket stream */\n                img.type = 'image/png';\n            }\n\n            /* Free the memory for the previous frames */\n            if (fig.imageObj.src) {\n                (window.URL || window.webkitURL).revokeObjectURL(\n                    fig.imageObj.src\n                );\n            }\n\n            fig.imageObj.src = (window.URL || window.webkitURL).createObjectURL(\n                img\n            );\n            fig.updated_canvas_event();\n            fig.waiting = false;\n            return;\n        } else if (\n            typeof evt.data === 'string' &&\n            evt.data.slice(0, 21) === 'data:image/png;base64'\n        ) {\n            fig.imageObj.src = evt.data;\n            fig.updated_canvas_event();\n            fig.waiting = false;\n            return;\n        }\n\n        var msg = JSON.parse(evt.data);\n        var msg_type = msg['type'];\n\n        // Call the  \"handle_{type}\" callback, which takes\n        // the figure and JSON message as its only arguments.\n        try {\n            var callback = fig['handle_' + msg_type];\n        } catch (e) {\n            console.log(\n                \"No handler for the '\" + msg_type + \"' message type: \",\n                msg\n            );\n            return;\n        }\n\n        if (callback) {\n            try {\n                // console.log(\"Handling '\" + msg_type + \"' message: \", msg);\n                callback(fig, msg);\n            } catch (e) {\n                console.log(\n                    \"Exception inside the 'handler_\" + msg_type + \"' callback:\",\n                    e,\n                    e.stack,\n                    msg\n                );\n            }\n        }\n    };\n};\n\nfunction getModifiers(event) {\n    var mods = [];\n    if (event.ctrlKey) {\n        mods.push('ctrl');\n    }\n    if (event.altKey) {\n        mods.push('alt');\n    }\n    if (event.shiftKey) {\n        mods.push('shift');\n    }\n    if (event.metaKey) {\n        mods.push('meta');\n    }\n    return mods;\n}\n\n/*\n * return a copy of an object with only non-object keys\n * we need this to avoid circular references\n * https://stackoverflow.com/a/24161582/3208463\n */\nfunction simpleKeys(original) {\n    return Object.keys(original).reduce(function (obj, key) {\n        if (typeof original[key] !== 'object') {\n            obj[key] = original[key];\n        }\n        return obj;\n    }, {});\n}\n\nmpl.figure.prototype.mouse_event = function (event, name) {\n    if (name === 'button_press') {\n        this.canvas.focus();\n        this.canvas_div.focus();\n    }\n\n    // from https://stackoverflow.com/q/1114465\n    var boundingRect = this.canvas.getBoundingClientRect();\n    var x = (event.clientX - boundingRect.left) * this.ratio;\n    var y = (event.clientY - boundingRect.top) * this.ratio;\n\n    this.send_message(name, {\n        x: x,\n        y: y,\n        button: event.button,\n        step: event.step,\n        buttons: event.buttons,\n        modifiers: getModifiers(event),\n        guiEvent: simpleKeys(event),\n    });\n\n    return false;\n};\n\nmpl.figure.prototype._key_event_extra = function (_event, _name) {\n    // Handle any extra behaviour associated with a key event\n};\n\nmpl.figure.prototype.key_event = function (event, name) {\n    // Prevent repeat events\n    if (name === 'key_press') {\n        if (event.key === this._key) {\n            return;\n        } else {\n            this._key = event.key;\n        }\n    }\n    if (name === 'key_release') {\n        this._key = null;\n    }\n\n    var value = '';\n    if (event.ctrlKey && event.key !== 'Control') {\n        value += 'ctrl+';\n    }\n    else if (event.altKey && event.key !== 'Alt') {\n        value += 'alt+';\n    }\n    else if (event.shiftKey && event.key !== 'Shift') {\n        value += 'shift+';\n    }\n\n    value += 'k' + event.key;\n\n    this._key_event_extra(event, name);\n\n    this.send_message(name, { key: value, guiEvent: simpleKeys(event) });\n    return false;\n};\n\nmpl.figure.prototype.toolbar_button_onclick = function (name) {\n    if (name === 'download') {\n        this.handle_save(this, null);\n    } else {\n        this.send_message('toolbar_button', { name: name });\n    }\n};\n\nmpl.figure.prototype.toolbar_button_onmouseover = function (tooltip) {\n    this.message.textContent = tooltip;\n};\n\n///////////////// REMAINING CONTENT GENERATED BY embed_js.py /////////////////\n// prettier-ignore\nvar _JSXTOOLS_RESIZE_OBSERVER=function(A){var t,i=new WeakMap,n=new WeakMap,a=new WeakMap,r=new WeakMap,o=new Set;function s(e){if(!(this instanceof s))throw new TypeError(\"Constructor requires 'new' operator\");i.set(this,e)}function h(){throw new TypeError(\"Function is not a constructor\")}function c(e,t,i,n){e=0 in arguments?Number(arguments[0]):0,t=1 in arguments?Number(arguments[1]):0,i=2 in arguments?Number(arguments[2]):0,n=3 in arguments?Number(arguments[3]):0,this.right=(this.x=this.left=e)+(this.width=i),this.bottom=(this.y=this.top=t)+(this.height=n),Object.freeze(this)}function d(){t=requestAnimationFrame(d);var s=new WeakMap,p=new Set;o.forEach((function(t){r.get(t).forEach((function(i){var r=t instanceof window.SVGElement,o=a.get(t),d=r?0:parseFloat(o.paddingTop),f=r?0:parseFloat(o.paddingRight),l=r?0:parseFloat(o.paddingBottom),u=r?0:parseFloat(o.paddingLeft),g=r?0:parseFloat(o.borderTopWidth),m=r?0:parseFloat(o.borderRightWidth),w=r?0:parseFloat(o.borderBottomWidth),b=u+f,F=d+l,v=(r?0:parseFloat(o.borderLeftWidth))+m,W=g+w,y=r?0:t.offsetHeight-W-t.clientHeight,E=r?0:t.offsetWidth-v-t.clientWidth,R=b+v,z=F+W,M=r?t.width:parseFloat(o.width)-R-E,O=r?t.height:parseFloat(o.height)-z-y;if(n.has(t)){var k=n.get(t);if(k[0]===M&&k[1]===O)return}n.set(t,[M,O]);var S=Object.create(h.prototype);S.target=t,S.contentRect=new c(u,d,M,O),s.has(i)||(s.set(i,[]),p.add(i)),s.get(i).push(S)}))})),p.forEach((function(e){i.get(e).call(e,s.get(e),e)}))}return s.prototype.observe=function(i){if(i instanceof window.Element){r.has(i)||(r.set(i,new Set),o.add(i),a.set(i,window.getComputedStyle(i)));var n=r.get(i);n.has(this)||n.add(this),cancelAnimationFrame(t),t=requestAnimationFrame(d)}},s.prototype.unobserve=function(i){if(i instanceof window.Element&&r.has(i)){var n=r.get(i);n.has(this)&&(n.delete(this),n.size||(r.delete(i),o.delete(i))),n.size||r.delete(i),o.size||cancelAnimationFrame(t)}},A.DOMRectReadOnly=c,A.ResizeObserver=s,A.ResizeObserverEntry=h,A}; // eslint-disable-line\nmpl.toolbar_items = [[\"Home\", \"Reset original view\", \"fa fa-home\", \"home\"], [\"Back\", \"Back to previous view\", \"fa fa-arrow-left\", \"back\"], [\"Forward\", \"Forward to next view\", \"fa fa-arrow-right\", \"forward\"], [\"\", \"\", \"\", \"\"], [\"Pan\", \"Left button pans, Right button zooms\\nx/y fixes axis, CTRL fixes aspect\", \"fa fa-arrows\", \"pan\"], [\"Zoom\", \"Zoom to rectangle\\nx/y fixes axis\", \"fa fa-square-o\", \"zoom\"], [\"\", \"\", \"\", \"\"], [\"Download\", \"Download plot\", \"fa fa-floppy-o\", \"download\"]];\n\nmpl.extensions = [\"eps\", \"jpeg\", \"pgf\", \"pdf\", \"png\", \"ps\", \"raw\", \"svg\", \"tif\", \"webp\"];\n\nmpl.default_extension = \"png\";/* global mpl */\n\nvar comm_websocket_adapter = function (comm) {\n    // Create a \"websocket\"-like object which calls the given IPython comm\n    // object with the appropriate methods. Currently this is a non binary\n    // socket, so there is still some room for performance tuning.\n    var ws = {};\n\n    ws.binaryType = comm.kernel.ws.binaryType;\n    ws.readyState = comm.kernel.ws.readyState;\n    function updateReadyState(_event) {\n        if (comm.kernel.ws) {\n            ws.readyState = comm.kernel.ws.readyState;\n        } else {\n            ws.readyState = 3; // Closed state.\n        }\n    }\n    comm.kernel.ws.addEventListener('open', updateReadyState);\n    comm.kernel.ws.addEventListener('close', updateReadyState);\n    comm.kernel.ws.addEventListener('error', updateReadyState);\n\n    ws.close = function () {\n        comm.close();\n    };\n    ws.send = function (m) {\n        //console.log('sending', m);\n        comm.send(m);\n    };\n    // Register the callback with on_msg.\n    comm.on_msg(function (msg) {\n        //console.log('receiving', msg['content']['data'], msg);\n        var data = msg['content']['data'];\n        if (data['blob'] !== undefined) {\n            data = {\n                data: new Blob(msg['buffers'], { type: data['blob'] }),\n            };\n        }\n        // Pass the mpl event to the overridden (by mpl) onmessage function.\n        ws.onmessage(data);\n    });\n    return ws;\n};\n\nmpl.mpl_figure_comm = function (comm, msg) {\n    // This is the function which gets called when the mpl process\n    // starts-up an IPython Comm through the \"matplotlib\" channel.\n\n    var id = msg.content.data.id;\n    // Get hold of the div created by the display call when the Comm\n    // socket was opened in Python.\n    var element = document.getElementById(id);\n    var ws_proxy = comm_websocket_adapter(comm);\n\n    function ondownload(figure, _format) {\n        window.open(figure.canvas.toDataURL());\n    }\n\n    var fig = new mpl.figure(id, ws_proxy, ondownload, element);\n\n    // Call onopen now - mpl needs it, as it is assuming we've passed it a real\n    // web socket which is closed, not our websocket->open comm proxy.\n    ws_proxy.onopen();\n\n    fig.parent_element = element;\n    fig.cell_info = mpl.find_output_cell(\"<div id='\" + id + \"'></div>\");\n    if (!fig.cell_info) {\n        console.error('Failed to find cell for figure', id, fig);\n        return;\n    }\n    fig.cell_info[0].output_area.element.on(\n        'cleared',\n        { fig: fig },\n        fig._remove_fig_handler\n    );\n};\n\nmpl.figure.prototype.handle_close = function (fig, msg) {\n    var width = fig.canvas.width / fig.ratio;\n    fig.cell_info[0].output_area.element.off(\n        'cleared',\n        fig._remove_fig_handler\n    );\n    fig.resizeObserverInstance.unobserve(fig.canvas_div);\n\n    // Update the output cell to use the data from the current canvas.\n    fig.push_to_output();\n    var dataURL = fig.canvas.toDataURL();\n    // Re-enable the keyboard manager in IPython - without this line, in FF,\n    // the notebook keyboard shortcuts fail.\n    IPython.keyboard_manager.enable();\n    fig.parent_element.innerHTML =\n        '<img src=\"' + dataURL + '\" width=\"' + width + '\">';\n    fig.close_ws(fig, msg);\n};\n\nmpl.figure.prototype.close_ws = function (fig, msg) {\n    fig.send_message('closing', msg);\n    // fig.ws.close()\n};\n\nmpl.figure.prototype.push_to_output = function (_remove_interactive) {\n    // Turn the data on the canvas into data in the output cell.\n    var width = this.canvas.width / this.ratio;\n    var dataURL = this.canvas.toDataURL();\n    this.cell_info[1]['text/html'] =\n        '<img src=\"' + dataURL + '\" width=\"' + width + '\">';\n};\n\nmpl.figure.prototype.updated_canvas_event = function () {\n    // Tell IPython that the notebook contents must change.\n    IPython.notebook.set_dirty(true);\n    this.send_message('ack', {});\n    var fig = this;\n    // Wait a second, then push the new image to the DOM so\n    // that it is saved nicely (might be nice to debounce this).\n    setTimeout(function () {\n        fig.push_to_output();\n    }, 1000);\n};\n\nmpl.figure.prototype._init_toolbar = function () {\n    var fig = this;\n\n    var toolbar = document.createElement('div');\n    toolbar.classList = 'btn-toolbar';\n    this.root.appendChild(toolbar);\n\n    function on_click_closure(name) {\n        return function (_event) {\n            return fig.toolbar_button_onclick(name);\n        };\n    }\n\n    function on_mouseover_closure(tooltip) {\n        return function (event) {\n            if (!event.currentTarget.disabled) {\n                return fig.toolbar_button_onmouseover(tooltip);\n            }\n        };\n    }\n\n    fig.buttons = {};\n    var buttonGroup = document.createElement('div');\n    buttonGroup.classList = 'btn-group';\n    var button;\n    for (var toolbar_ind in mpl.toolbar_items) {\n        var name = mpl.toolbar_items[toolbar_ind][0];\n        var tooltip = mpl.toolbar_items[toolbar_ind][1];\n        var image = mpl.toolbar_items[toolbar_ind][2];\n        var method_name = mpl.toolbar_items[toolbar_ind][3];\n\n        if (!name) {\n            /* Instead of a spacer, we start a new button group. */\n            if (buttonGroup.hasChildNodes()) {\n                toolbar.appendChild(buttonGroup);\n            }\n            buttonGroup = document.createElement('div');\n            buttonGroup.classList = 'btn-group';\n            continue;\n        }\n\n        button = fig.buttons[name] = document.createElement('button');\n        button.classList = 'btn btn-default';\n        button.href = '#';\n        button.title = name;\n        button.innerHTML = '<i class=\"fa ' + image + ' fa-lg\"></i>';\n        button.addEventListener('click', on_click_closure(method_name));\n        button.addEventListener('mouseover', on_mouseover_closure(tooltip));\n        buttonGroup.appendChild(button);\n    }\n\n    if (buttonGroup.hasChildNodes()) {\n        toolbar.appendChild(buttonGroup);\n    }\n\n    // Add the status bar.\n    var status_bar = document.createElement('span');\n    status_bar.classList = 'mpl-message pull-right';\n    toolbar.appendChild(status_bar);\n    this.message = status_bar;\n\n    // Add the close button to the window.\n    var buttongrp = document.createElement('div');\n    buttongrp.classList = 'btn-group inline pull-right';\n    button = document.createElement('button');\n    button.classList = 'btn btn-mini btn-primary';\n    button.href = '#';\n    button.title = 'Stop Interaction';\n    button.innerHTML = '<i class=\"fa fa-power-off icon-remove icon-large\"></i>';\n    button.addEventListener('click', function (_evt) {\n        fig.handle_close(fig, {});\n    });\n    button.addEventListener(\n        'mouseover',\n        on_mouseover_closure('Stop Interaction')\n    );\n    buttongrp.appendChild(button);\n    var titlebar = this.root.querySelector('.ui-dialog-titlebar');\n    titlebar.insertBefore(buttongrp, titlebar.firstChild);\n};\n\nmpl.figure.prototype._remove_fig_handler = function (event) {\n    var fig = event.data.fig;\n    if (event.target !== this) {\n        // Ignore bubbled events from children.\n        return;\n    }\n    fig.close_ws(fig, {});\n};\n\nmpl.figure.prototype._root_extra_style = function (el) {\n    el.style.boxSizing = 'content-box'; // override notebook setting of border-box.\n};\n\nmpl.figure.prototype._canvas_extra_style = function (el) {\n    // this is important to make the div 'focusable\n    el.setAttribute('tabindex', 0);\n    // reach out to IPython and tell the keyboard manager to turn it's self\n    // off when our div gets focus\n\n    // location in version 3\n    if (IPython.notebook.keyboard_manager) {\n        IPython.notebook.keyboard_manager.register_events(el);\n    } else {\n        // location in version 2\n        IPython.keyboard_manager.register_events(el);\n    }\n};\n\nmpl.figure.prototype._key_event_extra = function (event, _name) {\n    // Check for shift+enter\n    if (event.shiftKey && event.which === 13) {\n        this.canvas_div.blur();\n        // select the cell after this one\n        var index = IPython.notebook.find_cell_index(this.cell_info[0]);\n        IPython.notebook.select(index + 1);\n    }\n};\n\nmpl.figure.prototype.handle_save = function (fig, _msg) {\n    fig.ondownload(fig, null);\n};\n\nmpl.find_output_cell = function (html_output) {\n    // Return the cell and output element which can be found *uniquely* in the notebook.\n    // Note - this is a bit hacky, but it is done because the \"notebook_saving.Notebook\"\n    // IPython event is triggered only after the cells have been serialised, which for\n    // our purposes (turning an active figure into a static one), is too late.\n    var cells = IPython.notebook.get_cells();\n    var ncells = cells.length;\n    for (var i = 0; i < ncells; i++) {\n        var cell = cells[i];\n        if (cell.cell_type === 'code') {\n            for (var j = 0; j < cell.output_area.outputs.length; j++) {\n                var data = cell.output_area.outputs[j];\n                if (data.data) {\n                    // IPython >= 3 moved mimebundle to data attribute of output\n                    data = data.data;\n                }\n                if (data['text/html'] === html_output) {\n                    return [cell, data, j];\n                }\n            }\n        }\n    }\n};\n\n// Register the function which deals with the matplotlib target/channel.\n// The kernel may be null if the page has been refreshed.\nif (IPython.notebook.kernel !== null) {\n    IPython.notebook.kernel.comm_manager.register_target(\n        'matplotlib',\n        mpl.mpl_figure_comm\n    );\n}\n",
      "text/plain": [
       "<IPython.core.display.Javascript object>"
      ]
     },
     "metadata": {},
     "output_type": "display_data"
    },
    {
     "data": {
      "text/html": [
       "<div id='1c7a749e-d23d-4506-813a-bfc7c4d8f61b'></div>"
      ],
      "text/plain": [
       "<IPython.core.display.HTML object>"
      ]
     },
     "metadata": {},
     "output_type": "display_data"
    },
    {
     "data": {
      "image/png": "[encoded data removed]",
      "text/plain": [
       "<Figure size 640x480 with 4 Axes>"
      ]
     },
     "execution_count": 361,
     "metadata": {},
     "output_type": "execute_result"
    }
   ],
   "source": [
    "cerebro.plot(width = 50, height = 10)[0][0] # type: ignore"
   ]
  },
  {
   "cell_type": "code",
   "execution_count": 362,
   "metadata": {},
   "outputs": [
    {
     "data": {
      "text/plain": [
       "Date\n",
       "2025-04-16 05:30:00    2\n",
       "2025-04-16 05:35:00    2\n",
       "2025-04-16 05:40:00    2\n",
       "2025-04-16 05:45:00    2\n",
       "2025-04-16 05:50:00    2\n",
       "                      ..\n",
       "2025-07-09 21:00:00    2\n",
       "2025-07-09 21:05:00    2\n",
       "2025-07-09 21:10:00    2\n",
       "2025-07-09 21:15:00    2\n",
       "2025-07-09 21:20:00    2\n",
       "Name: signal, Length: 16156, dtype: int64"
      ]
     },
     "execution_count": 362,
     "metadata": {},
     "output_type": "execute_result"
    }
   ],
   "source": [
    "data['signal']"
   ]
  },
  {
   "cell_type": "code",
   "execution_count": 363,
   "metadata": {},
   "outputs": [
    {
     "data": {
      "text/plain": [
       "16156"
      ]
     },
     "execution_count": 363,
     "metadata": {},
     "output_type": "execute_result"
    }
   ],
   "source": [
    "len(trade_data)"
   ]
  },
  {
   "cell_type": "code",
   "execution_count": null,
   "metadata": {},
   "outputs": [],
   "source": []
  }
 ],
 "metadata": {
  "colab": {
   "name": "",
   "provenance": [
    {
     "file_id": "18eyr28BgWOOex2Eeg6rlBUbF4urSysI1",
     "timestamp": 1684274748287
    }
   ],
   "version": ""
  },
  "kaggle": {
   "accelerator": "nvidiaTeslaT4",
   "dataSources": [
    {
     "datasetId": 7961296,
     "sourceId": 12604102,
     "sourceType": "datasetVersion"
    }
   ],
   "dockerImageVersionId": 31089,
   "isGpuEnabled": true,
   "isInternetEnabled": true,
   "language": "python",
   "sourceType": "notebook"
  },
  "kernelspec": {
   "display_name": "Python 3",
   "language": "python",
   "name": "python3"
  },
  "language_info": {
   "codemirror_mode": {
    "name": "ipython",
    "version": 3
   },
   "file_extension": ".py",
   "mimetype": "text/x-python",
   "name": "python",
   "nbconvert_exporter": "python",
   "pygments_lexer": "ipython3",
   "version": "3.13.4"
  }
 },
 "nbformat": 4,
 "nbformat_minor": 4
}
